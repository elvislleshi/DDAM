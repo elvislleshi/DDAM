{
 "cells": [
  {
   "cell_type": "markdown",
   "id": "a68afd89",
   "metadata": {},
   "source": [
    "1. Program Structure\n",
    "a. Import Dataset\n",
    "Load the dataset from a CSV file.\n",
    "Inspect the initial structure of the data.\n",
    "b. Data Understanding\n",
    "Display basic statistics (distribution, missing values, column types).\n",
    "Perform simple visualizations to understand patterns in the data.\n",
    "c. Data Preparation\n",
    "Mapping (Micro Map and Macro Map):\n",
    "\n",
    "\n",
    "Create Macro Map including numerical and binary (0/1) columns.\n",
    "Convert True/False to 0/1:\n",
    "\n",
    "Identify boolean columns and convert them.\n",
    "Normalization:\n",
    "\n",
    "Apply StandardScaler to normalize numerical features, if needed.\n",
    "Handle Missing Values:\n",
    "\n",
    "Impute or drop rows/columns based on missing data thresholds.\n",
    "Train-Test Split:\n",
    "\n",
    "Split the dataset into 80% train and 20% test.\n",
    "d. Classification\n",
    "Implement classifiers like:\n",
    "Decision Tree\n",
    "Random Forest\n",
    "Logistic Regression\n",
    "Evaluate performance using metrics like:\n",
    "Accuracy\n",
    "Precision, Recall, F1-Score\n"
   ]
  },
  {
   "cell_type": "code",
   "execution_count": 1,
   "id": "84c1e095",
   "metadata": {},
   "outputs": [],
   "source": [
    "from pyspark.sql import SparkSession\n",
    "from pyspark.sql.functions import col, when\n",
    "from pyspark.ml.feature import VectorAssembler, StringIndexer, StandardScaler\n",
    "from pyspark.ml.classification import RandomForestClassifier, DecisionTreeClassifier, LogisticRegression\n",
    "from pyspark.ml.evaluation import MulticlassClassificationEvaluator\n",
    "from pyspark.sql.types import DoubleType\n"
   ]
  },
  {
   "cell_type": "code",
   "execution_count": 2,
   "id": "f1b617ec",
   "metadata": {},
   "outputs": [
    {
     "name": "stderr",
     "output_type": "stream",
     "text": [
      "24/12/05 22:34:42 WARN Utils: Your hostname, Elviss-MacBook-Air.local resolves to a loopback address: 127.0.0.1; using 192.168.1.57 instead (on interface en0)\n",
      "24/12/05 22:34:42 WARN Utils: Set SPARK_LOCAL_IP if you need to bind to another address\n",
      "Setting default log level to \"WARN\".\n",
      "To adjust logging level use sc.setLogLevel(newLevel). For SparkR, use setLogLevel(newLevel).\n",
      "24/12/05 22:34:43 WARN NativeCodeLoader: Unable to load native-hadoop library for your platform... using builtin-java classes where applicable\n",
      "24/12/05 22:34:44 WARN Utils: Service 'SparkUI' could not bind on port 4040. Attempting port 4041.\n",
      "24/12/05 22:35:43 WARN SparkStringUtils: Truncated the string representation of a plan since it was too large. This behavior can be adjusted by setting 'spark.sql.debug.maxToStringFields'.\n"
     ]
    },
    {
     "name": "stdout",
     "output_type": "stream",
     "text": [
      "+-----+-----+-----------------+----------+--------+-------------------+-------------------+---------+------------------+------------------+--------------------+--------------+-----------+------------+--------------+--------------+-----------------+-----------------+-------+-----+--------+--------+--------+-------+-------+----------+-------+-----+---------------+--------------+------------+--------------+-----------+-----------+----+----+------------------+\n",
      "|State|Month|Weather_Condition|    County|Severity|         Start_Time|           End_Time|Start_Lat|         Start_Lng|      Distance(mi)|                City|Temperature(F)|Humidity(%)|Pressure(in)|Visibility(mi)|Wind_Direction|  Wind_Speed(mph)|Precipitation(in)|Amenity| Bump|Crossing|Give_Way|Junction|No_Exit|Railway|Roundabout|Station| Stop|Traffic_Calming|Traffic_Signal|Turning_Loop|Civil_Twilight|Day_of_Week|Day_of_Year|Year|Hour|  Traffic_Duration|\n",
      "+-----+-----+-----------------+----------+--------+-------------------+-------------------+---------+------------------+------------------+--------------------+--------------+-----------+------------+--------------+--------------+-----------------+-----------------+-------+-----+--------+--------+--------+-------+-------+----------+-------+-----+---------------+--------------+------------+--------------+-----------+-----------+----+----+------------------+\n",
      "|   PA|   12|           Cloudy|   Chester|       2|2017-12-08 10:03:23|2017-12-08 16:03:23| 40.06695|-75.66226999999998|             0.253|               Exton|          32.0|       55.0|        29.4|          10.0|           NNW|              7.0|              0.0|  false|false|   false|   false|   false|  false|  false|     false|  false|false|          false|         false|       false|           Day|          6|        342|2017|  10|             360.0|\n",
      "|   PA|   12|           Cloudy|   Chester|       2|2017-12-24 15:20:48|2017-12-24 15:50:48| 40.00663|          -75.7461|               0.0|         Downingtown|          37.0|       65.0|       29.37|          10.0|           ESE|             10.0|              0.0|  false|false|   false|   false|   false|  false|  false|     false|  false|false|          false|          true|       false|           Day|          1|        358|2017|  15|              30.0|\n",
      "|   PA|   12|           Cloudy|   Chester|       2|2017-12-24 15:20:48|2017-12-24 15:50:48| 40.00663|          -75.7461|               0.0|         Downingtown|          37.0|       65.0|       29.37|          10.0|           ESE|             10.0|              0.0|  false|false|   false|   false|   false|  false|  false|     false|  false|false|          false|          true|       false|           Day|          1|        358|2017|  15|              30.0|\n",
      "|   PA|   12| Scattered Clouds|  Franklin|       2|2017-12-27 13:35:05|2017-12-27 19:35:05| 40.15868|         -77.69886|             4.579|          Spring Run|          25.0|       39.0|       30.51|          10.0|         North|              9.2|              0.0|  false|false|   false|   false|   false|  false|  false|     false|  false|false|          false|         false|       false|           Day|          4|        361|2017|  13|             360.0|\n",
      "|   PA|   12| Scattered Clouds|Montgomery|       2|2017-12-08 10:18:23|2017-12-08 16:18:23| 40.11231|         -75.27999|             0.398|    Plymouth Meeting|          32.0|       55.0|       30.13|          10.0|          Calm|9.220321336978788|              0.0|  false|false|   false|   false|   false|  false|  false|     false|  false|false|          false|         false|       false|           Day|          6|        342|2017|  10|             360.0|\n",
      "|   PA|   12| Scattered Clouds|Montgomery|       2|2017-12-15 20:09:18|2017-12-16 02:09:18| 40.11693|          -75.2786|             0.368|    Plymouth Meeting|          19.4|      100.0|       29.95|           7.0|          Calm|9.220321336978788|              0.0|  false|false|   false|   false|    true|  false|  false|     false|  false|false|          false|         false|       false|         Night|          6|        349|2017|  20|             360.0|\n",
      "|   PA|   12| Scattered Clouds|  Somerset|       2|2017-12-28 18:28:21|2017-12-29 00:28:21|40.096949|        -79.202558|             1.683|            Somerset|          10.4|       67.0|       30.47|          10.0|          Calm|9.220321336978788|              0.0|  false|false|   false|   false|   false|  false|  false|     false|  false|false|          false|         false|       false|         Night|          5|        362|2017|  18|             360.0|\n",
      "|   PA|   12| Scattered Clouds|Cumberland|       2|2017-12-19 10:39:36|2017-12-19 16:39:36|  40.2278|         -77.15602|             2.042|            Carlisle|          55.0|       45.0|       29.93|          10.0|          West|             17.3|              0.0|  false|false|   false|   false|   false|  false|  false|     false|  false|false|          false|         false|       false|           Day|          3|        353|2017|  10|             360.0|\n",
      "|   PA|   12| Scattered Clouds| Allegheny|       3|2017-12-05 00:20:37|2017-12-05 06:20:37| 40.41256|         -80.07881|             1.585|            Carnegie|          48.9|       46.0|       30.02|          10.0|           SSE|              9.2|              0.0|  false|false|   false|   false|    true|  false|  false|     false|  false|false|          false|         false|       false|         Night|          3|        339|2017|   0|             360.0|\n",
      "|   PA|   12|            Clear|     Bucks|       2|2017-12-07 08:01:53|2017-12-07 14:01:53| 40.13284|-74.97509000000002|             8.039|Feasterville Trevose|          37.9|       55.0|       30.07|          10.0|           WSW|              6.9|              0.0|  false|false|   false|   false|   false|  false|  false|     false|  false|false|          false|         false|       false|           Day|          5|        341|2017|   8|             360.0|\n",
      "|   PA|   12|            Clear|     Bucks|       4|2017-12-07 09:01:07|2017-12-07 15:01:07| 40.43584|         -75.42442|13.234000000000002|          Quakertown|          37.4|       48.0|       30.05|          10.0|           WNW|              9.2|              0.0|  false|false|   false|   false|    true|  false|  false|     false|  false|false|          false|         false|       false|           Day|          5|        341|2017|   9|             360.0|\n",
      "|   PA|   12|            Clear|     Bucks|       4|2017-12-07 09:01:07|2017-12-07 15:01:07| 40.13308|-74.97695999999998|             0.845|Feasterville Trevose|          42.1|       49.0|       30.09|          10.0|          West|             11.5|              0.0|  false|false|   false|   false|    true|  false|  false|     false|  false|false|          false|         false|       false|           Day|          5|        341|2017|   9|             360.0|\n",
      "|   PA|   12|            Clear|     Bucks|       4|2017-12-07 09:17:39|2017-12-07 15:17:39| 40.12991|         -74.96152|             0.745|            Bensalem|          42.1|       49.0|       30.09|          10.0|          West|             11.5|              0.0|  false|false|   false|   false|   false|  false|  false|     false|  false|false|          false|         false|       false|           Day|          5|        341|2017|   9|             360.0|\n",
      "|   PA|   12|            Clear|     Bucks|       4|2017-12-07 10:55:07|2017-12-07 16:55:07| 40.12343|        -74.853014|             6.482|           Levittown|          45.0|       44.0|       30.09|          10.0|          West|             12.7|              0.0|  false|false|   false|   false|   false|  false|  false|     false|  false|false|          false|         false|       false|           Day|          5|        341|2017|  10|             360.0|\n",
      "|   PA|   12|            Clear|     Bucks|       2|2017-12-13 17:38:56|2017-12-13 23:38:56|40.401635|        -75.412112|             0.959|          Quakertown|          24.8|       43.0|       29.69|          10.0|          West|              5.8|              0.0|  false|false|   false|   false|   false|  false|  false|     false|  false|false|          false|         false|       false|         Night|          4|        347|2017|  17|             360.0|\n",
      "|   PA|   12|            Clear|     Bucks|       4|2017-12-19 06:27:35|2017-12-19 12:27:35| 40.13284|-74.97509000000002|             8.039|Feasterville Trevose|          41.0|       79.0|       29.96|           8.0|          West|              3.5|              0.0|  false|false|   false|   false|   false|  false|  false|     false|  false|false|          false|         false|       false|         Night|          3|        353|2017|   6|             360.0|\n",
      "|   PA|   12|            Clear|     Bucks|       2|2017-12-25 21:52:19|2017-12-26 03:52:19| 40.08109|         -74.93796|             0.467|            Bensalem|          30.0|       41.0|       30.29|          10.0|           WSW|             13.8|              0.0|  false|false|   false|   false|    true|  false|  false|     false|  false|false|          false|         false|       false|         Night|          2|        359|2017|  21|             360.0|\n",
      "|   PA|   12|            Clear|     Bucks|       2|2017-12-27 18:06:34|2017-12-28 00:06:34| 40.16261|         -74.90056|             3.972|           Langhorne|          21.0|       40.0|       30.47|          10.0|            NW|              6.9|              0.0|  false|false|   false|   false|   false|  false|  false|     false|  false|false|          false|         false|       false|         Night|          4|        361|2017|  18|             360.0|\n",
      "|   PA|   12|            Clear|     Bucks|       2|2017-12-27 18:06:34|2017-12-28 00:20:50|40.162179|         -74.90058|             3.942|           Langhorne|          21.0|       40.0|       30.47|          10.0|            NW|              6.9|              0.0|  false|false|   false|   false|   false|  false|  false|     false|  false|false|          false|         false|       false|         Night|          4|        361|2017|  18|374.26666666666665|\n",
      "|   PA|   12|    Partly Cloudy|  Franklin|       2|2017-12-27 14:26:50|2017-12-27 20:26:50| 39.72126|-77.73279000000002|             0.033|              Antrim|          24.1|       34.0|       30.53|          10.0|            NW|             11.5|              0.0|  false|false|   false|   false|   false|  false|  false|     false|  false|false|          false|         false|       false|           Day|          4|        361|2017|  14|             360.0|\n",
      "+-----+-----+-----------------+----------+--------+-------------------+-------------------+---------+------------------+------------------+--------------------+--------------+-----------+------------+--------------+--------------+-----------------+-----------------+-------+-----+--------+--------+--------+-------+-------+----------+-------+-----+---------------+--------------+------------+--------------+-----------+-----------+----+----+------------------+\n",
      "only showing top 20 rows\n",
      "\n"
     ]
    }
   ],
   "source": [
    "from pyspark.sql import SparkSession\n",
    "\n",
    "spark = SparkSession.builder \\\n",
    "    .appName(\"Combine CSV Files\") \\\n",
    "    .getOrCreate()\n",
    "\n",
    "\n",
    "file_paths = [\n",
    "    \"/Users/elvislleshi/Desktop/DDAM/cleaned_data.csv/part-00000-b3c0df62-e5fd-4925-9d9b-39983222698e-c000.csv\",\n",
    "    \"/Users/elvislleshi/Desktop/DDAM/cleaned_data.csv/part-00001-b3c0df62-e5fd-4925-9d9b-39983222698e-c000.csv\",\n",
    "    \"/Users/elvislleshi/Desktop/DDAM/cleaned_data.csv/part-00002-b3c0df62-e5fd-4925-9d9b-39983222698e-c000.csv\",\n",
    "    \"/Users/elvislleshi/Desktop/DDAM/cleaned_data.csv/part-00003-b3c0df62-e5fd-4925-9d9b-39983222698e-c000.csv\",\n",
    "    \"/Users/elvislleshi/Desktop/DDAM/cleaned_data.csv/part-00004-b3c0df62-e5fd-4925-9d9b-39983222698e-c000.csv\",\n",
    "    \"/Users/elvislleshi/Desktop/DDAM/cleaned_data.csv/part-00005-b3c0df62-e5fd-4925-9d9b-39983222698e-c000.csv\",\n",
    "    \"/Users/elvislleshi/Desktop/DDAM/cleaned_data.csv/part-00006-b3c0df62-e5fd-4925-9d9b-39983222698e-c000.csv\",\n",
    "    \"/Users/elvislleshi/Desktop/DDAM/cleaned_data.csv/part-00007-b3c0df62-e5fd-4925-9d9b-39983222698e-c000.csv\",\n",
    "    \"/Users/elvislleshi/Desktop/DDAM/cleaned_data.csv/part-00008-b3c0df62-e5fd-4925-9d9b-39983222698e-c000.csv\"\n",
    "]\n",
    "\n",
    "\n",
    "dataframes = [spark.read.csv(file, header=True, inferSchema=True) for file in file_paths]\n",
    "\n",
    "\n",
    "df = dataframes[0]\n",
    "for df in dataframes[1:]:\n",
    "    df = df.union(df)\n",
    "\n",
    "\n",
    "df.show()\n"
   ]
  },
  {
   "cell_type": "code",
   "execution_count": 4,
   "id": "266f0832",
   "metadata": {},
   "outputs": [
    {
     "name": "stderr",
     "output_type": "stream",
     "text": [
      "\r",
      "[Stage 22:============================>                            (8 + 8) / 16]\r"
     ]
    },
    {
     "name": "stdout",
     "output_type": "stream",
     "text": [
      "543782\n"
     ]
    },
    {
     "name": "stderr",
     "output_type": "stream",
     "text": [
      "\r",
      "                                                                                \r"
     ]
    }
   ],
   "source": [
    "print(df.count())"
   ]
  },
  {
   "cell_type": "code",
   "execution_count": 6,
   "id": "0b3b1e77",
   "metadata": {},
   "outputs": [
    {
     "name": "stderr",
     "output_type": "stream",
     "text": [
      "                                                                                \r"
     ]
    },
    {
     "data": {
      "text/plain": [
       "[Row(Severity=3, count=101296),\n",
       " Row(Severity=4, count=81382),\n",
       " Row(Severity=2, count=361104)]"
      ]
     },
     "execution_count": 6,
     "metadata": {},
     "output_type": "execute_result"
    }
   ],
   "source": [
    "# classes\n",
    "categorical_columns = ['Severity']\n",
    "\n",
    "for column in categorical_columns:\n",
    "    distinct_classes = df.groupBy(column).count().collect()\n",
    "\n",
    "distinct_classes"
   ]
  },
  {
   "cell_type": "code",
   "execution_count": null,
   "id": "42ed1ffe",
   "metadata": {},
   "outputs": [],
   "source": []
  },
  {
   "cell_type": "markdown",
   "id": "ec823a42",
   "metadata": {},
   "source": [
    "### Convert each binary column to 0 and 1"
   ]
  },
  {
   "cell_type": "code",
   "execution_count": 10,
   "id": "993e5083",
   "metadata": {},
   "outputs": [
    {
     "name": "stdout",
     "output_type": "stream",
     "text": [
      "root\n",
      " |-- State: string (nullable = true)\n",
      " |-- Month: integer (nullable = true)\n",
      " |-- Weather_Condition: string (nullable = true)\n",
      " |-- County: string (nullable = true)\n",
      " |-- Severity: integer (nullable = true)\n",
      " |-- Start_Time: timestamp (nullable = true)\n",
      " |-- End_Time: timestamp (nullable = true)\n",
      " |-- Start_Lat: double (nullable = true)\n",
      " |-- Start_Lng: double (nullable = true)\n",
      " |-- Distance(mi): double (nullable = true)\n",
      " |-- City: string (nullable = true)\n",
      " |-- Temperature(F): double (nullable = true)\n",
      " |-- Humidity(%): double (nullable = true)\n",
      " |-- Pressure(in): double (nullable = true)\n",
      " |-- Visibility(mi): double (nullable = true)\n",
      " |-- Wind_Direction: string (nullable = true)\n",
      " |-- Wind_Speed(mph): double (nullable = true)\n",
      " |-- Precipitation(in): double (nullable = true)\n",
      " |-- Amenity: boolean (nullable = true)\n",
      " |-- Bump: boolean (nullable = true)\n",
      " |-- Crossing: boolean (nullable = true)\n",
      " |-- Give_Way: boolean (nullable = true)\n",
      " |-- Junction: boolean (nullable = true)\n",
      " |-- No_Exit: boolean (nullable = true)\n",
      " |-- Railway: boolean (nullable = true)\n",
      " |-- Roundabout: boolean (nullable = true)\n",
      " |-- Station: boolean (nullable = true)\n",
      " |-- Stop: boolean (nullable = true)\n",
      " |-- Traffic_Calming: boolean (nullable = true)\n",
      " |-- Traffic_Signal: boolean (nullable = true)\n",
      " |-- Turning_Loop: boolean (nullable = true)\n",
      " |-- Civil_Twilight: string (nullable = true)\n",
      " |-- Day_of_Week: integer (nullable = true)\n",
      " |-- Day_of_Year: integer (nullable = true)\n",
      " |-- Year: integer (nullable = true)\n",
      " |-- Hour: integer (nullable = true)\n",
      " |-- Traffic_Duration: double (nullable = true)\n",
      "\n"
     ]
    }
   ],
   "source": [
    "df.printSchema()"
   ]
  },
  {
   "cell_type": "code",
   "execution_count": 11,
   "id": "fc989c7c",
   "metadata": {},
   "outputs": [
    {
     "name": "stdout",
     "output_type": "stream",
     "text": [
      "+---------+------------------+------------+--------------+-----------+------------+--------------+-----------------+-----------------+----------------+-------+-----+--------+--------+--------+-------+-------+----------+-------+-----+---------------+--------------+--------------+--------+\n",
      "|Start_Lat|         Start_Lng|Distance(mi)|Temperature(F)|Humidity(%)|Pressure(in)|Visibility(mi)|  Wind_Speed(mph)|Precipitation(in)|Traffic_Duration|Amenity| Bump|Crossing|Give_Way|Junction|No_Exit|Railway|Roundabout|Station| Stop|Traffic_Calming|Traffic_Signal|Civil_Twilight|Severity|\n",
      "+---------+------------------+------------+--------------+-----------+------------+--------------+-----------------+-----------------+----------------+-------+-----+--------+--------+--------+-------+-------+----------+-------+-----+---------------+--------------+--------------+--------+\n",
      "| 40.06695|-75.66226999999998|       0.253|          32.0|       55.0|        29.4|          10.0|              7.0|              0.0|           360.0|  false|false|   false|   false|   false|  false|  false|     false|  false|false|          false|         false|           Day|       2|\n",
      "| 40.00663|          -75.7461|         0.0|          37.0|       65.0|       29.37|          10.0|             10.0|              0.0|            30.0|  false|false|   false|   false|   false|  false|  false|     false|  false|false|          false|          true|           Day|       2|\n",
      "| 40.00663|          -75.7461|         0.0|          37.0|       65.0|       29.37|          10.0|             10.0|              0.0|            30.0|  false|false|   false|   false|   false|  false|  false|     false|  false|false|          false|          true|           Day|       2|\n",
      "| 40.15868|         -77.69886|       4.579|          25.0|       39.0|       30.51|          10.0|              9.2|              0.0|           360.0|  false|false|   false|   false|   false|  false|  false|     false|  false|false|          false|         false|           Day|       2|\n",
      "| 40.11231|         -75.27999|       0.398|          32.0|       55.0|       30.13|          10.0|9.220321336978788|              0.0|           360.0|  false|false|   false|   false|   false|  false|  false|     false|  false|false|          false|         false|           Day|       2|\n",
      "+---------+------------------+------------+--------------+-----------+------------+--------------+-----------------+-----------------+----------------+-------+-----+--------+--------+--------+-------+-------+----------+-------+-----+---------------+--------------+--------------+--------+\n",
      "only showing top 5 rows\n",
      "\n"
     ]
    }
   ],
   "source": [
    "df = df.select(\n",
    "    'Start_Lat', 'Start_Lng', 'Distance(mi)', 'Temperature(F)', 'Humidity(%)',\n",
    "    'Pressure(in)', 'Visibility(mi)', 'Wind_Speed(mph)', 'Precipitation(in)', \n",
    "    'Traffic_Duration', 'Amenity', 'Bump', 'Crossing', 'Give_Way', 'Junction', \n",
    "    'No_Exit', 'Railway', 'Roundabout', 'Station', 'Stop', 'Traffic_Calming', \n",
    "    'Traffic_Signal', 'Civil_Twilight', 'Severity'\n",
    ")\n",
    "df.show(5)"
   ]
  },
  {
   "cell_type": "code",
   "execution_count": 12,
   "id": "034e55b3",
   "metadata": {},
   "outputs": [
    {
     "name": "stdout",
     "output_type": "stream",
     "text": [
      "root\n",
      " |-- Start_Lat: double (nullable = true)\n",
      " |-- Start_Lng: double (nullable = true)\n",
      " |-- Distance(mi): double (nullable = true)\n",
      " |-- Temperature(F): double (nullable = true)\n",
      " |-- Humidity(%): double (nullable = true)\n",
      " |-- Pressure(in): double (nullable = true)\n",
      " |-- Visibility(mi): double (nullable = true)\n",
      " |-- Wind_Speed(mph): double (nullable = true)\n",
      " |-- Precipitation(in): double (nullable = true)\n",
      " |-- Traffic_Duration: double (nullable = true)\n",
      " |-- Amenity: boolean (nullable = true)\n",
      " |-- Bump: boolean (nullable = true)\n",
      " |-- Crossing: boolean (nullable = true)\n",
      " |-- Give_Way: boolean (nullable = true)\n",
      " |-- Junction: boolean (nullable = true)\n",
      " |-- No_Exit: boolean (nullable = true)\n",
      " |-- Railway: boolean (nullable = true)\n",
      " |-- Roundabout: boolean (nullable = true)\n",
      " |-- Station: boolean (nullable = true)\n",
      " |-- Stop: boolean (nullable = true)\n",
      " |-- Traffic_Calming: boolean (nullable = true)\n",
      " |-- Traffic_Signal: boolean (nullable = true)\n",
      " |-- Civil_Twilight: string (nullable = true)\n",
      " |-- Severity: integer (nullable = true)\n",
      "\n"
     ]
    }
   ],
   "source": [
    "df.printSchema()"
   ]
  },
  {
   "cell_type": "code",
   "execution_count": 9,
   "id": "e3f52b42",
   "metadata": {},
   "outputs": [],
   "source": []
  },
  {
   "cell_type": "code",
   "execution_count": null,
   "id": "68ddf6ec",
   "metadata": {},
   "outputs": [],
   "source": []
  },
  {
   "cell_type": "code",
   "execution_count": 13,
   "id": "b04761a4",
   "metadata": {},
   "outputs": [
    {
     "name": "stderr",
     "output_type": "stream",
     "text": [
      "[Stage 32:====================================================>   (15 + 1) / 16]\r"
     ]
    },
    {
     "name": "stdout",
     "output_type": "stream",
     "text": [
      "+--------------+\n",
      "|Civil_Twilight|\n",
      "+--------------+\n",
      "|         Night|\n",
      "|           Day|\n",
      "+--------------+\n",
      "\n"
     ]
    },
    {
     "name": "stderr",
     "output_type": "stream",
     "text": [
      "\r",
      "                                                                                \r"
     ]
    }
   ],
   "source": [
    "df.select(\"Civil_Twilight\").distinct().show()"
   ]
  },
  {
   "cell_type": "code",
   "execution_count": null,
   "id": "7b6ce01a",
   "metadata": {},
   "outputs": [],
   "source": []
  },
  {
   "cell_type": "code",
   "execution_count": 14,
   "id": "33cc74b5",
   "metadata": {},
   "outputs": [
    {
     "name": "stderr",
     "output_type": "stream",
     "text": [
      "[Stage 35:============================>                            (8 + 8) / 16]\r"
     ]
    },
    {
     "name": "stdout",
     "output_type": "stream",
     "text": [
      "+--------------+\n",
      "|Civil_Twilight|\n",
      "+--------------+\n",
      "|             1|\n",
      "|             0|\n",
      "+--------------+\n",
      "\n"
     ]
    },
    {
     "name": "stderr",
     "output_type": "stream",
     "text": [
      "\r",
      "                                                                                \r"
     ]
    }
   ],
   "source": [
    "from pyspark.sql.functions import when\n",
    "\n",
    "# Convert Civil_Twilight to binary (0 and 1)\n",
    "df = df.withColumn(\"Civil_Twilight\", when(df[\"Civil_Twilight\"] == \"Night\", 1).otherwise(0))\n",
    "\n",
    "# Verify the transformation\n",
    "df.select(\"Civil_Twilight\").distinct().show()\n"
   ]
  },
  {
   "cell_type": "code",
   "execution_count": 15,
   "id": "bdbc42e8",
   "metadata": {},
   "outputs": [
    {
     "name": "stdout",
     "output_type": "stream",
     "text": [
      "Boolean columns: ['Amenity', 'Bump', 'Crossing', 'Give_Way', 'Junction', 'No_Exit', 'Railway', 'Roundabout', 'Station', 'Stop', 'Traffic_Calming', 'Traffic_Signal']\n"
     ]
    }
   ],
   "source": [
    "from pyspark.sql.types import BooleanType\n",
    "\n",
    "# Find all columns of type BooleanType\n",
    "boolean_columns = [col for col in df.columns if isinstance(df.schema[col].dataType, BooleanType)]\n",
    "\n",
    "# Print identified Boolean columns\n",
    "print(f\"Boolean columns: {boolean_columns}\")"
   ]
  },
  {
   "cell_type": "code",
   "execution_count": null,
   "id": "dea7ea92",
   "metadata": {},
   "outputs": [],
   "source": []
  },
  {
   "cell_type": "code",
   "execution_count": 16,
   "id": "ea4b360c",
   "metadata": {},
   "outputs": [
    {
     "name": "stdout",
     "output_type": "stream",
     "text": [
      "+-------+----+--------+--------+--------+-------+-------+----------+-------+----+---------------+--------------+\n",
      "|Amenity|Bump|Crossing|Give_Way|Junction|No_Exit|Railway|Roundabout|Station|Stop|Traffic_Calming|Traffic_Signal|\n",
      "+-------+----+--------+--------+--------+-------+-------+----------+-------+----+---------------+--------------+\n",
      "|      0|   0|       0|       0|       0|      0|      0|         0|      0|   0|              0|             0|\n",
      "|      0|   0|       0|       0|       0|      0|      0|         0|      0|   0|              0|             1|\n",
      "|      0|   0|       0|       0|       0|      0|      0|         0|      0|   0|              0|             1|\n",
      "|      0|   0|       0|       0|       0|      0|      0|         0|      0|   0|              0|             0|\n",
      "|      0|   0|       0|       0|       0|      0|      0|         0|      0|   0|              0|             0|\n",
      "+-------+----+--------+--------+--------+-------+-------+----------+-------+----+---------------+--------------+\n",
      "only showing top 5 rows\n",
      "\n"
     ]
    }
   ],
   "source": [
    "from pyspark.sql.functions import when\n",
    "\n",
    "# Convert all Boolean columns to 0 and 1\n",
    "for col in boolean_columns:\n",
    "    df = df.withColumn(col, when(df[col] == True, 1).otherwise(0))\n",
    "\n",
    "# Verify the transformation\n",
    "df.select(boolean_columns).show(5)"
   ]
  },
  {
   "cell_type": "code",
   "execution_count": 17,
   "id": "ff89ea54",
   "metadata": {},
   "outputs": [
    {
     "name": "stderr",
     "output_type": "stream",
     "text": [
      "[Stage 39:================================>                        (9 + 7) / 16]\r"
     ]
    },
    {
     "name": "stdout",
     "output_type": "stream",
     "text": [
      "Distinct values and frequencies in Severity:\n",
      "3: 101296\n",
      "4: 81382\n",
      "2: 361104\n",
      "\n"
     ]
    },
    {
     "name": "stderr",
     "output_type": "stream",
     "text": [
      "\r",
      "                                                                                \r"
     ]
    }
   ],
   "source": [
    "# Are data balanced?\n",
    "categorical_columns = ['Severity']\n",
    "\n",
    "for column in categorical_columns:\n",
    "    distinct_values = df.groupBy(column).count().collect()\n",
    "    print(f\"Distinct values and frequencies in {column}:\")\n",
    "    for row in distinct_values:\n",
    "        value = row[column]\n",
    "        frequency = row[\"count\"]\n",
    "        print(f\"{value}: {frequency}\")\n",
    "    print()"
   ]
  },
  {
   "cell_type": "markdown",
   "id": "97be18ac",
   "metadata": {},
   "source": [
    "## Umbalancing"
   ]
  },
  {
   "cell_type": "code",
   "execution_count": 27,
   "id": "189b4607",
   "metadata": {},
   "outputs": [
    {
     "name": "stderr",
     "output_type": "stream",
     "text": [
      "                                                                                \r"
     ]
    },
    {
     "name": "stdout",
     "output_type": "stream",
     "text": [
      "+--------+------+\n",
      "|Severity| count|\n",
      "+--------+------+\n",
      "|       3|101296|\n",
      "|       4| 81382|\n",
      "|       2|361104|\n",
      "+--------+------+\n",
      "\n"
     ]
    },
    {
     "name": "stderr",
     "output_type": "stream",
     "text": [
      "                                                                                \r"
     ]
    },
    {
     "name": "stdout",
     "output_type": "stream",
     "text": [
      "Oversampled Dataset:\n"
     ]
    },
    {
     "name": "stderr",
     "output_type": "stream",
     "text": [
      "                                                                                \r"
     ]
    },
    {
     "name": "stdout",
     "output_type": "stream",
     "text": [
      "+--------+------+\n",
      "|Severity| count|\n",
      "+--------+------+\n",
      "|       3|361104|\n",
      "|       4|361104|\n",
      "|       2|361104|\n",
      "+--------+------+\n",
      "\n",
      "Undersampled Dataset:\n"
     ]
    },
    {
     "name": "stderr",
     "output_type": "stream",
     "text": [
      "[Stage 121:=============================================>         (40 + 8) / 48]\r"
     ]
    },
    {
     "name": "stdout",
     "output_type": "stream",
     "text": [
      "+--------+-----+\n",
      "|Severity|count|\n",
      "+--------+-----+\n",
      "|       3|81538|\n",
      "|       4|81382|\n",
      "|       2|81314|\n",
      "+--------+-----+\n",
      "\n"
     ]
    },
    {
     "name": "stderr",
     "output_type": "stream",
     "text": [
      "\r",
      "                                                                                \r"
     ]
    }
   ],
   "source": [
    "from pyspark.sql import functions as F\n",
    "\n",
    "# Count the frequency of each severity level\n",
    "severity_counts = df.groupBy(\"Severity\").count()\n",
    "severity_counts.show()\n",
    "\n",
    "# Find the maximum frequency (for oversampling)\n",
    "max_frequency = severity_counts.select(F.max(\"count\")).collect()[0][0]\n",
    "\n",
    "# Find the minimum frequency (for undersampling)\n",
    "min_frequency = severity_counts.select(F.min(\"count\")).collect()[0][0]\n",
    "\n",
    "# Oversampling: Balancing by increasing the minority classes\n",
    "oversampled_dfs = []\n",
    "for severity in df.select(\"Severity\").distinct().collect():\n",
    "    severity_level = severity[\"Severity\"]\n",
    "    severity_df = df.filter(F.col(\"Severity\") == severity_level)\n",
    "    \n",
    "    # Calculate the number of duplications needed for this severity\n",
    "    current_count = severity_df.count()\n",
    "    multiplier = max_frequency // current_count  # Number of duplications needed\n",
    "    remainder = max_frequency % current_count   # Handle cases where duplication is uneven\n",
    "    \n",
    "    # Duplicate rows to oversample\n",
    "    duplicated_df = severity_df.withColumn(\"duplicate\", F.explode(F.array([F.lit(i) for i in range(multiplier)])))\n",
    "    oversampled_dfs.append(duplicated_df.drop(\"duplicate\"))\n",
    "    \n",
    "    # Add additional rows for the remainder if necessary\n",
    "    if remainder > 0:\n",
    "        oversampled_dfs.append(severity_df.limit(remainder))\n",
    "\n",
    "# Combine all oversampled DataFrames\n",
    "balanced_oversampled_df = oversampled_dfs[0]\n",
    "for df_part in oversampled_dfs[1:]:\n",
    "    balanced_oversampled_df = balanced_oversampled_df.union(df_part)\n",
    "\n",
    "# Undersampling: Balancing by reducing the majority class\n",
    "undersampled_dfs = []\n",
    "for severity in df.select(\"Severity\").distinct().collect():\n",
    "    severity_level = severity[\"Severity\"]\n",
    "    severity_df = df.filter(F.col(\"Severity\") == severity_level)\n",
    "    \n",
    "    # Randomly sample to match the minimum frequency\n",
    "    undersampled_dfs.append(severity_df.sample(False, min_frequency / severity_df.count()))\n",
    "\n",
    "# Combine all undersampled DataFrames\n",
    "balanced_undersampled_df = undersampled_dfs[0]\n",
    "for df_part in undersampled_dfs[1:]:\n",
    "    balanced_undersampled_df = balanced_undersampled_df.union(df_part)\n",
    "\n",
    "# Show results for oversampled and undersampled datasets\n",
    "print(\"Oversampled Dataset:\")\n",
    "balanced_oversampled_df.groupBy(\"Severity\").count().show()\n",
    "\n",
    "print(\"Undersampled Dataset:\")\n",
    "balanced_undersampled_df.groupBy(\"Severity\").count().show()\n"
   ]
  },
  {
   "cell_type": "code",
   "execution_count": 28,
   "id": "49479c09",
   "metadata": {},
   "outputs": [
    {
     "name": "stderr",
     "output_type": "stream",
     "text": [
      "                                                                                \r"
     ]
    },
    {
     "name": "stdout",
     "output_type": "stream",
     "text": [
      "+--------+------+\n",
      "|Severity| count|\n",
      "+--------+------+\n",
      "|       3|101296|\n",
      "|       4| 81382|\n",
      "|       2|361104|\n",
      "+--------+------+\n",
      "\n"
     ]
    },
    {
     "name": "stderr",
     "output_type": "stream",
     "text": [
      "[Stage 210:==================================================>    (46 + 4) / 50]\r"
     ]
    },
    {
     "name": "stdout",
     "output_type": "stream",
     "text": [
      "Accuracy: 0.54\n",
      "Feature Importances (Sorted):\n",
      "Start_Lng: 0.5056\n",
      "Distance(mi): 0.2454\n",
      "Traffic_Duration: 0.1636\n",
      "Start_Lat: 0.0466\n",
      "Junction: 0.0362\n",
      "Crossing: 0.0027\n",
      "Temperature(F): 0.0000\n",
      "Humidity(%): 0.0000\n",
      "Pressure(in): 0.0000\n",
      "Visibility(mi): 0.0000\n",
      "Wind_Speed(mph): 0.0000\n",
      "Precipitation(in): 0.0000\n",
      "Amenity: 0.0000\n",
      "Bump: 0.0000\n",
      "Give_Way: 0.0000\n",
      "No_Exit: 0.0000\n",
      "Railway: 0.0000\n",
      "Roundabout: 0.0000\n",
      "Station: 0.0000\n",
      "Stop: 0.0000\n",
      "Traffic_Calming: 0.0000\n",
      "Traffic_Signal: 0.0000\n"
     ]
    },
    {
     "name": "stderr",
     "output_type": "stream",
     "text": [
      "\r",
      "                                                                                \r"
     ]
    }
   ],
   "source": [
    "from pyspark.sql import functions as F\n",
    "from pyspark.ml.feature import VectorAssembler, StringIndexer\n",
    "from pyspark.ml.classification import DecisionTreeClassifier\n",
    "from pyspark.ml.evaluation import MulticlassClassificationEvaluator\n",
    "\n",
    "# Step 1: Balance the Data\n",
    "severity_counts = df.groupBy(\"Severity\").count()\n",
    "severity_counts.show()\n",
    "\n",
    "# Oversampling: Balance minority classes\n",
    "max_frequency = severity_counts.select(F.max(\"count\")).collect()[0][0]\n",
    "oversampled_dfs = []\n",
    "for severity in df.select(\"Severity\").distinct().collect():\n",
    "    severity_level = severity[\"Severity\"]\n",
    "    severity_df = df.filter(F.col(\"Severity\") == severity_level)\n",
    "    current_count = severity_df.count()\n",
    "    multiplier = max_frequency // current_count\n",
    "    remainder = max_frequency % current_count\n",
    "    duplicated_df = severity_df.withColumn(\"duplicate\", F.explode(F.array([F.lit(i) for i in range(multiplier)])))\n",
    "    oversampled_dfs.append(duplicated_df.drop(\"duplicate\"))\n",
    "    if remainder > 0:\n",
    "        oversampled_dfs.append(severity_df.limit(remainder))\n",
    "balanced_oversampled_df = oversampled_dfs[0]\n",
    "for df_part in oversampled_dfs[1:]:\n",
    "    balanced_oversampled_df = balanced_oversampled_df.union(df_part)\n",
    "\n",
    "# Undersampling: Balance majority classes\n",
    "min_frequency = severity_counts.select(F.min(\"count\")).collect()[0][0]\n",
    "undersampled_dfs = []\n",
    "for severity in df.select(\"Severity\").distinct().collect():\n",
    "    severity_level = severity[\"Severity\"]\n",
    "    severity_df = df.filter(F.col(\"Severity\") == severity_level)\n",
    "    undersampled_dfs.append(severity_df.sample(False, min_frequency / severity_df.count()))\n",
    "balanced_undersampled_df = undersampled_dfs[0]\n",
    "for df_part in undersampled_dfs[1:]:\n",
    "    balanced_undersampled_df = balanced_undersampled_df.union(df_part)\n",
    "\n",
    "# Step 2: Feature Engineering\n",
    "# Assemble feature columns into a single feature vector\n",
    "feature_columns = [\n",
    "    \"Start_Lat\", \"Start_Lng\", \"Distance(mi)\", \"Temperature(F)\", \"Humidity(%)\", \n",
    "    \"Pressure(in)\", \"Visibility(mi)\", \"Wind_Speed(mph)\", \"Precipitation(in)\", \n",
    "    \"Traffic_Duration\", \"Amenity\", \"Bump\", \"Crossing\", \"Give_Way\", \"Junction\", \n",
    "    \"No_Exit\", \"Railway\", \"Roundabout\", \"Station\", \"Stop\", \"Traffic_Calming\", \n",
    "    \"Traffic_Signal\"\n",
    "]\n",
    "assembler = VectorAssembler(inputCols=feature_columns, outputCol=\"features\")\n",
    "oversampled_data = assembler.transform(balanced_oversampled_df)\n",
    "undersampled_data = assembler.transform(balanced_undersampled_df)\n",
    "\n",
    "# Step 3: Build and Train a Decision Tree Classifier\n",
    "# Index the label column (Severity) to make it suitable for the classifier\n",
    "indexer = StringIndexer(inputCol=\"Severity\", outputCol=\"label\")\n",
    "oversampled_data = indexer.fit(oversampled_data).transform(oversampled_data)\n",
    "\n",
    "# Split the data into training and test sets\n",
    "train, test = oversampled_data.randomSplit([0.8, 0.2], seed=42)\n",
    "\n",
    "# Train a Decision Tree Classifier\n",
    "dt = DecisionTreeClassifier(featuresCol=\"features\", labelCol=\"label\")\n",
    "model = dt.fit(train)\n",
    "\n",
    "# Step 4: Evaluate the Model\n",
    "# Make predictions on the test set\n",
    "predictions = model.transform(test)\n",
    "\n",
    "# Evaluate accuracy\n",
    "evaluator = MulticlassClassificationEvaluator(labelCol=\"label\", predictionCol=\"prediction\", metricName=\"accuracy\")\n",
    "accuracy = evaluator.evaluate(predictions)\n",
    "print(f\"Accuracy: {accuracy:.2f}\")\n",
    "\n",
    "# Step 5: Extract Feature Importances\n",
    "# Get feature importance from the decision tree model\n",
    "importances = model.featureImportances\n",
    "\n",
    "# Combine feature names with their importances\n",
    "feature_importance = [(name, importance) for name, importance in zip(feature_columns, importances)]\n",
    "sorted_importance = sorted(feature_importance, key=lambda x: x[1], reverse=True)\n",
    "\n",
    "# Print feature importances\n",
    "print(\"Feature Importances (Sorted):\")\n",
    "for name, importance in sorted_importance:\n",
    "    print(f\"{name}: {importance:.4f}\")\n"
   ]
  },
  {
   "cell_type": "markdown",
   "id": "a671d632",
   "metadata": {},
   "source": [
    "### Data   Preparation"
   ]
  },
  {
   "cell_type": "code",
   "execution_count": 29,
   "id": "42559970",
   "metadata": {},
   "outputs": [],
   "source": [
    "from pyspark.ml import Pipeline\n",
    "from pyspark.ml.classification import RandomForestClassifier\n",
    "from pyspark.ml.feature import IndexToString, StringIndexer, VectorIndexer\n",
    "from pyspark.ml.evaluation import MulticlassClassificationEvaluator\n",
    "from pyspark.sql import SparkSession\n",
    "from pyspark.ml.stat import Correlation\n",
    "from pyspark.ml.feature import VectorAssembler"
   ]
  },
  {
   "cell_type": "code",
   "execution_count": 30,
   "id": "2bea356e",
   "metadata": {},
   "outputs": [
    {
     "name": "stdout",
     "output_type": "stream",
     "text": [
      "['Start_Lat', 'Start_Lng', 'Distance(mi)', 'Temperature(F)', 'Humidity(%)', 'Pressure(in)', 'Visibility(mi)', 'Wind_Speed(mph)', 'Precipitation(in)', 'Traffic_Duration', 'Amenity', 'Bump', 'Crossing', 'Give_Way', 'Junction', 'No_Exit', 'Railway', 'Roundabout', 'Station', 'Stop', 'Traffic_Calming', 'Traffic_Signal', 'Civil_Twilight']\n"
     ]
    }
   ],
   "source": [
    "num_col = [item[0] for item in df.dtypes if not item[1].startswith('string')]\n",
    "num_col.remove(\"Severity\")\n",
    "print(num_col)"
   ]
  },
  {
   "cell_type": "code",
   "execution_count": null,
   "id": "665ad3cc",
   "metadata": {},
   "outputs": [],
   "source": []
  },
  {
   "cell_type": "code",
   "execution_count": 31,
   "id": "ebb76191",
   "metadata": {},
   "outputs": [
    {
     "name": "stderr",
     "output_type": "stream",
     "text": [
      "                                                                                \r"
     ]
    },
    {
     "name": "stdout",
     "output_type": "stream",
     "text": [
      "+---------+------------------+------------+--------------+-----------+------------+--------------+-----------------+-----------------+----------------+-------+----+--------+--------+--------+-------+-------+----------+-------+----+---------------+--------------+--------------+--------+--------------------+--------------------+\n",
      "|Start_Lat|         Start_Lng|Distance(mi)|Temperature(F)|Humidity(%)|Pressure(in)|Visibility(mi)|  Wind_Speed(mph)|Precipitation(in)|Traffic_Duration|Amenity|Bump|Crossing|Give_Way|Junction|No_Exit|Railway|Roundabout|Station|Stop|Traffic_Calming|Traffic_Signal|Civil_Twilight|Severity|            features|     features_scaled|\n",
      "+---------+------------------+------------+--------------+-----------+------------+--------------+-----------------+-----------------+----------------+-------+----+--------+--------+--------+-------+-------+----------+-------+----+---------------+--------------+--------------+--------+--------------------+--------------------+\n",
      "| 40.06695|-75.66226999999998|       0.253|          32.0|       55.0|        29.4|          10.0|              7.0|              0.0|           360.0|      0|   0|       0|       0|       0|      0|      0|         0|      0|   0|              0|             0|             0|       2|(23,[0,1,2,3,4,5,...|(23,[0,1,2,3,4,5,...|\n",
      "| 40.00663|          -75.7461|         0.0|          37.0|       65.0|       29.37|          10.0|             10.0|              0.0|            30.0|      0|   0|       0|       0|       0|      0|      0|         0|      0|   0|              0|             1|             0|       2|(23,[0,1,3,4,5,6,...|(23,[0,1,3,4,5,6,...|\n",
      "| 40.00663|          -75.7461|         0.0|          37.0|       65.0|       29.37|          10.0|             10.0|              0.0|            30.0|      0|   0|       0|       0|       0|      0|      0|         0|      0|   0|              0|             1|             0|       2|(23,[0,1,3,4,5,6,...|(23,[0,1,3,4,5,6,...|\n",
      "| 40.15868|         -77.69886|       4.579|          25.0|       39.0|       30.51|          10.0|              9.2|              0.0|           360.0|      0|   0|       0|       0|       0|      0|      0|         0|      0|   0|              0|             0|             0|       2|(23,[0,1,2,3,4,5,...|(23,[0,1,2,3,4,5,...|\n",
      "| 40.11231|         -75.27999|       0.398|          32.0|       55.0|       30.13|          10.0|9.220321336978788|              0.0|           360.0|      0|   0|       0|       0|       0|      0|      0|         0|      0|   0|              0|             0|             0|       2|(23,[0,1,2,3,4,5,...|(23,[0,1,2,3,4,5,...|\n",
      "+---------+------------------+------------+--------------+-----------+------------+--------------+-----------------+-----------------+----------------+-------+----+--------+--------+--------+-------+-------+----------+-------+----+---------------+--------------+--------------+--------+--------------------+--------------------+\n",
      "only showing top 5 rows\n",
      "\n"
     ]
    }
   ],
   "source": [
    "from pyspark.ml.feature import VectorAssembler, MinMaxScaler\n",
    "\n",
    "# Selezionare tutte le colonne\n",
    "selected_columns = num_col\n",
    "\n",
    "# Creare un VectorAssembler\n",
    "assembler = VectorAssembler(inputCols=selected_columns, outputCol=\"features\")\n",
    "\n",
    "# Applicare l'assemblatore\n",
    "output_dataset = assembler.transform(df)\n",
    "\n",
    "# Creare uno scaler per normalizzare le features\n",
    "scaler = MinMaxScaler(inputCol=\"features\", outputCol=\"features_scaled\")\n",
    "\n",
    "# Applicare lo scaler\n",
    "output_dataset = scaler.fit(output_dataset).transform(output_dataset)\n",
    "output_dataset.show(5)"
   ]
  },
  {
   "cell_type": "code",
   "execution_count": 32,
   "id": "5c383cdc",
   "metadata": {},
   "outputs": [
    {
     "name": "stdout",
     "output_type": "stream",
     "text": [
      "+-----------------------------------------------------------------------------------------------------------------------------------------------------------------------------------------------------------------------------+--------+\n",
      "|features_scaled                                                                                                                                                                                                              |Severity|\n",
      "+-----------------------------------------------------------------------------------------------------------------------------------------------------------------------------------------------------------------------------+--------+\n",
      "|(23,[0,1,2,3,4,5,6,7,9],[0.6343084415071407,0.8585191088121308,0.0016464601107618626,0.3448275862068965,0.5408163265306122,0.9378551136363636,0.07142857142857142,0.02855977152182783,2.5522835837490736E-4])                |2       |\n",
      "|(23,[0,1,3,4,5,6,7,9,21],[0.6318392812451314,0.8570453867030641,0.3687739463601532,0.6428571428571428,0.9367897727272729,0.07142857142857142,0.04079967360261118,3.926590128844729E-5,1.0])                                  |2       |\n",
      "|(23,[0,1,3,4,5,6,7,9,21],[0.6318392812451314,0.8570453867030641,0.3687739463601532,0.6428571428571428,0.9367897727272729,0.07142857142857142,0.04079967360261118,3.926590128844729E-5,1.0])                                  |2       |\n",
      "|(23,[0,1,2,3,4,5,6,7,9],[0.63806334984325,0.8227160823287306,0.0297989756805477,0.3113026819923371,0.37755102040816324,0.9772727272727275,0.07142857142857142,0.037535699714402286,2.5522835837490736E-4])                   |2       |\n",
      "|(23,[0,1,2,3,4,5,6,7,9],[0.6361652238261849,0.8652395488437883,0.002590083494400084,0.3448275862068965,0.5408163265306122,0.9637784090909092,0.07142857142857142,0.03761861010599261,2.5522835837490736E-4])                 |2       |\n",
      "|(23,[0,1,2,3,4,5,6,7,9,14,22],[0.6363543405438655,0.8652639848897337,0.0023948510701990726,0.2844827586206896,0.9999999999999999,0.9573863636363638,0.049999999999999996,0.03761861010599261,2.5522835837490736E-4,1.0,1.0]) |2       |\n",
      "|(23,[0,1,2,3,4,5,6,7,9,22],[0.6355364312070748,0.7962812381445623,0.010952538997676738,0.24137931034482757,0.6632653061224489,0.9758522727272727,0.07142857142857142,0.03761861010599261,2.5522835837490736E-4,1.0])         |2       |\n",
      "|(23,[0,1,2,3,4,5,6,7,9],[0.6408927324246508,0.8322591493654188,0.013288820340615506,0.45498084291187735,0.4387755102040816,0.9566761363636364,0.07142857142857142,0.07058343533251735,2.5522835837490736E-4])                |2       |\n",
      "|(23,[0,1,2,3,4,5,6,7,9,14,22],[0.6484557637576887,0.7808768251001438,0.010314779745286768,0.4257662835249042,0.44897959183673464,0.9598721590909092,0.07142857142857142,0.037535699714402286,2.5522835837490736E-4,1.0,1.0]) |3       |\n",
      "|(23,[0,1,2,3,4,5,6,7,9],[0.637005606123583,0.8705996570515216,0.05231578193839768,0.37308429118773945,0.5408163265306122,0.9616477272727273,0.07142857142857142,0.028151774785801716,2.5522835837490736E-4])                 |2       |\n",
      "|(23,[0,1,2,3,4,5,6,7,9,14],[0.6494087155298964,0.8627004854510595,0.08612353006253949,0.3706896551724138,0.4693877551020408,0.9609375000000001,0.07142857142857142,0.037535699714402286,2.5522835837490736E-4,1.0])          |4       |\n",
      "|(23,[0,1,2,3,4,5,6,7,9,14],[0.6370154303686573,0.8705667826587757,0.005499046614995153,0.393199233716475,0.47959183673469385,0.9623579545454547,0.07142857142857142,0.04691962464300286,2.5522835837490736E-4,1.0])          |4       |\n",
      "|(23,[0,1,2,3,4,5,6,7,9],[0.6368856684649676,0.8708382161475502,0.004848271867658449,0.393199233716475,0.47959183673469385,0.9623579545454547,0.07142857142857142,0.04691962464300286,2.5522835837490736E-4])                 |4       |\n",
      "|(23,[0,1,2,3,4,5,6,7,9],[0.6366204138479611,0.8727457396017592,0.04218321912236519,0.407088122605364,0.42857142857142855,0.9623579545454547,0.07142857142857142,0.0518155854753162,2.5522835837490736E-4])                   |4       |\n",
      "|(23,[0,1,2,3,4,5,6,7,9,22],[0.6480085559350353,0.8629168587269559,0.006240929826958996,0.31034482758620685,0.4183673469387755,0.9481534090909093,0.07142857142857142,0.023663810689514484,2.5522835837490736E-4,1.0])        |2       |\n",
      "|(23,[0,1,2,3,4,5,6,7,9,22],[0.637005606123583,0.8705996570515216,0.05231578193839768,0.3879310344827586,0.7857142857142857,0.9577414772727273,0.05714285714285714,0.014279885760913914,2.5522835837490736E-4,1.0])           |4       |\n",
      "|(23,[0,1,2,3,4,5,6,7,9,14,22],[0.6348872532794355,0.8712523983363798,0.0030391180700624102,0.33524904214559387,0.39795918367346933,0.9694602272727273,0.07142857142857142,0.05630354957160343,2.5522835837490736E-4,1.0,1.0])|2       |\n",
      "|(23,[0,1,2,3,4,5,6,7,9,22],[0.638224221856342,0.8719098861913135,0.025848772964213906,0.29214559386973177,0.3877551020408163,0.9758522727272727,0.07142857142857142,0.028151774785801716,2.5522835837490736E-4,1.0])         |2       |\n",
      "|(23,[0,1,2,3,4,5,6,7,9,22],[0.6382065791495627,0.8719095345935299,0.025653540540012894,0.29214559386973177,0.3877551020408163,0.9758522727272727,0.07142857142857142,0.028151774785801716,2.6456491712571593E-4,1.0])        |2       |\n",
      "|(23,[0,1,2,3,4,5,6,7,9],[0.6201578445082349,0.8221195966892142,2.1475566662111252E-4,0.3069923371647509,0.32653061224489793,0.9779829545454546,0.07142857142857142,0.04691962464300286,2.5522835837490736E-4])               |2       |\n",
      "+-----------------------------------------------------------------------------------------------------------------------------------------------------------------------------------------------------------------------------+--------+\n",
      "only showing top 20 rows\n",
      "\n"
     ]
    }
   ],
   "source": [
    "classificationData = output_dataset.select(\"features_scaled\", \"Severity\")\n",
    "\n",
    "classificationData.show(truncate=False)"
   ]
  },
  {
   "cell_type": "code",
   "execution_count": 33,
   "id": "0244aa45",
   "metadata": {},
   "outputs": [],
   "source": [
    "(trainingData, testData) = classificationData.randomSplit([0.8, 0.2],seed=1)"
   ]
  },
  {
   "cell_type": "code",
   "execution_count": 34,
   "id": "bea8f1bf",
   "metadata": {},
   "outputs": [],
   "source": [
    "# Validation split\n",
    "(trainingData, valData) = trainingData.randomSplit([0.8, 0.2],seed=1)\n"
   ]
  },
  {
   "cell_type": "code",
   "execution_count": 35,
   "id": "5ec94268",
   "metadata": {},
   "outputs": [
    {
     "name": "stderr",
     "output_type": "stream",
     "text": [
      "\r",
      "[Stage 217:>                                                        (0 + 1) / 1]\r"
     ]
    },
    {
     "name": "stdout",
     "output_type": "stream",
     "text": [
      "+----------------------------------------------------------------------------------------------------------------------------------------------------------------------------------------------------------------------------------------+--------+\n",
      "|features_scaled                                                                                                                                                                                                                         |Severity|\n",
      "+----------------------------------------------------------------------------------------------------------------------------------------------------------------------------------------------------------------------------------------+--------+\n",
      "|(23,[0,1,2,3,4,5,6,7,8,9],[0.037094220814153214,0.7745257385399336,0.004548915483883565,0.5665708812260536,0.846938775510204,0.9609375000000001,0.07142857142857142,0.04691962464300286,9.950248756218905E-4,2.5522835837490736E-4])    |2       |\n",
      "|(23,[0,1,2,3,4,5,6,7,8,9],[0.04052496999716493,0.775878686810407,0.013373421057769279,0.5651340996168582,0.8265306122448979,0.9584517045454547,0.07142857142857142,0.012239902080783354,0.001990049751243781,3.912410775601678E-5])     |4       |\n",
      "|(23,[0,1,2,3,4,5,6,7,8,9],[0.044285568208546455,0.775478216935129,0.004151942888008175,0.5507662835249042,0.8673469387755102,0.9591619318181819,0.07142857142857142,0.014279885760913914,0.006965174129353234,2.5522835837490736E-4])   |2       |\n",
      "|(23,[0,1,2,3,4,5,6,7,8,9],[0.044285568208546455,0.775478216935129,0.004151942888008175,0.5886015325670498,0.7142857142857142,0.9595170454545456,0.07142857142857142,0.04243166054671563,9.950248756218905E-4,2.5522835837490736E-4])    |2       |\n",
      "|(23,[0,1,2,3,4,5,6,7,8,9],[0.04775311737623237,0.7755012465899409,0.0023753278277789717,0.5507662835249042,0.9387755102040816,0.9577414772727273,0.03571428571428571,0.028151774785801716,0.0208955223880597,2.5522835837490736E-4])    |2       |\n",
      "|(23,[0,1,2,3,4,5,6,7,8,9],[0.049595777342982185,0.7768788418650292,0.005023981049439359,0.5320881226053639,0.9285714285714285,0.9570312500000002,0.04285714285714286,0.07507139942880457,0.003980099502487562,2.5522835837490736E-4])   |2       |\n",
      "|(23,[0,1,2,3,4,5,6,7,8,9],[0.049634460307962334,0.7775600274105631,0.0038265555143398226,0.5603448275862069,0.9591836734693877,0.9609375000000001,0.07142857142857142,0.014279885760913914,0.004975124378109453,2.5522835837490736E-4]) |3       |\n",
      "|(23,[0,1,2,3,4,5,6,7,8,9],[0.049660208016927915,0.7770275501475132,0.0034360906659378003,0.5119731800766283,0.9285714285714285,0.9573863636363638,0.02857142857142857,0.05630354957160343,0.001990049751243781,2.5522835837490736E-4])  |2       |\n",
      "|(23,[0,1,2,3,4,5,6,7,8,9],[0.049814530533303474,0.7785903495550003,5.206197978693636E-4,0.5344827586206896,0.9999999999999999,0.9591619318181819,0.007142857142857143,0.03760046962176128,0.0417910447761194,2.5522835837490736E-4])    |2       |\n",
      "|(23,[0,1,2,3,4,5,6,7,8,9],[0.04982275833855323,0.7786002294527135,2.733253938814159E-4,0.5699233716475095,0.9693877551020408,0.9609375000000001,0.07142857142857142,0.033047735618115054,0.0029850746268656712,2.5522835837490736E-4])  |2       |\n",
      "|(23,[0,1,2,3,4,5,6,7,8,9],[0.050587412080170174,0.778645761365662,0.00544047688773485,0.5603448275862069,0.9591836734693877,0.9609375000000001,0.07142857142857142,0.014279885760913914,0.004975124378109453,2.5522835837490736E-4])    |2       |\n",
      "|(23,[0,1,2,3,4,5,6,7,8,9],[0.05085880685034783,0.7786211495208254,0.00480271763534488,0.5507662835249042,0.9591836734693877,0.9570312500000002,0.06428571428571428,0.04243166054671563,0.010945273631840795,2.6947315478677183E-4])     |4       |\n",
      "|(23,[0,1,2,3,4,5,6,7,8,9],[0.05585771021899151,0.7761015998050741,0.004275590090002149,0.5454980842911877,0.9693877551020408,0.9588068181818182,0.02142857142857143,0.018767849857201143,0.0059701492537313425,2.5522835837490736E-4])  |3       |\n",
      "|(23,[0,1,2,3,4,5,6,7,8,9],[0.05882377260998838,0.7772871172110981,0.0016724911006553308,0.5986590038314176,0.6632653061224489,0.9552556818181819,0.07142857142857142,0.04079967360261118,9.950248756218905E-4,3.806610986018918E-5])    |2       |\n",
      "|(23,[0,1,2,3,4,5,6,7,8,9],[0.061705182755928394,0.7784690834795105,0.011922193371208428,0.5411877394636015,0.9285714285714285,0.9648437500000001,0.07142857142857142,0.028151774785801716,0.004975124378109453,2.5522835837490736E-4])  |3       |\n",
      "|(23,[0,1,2,3,4,5,6,7,8,9],[0.062260661946171456,0.7783607913622269,0.005407938150368014,0.5747126436781609,0.8061224489795917,0.9588068181818182,0.07142857142857142,0.04079967360261118,0.009950248756218905,3.8785984717144044E-5])   |2       |\n",
      "|(23,[0,1,2,3,4,5,6,7,8,9],[0.06227212356542482,0.7783685265134613,0.004080357665801138,0.603448275862069,0.7653061224489796,0.9538352272727273,0.07142857142857142,0.032639738882088945,0.013930348258706468,3.776070840572348E-5])     |2       |\n",
      "|(23,[0,1,2,3,4,5,6,7,8,9],[0.06229545614747629,0.7783011955379429,0.001418688949194016,0.5747126436781609,0.8061224489795917,0.9588068181818182,0.07142857142857142,0.04079967360261118,0.009950248756218905,3.8785984717144044E-5])    |2       |\n",
      "|(23,[0,1,2,3,4,5,6,7,8,9],[0.0630259297031056,0.7760402987315407,0.008388486493170122,0.5411877394636015,0.9285714285714285,0.9598721590909092,0.014285714285714285,0.02855977152182783,0.022885572139303482,3.737895658764135E-5])     |3       |\n",
      "|(23,[0,1,2,3,4,5,6,7,8,9],[0.06431065441834372,0.7784050926829337,0.00497842681712579,0.5507662835249042,0.8979591836734693,0.9666193181818182,0.07142857142857142,0.0518155854753162,9.950248756218905E-4,2.5522835837490736E-4])      |2       |\n",
      "|(23,[0,1,2,3,4,5,6,7,8,9],[0.06431065441834372,0.7784050926829337,0.005577139584675558,0.5363984674329502,0.9693877551020408,0.9588068181818182,0.03571428571428571,0.0425790312685763,0.036815920398009946,2.5522835837490736E-4])     |2       |\n",
      "|(23,[0,1,2,3,4,5,6,7,8,9],[0.07826849154202087,0.7507288094652936,0.0031887962619498523,0.5316091954022988,0.9285714285714285,0.9573863636363638,0.06428571428571428,0.02039983680130559,0.006965174129353234,3.866600557431823E-5])    |2       |\n",
      "|(23,[0,1,2,3,4,5,6,7,8,9],[0.07940274157020423,0.780985117217427,0.003865601999180025,0.5363984674329502,0.9999999999999999,0.9584517045454547,0.07142857142857142,0.03414058114164383,0.003980099502487562,2.5522835837490736E-4])     |2       |\n",
      "|(23,[0,1,2,3,4,5,6,7,8,9],[0.08069340176684141,0.7809970715420622,0.0037549702921327857,0.5699233716475095,0.8775510204081632,0.9598721590909092,0.07142857142857142,0.07996736026111792,0.0029850746268656712,2.5522835837490736E-4])  |2       |\n",
      "|(23,[0,1,2,3,4,5,6,7,8,9],[0.0910567522896018,0.7799484135732215,0.005791895251296671,0.5555555555555555,0.846938775510204,0.9541903409090909,0.07142857142857142,0.04895960832313342,9.950248756218905E-4,3.774980121092113E-5])       |2       |\n",
      "|(23,[0,1,2,3,4,5,6,7,8,9],[0.096707617121989,0.7467997042359447,0.020004815733130298,0.5363984674329502,0.836734693877551,0.9580965909090908,0.02142857142857143,0.033047735618115054,0.0029850746268656712,2.5522835837490736E-4])     |4       |\n",
      "|(23,[0,1,2,3,4,5,6,7,8,9],[0.11618717118968083,0.7754372557933642,0.005082550776699662,0.5258620689655172,0.9999999999999999,0.9577414772727273,0.07142857142857142,0.028151774785801716,0.006965174129353234,2.5522835837490736E-4])   |2       |\n",
      "|(23,[0,1,2,3,4,5,6,7,8,9],[0.12792059455676244,0.7665293501523648,0.0019132777571699113,0.5344827586206896,0.8775510204081632,0.9612926136363638,0.07142857142857142,0.014279885760913914,0.0029850746268656712,2.5522835837490736E-4]) |2       |\n",
      "|(23,[0,1,2,3,4,5,6,7,8,9],[0.12792059455676244,0.7665293501523648,0.0019132777571699113,0.5344827586206896,0.9387755102040816,0.9595170454545456,0.049999999999999996,0.014279885760913914,0.010945273631840795,2.5522835837490736E-4]) |2       |\n",
      "|(23,[0,1,2,3,4,5,6,7,8,9],[0.12977819556289605,0.7352123597871989,0.0014577354340342182,0.5411877394636015,0.9285714285714285,0.9573863636363638,0.012857142857142857,0.06568747450020401,0.004975124378109453,2.5522835837490736E-4])  |2       |\n",
      "|(23,[0,1,2,3,4,5,6,7,8,9],[0.13264687512459392,0.7354206814738556,0.003937187221387062,0.5411877394636015,0.9591836734693877,0.9573863636363638,0.017857142857142856,0.07058343533251735,0.03880597014925373,2.5522835837490736E-4])    |2       |\n",
      "|(23,[0,1,2,3,4,5,6,7,8,9],[0.13879644319756582,0.7391335540664218,0.003117211039742815,0.5431034482758621,0.9999999999999999,0.9591619318181819,0.03571428571428571,0.06568747450020401,9.950248756218905E-4,2.5522835837490736E-4])    |2       |\n",
      "|(23,[0,1,2,3,4,5,6,7,8,9],[0.13885784472928026,0.7376266059668254,0.0016074136259216602,0.5656130268199233,0.836734693877551,0.9580965909090908,0.07142857142857142,0.061199510403916774,9.950248756218905E-4,2.5522835837490736E-4])   |2       |\n",
      "|(23,[0,1,2,3,4,5,6,7,8,9],[0.1389405321253224,0.7394993915600357,0.0036117998477187105,0.5603448275862069,0.8877551020408162,0.9595170454545456,0.07142857142857142,0.018767849857201143,9.950248756218905E-4,2.5522835837490736E-4])   |3       |\n",
      "|(23,[0,1,2,3,4,5,6,7,8,9],[0.15213694932138622,0.758625256182935,0.025848772964213906,0.5842911877394635,0.7551020408163265,0.9534801136363638,0.07142857142857142,0.061199510403916774,9.950248756218905E-4,2.5522835837490736E-4])    |4       |\n",
      "|(23,[0,1,2,3,4,5,6,7,8,9],[0.15507849203405188,0.7578661565686025,0.009468772573749052,0.5454980842911877,0.8673469387755102,0.9588068181818182,0.03571428571428571,0.014279885760913914,0.030845771144278604,2.5522835837490736E-4])   |2       |\n",
      "|(23,[0,1,2,3,4,5,6,7,8,9],[0.15745898848426554,0.7577851484393102,0.010959046745150107,0.5603448275862069,0.8163265306122448,0.9517045454545454,0.07142857142857142,0.02039983680130559,9.950248756218905E-4,3.89168710547722E-5])      |2       |\n",
      "|(23,[0,1,2,3,4,5,6,7,8,9],[0.15930742019499664,0.7566169296442283,5.466507877628318E-4,0.5454980842911877,0.8673469387755102,0.9588068181818182,0.07142857142857142,0.018767849857201143,0.035820895522388055,2.5522835837490736E-4])   |2       |\n",
      "|(23,[0,1,2,3,4,5,6,7,8,9],[0.15958618314898018,0.7566427720813077,0.001971847484430215,0.5411877394636015,0.8979591836734693,0.9509943181818183,0.07142857142857142,0.02855977152182783,0.0059701492537313425,3.885142788595812E-5])    |2       |\n",
      "|(23,[0,1,2,3,4,5,6,7,8,9],[0.15984161352091208,0.7568556645391484,7.809296968040454E-4,0.5459770114942528,0.8673469387755102,0.9513494318181819,0.02857142857142857,0.02855977152182783,0.01691542288557214,3.849149045748069E-5])      |2       |\n",
      "|(23,[0,1,2,3,4,5,6,7,8,9],[0.15991447667187988,0.7567691714844352,0.0016139213733950273,0.5459770114942528,0.8673469387755102,0.9513494318181819,0.02857142857142857,0.02855977152182783,0.01691542288557214,3.849149045748069E-5])     |2       |\n",
      "|(23,[0,1,2,3,4,5,6,7,8,9],[0.16075363093864362,0.7571360637713995,0.006637902422834387,0.5363984674329502,0.9693877551020408,0.9605823863636364,0.02857142857142857,0.018767849857201143,0.022885572139303482,2.5522835837490736E-4])   |3       |\n",
      "|(23,[0,1,2,3,4,5,6,7,8,9],[0.16075363093864362,0.7571360637713995,0.006637902422834387,0.5603448275862069,0.836734693877551,0.9566761363636364,0.05714285714285714,0.06568747450020401,9.950248756218905E-4,2.5522835837490736E-4])     |2       |\n",
      "|(23,[0,1,2,3,4,5,6,7,8,9],[0.16240819754657498,0.7386770043446937,0.05094264722151722,0.5431034482758621,0.8775510204081632,0.9612926136363638,0.07142857142857142,0.028151774785801716,9.950248756218905E-4,2.5522835837490736E-4])    |2       |\n",
      "|(23,[0,1,2,3,4,5,6,7,8,9],[0.16273771910010892,0.7549698698279526,9.045768987980194E-4,0.5344827586206896,0.9999999999999999,0.9602272727272728,0.03571428571428571,0.037535699714402286,0.04975124378109452,2.5522835837490736E-4])    |4       |\n",
      "|(23,[0,1,2,3,4,5,6,7,8,9],[0.16275826814605607,0.7601453540396299,0.002219141888418163,0.5363984674329502,0.9285714285714285,0.9595170454545456,0.07142857142857142,0.037535699714402286,9.950248756218905E-4,2.5522835837490736E-4])   |2       |\n",
      "|(23,[0,1,2,3,4,5,6,7,8,9],[0.16311673028820484,0.7574045789985723,3.123718787216182E-4,0.5411877394636015,0.9285714285714285,0.9588068181818182,0.04285714285714286,0.04243166054671563,0.004975124378109453,2.5522835837490736E-4])    |2       |\n",
      "|(23,[0,1,2,3,4,5,6,7,8,9],[0.16337383896867042,0.7580278915489606,0.003969725958753898,0.5411877394636015,0.9285714285714285,0.9598721590909092,0.05714285714285714,0.033047735618115054,0.0029850746268656712,2.5522835837490736E-4])  |2       |\n",
      "|(23,[0,1,2,3,4,5,6,7,8,9],[0.16418966065338267,0.758086080982111,9.436233836382215E-4,0.575191570881226,0.8061224489795917,0.9559659090909093,0.07142857142857142,0.037535699714402286,0.001990049751243781,2.5522835837490736E-4])     |2       |\n",
      "|(23,[0,1,2,3,4,5,6,7,8,9],[0.16453269054389402,0.7580185742077008,0.0026486532216603875,0.5363984674329502,0.9693877551020408,0.9605823863636364,0.02857142857142857,0.018767849857201143,0.022885572139303482,2.5522835837490736E-4])  |2       |\n",
      "|(23,[0,1,2,3,4,5,6,7,8,9],[0.16453269054389402,0.7580185742077008,0.0026486532216603875,0.5411877394636015,0.9591836734693877,0.9580965909090908,0.02857142857142857,0.04243166054671563,0.051741293532338306,2.5522835837490736E-4])   |3       |\n",
      "|(23,[0,1,2,3,4,5,6,7,8,9],[0.16453269054389402,0.7580185742077008,0.0026486532216603875,0.5454980842911877,0.9285714285714285,0.9580965909090908,0.07142857142857142,0.06568747450020401,9.950248756218905E-4,2.5522835837490736E-4])   |2       |\n",
      "|(23,[0,1,2,3,4,5,6,7,8,9],[0.16637326285856557,0.7578666839652777,0.014284505704040664,0.5603448275862069,0.836734693877551,0.9559659090909093,0.049999999999999996,0.028151774785801716,0.04378109452736318,2.5522835837490736E-4])    |2       |\n",
      "|(23,[0,1,2,3,4,5,6,7,8,9],[0.1675507804994302,0.7578487524783253,0.0021735876561045932,0.5795019157088123,0.7653061224489796,0.9584517045454547,0.07142857142857142,0.014279885760913914,0.027860696517412936,2.5522835837490736E-4])   |2       |\n",
      "|(23,[0,1,2,3,4,5,6,7,8,9],[0.17156807804773255,0.75833202363159,0.005297306443320776,0.5411877394636015,0.9285714285714285,0.9602272727272728,0.07142857142857142,0.023663810689514484,0.001990049751243781,2.5522835837490736E-4])     |2       |\n",
      "|(23,[0,1,2,3,4,5,6,7,8,9],[0.1872590348055811,0.7438509415261242,0.020317187611851917,0.5507662835249042,0.9591836734693877,0.9595170454545456,0.010714285714285714,0.028151774785801716,0.030845771144278604,2.5522835837490736E-4])   |4       |\n",
      "|(23,[0,1,2,3,4,5,6,7,8,9],[0.18789842942250057,0.7632879701873208,0.004783194392924779,0.5603448275862069,0.9387755102040816,0.9630681818181818,0.05714285714285714,0.023663810689514484,0.009950248756218905,2.5522835837490736E-4])   |2       |\n",
      "|(23,[0,1,2,3,4,5,6,7,8,9],[0.18851019335014862,0.7631375566555879,0.004288605584948884,0.5320881226053639,0.9999999999999999,0.9573863636363638,0.014285714285714285,0.037535699714402286,0.04776119402985074,2.5522835837490736E-4])   |2       |\n",
      "|(23,[0,1,2,3,4,5,6,7,8,9],[0.1977623808206503,0.4568298924216263,0.0014967819188744205,0.4458812260536398,0.7040816326530611,0.9666193181818182,0.07142857142857142,0.061199510403916774,9.950248756218905E-4,3.904775739240036E-5])    |2       |\n",
      "|(23,[0,1,2,3,4,5,6,7,8,9],[0.21049357907809127,0.5104722872385123,0.005193182483746902,0.5,0.9387755102040816,0.9509943181818183,0.049999999999999996,0.023663810689514484,0.0029850746268656712,2.5522835837490736E-4])                |2       |\n",
      "|(23,[0,1,2,3,4,5,6,7,8,9],[0.21287411646265944,0.515009480834229,0.007217091947964054,0.42145593869731796,0.8571428571428571,0.9641335227272727,0.07142857142857142,0.07058343533251735,0.001990049751243781,3.8785984717144044E-5])    |2       |\n",
      "|(23,[0,1,2,3,4,5,6,7,8,9],[0.21313978042321047,0.5135174756404266,0.0018612157773829753,0.42145593869731796,0.8571428571428571,0.9641335227272727,0.07142857142857142,0.07058343533251735,0.001990049751243781,3.785887315894459E-5])   |3       |\n",
      "|(23,[0,1,2,3,4,5,6,7,8,9],[0.21340667241439593,0.5084261639380921,0.0019458164945367466,0.5320881226053639,0.8979591836734693,0.9549005681818182,0.06428571428571428,0.04243166054671563,9.950248756218905E-4,3.8840520691155774E-5])   |3       |\n",
      "|(23,[0,1,2,3,4,5,6,7,8,9],[0.2134144499417464,0.5096567561799463,0.003026102575115676,0.5344827586206896,0.8775510204081632,0.9545454545454547,0.02857142857142857,0.023663810689514484,0.003980099502487562,3.902594300279566E-5])     |2       |\n",
      "|(23,[0,1,2,3,4,5,6,7,8,9],[0.21457698560887273,0.512669070189114,0.005290798695847408,0.43103448275862066,0.9387755102040816,0.9651988636363638,0.02142857142857143,0.037535699714402286,0.0029850746268656712,2.5522835837490736E-4])  |2       |\n",
      "|(23,[0,1,2,3,4,5,6,7,8,9],[0.21544643129794905,0.5100331416070621,0.0041128964031679725,0.5344827586206896,0.8775510204081632,0.9545454545454547,0.02857142857142857,0.023663810689514484,0.003980099502487562,3.904775739240036E-5])   |3       |\n",
      "|(23,[0,1,2,3,4,5,6,7,8,9],[0.21832943788371353,0.513100304870438,0.00777675823067362,0.5023946360153256,0.9285714285714285,0.94921875,0.07142857142857142,0.018767849857201143,0.02885572139303482,2.5522835837490736E-4])              |3       |\n",
      "|(23,[0,1,2,3,4,5,6,7,8,9],[0.22041872733618315,0.5112065992091159,0.0032018117568965872,0.3299808429118774,0.8877551020408162,0.9822443181818181,0.02857142857142857,0.08935128518971848,9.950248756218905E-4,2.5522835837490736E-4])   |2       |\n",
      "|(23,[0,1,2,3,4,5,6,7,8,9],[0.22251129153701057,0.5110513687877506,0.006683456655147955,0.5076628352490421,0.8673469387755102,0.9495738636363638,0.05714285714285714,0.028151774785801716,0.001990049751243781,2.5522835837490736E-4])   |2       |\n",
      "|(23,[0,1,2,3,4,5,6,7,8,9],[0.2244270193265005,0.5061982645836607,0.01180505391668782,0.4363026819923371,0.9591836734693877,0.9605823863636364,0.012857142857142857,0.0518155854753162,0.003980099502487562,3.924408689884259E-5])       |2       |\n",
      "|(23,[0,1,2,3,4,5,6,7,8,9],[0.23270967661123154,0.7577488811279538,2.92848636301517E-4,0.5320881226053639,0.9285714285714285,0.9602272727272728,0.02857142857142857,0.03414058114164383,0.011940298507462685,2.5522835837490736E-4])     |2       |\n",
      "|(23,[0,1,2,3,4,5,6,7,8,9],[0.2333796082565903,0.733358208876508,0.012104410300462705,0.5258620689655172,0.9387755102040816,0.9591619318181819,0.049999999999999996,0.033047735618115054,0.003980099502487562,2.5522835837490736E-4])    |2       |\n",
      "|(23,[0,1,2,3,4,5,6,7,8,9],[0.23371191334622904,0.5105119826282567,0.0024078665651458067,0.45498084291187735,0.9999999999999999,0.965909090909091,0.04285714285714286,0.0518155854753162,0.003980099502487562,3.912410775601678E-5])     |3       |\n",
      "|(23,[0,1,2,3,4,5,6,7,8,9],[0.2363135371793234,0.7550846665042283,0.004002264696120733,0.5225095785440612,0.9999999999999999,0.9566761363636364,0.02142857142857143,0.028151774785801716,0.012935323383084577,2.5522835837490736E-4])    |2       |\n",
      "|(23,[0,1,2,3,4,5,6,7,8,9],[0.23808108260560926,0.7548686096663372,0.011238879886504889,0.5320881226053639,0.9285714285714285,0.9598721590909092,0.014285714285714285,0.028151774785801716,0.003980099502487562,2.5522835837490736E-4])  |3       |\n",
      "|(23,[0,1,2,3,4,5,6,7,8,9],[0.238311133677766,0.7548260663345474,0.0026942074539739566,0.5320881226053639,0.9285714285714285,0.9598721590909092,0.014285714285714285,0.028151774785801716,0.003980099502487562,2.5522835837490736E-4])   |3       |\n",
      "|(23,[0,1,2,3,4,5,6,7,8,9],[0.24099925180186896,0.7533934284264694,0.0026030989893468183,0.5454980842911877,0.9081632653061223,0.9605823863636364,0.03571428571428571,0.033047735618115054,0.007960199004975124,2.5522835837490736E-4])  |4       |\n",
      "|(23,[0,1,2,3,4,5,6,7,8,9],[0.24208446247338963,0.7533776592658848,0.003403551928570965,0.5550766283524904,0.8163265306122448,0.9616477272727273,0.07142857142857142,0.037535699714402286,0.003980099502487562,2.5522835837490736E-4])   |2       |\n",
      "|(23,[0,1,2,3,4,5,6,7,8,9],[0.2423415302195007,0.704361588082804,0.004991442312072524,0.5656130268199233,0.8673469387755102,0.9534801136363638,0.07142857142857142,0.036190242895360214,0.004975124378109453,2.5522835837490736E-4])     |2       |\n",
      "|(23,[0,1,2,3,4,5,6,7,8,9],[0.2426964310728103,0.7080539625245982,0.006709487645041423,0.5507662835249042,0.8673469387755102,0.9534801136363638,0.07142857142857142,0.03414058114164383,0.004975124378109453,2.5522835837490736E-4])     |2       |\n",
      "|(23,[0,1,2,3,4,5,6,7,8,9],[0.24689498594273337,0.6389888539986688,0.015215113592732154,0.5268199233716475,0.9693877551020408,0.9559659090909093,0.03571428571428571,0.036190242895360214,0.001990049751243781,3.9004128613190974E-5])   |2       |\n",
      "|(23,[0,1,2,3,4,5,6,7,8,9],[0.25015053608858656,0.6417439918091781,0.0028438856458613995,0.4837164750957854,0.9285714285714285,0.9595170454545456,0.07142857142857142,0.05630354957160343,0.010945273631840795,3.898231422358627E-5])    |2       |\n",
      "|(23,[0,1,2,3,4,5,6,7,8,9],[0.25089353555668553,0.6636590464879072,0.07220996596448073,0.5603448275862069,0.8979591836734693,0.9588068181818182,0.07142857142857142,0.03414058114164383,0.001990049751243781,2.5522835837490736E-4])     |2       |\n",
      "|(23,[0,1,2,3,4,5,6,7,8,9],[0.2605990300686576,0.7526215658126004,0.006325530544112768,0.5842911877394635,0.8163265306122448,0.9580965909090908,0.07142857142857142,0.03671970624235006,0.006965174129353234,3.840423289906192E-5])      |2       |\n",
      "|(23,[0,1,2,3,4,5,6,7,8,9],[0.2794962929439243,0.47976412359505916,0.010835399543156132,0.407088122605364,0.9285714285714285,0.969815340909091,0.03571428571428571,0.0518155854753162,0.010945273631840795,2.5522835837490736E-4])       |2       |\n",
      "|(23,[0,1,2,3,4,5,6,7,8,9],[0.2878228727910084,0.7093236875997435,0.011941716613628528,0.5699233716475095,0.8775510204081632,0.9541903409090909,0.07142857142857142,0.02039983680130559,9.950248756218905E-4,3.7684358042107044E-5])     |4       |\n",
      "|(23,[0,1,2,3,4,5,6,7,8,9],[0.32406119718741744,0.6953825014705578,0.004477330261676527,0.5507662835249042,0.836734693877551,0.9598721590909092,0.005714285714285714,0.023663810689514484,0.22587064676616914,3.8753263132737E-5])       |3       |\n",
      "|(23,[0,1,2,3,4,5,6,7,8,9],[0.33153871665395374,0.48444842570334495,0.004679070433350906,0.407088122605364,0.9693877551020408,0.9673295454545456,0.02142857142857143,0.04243166054671563,0.013930348258706468,2.5522835837490736E-4])    |3       |\n",
      "|(23,[0,1,2,3,4,5,6,7,8,9],[0.3316456371878458,0.7168968577354501,0.002564052504506616,0.5459770114942528,0.9081632653061223,0.9463778409090909,0.07142857142857142,0.012239902080783354,0.001990049751243781,3.827334656143376E-5])     |2       |\n",
      "|(23,[0,1,2,3,4,5,6,7,8,9],[0.3316824371725201,0.7170144320342147,0.002564052504506616,0.5459770114942528,0.9081632653061223,0.9463778409090909,0.07142857142857142,0.012239902080783354,0.001990049751243781,3.827334656143376E-5])     |2       |\n",
      "|(23,[0,1,2,3,4,5,6,7,8,9],[0.33172496796682094,0.4804739643599391,0.0023753278277789717,0.40277777777777773,0.9591836734693877,0.9655539772727273,0.017857142857142856,0.061199510403916774,9.950248756218905E-4,3.89168710547722E-5])  |3       |\n",
      "|(23,[0,1,2,3,4,5,6,7,8,9],[0.3318170702643927,0.4821683140780807,0.006201883342118794,0.40277777777777773,0.9285714285714285,0.9669744318181818,0.07142857142857142,0.07058343533251735,0.001990049751243781,3.8840520691155774E-5])    |2       |\n",
      "|(23,[0,1,2,3,4,5,6,7,8,9],[0.3321424983824789,0.48784995845872176,0.00350116814067147,0.407088122605364,0.9693877551020408,0.9673295454545456,0.017857142857142856,0.04243166054671563,0.015920398009950248,2.5522835837490736E-4])     |3       |\n",
      "|(23,[0,1,2,3,4,5,6,7,8,9],[0.3331482554719613,0.7166543255844698,0.004217020362741845,0.5507662835249042,0.8979591836734693,0.9591619318181819,0.07142857142857142,0.018767849857201143,0.009950248756218905,2.5522835837490736E-4])    |3       |\n",
      "|(23,[0,1,2,3,4,5,6,7,8,9],[0.33374262229895685,0.48758854550677383,0.0012494875148864727,0.40277777777777773,0.9999999999999999,0.9673295454545456,0.02142857142857143,0.0518155854753162,0.006965174129353234,2.5522835837490736E-4])  |3       |\n",
      "|(23,[0,1,2,3,4,5,6,7,8,9],[0.3343758767627049,0.48651898504971075,0.0016594756057085967,0.47940613026819917,0.9999999999999999,0.9669744318181818,0.010714285714285714,0.03414058114164383,0.0029850746268656712,2.5522835837490736E-4])|3       |\n",
      "|(23,[0,1,2,3,4,5,6,7,8,9],[0.336472943742525,0.48775017500779666,0.003143242029636283,0.41618773946360155,0.9285714285714285,0.9691051136363636,0.02857142857142857,0.023663810689514484,9.950248756218905E-4,2.5522835837490736E-4])   |2       |\n",
      "|(23,[0,1,2,3,4,5,6,7,8,9],[0.3364799025827859,0.4870590392449929,6.507747473367046E-4,0.4118773946360153,0.9285714285714285,0.9680397727272727,0.04285714285714286,0.028151774785801716,9.950248756218905E-4,2.5522835837490736E-4])    |3       |\n",
      "|(23,[0,1,2,3,4,5,6,7,8,9],[0.33648686142304673,0.48794823003917864,0.0032278427467900546,0.41618773946360155,0.9285714285714285,0.9691051136363636,0.02857142857142857,0.023663810689514484,9.950248756218905E-4,2.5522835837490736E-4])|2       |\n",
      "|(23,[0,1,2,3,4,5,6,7,8,9],[0.3365044631954716,0.4880572429319176,0.008876567553672651,0.41618773946360155,0.9285714285714285,0.9673295454545456,0.02857142857142857,0.037535699714402286,0.013930348258706468,2.5522835837490736E-4])   |2       |\n",
      "+----------------------------------------------------------------------------------------------------------------------------------------------------------------------------------------------------------------------------------------+--------+\n",
      "only showing top 100 rows\n",
      "\n"
     ]
    },
    {
     "name": "stderr",
     "output_type": "stream",
     "text": [
      "\r",
      "                                                                                \r"
     ]
    }
   ],
   "source": [
    "trainingData.show(100, truncate=False)"
   ]
  },
  {
   "cell_type": "code",
   "execution_count": 36,
   "id": "8631dfae",
   "metadata": {},
   "outputs": [],
   "source": [
    "def plot_importance(importance):\n",
    "    keys = importance.keys()\n",
    "    values = importance.values()\n",
    "\n",
    "    # Plot the dictionary\n",
    "    plt.figure(figsize=(17,5))\n",
    "    plt.bar(keys, values)\n",
    "    plt.xlabel(\"Keys\")\n",
    "    plt.ylabel(\"Values\")\n",
    "    plt.title(\"Feature importance\")\n",
    "    plt.show()"
   ]
  },
  {
   "cell_type": "code",
   "execution_count": 37,
   "id": "2864aaf4",
   "metadata": {},
   "outputs": [
    {
     "name": "stderr",
     "output_type": "stream",
     "text": [
      "                                                                                \r"
     ]
    }
   ],
   "source": [
    "from pyspark.ml.classification import DecisionTreeClassifier, RandomForestClassifier\n",
    "dt = DecisionTreeClassifier(labelCol=\"Severity\", featuresCol=\"features_scaled\", impurity='entropy', maxDepth=9, maxBins=64)\n",
    "\n",
    "dt = dt.fit(trainingData)"
   ]
  },
  {
   "cell_type": "code",
   "execution_count": 38,
   "id": "a2f817d5",
   "metadata": {},
   "outputs": [
    {
     "data": {
      "text/plain": [
       "{'Start_Lat': 0.10572526886130176,\n",
       " 'Start_Lng': 0.40473341151626097,\n",
       " 'Distance(mi)': 0.172070673527262,\n",
       " 'Temperature(F)': 0.004659855934292725,\n",
       " 'Humidity(%)': 0.0057603482418852065,\n",
       " 'Pressure(in)': 0.032260565540397704,\n",
       " 'Visibility(mi)': 0.0016928318341461284,\n",
       " 'Wind_Speed(mph)': 0.003328546495110777,\n",
       " 'Precipitation(in)': 0.00035928699779210133,\n",
       " 'Traffic_Duration': 0.15314652234661497,\n",
       " 'Amenity': 0.0,\n",
       " 'Bump': 0.0,\n",
       " 'Crossing': 0.004817236304616117,\n",
       " 'Give_Way': 0.0,\n",
       " 'Junction': 0.006306823528011754,\n",
       " 'No_Exit': 0.0,\n",
       " 'Railway': 0.0,\n",
       " 'Roundabout': 0.0,\n",
       " 'Station': 0.00020896420828525267,\n",
       " 'Stop': 0.0005240991896728335,\n",
       " 'Traffic_Calming': 0.0,\n",
       " 'Traffic_Signal': 0.0071213699785183816,\n",
       " 'Civil_Twilight': 0.0972841954958313}"
      ]
     },
     "execution_count": 38,
     "metadata": {},
     "output_type": "execute_result"
    }
   ],
   "source": [
    "importance = {}\n",
    "featureImportances = list(dt.featureImportances)\n",
    "\n",
    "for i,e in enumerate(featureImportances):\n",
    "    importance[num_col[i]] = e\n",
    "\n",
    "importance"
   ]
  },
  {
   "cell_type": "code",
   "execution_count": 35,
   "id": "934e95f2",
   "metadata": {},
   "outputs": [
    {
     "data": {
      "text/plain": [
       "{3: 3, 4: 4, 2: 2}"
      ]
     },
     "execution_count": 35,
     "metadata": {},
     "output_type": "execute_result"
    }
   ],
   "source": []
  },
  {
   "cell_type": "code",
   "execution_count": 39,
   "id": "beb8fbd9",
   "metadata": {},
   "outputs": [
    {
     "name": "stderr",
     "output_type": "stream",
     "text": [
      "\r",
      "[Stage 243:>                                                        (0 + 1) / 1]\r"
     ]
    },
    {
     "name": "stdout",
     "output_type": "stream",
     "text": [
      "+--------------------+--------+--------------------+--------------------+----------+\n",
      "|     features_scaled|Severity|       rawPrediction|         probability|prediction|\n",
      "+--------------------+--------+--------------------+--------------------+----------+\n",
      "|(23,[0,1,2,3,4,5,...|       2|[0.0,0.0,52159.0,...|[0.0,0.0,0.659589...|       2.0|\n",
      "|(23,[0,1,2,3,4,5,...|       4|[0.0,0.0,2202.0,1...|[0.0,0.0,0.366206...|       4.0|\n",
      "|(23,[0,1,2,3,4,5,...|       4|[0.0,0.0,52159.0,...|[0.0,0.0,0.659589...|       2.0|\n",
      "|(23,[0,1,2,3,4,5,...|       4|[0.0,0.0,52159.0,...|[0.0,0.0,0.659589...|       2.0|\n",
      "|(23,[0,1,2,3,4,5,...|       4|[0.0,0.0,789.0,25...|[0.0,0.0,0.301375...|       4.0|\n",
      "|(23,[0,1,2,3,4,5,...|       3|[0.0,0.0,52159.0,...|[0.0,0.0,0.659589...|       2.0|\n",
      "|(23,[0,1,2,3,4,5,...|       2|[0.0,0.0,52159.0,...|[0.0,0.0,0.659589...|       2.0|\n",
      "|(23,[0,1,2,3,4,5,...|       2|[0.0,0.0,52159.0,...|[0.0,0.0,0.659589...|       2.0|\n",
      "|(23,[0,1,2,3,4,5,...|       2|[0.0,0.0,52159.0,...|[0.0,0.0,0.659589...|       2.0|\n",
      "|(23,[0,1,2,3,4,5,...|       2|[0.0,0.0,52159.0,...|[0.0,0.0,0.659589...|       2.0|\n",
      "+--------------------+--------+--------------------+--------------------+----------+\n",
      "only showing top 10 rows\n",
      "\n"
     ]
    },
    {
     "name": "stderr",
     "output_type": "stream",
     "text": [
      "\r",
      "                                                                                \r"
     ]
    }
   ],
   "source": [
    "# Make predictions\n",
    "predictions = dt.transform(testData)\n",
    "\n",
    "predictions.show(10)"
   ]
  },
  {
   "cell_type": "code",
   "execution_count": 40,
   "id": "5036c6f0",
   "metadata": {},
   "outputs": [],
   "source": [
    "predictionAndLabel = predictions.select(\"prediction\", \"Severity\").rdd"
   ]
  },
  {
   "cell_type": "code",
   "execution_count": 41,
   "id": "e0e4e7d0",
   "metadata": {},
   "outputs": [
    {
     "name": "stderr",
     "output_type": "stream",
     "text": [
      "/Users/elvislleshi/anaconda3/lib/python3.11/site-packages/pyspark/sql/context.py:158: FutureWarning: Deprecated in 3.0.0. Use SparkSession.builder.getOrCreate() instead.\n",
      "  warnings.warn(\n",
      "                                                                                \r"
     ]
    }
   ],
   "source": [
    "from pyspark.mllib.evaluation import MulticlassMetrics\n",
    "metrics = MulticlassMetrics(predictionAndLabel)"
   ]
  },
  {
   "cell_type": "code",
   "execution_count": 42,
   "id": "f6764490",
   "metadata": {},
   "outputs": [],
   "source": [
    "from pyspark.sql.functions import col\n",
    "\n",
    "predictions = predictions.withColumn(\"Severity\", col(\"Severity\").cast(\"double\"))\n"
   ]
  },
  {
   "cell_type": "code",
   "execution_count": 43,
   "id": "8f0990ef",
   "metadata": {},
   "outputs": [
    {
     "name": "stderr",
     "output_type": "stream",
     "text": [
      "/Users/elvislleshi/anaconda3/lib/python3.11/site-packages/pyspark/sql/context.py:158: FutureWarning: Deprecated in 3.0.0. Use SparkSession.builder.getOrCreate() instead.\n",
      "  warnings.warn(\n",
      "                                                                                \r"
     ]
    }
   ],
   "source": [
    "from pyspark.mllib.evaluation import MulticlassMetrics\n",
    "\n",
    "# \n",
    "\n",
    "predictions_and_labels = predictions.select(\"prediction\", \"Severity\").rdd.map(lambda row: (row[0], row[1]))\n",
    "\n",
    "# \n",
    "metrics = MulticlassMetrics(predictions_and_labels)\n"
   ]
  },
  {
   "cell_type": "code",
   "execution_count": 45,
   "id": "8da3c048",
   "metadata": {},
   "outputs": [
    {
     "ename": "NameError",
     "evalue": "name 'class_mapping' is not defined",
     "output_type": "error",
     "traceback": [
      "\u001b[0;31m---------------------------------------------------------------------------\u001b[0m",
      "\u001b[0;31mNameError\u001b[0m                                 Traceback (most recent call last)",
      "Cell \u001b[0;32mIn[45], line 10\u001b[0m\n\u001b[1;32m      7\u001b[0m ax \u001b[38;5;241m=\u001b[39m sns\u001b[38;5;241m.\u001b[39mheatmap(confusion_matrix, annot\u001b[38;5;241m=\u001b[39m\u001b[38;5;28;01mTrue\u001b[39;00m, cmap\u001b[38;5;241m=\u001b[39m\u001b[38;5;124m\"\u001b[39m\u001b[38;5;124mBlues\u001b[39m\u001b[38;5;124m\"\u001b[39m, fmt\u001b[38;5;241m=\u001b[39m\u001b[38;5;124m'\u001b[39m\u001b[38;5;124m.0f\u001b[39m\u001b[38;5;124m'\u001b[39m)  \u001b[38;5;66;03m# fmt='g' suppresses scientific notation\u001b[39;00m\n\u001b[1;32m      9\u001b[0m \u001b[38;5;66;03m# Map the numerical values to genres using the dictionary\u001b[39;00m\n\u001b[0;32m---> 10\u001b[0m ax\u001b[38;5;241m.\u001b[39mset_xticklabels([class_mapping\u001b[38;5;241m.\u001b[39mget(\u001b[38;5;28mint\u001b[39m(label\u001b[38;5;241m.\u001b[39mget_text()), \u001b[38;5;124m\"\u001b[39m\u001b[38;5;124m\"\u001b[39m) \u001b[38;5;28;01mfor\u001b[39;00m label \u001b[38;5;129;01min\u001b[39;00m ax\u001b[38;5;241m.\u001b[39mget_xticklabels()])\n\u001b[1;32m     11\u001b[0m ax\u001b[38;5;241m.\u001b[39mset_yticklabels([class_mapping\u001b[38;5;241m.\u001b[39mget(\u001b[38;5;28mint\u001b[39m(label\u001b[38;5;241m.\u001b[39mget_text()), \u001b[38;5;124m\"\u001b[39m\u001b[38;5;124m\"\u001b[39m) \u001b[38;5;28;01mfor\u001b[39;00m label \u001b[38;5;129;01min\u001b[39;00m ax\u001b[38;5;241m.\u001b[39mget_yticklabels()])\n\u001b[1;32m     13\u001b[0m plt\u001b[38;5;241m.\u001b[39mxlabel(\u001b[38;5;124m\"\u001b[39m\u001b[38;5;124mPredicted\u001b[39m\u001b[38;5;124m\"\u001b[39m)\n",
      "Cell \u001b[0;32mIn[45], line 10\u001b[0m, in \u001b[0;36m<listcomp>\u001b[0;34m(.0)\u001b[0m\n\u001b[1;32m      7\u001b[0m ax \u001b[38;5;241m=\u001b[39m sns\u001b[38;5;241m.\u001b[39mheatmap(confusion_matrix, annot\u001b[38;5;241m=\u001b[39m\u001b[38;5;28;01mTrue\u001b[39;00m, cmap\u001b[38;5;241m=\u001b[39m\u001b[38;5;124m\"\u001b[39m\u001b[38;5;124mBlues\u001b[39m\u001b[38;5;124m\"\u001b[39m, fmt\u001b[38;5;241m=\u001b[39m\u001b[38;5;124m'\u001b[39m\u001b[38;5;124m.0f\u001b[39m\u001b[38;5;124m'\u001b[39m)  \u001b[38;5;66;03m# fmt='g' suppresses scientific notation\u001b[39;00m\n\u001b[1;32m      9\u001b[0m \u001b[38;5;66;03m# Map the numerical values to genres using the dictionary\u001b[39;00m\n\u001b[0;32m---> 10\u001b[0m ax\u001b[38;5;241m.\u001b[39mset_xticklabels([class_mapping\u001b[38;5;241m.\u001b[39mget(\u001b[38;5;28mint\u001b[39m(label\u001b[38;5;241m.\u001b[39mget_text()), \u001b[38;5;124m\"\u001b[39m\u001b[38;5;124m\"\u001b[39m) \u001b[38;5;28;01mfor\u001b[39;00m label \u001b[38;5;129;01min\u001b[39;00m ax\u001b[38;5;241m.\u001b[39mget_xticklabels()])\n\u001b[1;32m     11\u001b[0m ax\u001b[38;5;241m.\u001b[39mset_yticklabels([class_mapping\u001b[38;5;241m.\u001b[39mget(\u001b[38;5;28mint\u001b[39m(label\u001b[38;5;241m.\u001b[39mget_text()), \u001b[38;5;124m\"\u001b[39m\u001b[38;5;124m\"\u001b[39m) \u001b[38;5;28;01mfor\u001b[39;00m label \u001b[38;5;129;01min\u001b[39;00m ax\u001b[38;5;241m.\u001b[39mget_yticklabels()])\n\u001b[1;32m     13\u001b[0m plt\u001b[38;5;241m.\u001b[39mxlabel(\u001b[38;5;124m\"\u001b[39m\u001b[38;5;124mPredicted\u001b[39m\u001b[38;5;124m\"\u001b[39m)\n",
      "\u001b[0;31mNameError\u001b[0m: name 'class_mapping' is not defined"
     ]
    },
    {
     "data": {
      "image/png": "[encoded data removed]",
      "text/plain": [
       "<Figure size 800x600 with 2 Axes>"
      ]
     },
     "metadata": {},
     "output_type": "display_data"
    }
   ],
   "source": [
    "import seaborn as sns\n",
    "import matplotlib.pyplot as plt\n",
    "\n",
    "confusion_matrix = metrics.confusionMatrix().toArray()\n",
    "\n",
    "plt.figure(figsize=(8, 6))\n",
    "ax = sns.heatmap(confusion_matrix, annot=True, cmap=\"Blues\", fmt='.0f') \n",
    "\n",
    "# Map the numerical values to genres using the dictionary\n",
    "ax.set_xticklabels([class_mapping.get(int(label.get_text()), \"\") for label in ax.get_xticklabels()])\n",
    "ax.set_yticklabels([class_mapping.get(int(label.get_text()), \"\") for label in ax.get_yticklabels()])\n",
    "\n",
    "plt.xlabel(\"Predicted\")\n",
    "plt.ylabel(\"True\")\n",
    "plt.show()"
   ]
  },
  {
   "cell_type": "code",
   "execution_count": 95,
   "id": "9f9e9872",
   "metadata": {},
   "outputs": [
    {
     "name": "stderr",
     "output_type": "stream",
     "text": [
      "                                                                                \r"
     ]
    },
    {
     "name": "stdout",
     "output_type": "stream",
     "text": [
      "Validation accuracy = 0.7002337605508918\n",
      "Validation Error = 0.299766\n"
     ]
    },
    {
     "name": "stderr",
     "output_type": "stream",
     "text": [
      "[Stage 216:===============================>                        (9 + 7) / 16]\r"
     ]
    },
    {
     "name": "stdout",
     "output_type": "stream",
     "text": [
      "Test accuracy = 0.6989658003745629\n",
      "Test Error = 0.301034\n"
     ]
    },
    {
     "name": "stderr",
     "output_type": "stream",
     "text": [
      "\r",
      "                                                                                \r"
     ]
    }
   ],
   "source": [
    "# Select (prediction, true label) and compute test error\n",
    "evaluator = MulticlassClassificationEvaluator(labelCol=\"Severity\"\n",
    "                                              , predictionCol=\"prediction\"\n",
    "                                              , metricName=\"accuracy\")\n",
    "\n",
    "predictions = dt.transform(valData)\n",
    "accuracy = evaluator.evaluate(predictions)\n",
    "print('Validation accuracy =', accuracy)\n",
    "print(\"Validation Error = %g\" % (1.0 - accuracy))\n",
    "\n",
    "predictions_test = dt.transform(testData)\n",
    "accuracy_test = evaluator.evaluate(predictions_test)\n",
    "print('Test accuracy =', accuracy_test)\n",
    "print(\"Test Error = %g\" % (1.0 - accuracy_test))"
   ]
  },
  {
   "cell_type": "code",
   "execution_count": 96,
   "id": "eda1938b",
   "metadata": {},
   "outputs": [
    {
     "data": {
      "image/png": "[encoded data removed]",
      "text/plain": [
       "<Figure size 1700x500 with 1 Axes>"
      ]
     },
     "metadata": {},
     "output_type": "display_data"
    }
   ],
   "source": [
    "plot_importance(importance)"
   ]
  },
  {
   "cell_type": "code",
   "execution_count": 102,
   "id": "ca5b6f05",
   "metadata": {},
   "outputs": [
    {
     "name": "stdout",
     "output_type": "stream",
     "text": [
      "['Start_Lat', 'Distance(mi)', 'Temperature(F)', 'Humidity(%)', 'Pressure(in)', 'Visibility(mi)', 'Wind_Speed(mph)', 'Precipitation(in)', 'Traffic_Duration', 'Amenity', 'Bump', 'Crossing', 'Give_Way', 'Junction', 'No_Exit', 'Railway', 'Roundabout', 'Station', 'Stop', 'Traffic_Calming', 'Traffic_Signal', 'Civil_Twilight']\n"
     ]
    }
   ],
   "source": [
    "num_col = [item[0] for item in df.dtypes if not item[1].startswith('string')]\n",
    "num_col.remove(\"Start_Lng\") #Start_Lng\n",
    "num_col.remove(\"Severity\")\n",
    "print(num_col)"
   ]
  },
  {
   "cell_type": "code",
   "execution_count": 104,
   "id": "f5dfe529",
   "metadata": {},
   "outputs": [
    {
     "name": "stderr",
     "output_type": "stream",
     "text": [
      "                                                                                \r"
     ]
    },
    {
     "name": "stdout",
     "output_type": "stream",
     "text": [
      "+---------+------------------+------------+--------------+-----------+------------+--------------+-----------------+-----------------+----------------+-------+----+--------+--------+--------+-------+-------+----------+-------+----+---------------+--------------+--------------+--------+--------------------+--------------------+\n",
      "|Start_Lat|         Start_Lng|Distance(mi)|Temperature(F)|Humidity(%)|Pressure(in)|Visibility(mi)|  Wind_Speed(mph)|Precipitation(in)|Traffic_Duration|Amenity|Bump|Crossing|Give_Way|Junction|No_Exit|Railway|Roundabout|Station|Stop|Traffic_Calming|Traffic_Signal|Civil_Twilight|Severity|            features|     features_scaled|\n",
      "+---------+------------------+------------+--------------+-----------+------------+--------------+-----------------+-----------------+----------------+-------+----+--------+--------+--------+-------+-------+----------+-------+----+---------------+--------------+--------------+--------+--------------------+--------------------+\n",
      "| 40.06695|-75.66226999999998|       0.253|          32.0|       55.0|        29.4|          10.0|              7.0|              0.0|           360.0|      0|   0|       0|       0|       0|      0|      0|         0|      0|   0|              0|             0|             0|       2|(22,[0,1,2,3,4,5,...|(22,[0,1,2,3,4,5,...|\n",
      "| 40.00663|          -75.7461|         0.0|          37.0|       65.0|       29.37|          10.0|             10.0|              0.0|            30.0|      0|   0|       0|       0|       0|      0|      0|         0|      0|   0|              0|             1|             0|       2|(22,[0,2,3,4,5,6,...|(22,[0,2,3,4,5,6,...|\n",
      "| 40.00663|          -75.7461|         0.0|          37.0|       65.0|       29.37|          10.0|             10.0|              0.0|            30.0|      0|   0|       0|       0|       0|      0|      0|         0|      0|   0|              0|             1|             0|       2|(22,[0,2,3,4,5,6,...|(22,[0,2,3,4,5,6,...|\n",
      "| 40.15868|         -77.69886|       4.579|          25.0|       39.0|       30.51|          10.0|              9.2|              0.0|           360.0|      0|   0|       0|       0|       0|      0|      0|         0|      0|   0|              0|             0|             0|       2|(22,[0,1,2,3,4,5,...|(22,[0,1,2,3,4,5,...|\n",
      "| 40.11231|         -75.27999|       0.398|          32.0|       55.0|       30.13|          10.0|9.220321336978788|              0.0|           360.0|      0|   0|       0|       0|       0|      0|      0|         0|      0|   0|              0|             0|             0|       2|(22,[0,1,2,3,4,5,...|(22,[0,1,2,3,4,5,...|\n",
      "+---------+------------------+------------+--------------+-----------+------------+--------------+-----------------+-----------------+----------------+-------+----+--------+--------+--------+-------+-------+----------+-------+----+---------------+--------------+--------------+--------+--------------------+--------------------+\n",
      "only showing top 5 rows\n",
      "\n"
     ]
    }
   ],
   "source": [
    "from pyspark.ml.feature import VectorAssembler, MinMaxScaler\n",
    "\n",
    "# Selezionare tutte le colonne\n",
    "selected_columns = num_col\n",
    "\n",
    "# Creare un VectorAssembler\n",
    "assembler = VectorAssembler(inputCols=selected_columns, outputCol=\"features\")\n",
    "\n",
    "# Applicare l'assemblatore\n",
    "output_dataset = assembler.transform(df)\n",
    "\n",
    "# Creare uno scaler per normalizzare le features\n",
    "scaler = MinMaxScaler(inputCol=\"features\", outputCol=\"features_scaled\")\n",
    "\n",
    "# Applicare lo scaler\n",
    "output_dataset = scaler.fit(output_dataset).transform(output_dataset)\n",
    "output_dataset.show(5)"
   ]
  },
  {
   "cell_type": "code",
   "execution_count": 105,
   "id": "c1846ce4",
   "metadata": {},
   "outputs": [
    {
     "name": "stdout",
     "output_type": "stream",
     "text": [
      "+--------------------------------------------------------------------------------------------------------------------------------------------------------------------------------------------------------+--------+\n",
      "|features_scaled                                                                                                                                                                                         |Severity|\n",
      "+--------------------------------------------------------------------------------------------------------------------------------------------------------------------------------------------------------+--------+\n",
      "|(22,[0,1,2,3,4,5,6,8],[0.6343084415071407,0.0016464601107618626,0.3448275862068965,0.5408163265306122,0.9378551136363636,0.07142857142857142,0.02855977152182783,2.5522835837490736E-4])                |2       |\n",
      "|(22,[0,2,3,4,5,6,8,20],[0.6318392812451314,0.3687739463601532,0.6428571428571428,0.9367897727272729,0.07142857142857142,0.04079967360261118,3.926590128844729E-5,1.0])                                  |2       |\n",
      "|(22,[0,2,3,4,5,6,8,20],[0.6318392812451314,0.3687739463601532,0.6428571428571428,0.9367897727272729,0.07142857142857142,0.04079967360261118,3.926590128844729E-5,1.0])                                  |2       |\n",
      "|(22,[0,1,2,3,4,5,6,8],[0.63806334984325,0.0297989756805477,0.3113026819923371,0.37755102040816324,0.9772727272727275,0.07142857142857142,0.037535699714402286,2.5522835837490736E-4])                   |2       |\n",
      "|(22,[0,1,2,3,4,5,6,8],[0.6361652238261849,0.002590083494400084,0.3448275862068965,0.5408163265306122,0.9637784090909092,0.07142857142857142,0.03761861010599261,2.5522835837490736E-4])                 |2       |\n",
      "|(22,[0,1,2,3,4,5,6,8,13,21],[0.6363543405438655,0.0023948510701990726,0.2844827586206896,0.9999999999999999,0.9573863636363638,0.049999999999999996,0.03761861010599261,2.5522835837490736E-4,1.0,1.0]) |2       |\n",
      "|(22,[0,1,2,3,4,5,6,8,21],[0.6355364312070748,0.010952538997676738,0.24137931034482757,0.6632653061224489,0.9758522727272727,0.07142857142857142,0.03761861010599261,2.5522835837490736E-4,1.0])         |2       |\n",
      "|(22,[0,1,2,3,4,5,6,8],[0.6408927324246508,0.013288820340615506,0.45498084291187735,0.4387755102040816,0.9566761363636364,0.07142857142857142,0.07058343533251735,2.5522835837490736E-4])                |2       |\n",
      "|(22,[0,1,2,3,4,5,6,8,13,21],[0.6484557637576887,0.010314779745286768,0.4257662835249042,0.44897959183673464,0.9598721590909092,0.07142857142857142,0.037535699714402286,2.5522835837490736E-4,1.0,1.0]) |3       |\n",
      "|(22,[0,1,2,3,4,5,6,8],[0.637005606123583,0.05231578193839768,0.37308429118773945,0.5408163265306122,0.9616477272727273,0.07142857142857142,0.028151774785801716,2.5522835837490736E-4])                 |2       |\n",
      "|(22,[0,1,2,3,4,5,6,8,13],[0.6494087155298964,0.08612353006253949,0.3706896551724138,0.4693877551020408,0.9609375000000001,0.07142857142857142,0.037535699714402286,2.5522835837490736E-4,1.0])          |4       |\n",
      "|(22,[0,1,2,3,4,5,6,8,13],[0.6370154303686573,0.005499046614995153,0.393199233716475,0.47959183673469385,0.9623579545454547,0.07142857142857142,0.04691962464300286,2.5522835837490736E-4,1.0])          |4       |\n",
      "|(22,[0,1,2,3,4,5,6,8],[0.6368856684649676,0.004848271867658449,0.393199233716475,0.47959183673469385,0.9623579545454547,0.07142857142857142,0.04691962464300286,2.5522835837490736E-4])                 |4       |\n",
      "|(22,[0,1,2,3,4,5,6,8],[0.6366204138479611,0.04218321912236519,0.407088122605364,0.42857142857142855,0.9623579545454547,0.07142857142857142,0.0518155854753162,2.5522835837490736E-4])                   |4       |\n",
      "|(22,[0,1,2,3,4,5,6,8,21],[0.6480085559350353,0.006240929826958996,0.31034482758620685,0.4183673469387755,0.9481534090909093,0.07142857142857142,0.023663810689514484,2.5522835837490736E-4,1.0])        |2       |\n",
      "|(22,[0,1,2,3,4,5,6,8,21],[0.637005606123583,0.05231578193839768,0.3879310344827586,0.7857142857142857,0.9577414772727273,0.05714285714285714,0.014279885760913914,2.5522835837490736E-4,1.0])           |4       |\n",
      "|(22,[0,1,2,3,4,5,6,8,13,21],[0.6348872532794355,0.0030391180700624102,0.33524904214559387,0.39795918367346933,0.9694602272727273,0.07142857142857142,0.05630354957160343,2.5522835837490736E-4,1.0,1.0])|2       |\n",
      "|(22,[0,1,2,3,4,5,6,8,21],[0.638224221856342,0.025848772964213906,0.29214559386973177,0.3877551020408163,0.9758522727272727,0.07142857142857142,0.028151774785801716,2.5522835837490736E-4,1.0])         |2       |\n",
      "|(22,[0,1,2,3,4,5,6,8,21],[0.6382065791495627,0.025653540540012894,0.29214559386973177,0.3877551020408163,0.9758522727272727,0.07142857142857142,0.028151774785801716,2.6456491712571593E-4,1.0])        |2       |\n",
      "|(22,[0,1,2,3,4,5,6,8],[0.6201578445082349,2.1475566662111252E-4,0.3069923371647509,0.32653061224489793,0.9779829545454546,0.07142857142857142,0.04691962464300286,2.5522835837490736E-4])               |2       |\n",
      "+--------------------------------------------------------------------------------------------------------------------------------------------------------------------------------------------------------+--------+\n",
      "only showing top 20 rows\n",
      "\n"
     ]
    }
   ],
   "source": [
    "classificationData = output_dataset.select(\"features_scaled\", \"Severity\")\n",
    "\n",
    "classificationData.show(truncate=False)"
   ]
  },
  {
   "cell_type": "code",
   "execution_count": 107,
   "id": "4d8d712d",
   "metadata": {},
   "outputs": [
    {
     "name": "stderr",
     "output_type": "stream",
     "text": [
      "\r",
      "[Stage 223:>                                                        (0 + 1) / 1]\r"
     ]
    },
    {
     "name": "stdout",
     "output_type": "stream",
     "text": [
      "+------------------------------------------------------------------------------------------------------------------------------------------------------------------------------------------------------------------+--------+\n",
      "|features_scaled                                                                                                                                                                                                   |Severity|\n",
      "+------------------------------------------------------------------------------------------------------------------------------------------------------------------------------------------------------------------+--------+\n",
      "|(22,[0,1,2,3,4,5,6,7,8],[0.037094220814153214,0.004548915483883565,0.5665708812260536,0.846938775510204,0.9609375000000001,0.07142857142857142,0.04691962464300286,9.950248756218905E-4,2.5522835837490736E-4])   |2       |\n",
      "|(22,[0,1,2,3,4,5,6,7,8],[0.04052496999716493,0.013373421057769279,0.5651340996168582,0.8265306122448979,0.9584517045454547,0.07142857142857142,0.012239902080783354,0.001990049751243781,3.912410775601678E-5])   |4       |\n",
      "|(22,[0,1,2,3,4,5,6,7,8],[0.044285568208546455,0.004151942888008175,0.5507662835249042,0.8673469387755102,0.9591619318181819,0.07142857142857142,0.014279885760913914,0.006965174129353234,2.5522835837490736E-4]) |2       |\n",
      "|(22,[0,1,2,3,4,5,6,7,8],[0.044285568208546455,0.004151942888008175,0.5886015325670498,0.7142857142857142,0.9595170454545456,0.07142857142857142,0.04243166054671563,9.950248756218905E-4,2.5522835837490736E-4])  |2       |\n",
      "|(22,[0,1,2,3,4,5,6,7,8],[0.04775311737623237,0.0023753278277789717,0.5507662835249042,0.9387755102040816,0.9577414772727273,0.03571428571428571,0.028151774785801716,0.0208955223880597,2.5522835837490736E-4])   |2       |\n",
      "|(22,[0,1,2,3,4,5,6,7,8],[0.049595777342982185,0.005023981049439359,0.5320881226053639,0.9285714285714285,0.9570312500000002,0.04285714285714286,0.07507139942880457,0.003980099502487562,2.5522835837490736E-4])  |2       |\n",
      "|(22,[0,1,2,3,4,5,6,7,8],[0.049634460307962334,0.0038265555143398226,0.5603448275862069,0.9591836734693877,0.9609375000000001,0.07142857142857142,0.014279885760913914,0.004975124378109453,2.5522835837490736E-4])|3       |\n",
      "|(22,[0,1,2,3,4,5,6,7,8],[0.049660208016927915,0.0034360906659378003,0.5119731800766283,0.9285714285714285,0.9573863636363638,0.02857142857142857,0.05630354957160343,0.001990049751243781,2.5522835837490736E-4]) |2       |\n",
      "|(22,[0,1,2,3,4,5,6,7,8],[0.049814530533303474,5.206197978693636E-4,0.5344827586206896,0.9999999999999999,0.9591619318181819,0.007142857142857143,0.03760046962176128,0.0417910447761194,2.5522835837490736E-4])   |2       |\n",
      "|(22,[0,1,2,3,4,5,6,7,8],[0.04982275833855323,2.733253938814159E-4,0.5699233716475095,0.9693877551020408,0.9609375000000001,0.07142857142857142,0.033047735618115054,0.0029850746268656712,2.5522835837490736E-4]) |2       |\n",
      "|(22,[0,1,2,3,4,5,6,7,8],[0.050587412080170174,0.00544047688773485,0.5603448275862069,0.9591836734693877,0.9609375000000001,0.07142857142857142,0.014279885760913914,0.004975124378109453,2.5522835837490736E-4])  |2       |\n",
      "|(22,[0,1,2,3,4,5,6,7,8],[0.05085880685034783,0.00480271763534488,0.5507662835249042,0.9591836734693877,0.9570312500000002,0.06428571428571428,0.04243166054671563,0.010945273631840795,2.6947315478677183E-4])    |4       |\n",
      "|(22,[0,1,2,3,4,5,6,7,8],[0.05585771021899151,0.004275590090002149,0.5454980842911877,0.9693877551020408,0.9588068181818182,0.02142857142857143,0.018767849857201143,0.0059701492537313425,2.5522835837490736E-4]) |3       |\n",
      "|(22,[0,1,2,3,4,5,6,7,8],[0.05882377260998838,0.0016724911006553308,0.5986590038314176,0.6632653061224489,0.9552556818181819,0.07142857142857142,0.04079967360261118,9.950248756218905E-4,3.806610986018918E-5])   |2       |\n",
      "|(22,[0,1,2,3,4,5,6,7,8],[0.061705182755928394,0.011922193371208428,0.5411877394636015,0.9285714285714285,0.9648437500000001,0.07142857142857142,0.028151774785801716,0.004975124378109453,2.5522835837490736E-4]) |3       |\n",
      "|(22,[0,1,2,3,4,5,6,7,8],[0.062260661946171456,0.005407938150368014,0.5747126436781609,0.8061224489795917,0.9588068181818182,0.07142857142857142,0.04079967360261118,0.009950248756218905,3.8785984717144044E-5])  |2       |\n",
      "|(22,[0,1,2,3,4,5,6,7,8],[0.06227212356542482,0.004080357665801138,0.603448275862069,0.7653061224489796,0.9538352272727273,0.07142857142857142,0.032639738882088945,0.013930348258706468,3.776070840572348E-5])    |2       |\n",
      "|(22,[0,1,2,3,4,5,6,7,8],[0.06229545614747629,0.001418688949194016,0.5747126436781609,0.8061224489795917,0.9588068181818182,0.07142857142857142,0.04079967360261118,0.009950248756218905,3.8785984717144044E-5])   |2       |\n",
      "|(22,[0,1,2,3,4,5,6,7,8],[0.0630259297031056,0.008388486493170122,0.5411877394636015,0.9285714285714285,0.9598721590909092,0.014285714285714285,0.02855977152182783,0.022885572139303482,3.737895658764135E-5])    |3       |\n",
      "|(22,[0,1,2,3,4,5,6,7,8],[0.06431065441834372,0.00497842681712579,0.5507662835249042,0.8979591836734693,0.9666193181818182,0.07142857142857142,0.0518155854753162,9.950248756218905E-4,2.5522835837490736E-4])     |2       |\n",
      "|(22,[0,1,2,3,4,5,6,7,8],[0.06431065441834372,0.005577139584675558,0.5363984674329502,0.9693877551020408,0.9588068181818182,0.03571428571428571,0.0425790312685763,0.036815920398009946,2.5522835837490736E-4])    |2       |\n",
      "|(22,[0,1,2,3,4,5,6,7,8],[0.07826849154202087,0.0031887962619498523,0.5316091954022988,0.9285714285714285,0.9573863636363638,0.06428571428571428,0.02039983680130559,0.006965174129353234,3.866600557431823E-5])   |2       |\n",
      "|(22,[0,1,2,3,4,5,6,7,8],[0.07940274157020423,0.003865601999180025,0.5363984674329502,0.9999999999999999,0.9584517045454547,0.07142857142857142,0.03414058114164383,0.003980099502487562,2.5522835837490736E-4])   |2       |\n",
      "|(22,[0,1,2,3,4,5,6,7,8],[0.08069340176684141,0.0037549702921327857,0.5699233716475095,0.8775510204081632,0.9598721590909092,0.07142857142857142,0.07996736026111792,0.0029850746268656712,2.5522835837490736E-4]) |2       |\n",
      "|(22,[0,1,2,3,4,5,6,7,8],[0.0910567522896018,0.005791895251296671,0.5555555555555555,0.846938775510204,0.9541903409090909,0.07142857142857142,0.04895960832313342,9.950248756218905E-4,3.774980121092113E-5])      |2       |\n",
      "|(22,[0,1,2,3,4,5,6,7,8],[0.096707617121989,0.020004815733130298,0.5363984674329502,0.836734693877551,0.9580965909090908,0.02142857142857143,0.033047735618115054,0.0029850746268656712,2.5522835837490736E-4])    |4       |\n",
      "|(22,[0,1,2,3,4,5,6,7,8],[0.11618717118968083,0.005082550776699662,0.5258620689655172,0.9999999999999999,0.9577414772727273,0.07142857142857142,0.028151774785801716,0.006965174129353234,2.5522835837490736E-4])  |2       |\n",
      "|(22,[0,1,2,3,4,5,6,7,8],[0.12792059455676244,0.0019132777571699113,0.5344827586206896,0.8775510204081632,0.9612926136363638,0.07142857142857142,0.014279885760913914,0.0029850746268656712,2.5522835837490736E-4])|2       |\n",
      "|(22,[0,1,2,3,4,5,6,7,8],[0.12792059455676244,0.0019132777571699113,0.5344827586206896,0.9387755102040816,0.9595170454545456,0.049999999999999996,0.014279885760913914,0.010945273631840795,2.5522835837490736E-4])|2       |\n",
      "|(22,[0,1,2,3,4,5,6,7,8],[0.12977819556289605,0.0014577354340342182,0.5411877394636015,0.9285714285714285,0.9573863636363638,0.012857142857142857,0.06568747450020401,0.004975124378109453,2.5522835837490736E-4]) |2       |\n",
      "|(22,[0,1,2,3,4,5,6,7,8],[0.13264687512459392,0.003937187221387062,0.5411877394636015,0.9591836734693877,0.9573863636363638,0.017857142857142856,0.07058343533251735,0.03880597014925373,2.5522835837490736E-4])   |2       |\n",
      "|(22,[0,1,2,3,4,5,6,7,8],[0.13879644319756582,0.003117211039742815,0.5431034482758621,0.9999999999999999,0.9591619318181819,0.03571428571428571,0.06568747450020401,9.950248756218905E-4,2.5522835837490736E-4])   |2       |\n",
      "|(22,[0,1,2,3,4,5,6,7,8],[0.13885784472928026,0.0016074136259216602,0.5656130268199233,0.836734693877551,0.9580965909090908,0.07142857142857142,0.061199510403916774,9.950248756218905E-4,2.5522835837490736E-4])  |2       |\n",
      "|(22,[0,1,2,3,4,5,6,7,8],[0.1389405321253224,0.0036117998477187105,0.5603448275862069,0.8877551020408162,0.9595170454545456,0.07142857142857142,0.018767849857201143,9.950248756218905E-4,2.5522835837490736E-4])  |3       |\n",
      "|(22,[0,1,2,3,4,5,6,7,8],[0.15213694932138622,0.025848772964213906,0.5842911877394635,0.7551020408163265,0.9534801136363638,0.07142857142857142,0.061199510403916774,9.950248756218905E-4,2.5522835837490736E-4])  |4       |\n",
      "|(22,[0,1,2,3,4,5,6,7,8],[0.15507849203405188,0.009468772573749052,0.5454980842911877,0.8673469387755102,0.9588068181818182,0.03571428571428571,0.014279885760913914,0.030845771144278604,2.5522835837490736E-4])  |2       |\n",
      "|(22,[0,1,2,3,4,5,6,7,8],[0.15745898848426554,0.010959046745150107,0.5603448275862069,0.8163265306122448,0.9517045454545454,0.07142857142857142,0.02039983680130559,9.950248756218905E-4,3.89168710547722E-5])     |2       |\n",
      "|(22,[0,1,2,3,4,5,6,7,8],[0.15930742019499664,5.466507877628318E-4,0.5454980842911877,0.8673469387755102,0.9588068181818182,0.07142857142857142,0.018767849857201143,0.035820895522388055,2.5522835837490736E-4])  |2       |\n",
      "|(22,[0,1,2,3,4,5,6,7,8],[0.15958618314898018,0.001971847484430215,0.5411877394636015,0.8979591836734693,0.9509943181818183,0.07142857142857142,0.02855977152182783,0.0059701492537313425,3.885142788595812E-5])   |2       |\n",
      "|(22,[0,1,2,3,4,5,6,7,8],[0.15984161352091208,7.809296968040454E-4,0.5459770114942528,0.8673469387755102,0.9513494318181819,0.02857142857142857,0.02855977152182783,0.01691542288557214,3.849149045748069E-5])     |2       |\n",
      "|(22,[0,1,2,3,4,5,6,7,8],[0.15991447667187988,0.0016139213733950273,0.5459770114942528,0.8673469387755102,0.9513494318181819,0.02857142857142857,0.02855977152182783,0.01691542288557214,3.849149045748069E-5])    |2       |\n",
      "|(22,[0,1,2,3,4,5,6,7,8],[0.16075363093864362,0.006637902422834387,0.5363984674329502,0.9693877551020408,0.9605823863636364,0.02857142857142857,0.018767849857201143,0.022885572139303482,2.5522835837490736E-4])  |3       |\n",
      "|(22,[0,1,2,3,4,5,6,7,8],[0.16075363093864362,0.006637902422834387,0.5603448275862069,0.836734693877551,0.9566761363636364,0.05714285714285714,0.06568747450020401,9.950248756218905E-4,2.5522835837490736E-4])    |2       |\n",
      "|(22,[0,1,2,3,4,5,6,7,8],[0.16240819754657498,0.05094264722151722,0.5431034482758621,0.8775510204081632,0.9612926136363638,0.07142857142857142,0.028151774785801716,9.950248756218905E-4,2.5522835837490736E-4])   |2       |\n",
      "|(22,[0,1,2,3,4,5,6,7,8],[0.16273771910010892,9.045768987980194E-4,0.5344827586206896,0.9999999999999999,0.9602272727272728,0.03571428571428571,0.037535699714402286,0.04975124378109452,2.5522835837490736E-4])   |4       |\n",
      "|(22,[0,1,2,3,4,5,6,7,8],[0.16275826814605607,0.002219141888418163,0.5363984674329502,0.9285714285714285,0.9595170454545456,0.07142857142857142,0.037535699714402286,9.950248756218905E-4,2.5522835837490736E-4])  |2       |\n",
      "|(22,[0,1,2,3,4,5,6,7,8],[0.16311673028820484,3.123718787216182E-4,0.5411877394636015,0.9285714285714285,0.9588068181818182,0.04285714285714286,0.04243166054671563,0.004975124378109453,2.5522835837490736E-4])   |2       |\n",
      "|(22,[0,1,2,3,4,5,6,7,8],[0.16337383896867042,0.003969725958753898,0.5411877394636015,0.9285714285714285,0.9598721590909092,0.05714285714285714,0.033047735618115054,0.0029850746268656712,2.5522835837490736E-4]) |2       |\n",
      "|(22,[0,1,2,3,4,5,6,7,8],[0.16418966065338267,9.436233836382215E-4,0.575191570881226,0.8061224489795917,0.9559659090909093,0.07142857142857142,0.037535699714402286,0.001990049751243781,2.5522835837490736E-4])   |2       |\n",
      "|(22,[0,1,2,3,4,5,6,7,8],[0.16453269054389402,0.0026486532216603875,0.5363984674329502,0.9693877551020408,0.9605823863636364,0.02857142857142857,0.018767849857201143,0.022885572139303482,2.5522835837490736E-4]) |2       |\n",
      "|(22,[0,1,2,3,4,5,6,7,8],[0.16453269054389402,0.0026486532216603875,0.5411877394636015,0.9591836734693877,0.9580965909090908,0.02857142857142857,0.04243166054671563,0.051741293532338306,2.5522835837490736E-4])  |3       |\n",
      "|(22,[0,1,2,3,4,5,6,7,8],[0.16453269054389402,0.0026486532216603875,0.5454980842911877,0.9285714285714285,0.9580965909090908,0.07142857142857142,0.06568747450020401,9.950248756218905E-4,2.5522835837490736E-4])  |2       |\n",
      "|(22,[0,1,2,3,4,5,6,7,8],[0.16637326285856557,0.014284505704040664,0.5603448275862069,0.836734693877551,0.9559659090909093,0.049999999999999996,0.028151774785801716,0.04378109452736318,2.5522835837490736E-4])   |2       |\n",
      "|(22,[0,1,2,3,4,5,6,7,8],[0.1675507804994302,0.0021735876561045932,0.5795019157088123,0.7653061224489796,0.9584517045454547,0.07142857142857142,0.014279885760913914,0.027860696517412936,2.5522835837490736E-4])  |2       |\n",
      "|(22,[0,1,2,3,4,5,6,7,8],[0.17156807804773255,0.005297306443320776,0.5411877394636015,0.9285714285714285,0.9602272727272728,0.07142857142857142,0.023663810689514484,0.001990049751243781,2.5522835837490736E-4])  |2       |\n",
      "|(22,[0,1,2,3,4,5,6,7,8],[0.1872590348055811,0.020317187611851917,0.5507662835249042,0.9591836734693877,0.9595170454545456,0.010714285714285714,0.028151774785801716,0.030845771144278604,2.5522835837490736E-4])  |4       |\n",
      "|(22,[0,1,2,3,4,5,6,7,8],[0.18789842942250057,0.004783194392924779,0.5603448275862069,0.9387755102040816,0.9630681818181818,0.05714285714285714,0.023663810689514484,0.009950248756218905,2.5522835837490736E-4])  |2       |\n",
      "|(22,[0,1,2,3,4,5,6,7,8],[0.18851019335014862,0.004288605584948884,0.5320881226053639,0.9999999999999999,0.9573863636363638,0.014285714285714285,0.037535699714402286,0.04776119402985074,2.5522835837490736E-4])  |2       |\n",
      "|(22,[0,1,2,3,4,5,6,7,8],[0.1977623808206503,0.0014967819188744205,0.4458812260536398,0.7040816326530611,0.9666193181818182,0.07142857142857142,0.061199510403916774,9.950248756218905E-4,3.904775739240036E-5])   |2       |\n",
      "|(22,[0,1,2,3,4,5,6,7,8],[0.21049357907809127,0.005193182483746902,0.5,0.9387755102040816,0.9509943181818183,0.049999999999999996,0.023663810689514484,0.0029850746268656712,2.5522835837490736E-4])               |2       |\n",
      "|(22,[0,1,2,3,4,5,6,7,8],[0.21287411646265944,0.007217091947964054,0.42145593869731796,0.8571428571428571,0.9641335227272727,0.07142857142857142,0.07058343533251735,0.001990049751243781,3.8785984717144044E-5])  |2       |\n",
      "|(22,[0,1,2,3,4,5,6,7,8],[0.21313978042321047,0.0018612157773829753,0.42145593869731796,0.8571428571428571,0.9641335227272727,0.07142857142857142,0.07058343533251735,0.001990049751243781,3.785887315894459E-5])  |3       |\n",
      "|(22,[0,1,2,3,4,5,6,7,8],[0.21340667241439593,0.0019458164945367466,0.5320881226053639,0.8979591836734693,0.9549005681818182,0.06428571428571428,0.04243166054671563,9.950248756218905E-4,3.8840520691155774E-5])  |3       |\n",
      "|(22,[0,1,2,3,4,5,6,7,8],[0.2134144499417464,0.003026102575115676,0.5344827586206896,0.8775510204081632,0.9545454545454547,0.02857142857142857,0.023663810689514484,0.003980099502487562,3.902594300279566E-5])    |2       |\n",
      "|(22,[0,1,2,3,4,5,6,7,8],[0.21457698560887273,0.005290798695847408,0.43103448275862066,0.9387755102040816,0.9651988636363638,0.02142857142857143,0.037535699714402286,0.0029850746268656712,2.5522835837490736E-4])|2       |\n",
      "|(22,[0,1,2,3,4,5,6,7,8],[0.21544643129794905,0.0041128964031679725,0.5344827586206896,0.8775510204081632,0.9545454545454547,0.02857142857142857,0.023663810689514484,0.003980099502487562,3.904775739240036E-5])  |3       |\n",
      "|(22,[0,1,2,3,4,5,6,7,8],[0.21832943788371353,0.00777675823067362,0.5023946360153256,0.9285714285714285,0.94921875,0.07142857142857142,0.018767849857201143,0.02885572139303482,2.5522835837490736E-4])            |3       |\n",
      "|(22,[0,1,2,3,4,5,6,7,8],[0.22041872733618315,0.0032018117568965872,0.3299808429118774,0.8877551020408162,0.9822443181818181,0.02857142857142857,0.08935128518971848,9.950248756218905E-4,2.5522835837490736E-4])  |2       |\n",
      "|(22,[0,1,2,3,4,5,6,7,8],[0.22251129153701057,0.006683456655147955,0.5076628352490421,0.8673469387755102,0.9495738636363638,0.05714285714285714,0.028151774785801716,0.001990049751243781,2.5522835837490736E-4])  |2       |\n",
      "|(22,[0,1,2,3,4,5,6,7,8],[0.2244270193265005,0.01180505391668782,0.4363026819923371,0.9591836734693877,0.9605823863636364,0.012857142857142857,0.0518155854753162,0.003980099502487562,3.924408689884259E-5])      |2       |\n",
      "|(22,[0,1,2,3,4,5,6,7,8],[0.23270967661123154,2.92848636301517E-4,0.5320881226053639,0.9285714285714285,0.9602272727272728,0.02857142857142857,0.03414058114164383,0.011940298507462685,2.5522835837490736E-4])    |2       |\n",
      "|(22,[0,1,2,3,4,5,6,7,8],[0.2333796082565903,0.012104410300462705,0.5258620689655172,0.9387755102040816,0.9591619318181819,0.049999999999999996,0.033047735618115054,0.003980099502487562,2.5522835837490736E-4])  |2       |\n",
      "|(22,[0,1,2,3,4,5,6,7,8],[0.23371191334622904,0.0024078665651458067,0.45498084291187735,0.9999999999999999,0.965909090909091,0.04285714285714286,0.0518155854753162,0.003980099502487562,3.912410775601678E-5])    |3       |\n",
      "|(22,[0,1,2,3,4,5,6,7,8],[0.2363135371793234,0.004002264696120733,0.5225095785440612,0.9999999999999999,0.9566761363636364,0.02142857142857143,0.028151774785801716,0.012935323383084577,2.5522835837490736E-4])   |2       |\n",
      "|(22,[0,1,2,3,4,5,6,7,8],[0.23808108260560926,0.011238879886504889,0.5320881226053639,0.9285714285714285,0.9598721590909092,0.014285714285714285,0.028151774785801716,0.003980099502487562,2.5522835837490736E-4]) |3       |\n",
      "|(22,[0,1,2,3,4,5,6,7,8],[0.238311133677766,0.0026942074539739566,0.5320881226053639,0.9285714285714285,0.9598721590909092,0.014285714285714285,0.028151774785801716,0.003980099502487562,2.5522835837490736E-4])  |3       |\n",
      "|(22,[0,1,2,3,4,5,6,7,8],[0.24099925180186896,0.0026030989893468183,0.5454980842911877,0.9081632653061223,0.9605823863636364,0.03571428571428571,0.033047735618115054,0.007960199004975124,2.5522835837490736E-4]) |4       |\n",
      "|(22,[0,1,2,3,4,5,6,7,8],[0.24208446247338963,0.003403551928570965,0.5550766283524904,0.8163265306122448,0.9616477272727273,0.07142857142857142,0.037535699714402286,0.003980099502487562,2.5522835837490736E-4])  |2       |\n",
      "|(22,[0,1,2,3,4,5,6,7,8],[0.2423415302195007,0.004991442312072524,0.5656130268199233,0.8673469387755102,0.9534801136363638,0.07142857142857142,0.036190242895360214,0.004975124378109453,2.5522835837490736E-4])   |2       |\n",
      "|(22,[0,1,2,3,4,5,6,7,8],[0.2426964310728103,0.006709487645041423,0.5507662835249042,0.8673469387755102,0.9534801136363638,0.07142857142857142,0.03414058114164383,0.004975124378109453,2.5522835837490736E-4])    |2       |\n",
      "|(22,[0,1,2,3,4,5,6,7,8],[0.24689498594273337,0.015215113592732154,0.5268199233716475,0.9693877551020408,0.9559659090909093,0.03571428571428571,0.036190242895360214,0.001990049751243781,3.9004128613190974E-5])  |2       |\n",
      "|(22,[0,1,2,3,4,5,6,7,8],[0.25015053608858656,0.0028438856458613995,0.4837164750957854,0.9285714285714285,0.9595170454545456,0.07142857142857142,0.05630354957160343,0.010945273631840795,3.898231422358627E-5])   |2       |\n",
      "|(22,[0,1,2,3,4,5,6,7,8],[0.25089353555668553,0.07220996596448073,0.5603448275862069,0.8979591836734693,0.9588068181818182,0.07142857142857142,0.03414058114164383,0.001990049751243781,2.5522835837490736E-4])    |2       |\n",
      "|(22,[0,1,2,3,4,5,6,7,8],[0.2605990300686576,0.006325530544112768,0.5842911877394635,0.8163265306122448,0.9580965909090908,0.07142857142857142,0.03671970624235006,0.006965174129353234,3.840423289906192E-5])     |2       |\n",
      "|(22,[0,1,2,3,4,5,6,7,8],[0.2794962929439243,0.010835399543156132,0.407088122605364,0.9285714285714285,0.969815340909091,0.03571428571428571,0.0518155854753162,0.010945273631840795,2.5522835837490736E-4])       |2       |\n",
      "|(22,[0,1,2,3,4,5,6,7,8],[0.2878228727910084,0.011941716613628528,0.5699233716475095,0.8775510204081632,0.9541903409090909,0.07142857142857142,0.02039983680130559,9.950248756218905E-4,3.7684358042107044E-5])    |4       |\n",
      "|(22,[0,1,2,3,4,5,6,7,8],[0.32406119718741744,0.004477330261676527,0.5507662835249042,0.836734693877551,0.9598721590909092,0.005714285714285714,0.023663810689514484,0.22587064676616914,3.8753263132737E-5])      |3       |\n",
      "|(22,[0,1,2,3,4,5,6,7,8],[0.33153871665395374,0.004679070433350906,0.407088122605364,0.9693877551020408,0.9673295454545456,0.02142857142857143,0.04243166054671563,0.013930348258706468,2.5522835837490736E-4])    |3       |\n",
      "|(22,[0,1,2,3,4,5,6,7,8],[0.3316456371878458,0.002564052504506616,0.5459770114942528,0.9081632653061223,0.9463778409090909,0.07142857142857142,0.012239902080783354,0.001990049751243781,3.827334656143376E-5])    |2       |\n",
      "|(22,[0,1,2,3,4,5,6,7,8],[0.3316824371725201,0.002564052504506616,0.5459770114942528,0.9081632653061223,0.9463778409090909,0.07142857142857142,0.012239902080783354,0.001990049751243781,3.827334656143376E-5])    |2       |\n",
      "|(22,[0,1,2,3,4,5,6,7,8],[0.33172496796682094,0.0023753278277789717,0.40277777777777773,0.9591836734693877,0.9655539772727273,0.017857142857142856,0.061199510403916774,9.950248756218905E-4,3.89168710547722E-5]) |3       |\n",
      "|(22,[0,1,2,3,4,5,6,7,8],[0.3318170702643927,0.006201883342118794,0.40277777777777773,0.9285714285714285,0.9669744318181818,0.07142857142857142,0.07058343533251735,0.001990049751243781,3.8840520691155774E-5])   |2       |\n",
      "|(22,[0,1,2,3,4,5,6,7,8],[0.3321424983824789,0.00350116814067147,0.407088122605364,0.9693877551020408,0.9673295454545456,0.017857142857142856,0.04243166054671563,0.015920398009950248,2.5522835837490736E-4])     |3       |\n",
      "|(22,[0,1,2,3,4,5,6,7,8],[0.3331482554719613,0.004217020362741845,0.5507662835249042,0.8979591836734693,0.9591619318181819,0.07142857142857142,0.018767849857201143,0.009950248756218905,2.5522835837490736E-4])   |3       |\n",
      "|(22,[0,1,2,3,4,5,6,7,8],[0.33374262229895685,0.0012494875148864727,0.40277777777777773,0.9999999999999999,0.9673295454545456,0.02142857142857143,0.0518155854753162,0.006965174129353234,2.5522835837490736E-4])  |3       |\n",
      "|(22,[0,1,2,3,4,5,6,7,8],[0.3343758767627049,0.0016594756057085967,0.47940613026819917,0.9999999999999999,0.9669744318181818,0.010714285714285714,0.03414058114164383,0.0029850746268656712,2.5522835837490736E-4])|3       |\n",
      "|(22,[0,1,2,3,4,5,6,7,8],[0.336472943742525,0.003143242029636283,0.41618773946360155,0.9285714285714285,0.9691051136363636,0.02857142857142857,0.023663810689514484,9.950248756218905E-4,2.5522835837490736E-4])   |2       |\n",
      "|(22,[0,1,2,3,4,5,6,7,8],[0.3364799025827859,6.507747473367046E-4,0.4118773946360153,0.9285714285714285,0.9680397727272727,0.04285714285714286,0.028151774785801716,9.950248756218905E-4,2.5522835837490736E-4])   |3       |\n",
      "|(22,[0,1,2,3,4,5,6,7,8],[0.33648686142304673,0.0032278427467900546,0.41618773946360155,0.9285714285714285,0.9691051136363636,0.02857142857142857,0.023663810689514484,9.950248756218905E-4,2.5522835837490736E-4])|2       |\n",
      "|(22,[0,1,2,3,4,5,6,7,8],[0.3365044631954716,0.008876567553672651,0.41618773946360155,0.9285714285714285,0.9673295454545456,0.02857142857142857,0.037535699714402286,0.013930348258706468,2.5522835837490736E-4])  |2       |\n",
      "+------------------------------------------------------------------------------------------------------------------------------------------------------------------------------------------------------------------+--------+\n",
      "only showing top 100 rows\n",
      "\n"
     ]
    },
    {
     "name": "stderr",
     "output_type": "stream",
     "text": [
      "\r",
      "                                                                                \r"
     ]
    }
   ],
   "source": [
    "(trainingData, testData) = classificationData.randomSplit([0.8, 0.2],seed=1)\n",
    "\n",
    "# Validation split\n",
    "(trainingData, valData) = trainingData.randomSplit([0.8, 0.2],seed=1)\n",
    "\n",
    "trainingData.show(100, truncate=False)"
   ]
  },
  {
   "cell_type": "markdown",
   "id": "4f2c1dc1",
   "metadata": {},
   "source": [
    "### Random forest with hyperparameter tuning¶"
   ]
  },
  {
   "cell_type": "code",
   "execution_count": 142,
   "id": "fb4de1aa",
   "metadata": {},
   "outputs": [
    {
     "name": "stdout",
     "output_type": "stream",
     "text": [
      "Training model with numTrees=10, maxDepth=5, impurity=gini\n"
     ]
    },
    {
     "name": "stderr",
     "output_type": "stream",
     "text": [
      "                                                                                \r"
     ]
    },
    {
     "name": "stdout",
     "output_type": "stream",
     "text": [
      "Validation Accuracy: 0.6717\n",
      "Training model with numTrees=10, maxDepth=5, impurity=entropy\n"
     ]
    },
    {
     "name": "stderr",
     "output_type": "stream",
     "text": [
      "                                                                                \r"
     ]
    },
    {
     "name": "stdout",
     "output_type": "stream",
     "text": [
      "Validation Accuracy: 0.6714\n",
      "Training model with numTrees=10, maxDepth=7, impurity=gini\n"
     ]
    },
    {
     "name": "stderr",
     "output_type": "stream",
     "text": [
      "                                                                                \r"
     ]
    },
    {
     "name": "stdout",
     "output_type": "stream",
     "text": [
      "Validation Accuracy: 0.6778\n",
      "Training model with numTrees=10, maxDepth=7, impurity=entropy\n"
     ]
    },
    {
     "name": "stderr",
     "output_type": "stream",
     "text": [
      "                                                                                \r"
     ]
    },
    {
     "name": "stdout",
     "output_type": "stream",
     "text": [
      "Validation Accuracy: 0.6777\n",
      "Training model with numTrees=10, maxDepth=9, impurity=gini\n"
     ]
    },
    {
     "name": "stderr",
     "output_type": "stream",
     "text": [
      "                                                                                \r"
     ]
    },
    {
     "name": "stdout",
     "output_type": "stream",
     "text": [
      "Validation Accuracy: 0.6842\n",
      "Training model with numTrees=10, maxDepth=9, impurity=entropy\n"
     ]
    },
    {
     "name": "stderr",
     "output_type": "stream",
     "text": [
      "                                                                                \r"
     ]
    },
    {
     "name": "stdout",
     "output_type": "stream",
     "text": [
      "Validation Accuracy: 0.6844\n",
      "Training model with numTrees=20, maxDepth=5, impurity=gini\n"
     ]
    },
    {
     "name": "stderr",
     "output_type": "stream",
     "text": [
      "                                                                                \r"
     ]
    },
    {
     "name": "stdout",
     "output_type": "stream",
     "text": [
      "Validation Accuracy: 0.6676\n",
      "Training model with numTrees=20, maxDepth=5, impurity=entropy\n"
     ]
    },
    {
     "name": "stderr",
     "output_type": "stream",
     "text": [
      "                                                                                \r"
     ]
    },
    {
     "name": "stdout",
     "output_type": "stream",
     "text": [
      "Validation Accuracy: 0.6663\n",
      "Training model with numTrees=20, maxDepth=7, impurity=gini\n"
     ]
    },
    {
     "name": "stderr",
     "output_type": "stream",
     "text": [
      "                                                                                \r"
     ]
    },
    {
     "name": "stdout",
     "output_type": "stream",
     "text": [
      "Validation Accuracy: 0.6771\n",
      "Training model with numTrees=20, maxDepth=7, impurity=entropy\n"
     ]
    },
    {
     "name": "stderr",
     "output_type": "stream",
     "text": [
      "                                                                                \r"
     ]
    },
    {
     "name": "stdout",
     "output_type": "stream",
     "text": [
      "Validation Accuracy: 0.6741\n",
      "Training model with numTrees=20, maxDepth=9, impurity=gini\n"
     ]
    },
    {
     "name": "stderr",
     "output_type": "stream",
     "text": [
      "24/12/05 17:53:50 WARN DAGScheduler: Broadcasting large task binary with size 1705.9 KiB\n",
      "24/12/05 17:53:55 WARN DAGScheduler: Broadcasting large task binary with size 1266.6 KiB\n",
      "                                                                                \r"
     ]
    },
    {
     "name": "stdout",
     "output_type": "stream",
     "text": [
      "Validation Accuracy: 0.6849\n",
      "Training model with numTrees=20, maxDepth=9, impurity=entropy\n"
     ]
    },
    {
     "name": "stderr",
     "output_type": "stream",
     "text": [
      "24/12/05 17:54:21 WARN DAGScheduler: Broadcasting large task binary with size 1717.1 KiB\n",
      "24/12/05 17:54:26 WARN DAGScheduler: Broadcasting large task binary with size 1221.9 KiB\n",
      "                                                                                \r"
     ]
    },
    {
     "name": "stdout",
     "output_type": "stream",
     "text": [
      "Validation Accuracy: 0.6839\n",
      "Training model with numTrees=30, maxDepth=5, impurity=gini\n"
     ]
    },
    {
     "name": "stderr",
     "output_type": "stream",
     "text": [
      "                                                                                \r"
     ]
    },
    {
     "name": "stdout",
     "output_type": "stream",
     "text": [
      "Validation Accuracy: 0.6673\n",
      "Training model with numTrees=30, maxDepth=5, impurity=entropy\n"
     ]
    },
    {
     "name": "stderr",
     "output_type": "stream",
     "text": [
      "                                                                                \r"
     ]
    },
    {
     "name": "stdout",
     "output_type": "stream",
     "text": [
      "Validation Accuracy: 0.6676\n",
      "Training model with numTrees=30, maxDepth=7, impurity=gini\n"
     ]
    },
    {
     "name": "stderr",
     "output_type": "stream",
     "text": [
      "                                                                                \r"
     ]
    },
    {
     "name": "stdout",
     "output_type": "stream",
     "text": [
      "Validation Accuracy: 0.6759\n",
      "Training model with numTrees=30, maxDepth=7, impurity=entropy\n"
     ]
    },
    {
     "name": "stderr",
     "output_type": "stream",
     "text": [
      "                                                                                \r"
     ]
    },
    {
     "name": "stdout",
     "output_type": "stream",
     "text": [
      "Validation Accuracy: 0.6783\n",
      "Training model with numTrees=30, maxDepth=9, impurity=gini\n"
     ]
    },
    {
     "name": "stderr",
     "output_type": "stream",
     "text": [
      "24/12/05 17:57:06 WARN DAGScheduler: Broadcasting large task binary with size 1414.0 KiB\n",
      "24/12/05 17:57:12 WARN DAGScheduler: Broadcasting large task binary with size 2.4 MiB\n",
      "24/12/05 17:57:20 WARN DAGScheduler: Broadcasting large task binary with size 1830.2 KiB\n",
      "                                                                                \r"
     ]
    },
    {
     "name": "stdout",
     "output_type": "stream",
     "text": [
      "Validation Accuracy: 0.6854\n",
      "Training model with numTrees=30, maxDepth=9, impurity=entropy\n"
     ]
    },
    {
     "name": "stderr",
     "output_type": "stream",
     "text": [
      "24/12/05 17:57:51 WARN DAGScheduler: Broadcasting large task binary with size 1420.8 KiB\n",
      "24/12/05 17:57:55 WARN DAGScheduler: Broadcasting large task binary with size 2.4 MiB\n",
      "24/12/05 17:58:01 WARN DAGScheduler: Broadcasting large task binary with size 1722.7 KiB\n",
      "                                                                                \r"
     ]
    },
    {
     "name": "stdout",
     "output_type": "stream",
     "text": [
      "Validation Accuracy: 0.6844\n",
      "\n",
      "Best Parameters:\n",
      "numTrees          30\n",
      "maxDepth           9\n",
      "impurity        gini\n",
      "accuracy    0.685414\n",
      "Name: 16, dtype: object\n"
     ]
    }
   ],
   "source": [
    "import itertools\n",
    "from pyspark.ml.classification import RandomForestClassifier\n",
    "from pyspark.ml.evaluation import MulticlassClassificationEvaluator\n",
    "\n",
    "# Define parameter grids\n",
    "numTrees_grid = [10, 20,30]\n",
    "maxDepth_grid = [5, 7, 9]\n",
    "impurity_grid = [\"gini\", \"entropy\"]\n",
    "\n",
    "# Generate all combinations of parameters\n",
    "param_combinations = list(itertools.product(numTrees_grid, maxDepth_grid, impurity_grid))\n",
    "\n",
    "# Initialize evaluator for accuracy\n",
    "evaluator = MulticlassClassificationEvaluator(labelCol=\"Severity\", predictionCol=\"prediction\", metricName=\"accuracy\")\n",
    "\n",
    "# Store results\n",
    "results = []\n",
    "\n",
    "for numTrees, maxDepth, impurity in param_combinations:\n",
    "    print(f\"Training model with numTrees={numTrees}, maxDepth={maxDepth}, impurity={impurity}\")\n",
    "    \n",
    "    # Initialize Random Forest with the current parameters\n",
    "    rf = RandomForestClassifier(featuresCol=\"features_scaled\", labelCol=\"Severity\", numTrees=numTrees, maxDepth=maxDepth, impurity=impurity)\n",
    "    \n",
    "    # Train the model\n",
    "    rf_model = rf.fit(trainingData)\n",
    "    \n",
    "    # Test the model\n",
    "    predictions = rf_model.transform(valData)\n",
    "    \n",
    "    # Evaluate the model\n",
    "    accuracy = evaluator.evaluate(predictions)\n",
    "    print(f\"Validation Accuracy: {accuracy:.4f}\")\n",
    "    \n",
    "    # Store the result\n",
    "    results.append({\"numTrees\": numTrees, \"maxDepth\": maxDepth, \"impurity\": impurity, \"accuracy\": accuracy})\n",
    "\n",
    "# Convert results to DataFrame\n",
    "import pandas as pd\n",
    "results_df = pd.DataFrame(results)\n",
    "\n",
    "# Sort by accuracy\n",
    "results_df = results_df.sort_values(by=\"accuracy\", ascending=False)\n",
    "\n",
    "# Display the best combination\n",
    "print(\"\\nBest Parameters:\")\n",
    "print(results_df.iloc[0])\n"
   ]
  },
  {
   "cell_type": "code",
   "execution_count": 144,
   "id": "f74bfb2f",
   "metadata": {},
   "outputs": [
    {
     "name": "stderr",
     "output_type": "stream",
     "text": [
      "                                                                                \r"
     ]
    }
   ],
   "source": [
    "dt = DecisionTreeClassifier(labelCol=\"Severity\", featuresCol=\"features_scaled\", impurity='gini', maxDepth=9, maxBins=20)\n",
    "\n",
    "dt = dt.fit(trainingData)"
   ]
  },
  {
   "cell_type": "code",
   "execution_count": 145,
   "id": "e0ca3221",
   "metadata": {},
   "outputs": [
    {
     "data": {
      "text/plain": [
       "SparseVector(22, {0: 0.1988, 1: 0.2205, 2: 0.0095, 3: 0.0106, 4: 0.0779, 5: 0.0033, 6: 0.0055, 7: 0.0017, 8: 0.3024, 11: 0.007, 13: 0.0053, 17: 0.0006, 18: 0.0005, 19: 0.0002, 20: 0.0208, 21: 0.1355})"
      ]
     },
     "execution_count": 145,
     "metadata": {},
     "output_type": "execute_result"
    }
   ],
   "source": [
    "dt.featureImportances"
   ]
  },
  {
   "cell_type": "code",
   "execution_count": 146,
   "id": "2754cce6",
   "metadata": {},
   "outputs": [
    {
     "data": {
      "text/plain": [
       "{'Start_Lat': 0.19882119053819342,\n",
       " 'Distance(mi)': 0.22045786547023877,\n",
       " 'Temperature(F)': 0.009513666071151214,\n",
       " 'Humidity(%)': 0.010569029728490331,\n",
       " 'Pressure(in)': 0.07791939517992405,\n",
       " 'Visibility(mi)': 0.003273642026493089,\n",
       " 'Wind_Speed(mph)': 0.005498142387527442,\n",
       " 'Precipitation(in)': 0.0016818288911629382,\n",
       " 'Traffic_Duration': 0.30237566833659607,\n",
       " 'Amenity': 0.0,\n",
       " 'Bump': 0.0,\n",
       " 'Crossing': 0.007000381660118042,\n",
       " 'Give_Way': 0.0,\n",
       " 'Junction': 0.005268252015584445,\n",
       " 'No_Exit': 0.0,\n",
       " 'Railway': 0.0,\n",
       " 'Roundabout': 0.0,\n",
       " 'Station': 0.0006383375601198923,\n",
       " 'Stop': 0.0005204839468398385,\n",
       " 'Traffic_Calming': 0.0001534958131860558,\n",
       " 'Traffic_Signal': 0.020762168746451936,\n",
       " 'Civil_Twilight': 0.13554645162792242}"
      ]
     },
     "execution_count": 146,
     "metadata": {},
     "output_type": "execute_result"
    }
   ],
   "source": [
    "importance = {}\n",
    "featureImportances = list(dt.featureImportances)\n",
    "\n",
    "for i,e in enumerate(featureImportances):\n",
    "    importance[num_col[i]] = e\n",
    "\n",
    "importance"
   ]
  },
  {
   "cell_type": "code",
   "execution_count": 149,
   "id": "fbe2f248",
   "metadata": {},
   "outputs": [
    {
     "name": "stdout",
     "output_type": "stream",
     "text": [
      "[Row(Severity=3, count=101296), Row(Severity=4, count=81382), Row(Severity=2, count=361104)]\n",
      "[Row(Severity=3, count=101296), Row(Severity=4, count=81382), Row(Severity=2, count=361104)]\n"
     ]
    }
   ],
   "source": [
    "print(distinct_classes)\n",
    "print(distinct_values)"
   ]
  },
  {
   "cell_type": "code",
   "execution_count": 150,
   "id": "21543f5c",
   "metadata": {},
   "outputs": [
    {
     "name": "stderr",
     "output_type": "stream",
     "text": [
      "\r",
      "[Stage 1130:>                                                       (0 + 1) / 1]\r"
     ]
    },
    {
     "name": "stdout",
     "output_type": "stream",
     "text": [
      "+--------------------+--------+--------------------+--------------------+----------+\n",
      "|     features_scaled|Severity|       rawPrediction|         probability|prediction|\n",
      "+--------------------+--------+--------------------+--------------------+----------+\n",
      "|(22,[0,1,2,3,4,5,...|       2|[0.0,0.0,16027.0,...|[0.0,0.0,0.690729...|       2.0|\n",
      "|(22,[0,1,2,3,4,5,...|       4|[0.0,0.0,112.0,52...|[0.0,0.0,0.347826...|       4.0|\n",
      "|(22,[0,1,2,3,4,5,...|       4|[0.0,0.0,16027.0,...|[0.0,0.0,0.690729...|       2.0|\n",
      "|(22,[0,1,2,3,4,5,...|       4|[0.0,0.0,7928.0,1...|[0.0,0.0,0.781160...|       2.0|\n",
      "|(22,[0,1,2,3,4,5,...|       4|[0.0,0.0,1068.0,3...|[0.0,0.0,0.372644...|       4.0|\n",
      "|(22,[0,1,2,3,4,5,...|       3|[0.0,0.0,1849.0,1...|[0.0,0.0,0.544464...|       2.0|\n",
      "|(22,[0,1,2,3,4,5,...|       2|[0.0,0.0,16027.0,...|[0.0,0.0,0.690729...|       2.0|\n",
      "|(22,[0,1,2,3,4,5,...|       2|[0.0,0.0,16027.0,...|[0.0,0.0,0.690729...|       2.0|\n",
      "|(22,[0,1,2,3,4,5,...|       2|[0.0,0.0,16027.0,...|[0.0,0.0,0.690729...|       2.0|\n",
      "|(22,[0,1,2,3,4,5,...|       2|[0.0,0.0,16027.0,...|[0.0,0.0,0.690729...|       2.0|\n",
      "+--------------------+--------+--------------------+--------------------+----------+\n",
      "only showing top 10 rows\n",
      "\n"
     ]
    },
    {
     "name": "stderr",
     "output_type": "stream",
     "text": [
      "\r",
      "                                                                                \r"
     ]
    }
   ],
   "source": [
    "# Make predictions\n",
    "predictions = dt.transform(testData)\n",
    "\n",
    "predictions.show(10)"
   ]
  },
  {
   "cell_type": "code",
   "execution_count": 151,
   "id": "3f4fa31f",
   "metadata": {},
   "outputs": [
    {
     "data": {
      "image/png": "[encoded data removed]",
      "text/plain": [
       "<Figure size 1000x600 with 1 Axes>"
      ]
     },
     "metadata": {},
     "output_type": "display_data"
    }
   ],
   "source": [
    "import seaborn as sns\n",
    "import matplotlib.pyplot as plt\n",
    "\n",
    "# Plot accuracy for different numTrees and maxDepth\n",
    "plt.figure(figsize=(10, 6))\n",
    "sns.lineplot(data=results_df, x=\"numTrees\", y=\"accuracy\", hue=\"maxDepth\", style=\"impurity\", markers=True)\n",
    "plt.title(\"Accuracy vs. numTrees and maxDepth\")\n",
    "plt.xlabel(\"numTrees\")\n",
    "plt.ylabel(\"Accuracy\")\n",
    "plt.legend(title=\"Max Depth / Impurity\")\n",
    "plt.show()"
   ]
  },
  {
   "cell_type": "code",
   "execution_count": 152,
   "id": "bc31f462",
   "metadata": {},
   "outputs": [],
   "source": [
    "predictionAndLabel = predictions.select(\"prediction\", \"Severity\").rdd"
   ]
  },
  {
   "cell_type": "code",
   "execution_count": 158,
   "id": "15560e48",
   "metadata": {},
   "outputs": [
    {
     "name": "stderr",
     "output_type": "stream",
     "text": [
      "                                                                                \r"
     ]
    }
   ],
   "source": [
    "from pyspark.mllib.evaluation import MulticlassMetrics\n",
    "metrics = MulticlassMetrics(predictionAndLabel)"
   ]
  },
  {
   "cell_type": "code",
   "execution_count": 162,
   "id": "377a5f44",
   "metadata": {},
   "outputs": [
    {
     "name": "stderr",
     "output_type": "stream",
     "text": [
      "                                                                                \r"
     ]
    }
   ],
   "source": [
    "from pyspark.mllib.evaluation import MulticlassMetrics\n",
    "\n",
    "# Krijo RDD nga predikimet dhe etiketat\n",
    "predictions_and_labels = predictions.select(\"prediction\", \"Severity\").rdd.map(lambda row: (row[0], row[1]))\n",
    "\n",
    "# Inicializo objektin MulticlassMetrics\n",
    "metrics = MulticlassMetrics(predictions_and_labels)\n"
   ]
  },
  {
   "cell_type": "code",
   "execution_count": 165,
   "id": "fcec26cf",
   "metadata": {},
   "outputs": [],
   "source": [
    "from pyspark.sql.functions import col\n",
    "\n",
    "predictions = predictions.withColumn(\"prediction\", col(\"prediction\").cast(\"float\"))\n",
    "predictions = predictions.withColumn(\"Severity\", col(\"Severity\").cast(\"float\"))\n"
   ]
  },
  {
   "cell_type": "code",
   "execution_count": 163,
   "id": "18363d8d",
   "metadata": {},
   "outputs": [
    {
     "name": "stderr",
     "output_type": "stream",
     "text": [
      "[Stage 1145:===============================================>      (14 + 2) / 16]\r"
     ]
    },
    {
     "name": "stdout",
     "output_type": "stream",
     "text": [
      "+--------+----------+-----+\n",
      "|Severity|prediction|count|\n",
      "+--------+----------+-----+\n",
      "|       4|       3.0|  520|\n",
      "|       2|       4.0| 1459|\n",
      "|       3|       4.0|  908|\n",
      "|       4|       4.0| 2878|\n",
      "|       2|       3.0|  910|\n",
      "|       3|       2.0|13259|\n",
      "|       3|       3.0| 1962|\n",
      "|       2|       2.0|55241|\n",
      "|       4|       2.0| 9704|\n",
      "+--------+----------+-----+\n",
      "\n"
     ]
    },
    {
     "name": "stderr",
     "output_type": "stream",
     "text": [
      "\r",
      "                                                                                \r"
     ]
    }
   ],
   "source": [
    "predictions.groupBy(\"Severity\", \"prediction\").count().show()\n"
   ]
  },
  {
   "cell_type": "code",
   "execution_count": 166,
   "id": "b1f7c9e3",
   "metadata": {},
   "outputs": [
    {
     "name": "stderr",
     "output_type": "stream",
     "text": [
      "24/12/05 18:02:26 ERROR Executor: Exception in task 7.0 in stage 1150.0 (TID 14414)\n",
      "org.apache.spark.api.python.PythonException: Traceback (most recent call last):\n",
      "  File \"/Users/elvislleshi/anaconda3/lib/python3.11/site-packages/pyspark/python/lib/pyspark.zip/pyspark/worker.py\", line 1247, in main\n",
      "    process()\n",
      "  File \"/Users/elvislleshi/anaconda3/lib/python3.11/site-packages/pyspark/python/lib/pyspark.zip/pyspark/worker.py\", line 1239, in process\n",
      "    serializer.dump_stream(out_iter, outfile)\n",
      "  File \"/Users/elvislleshi/anaconda3/lib/python3.11/site-packages/pyspark/python/lib/pyspark.zip/pyspark/serializers.py\", line 274, in dump_stream\n",
      "    vs = list(itertools.islice(iterator, batch))\n",
      "         ^^^^^^^^^^^^^^^^^^^^^^^^^^^^^^^^^^^^^^^\n",
      "  File \"/Users/elvislleshi/anaconda3/lib/python3.11/site-packages/pyspark/python/lib/pyspark.zip/pyspark/util.py\", line 83, in wrapper\n",
      "    return f(*args, **kwargs)\n",
      "           ^^^^^^^^^^^^^^^^^^\n",
      "  File \"/Users/elvislleshi/anaconda3/lib/python3.11/site-packages/pyspark/sql/session.py\", line 1459, in prepare\n",
      "    verify_func(obj)\n",
      "  File \"/Users/elvislleshi/anaconda3/lib/python3.11/site-packages/pyspark/sql/types.py\", line 2201, in verify\n",
      "    verify_value(obj)\n",
      "  File \"/Users/elvislleshi/anaconda3/lib/python3.11/site-packages/pyspark/sql/types.py\", line 2174, in verify_struct\n",
      "    verifier(v)\n",
      "  File \"/Users/elvislleshi/anaconda3/lib/python3.11/site-packages/pyspark/sql/types.py\", line 2201, in verify\n",
      "    verify_value(obj)\n",
      "  File \"/Users/elvislleshi/anaconda3/lib/python3.11/site-packages/pyspark/sql/types.py\", line 2195, in verify_default\n",
      "    verify_acceptable_types(obj)\n",
      "  File \"/Users/elvislleshi/anaconda3/lib/python3.11/site-packages/pyspark/sql/types.py\", line 2020, in verify_acceptable_types\n",
      "    raise PySparkTypeError(\n",
      "pyspark.errors.exceptions.base.PySparkTypeError: [CANNOT_ACCEPT_OBJECT_IN_TYPE] `DoubleType()` can not accept object `4` in type `int`.\n",
      "\n",
      "\tat org.apache.spark.api.python.BasePythonRunner$ReaderIterator.handlePythonException(PythonRunner.scala:572)\n",
      "\tat org.apache.spark.api.python.PythonRunner$$anon$3.read(PythonRunner.scala:784)\n",
      "\tat org.apache.spark.api.python.PythonRunner$$anon$3.read(PythonRunner.scala:766)\n",
      "\tat org.apache.spark.api.python.BasePythonRunner$ReaderIterator.hasNext(PythonRunner.scala:525)\n",
      "\tat org.apache.spark.InterruptibleIterator.hasNext(InterruptibleIterator.scala:37)\n",
      "\tat scala.collection.Iterator$$anon$11.hasNext(Iterator.scala:491)\n",
      "\tat scala.collection.Iterator$$anon$10.hasNext(Iterator.scala:460)\n",
      "\tat scala.collection.Iterator$$anon$10.hasNext(Iterator.scala:460)\n",
      "\tat org.apache.spark.sql.catalyst.expressions.GeneratedClass$GeneratedIteratorForCodegenStage1.processNext(Unknown Source)\n",
      "\tat org.apache.spark.sql.execution.BufferedRowIterator.hasNext(BufferedRowIterator.java:43)\n",
      "\tat org.apache.spark.sql.execution.WholeStageCodegenEvaluatorFactory$WholeStageCodegenPartitionEvaluator$$anon$1.hasNext(WholeStageCodegenEvaluatorFactory.scala:43)\n",
      "\tat scala.collection.Iterator$$anon$10.hasNext(Iterator.scala:460)\n",
      "\tat scala.collection.Iterator$$anon$10.hasNext(Iterator.scala:460)\n",
      "\tat scala.collection.Iterator$$anon$10.hasNext(Iterator.scala:460)\n",
      "\tat scala.collection.Iterator$$anon$10.hasNext(Iterator.scala:460)\n",
      "\tat org.apache.spark.util.collection.ExternalSorter.insertAll(ExternalSorter.scala:197)\n",
      "\tat org.apache.spark.shuffle.sort.SortShuffleWriter.write(SortShuffleWriter.scala:63)\n",
      "\tat org.apache.spark.shuffle.ShuffleWriteProcessor.write(ShuffleWriteProcessor.scala:59)\n",
      "\tat org.apache.spark.scheduler.ShuffleMapTask.runTask(ShuffleMapTask.scala:104)\n",
      "\tat org.apache.spark.scheduler.ShuffleMapTask.runTask(ShuffleMapTask.scala:54)\n",
      "\tat org.apache.spark.TaskContext.runTaskWithListeners(TaskContext.scala:166)\n",
      "\tat org.apache.spark.scheduler.Task.run(Task.scala:141)\n",
      "\tat org.apache.spark.executor.Executor$TaskRunner.$anonfun$run$4(Executor.scala:620)\n",
      "\tat org.apache.spark.util.SparkErrorUtils.tryWithSafeFinally(SparkErrorUtils.scala:64)\n",
      "\tat org.apache.spark.util.SparkErrorUtils.tryWithSafeFinally$(SparkErrorUtils.scala:61)\n",
      "\tat org.apache.spark.util.Utils$.tryWithSafeFinally(Utils.scala:94)\n",
      "\tat org.apache.spark.executor.Executor$TaskRunner.run(Executor.scala:623)\n",
      "\tat java.util.concurrent.ThreadPoolExecutor.runWorker(ThreadPoolExecutor.java:1149)\n",
      "\tat java.util.concurrent.ThreadPoolExecutor$Worker.run(ThreadPoolExecutor.java:624)\n",
      "\tat java.lang.Thread.run(Thread.java:750)\n",
      "24/12/05 18:02:26 WARN TaskSetManager: Lost task 7.0 in stage 1150.0 (TID 14414) (192.168.1.57 executor driver): org.apache.spark.api.python.PythonException: Traceback (most recent call last):\n",
      "  File \"/Users/elvislleshi/anaconda3/lib/python3.11/site-packages/pyspark/python/lib/pyspark.zip/pyspark/worker.py\", line 1247, in main\n",
      "    process()\n",
      "  File \"/Users/elvislleshi/anaconda3/lib/python3.11/site-packages/pyspark/python/lib/pyspark.zip/pyspark/worker.py\", line 1239, in process\n",
      "    serializer.dump_stream(out_iter, outfile)\n",
      "  File \"/Users/elvislleshi/anaconda3/lib/python3.11/site-packages/pyspark/python/lib/pyspark.zip/pyspark/serializers.py\", line 274, in dump_stream\n",
      "    vs = list(itertools.islice(iterator, batch))\n",
      "         ^^^^^^^^^^^^^^^^^^^^^^^^^^^^^^^^^^^^^^^\n",
      "  File \"/Users/elvislleshi/anaconda3/lib/python3.11/site-packages/pyspark/python/lib/pyspark.zip/pyspark/util.py\", line 83, in wrapper\n",
      "    return f(*args, **kwargs)\n",
      "           ^^^^^^^^^^^^^^^^^^\n",
      "  File \"/Users/elvislleshi/anaconda3/lib/python3.11/site-packages/pyspark/sql/session.py\", line 1459, in prepare\n",
      "    verify_func(obj)\n",
      "  File \"/Users/elvislleshi/anaconda3/lib/python3.11/site-packages/pyspark/sql/types.py\", line 2201, in verify\n",
      "    verify_value(obj)\n",
      "  File \"/Users/elvislleshi/anaconda3/lib/python3.11/site-packages/pyspark/sql/types.py\", line 2174, in verify_struct\n",
      "    verifier(v)\n",
      "  File \"/Users/elvislleshi/anaconda3/lib/python3.11/site-packages/pyspark/sql/types.py\", line 2201, in verify\n",
      "    verify_value(obj)\n",
      "  File \"/Users/elvislleshi/anaconda3/lib/python3.11/site-packages/pyspark/sql/types.py\", line 2195, in verify_default\n",
      "    verify_acceptable_types(obj)\n",
      "  File \"/Users/elvislleshi/anaconda3/lib/python3.11/site-packages/pyspark/sql/types.py\", line 2020, in verify_acceptable_types\n",
      "    raise PySparkTypeError(\n",
      "pyspark.errors.exceptions.base.PySparkTypeError: [CANNOT_ACCEPT_OBJECT_IN_TYPE] `DoubleType()` can not accept object `4` in type `int`.\n",
      "\n",
      "\tat org.apache.spark.api.python.BasePythonRunner$ReaderIterator.handlePythonException(PythonRunner.scala:572)\n",
      "\tat org.apache.spark.api.python.PythonRunner$$anon$3.read(PythonRunner.scala:784)\n",
      "\tat org.apache.spark.api.python.PythonRunner$$anon$3.read(PythonRunner.scala:766)\n",
      "\tat org.apache.spark.api.python.BasePythonRunner$ReaderIterator.hasNext(PythonRunner.scala:525)\n",
      "\tat org.apache.spark.InterruptibleIterator.hasNext(InterruptibleIterator.scala:37)\n",
      "\tat scala.collection.Iterator$$anon$11.hasNext(Iterator.scala:491)\n",
      "\tat scala.collection.Iterator$$anon$10.hasNext(Iterator.scala:460)\n",
      "\tat scala.collection.Iterator$$anon$10.hasNext(Iterator.scala:460)\n",
      "\tat org.apache.spark.sql.catalyst.expressions.GeneratedClass$GeneratedIteratorForCodegenStage1.processNext(Unknown Source)\n",
      "\tat org.apache.spark.sql.execution.BufferedRowIterator.hasNext(BufferedRowIterator.java:43)\n",
      "\tat org.apache.spark.sql.execution.WholeStageCodegenEvaluatorFactory$WholeStageCodegenPartitionEvaluator$$anon$1.hasNext(WholeStageCodegenEvaluatorFactory.scala:43)\n",
      "\tat scala.collection.Iterator$$anon$10.hasNext(Iterator.scala:460)\n",
      "\tat scala.collection.Iterator$$anon$10.hasNext(Iterator.scala:460)\n",
      "\tat scala.collection.Iterator$$anon$10.hasNext(Iterator.scala:460)\n",
      "\tat scala.collection.Iterator$$anon$10.hasNext(Iterator.scala:460)\n",
      "\tat org.apache.spark.util.collection.ExternalSorter.insertAll(ExternalSorter.scala:197)\n",
      "\tat org.apache.spark.shuffle.sort.SortShuffleWriter.write(SortShuffleWriter.scala:63)\n",
      "\tat org.apache.spark.shuffle.ShuffleWriteProcessor.write(ShuffleWriteProcessor.scala:59)\n",
      "\tat org.apache.spark.scheduler.ShuffleMapTask.runTask(ShuffleMapTask.scala:104)\n",
      "\tat org.apache.spark.scheduler.ShuffleMapTask.runTask(ShuffleMapTask.scala:54)\n",
      "\tat org.apache.spark.TaskContext.runTaskWithListeners(TaskContext.scala:166)\n",
      "\tat org.apache.spark.scheduler.Task.run(Task.scala:141)\n",
      "\tat org.apache.spark.executor.Executor$TaskRunner.$anonfun$run$4(Executor.scala:620)\n",
      "\tat org.apache.spark.util.SparkErrorUtils.tryWithSafeFinally(SparkErrorUtils.scala:64)\n",
      "\tat org.apache.spark.util.SparkErrorUtils.tryWithSafeFinally$(SparkErrorUtils.scala:61)\n",
      "\tat org.apache.spark.util.Utils$.tryWithSafeFinally(Utils.scala:94)\n",
      "\tat org.apache.spark.executor.Executor$TaskRunner.run(Executor.scala:623)\n",
      "\tat java.util.concurrent.ThreadPoolExecutor.runWorker(ThreadPoolExecutor.java:1149)\n",
      "\tat java.util.concurrent.ThreadPoolExecutor$Worker.run(ThreadPoolExecutor.java:624)\n",
      "\tat java.lang.Thread.run(Thread.java:750)\n",
      "\n",
      "24/12/05 18:02:26 ERROR TaskSetManager: Task 7 in stage 1150.0 failed 1 times; aborting job\n"
     ]
    },
    {
     "name": "stderr",
     "output_type": "stream",
     "text": [
      "24/12/05 18:02:26 WARN TaskSetManager: Lost task 4.0 in stage 1150.0 (TID 14411) (192.168.1.57 executor driver): TaskKilled (Stage cancelled: Job aborted due to stage failure: Task 7 in stage 1150.0 failed 1 times, most recent failure: Lost task 7.0 in stage 1150.0 (TID 14414) (192.168.1.57 executor driver): org.apache.spark.api.python.PythonException: Traceback (most recent call last):\n",
      "  File \"/Users/elvislleshi/anaconda3/lib/python3.11/site-packages/pyspark/python/lib/pyspark.zip/pyspark/worker.py\", line 1247, in main\n",
      "    process()\n",
      "  File \"/Users/elvislleshi/anaconda3/lib/python3.11/site-packages/pyspark/python/lib/pyspark.zip/pyspark/worker.py\", line 1239, in process\n",
      "    serializer.dump_stream(out_iter, outfile)\n",
      "  File \"/Users/elvislleshi/anaconda3/lib/python3.11/site-packages/pyspark/python/lib/pyspark.zip/pyspark/serializers.py\", line 274, in dump_stream\n",
      "    vs = list(itertools.islice(iterator, batch))\n",
      "         ^^^^^^^^^^^^^^^^^^^^^^^^^^^^^^^^^^^^^^^\n",
      "  File \"/Users/elvislleshi/anaconda3/lib/python3.11/site-packages/pyspark/python/lib/pyspark.zip/pyspark/util.py\", line 83, in wrapper\n",
      "    return f(*args, **kwargs)\n",
      "           ^^^^^^^^^^^^^^^^^^\n",
      "  File \"/Users/elvislleshi/anaconda3/lib/python3.11/site-packages/pyspark/sql/session.py\", line 1459, in prepare\n",
      "    verify_func(obj)\n",
      "  File \"/Users/elvislleshi/anaconda3/lib/python3.11/site-packages/pyspark/sql/types.py\", line 2201, in verify\n",
      "    verify_value(obj)\n",
      "  File \"/Users/elvislleshi/anaconda3/lib/python3.11/site-packages/pyspark/sql/types.py\", line 2174, in verify_struct\n",
      "    verifier(v)\n",
      "  File \"/Users/elvislleshi/anaconda3/lib/python3.11/site-packages/pyspark/sql/types.py\", line 2201, in verify\n",
      "    verify_value(obj)\n",
      "  File \"/Users/elvislleshi/anaconda3/lib/python3.11/site-packages/pyspark/sql/types.py\", line 2195, in verify_default\n",
      "    verify_acceptable_types(obj)\n",
      "  File \"/Users/elvislleshi/anaconda3/lib/python3.11/site-packages/pyspark/sql/types.py\", line 2020, in verify_acceptable_types\n",
      "    raise PySparkTypeError(\n",
      "pyspark.errors.exceptions.base.PySparkTypeError: [CANNOT_ACCEPT_OBJECT_IN_TYPE] `DoubleType()` can not accept object `4` in type `int`.\n",
      "\n",
      "\tat org.apache.spark.api.python.BasePythonRunner$ReaderIterator.handlePythonException(PythonRunner.scala:572)\n",
      "\tat org.apache.spark.api.python.PythonRunner$$anon$3.read(PythonRunner.scala:784)\n",
      "\tat org.apache.spark.api.python.PythonRunner$$anon$3.read(PythonRunner.scala:766)\n",
      "\tat org.apache.spark.api.python.BasePythonRunner$ReaderIterator.hasNext(PythonRunner.scala:525)\n",
      "\tat org.apache.spark.InterruptibleIterator.hasNext(InterruptibleIterator.scala:37)\n",
      "\tat scala.collection.Iterator$$anon$11.hasNext(Iterator.scala:491)\n",
      "\tat scala.collection.Iterator$$anon$10.hasNext(Iterator.scala:460)\n",
      "\tat scala.collection.Iterator$$anon$10.hasNext(Iterator.scala:460)\n",
      "\tat org.apache.spark.sql.catalyst.expressions.GeneratedClass$GeneratedIteratorForCodegenStage1.processNext(Unknown Source)\n",
      "\tat org.apache.spark.sql.execution.BufferedRowIterator.hasNext(BufferedRowIterator.java:43)\n",
      "\tat org.apache.spark.sql.execution.WholeStageCodegenEvaluatorFactory$WholeStageCodegenPartitionEvaluator$$anon$1.hasNext(WholeStageCodegenEvaluatorFactory.scala:43)\n",
      "\tat scala.collection.Iterator$$anon$10.hasNext(Iterator.scala:460)\n",
      "\tat scala.collection.Iterator$$anon$10.hasNext(Iterator.scala:460)\n",
      "\tat scala.collection.Iterator$$anon$10.hasNext(Iterator.scala:460)\n",
      "\tat scala.collection.Iterator$$anon$10.hasNext(Iterator.scala:460)\n",
      "\tat org.apache.spark.util.collection.ExternalSorter.insertAll(ExternalSorter.scala:197)\n",
      "\tat org.apache.spark.shuffle.sort.SortShuffleWriter.write(SortShuffleWriter.scala:63)\n",
      "\tat org.apache.spark.shuffle.ShuffleWriteProcessor.write(ShuffleWriteProcessor.scala:59)\n",
      "\tat org.apache.spark.scheduler.ShuffleMapTask.runTask(ShuffleMapTask.scala:104)\n",
      "\tat org.apache.spark.scheduler.ShuffleMapTask.runTask(ShuffleMapTask.scala:54)\n",
      "\tat org.apache.spark.TaskContext.runTaskWithListeners(TaskContext.scala:166)\n",
      "\tat org.apache.spark.scheduler.Task.run(Task.scala:141)\n",
      "\tat org.apache.spark.executor.Executor$TaskRunner.$anonfun$run$4(Executor.scala:620)\n",
      "\tat org.apache.spark.util.SparkErrorUtils.tryWithSafeFinally(SparkErrorUtils.scala:64)\n",
      "\tat org.apache.spark.util.SparkErrorUtils.tryWithSafeFinally$(SparkErrorUtils.scala:61)\n",
      "\tat org.apache.spark.util.Utils$.tryWithSafeFinally(Utils.scala:94)\n",
      "\tat org.apache.spark.executor.Executor$TaskRunner.run(Executor.scala:623)\n",
      "\tat java.util.concurrent.ThreadPoolExecutor.runWorker(ThreadPoolExecutor.java:1149)\n",
      "\tat java.util.concurrent.ThreadPoolExecutor$Worker.run(ThreadPoolExecutor.java:624)\n",
      "\tat java.lang.Thread.run(Thread.java:750)\n",
      "\n",
      "Driver stacktrace:)\n",
      "24/12/05 18:02:26 WARN TaskSetManager: Lost task 6.0 in stage 1150.0 (TID 14413) (192.168.1.57 executor driver): TaskKilled (Stage cancelled: Job aborted due to stage failure: Task 7 in stage 1150.0 failed 1 times, most recent failure: Lost task 7.0 in stage 1150.0 (TID 14414) (192.168.1.57 executor driver): org.apache.spark.api.python.PythonException: Traceback (most recent call last):\n",
      "  File \"/Users/elvislleshi/anaconda3/lib/python3.11/site-packages/pyspark/python/lib/pyspark.zip/pyspark/worker.py\", line 1247, in main\n",
      "    process()\n",
      "  File \"/Users/elvislleshi/anaconda3/lib/python3.11/site-packages/pyspark/python/lib/pyspark.zip/pyspark/worker.py\", line 1239, in process\n",
      "    serializer.dump_stream(out_iter, outfile)\n",
      "  File \"/Users/elvislleshi/anaconda3/lib/python3.11/site-packages/pyspark/python/lib/pyspark.zip/pyspark/serializers.py\", line 274, in dump_stream\n",
      "    vs = list(itertools.islice(iterator, batch))\n",
      "         ^^^^^^^^^^^^^^^^^^^^^^^^^^^^^^^^^^^^^^^\n",
      "  File \"/Users/elvislleshi/anaconda3/lib/python3.11/site-packages/pyspark/python/lib/pyspark.zip/pyspark/util.py\", line 83, in wrapper\n",
      "    return f(*args, **kwargs)\n",
      "           ^^^^^^^^^^^^^^^^^^\n",
      "  File \"/Users/elvislleshi/anaconda3/lib/python3.11/site-packages/pyspark/sql/session.py\", line 1459, in prepare\n",
      "    verify_func(obj)\n",
      "  File \"/Users/elvislleshi/anaconda3/lib/python3.11/site-packages/pyspark/sql/types.py\", line 2201, in verify\n",
      "    verify_value(obj)\n",
      "  File \"/Users/elvislleshi/anaconda3/lib/python3.11/site-packages/pyspark/sql/types.py\", line 2174, in verify_struct\n",
      "    verifier(v)\n",
      "  File \"/Users/elvislleshi/anaconda3/lib/python3.11/site-packages/pyspark/sql/types.py\", line 2201, in verify\n",
      "    verify_value(obj)\n",
      "  File \"/Users/elvislleshi/anaconda3/lib/python3.11/site-packages/pyspark/sql/types.py\", line 2195, in verify_default\n",
      "    verify_acceptable_types(obj)\n",
      "  File \"/Users/elvislleshi/anaconda3/lib/python3.11/site-packages/pyspark/sql/types.py\", line 2020, in verify_acceptable_types\n",
      "    raise PySparkTypeError(\n",
      "pyspark.errors.exceptions.base.PySparkTypeError: [CANNOT_ACCEPT_OBJECT_IN_TYPE] `DoubleType()` can not accept object `4` in type `int`.\n",
      "\n",
      "\tat org.apache.spark.api.python.BasePythonRunner$ReaderIterator.handlePythonException(PythonRunner.scala:572)\n",
      "\tat org.apache.spark.api.python.PythonRunner$$anon$3.read(PythonRunner.scala:784)\n",
      "\tat org.apache.spark.api.python.PythonRunner$$anon$3.read(PythonRunner.scala:766)\n",
      "\tat org.apache.spark.api.python.BasePythonRunner$ReaderIterator.hasNext(PythonRunner.scala:525)\n",
      "\tat org.apache.spark.InterruptibleIterator.hasNext(InterruptibleIterator.scala:37)\n",
      "\tat scala.collection.Iterator$$anon$11.hasNext(Iterator.scala:491)\n",
      "\tat scala.collection.Iterator$$anon$10.hasNext(Iterator.scala:460)\n",
      "\tat scala.collection.Iterator$$anon$10.hasNext(Iterator.scala:460)\n",
      "\tat org.apache.spark.sql.catalyst.expressions.GeneratedClass$GeneratedIteratorForCodegenStage1.processNext(Unknown Source)\n",
      "\tat org.apache.spark.sql.execution.BufferedRowIterator.hasNext(BufferedRowIterator.java:43)\n",
      "\tat org.apache.spark.sql.execution.WholeStageCodegenEvaluatorFactory$WholeStageCodegenPartitionEvaluator$$anon$1.hasNext(WholeStageCodegenEvaluatorFactory.scala:43)\n",
      "\tat scala.collection.Iterator$$anon$10.hasNext(Iterator.scala:460)\n",
      "\tat scala.collection.Iterator$$anon$10.hasNext(Iterator.scala:460)\n",
      "\tat scala.collection.Iterator$$anon$10.hasNext(Iterator.scala:460)\n",
      "\tat scala.collection.Iterator$$anon$10.hasNext(Iterator.scala:460)\n",
      "\tat org.apache.spark.util.collection.ExternalSorter.insertAll(ExternalSorter.scala:197)\n",
      "\tat org.apache.spark.shuffle.sort.SortShuffleWriter.write(SortShuffleWriter.scala:63)\n",
      "\tat org.apache.spark.shuffle.ShuffleWriteProcessor.write(ShuffleWriteProcessor.scala:59)\n",
      "\tat org.apache.spark.scheduler.ShuffleMapTask.runTask(ShuffleMapTask.scala:104)\n",
      "\tat org.apache.spark.scheduler.ShuffleMapTask.runTask(ShuffleMapTask.scala:54)\n",
      "\tat org.apache.spark.TaskContext.runTaskWithListeners(TaskContext.scala:166)\n",
      "\tat org.apache.spark.scheduler.Task.run(Task.scala:141)\n",
      "\tat org.apache.spark.executor.Executor$TaskRunner.$anonfun$run$4(Executor.scala:620)\n",
      "\tat org.apache.spark.util.SparkErrorUtils.tryWithSafeFinally(SparkErrorUtils.scala:64)\n",
      "\tat org.apache.spark.util.SparkErrorUtils.tryWithSafeFinally$(SparkErrorUtils.scala:61)\n",
      "\tat org.apache.spark.util.Utils$.tryWithSafeFinally(Utils.scala:94)\n",
      "\tat org.apache.spark.executor.Executor$TaskRunner.run(Executor.scala:623)\n",
      "\tat java.util.concurrent.ThreadPoolExecutor.runWorker(ThreadPoolExecutor.java:1149)\n",
      "\tat java.util.concurrent.ThreadPoolExecutor$Worker.run(ThreadPoolExecutor.java:624)\n",
      "\tat java.lang.Thread.run(Thread.java:750)\n",
      "\n",
      "Driver stacktrace:)\n",
      "24/12/05 18:02:26 WARN TaskSetManager: Lost task 1.0 in stage 1150.0 (TID 14408) (192.168.1.57 executor driver): TaskKilled (Stage cancelled: Job aborted due to stage failure: Task 7 in stage 1150.0 failed 1 times, most recent failure: Lost task 7.0 in stage 1150.0 (TID 14414) (192.168.1.57 executor driver): org.apache.spark.api.python.PythonException: Traceback (most recent call last):\n",
      "  File \"/Users/elvislleshi/anaconda3/lib/python3.11/site-packages/pyspark/python/lib/pyspark.zip/pyspark/worker.py\", line 1247, in main\n",
      "    process()\n",
      "  File \"/Users/elvislleshi/anaconda3/lib/python3.11/site-packages/pyspark/python/lib/pyspark.zip/pyspark/worker.py\", line 1239, in process\n",
      "    serializer.dump_stream(out_iter, outfile)\n",
      "  File \"/Users/elvislleshi/anaconda3/lib/python3.11/site-packages/pyspark/python/lib/pyspark.zip/pyspark/serializers.py\", line 274, in dump_stream\n",
      "    vs = list(itertools.islice(iterator, batch))\n",
      "         ^^^^^^^^^^^^^^^^^^^^^^^^^^^^^^^^^^^^^^^\n",
      "  File \"/Users/elvislleshi/anaconda3/lib/python3.11/site-packages/pyspark/python/lib/pyspark.zip/pyspark/util.py\", line 83, in wrapper\n",
      "    return f(*args, **kwargs)\n",
      "           ^^^^^^^^^^^^^^^^^^\n",
      "  File \"/Users/elvislleshi/anaconda3/lib/python3.11/site-packages/pyspark/sql/session.py\", line 1459, in prepare\n",
      "    verify_func(obj)\n",
      "  File \"/Users/elvislleshi/anaconda3/lib/python3.11/site-packages/pyspark/sql/types.py\", line 2201, in verify\n",
      "    verify_value(obj)\n",
      "  File \"/Users/elvislleshi/anaconda3/lib/python3.11/site-packages/pyspark/sql/types.py\", line 2174, in verify_struct\n",
      "    verifier(v)\n",
      "  File \"/Users/elvislleshi/anaconda3/lib/python3.11/site-packages/pyspark/sql/types.py\", line 2201, in verify\n",
      "    verify_value(obj)\n",
      "  File \"/Users/elvislleshi/anaconda3/lib/python3.11/site-packages/pyspark/sql/types.py\", line 2195, in verify_default\n",
      "    verify_acceptable_types(obj)\n",
      "  File \"/Users/elvislleshi/anaconda3/lib/python3.11/site-packages/pyspark/sql/types.py\", line 2020, in verify_acceptable_types\n",
      "    raise PySparkTypeError(\n",
      "pyspark.errors.exceptions.base.PySparkTypeError: [CANNOT_ACCEPT_OBJECT_IN_TYPE] `DoubleType()` can not accept object `4` in type `int`.\n",
      "\n",
      "\tat org.apache.spark.api.python.BasePythonRunner$ReaderIterator.handlePythonException(PythonRunner.scala:572)\n",
      "\tat org.apache.spark.api.python.PythonRunner$$anon$3.read(PythonRunner.scala:784)\n",
      "\tat org.apache.spark.api.python.PythonRunner$$anon$3.read(PythonRunner.scala:766)\n",
      "\tat org.apache.spark.api.python.BasePythonRunner$ReaderIterator.hasNext(PythonRunner.scala:525)\n",
      "\tat org.apache.spark.InterruptibleIterator.hasNext(InterruptibleIterator.scala:37)\n",
      "\tat scala.collection.Iterator$$anon$11.hasNext(Iterator.scala:491)\n",
      "\tat scala.collection.Iterator$$anon$10.hasNext(Iterator.scala:460)\n",
      "\tat scala.collection.Iterator$$anon$10.hasNext(Iterator.scala:460)\n",
      "\tat org.apache.spark.sql.catalyst.expressions.GeneratedClass$GeneratedIteratorForCodegenStage1.processNext(Unknown Source)\n",
      "\tat org.apache.spark.sql.execution.BufferedRowIterator.hasNext(BufferedRowIterator.java:43)\n",
      "\tat org.apache.spark.sql.execution.WholeStageCodegenEvaluatorFactory$WholeStageCodegenPartitionEvaluator$$anon$1.hasNext(WholeStageCodegenEvaluatorFactory.scala:43)\n",
      "\tat scala.collection.Iterator$$anon$10.hasNext(Iterator.scala:460)\n",
      "\tat scala.collection.Iterator$$anon$10.hasNext(Iterator.scala:460)\n",
      "\tat scala.collection.Iterator$$anon$10.hasNext(Iterator.scala:460)\n",
      "\tat scala.collection.Iterator$$anon$10.hasNext(Iterator.scala:460)\n",
      "\tat org.apache.spark.util.collection.ExternalSorter.insertAll(ExternalSorter.scala:197)\n",
      "\tat org.apache.spark.shuffle.sort.SortShuffleWriter.write(SortShuffleWriter.scala:63)\n",
      "\tat org.apache.spark.shuffle.ShuffleWriteProcessor.write(ShuffleWriteProcessor.scala:59)\n",
      "\tat org.apache.spark.scheduler.ShuffleMapTask.runTask(ShuffleMapTask.scala:104)\n",
      "\tat org.apache.spark.scheduler.ShuffleMapTask.runTask(ShuffleMapTask.scala:54)\n",
      "\tat org.apache.spark.TaskContext.runTaskWithListeners(TaskContext.scala:166)\n",
      "\tat org.apache.spark.scheduler.Task.run(Task.scala:141)\n",
      "\tat org.apache.spark.executor.Executor$TaskRunner.$anonfun$run$4(Executor.scala:620)\n",
      "\tat org.apache.spark.util.SparkErrorUtils.tryWithSafeFinally(SparkErrorUtils.scala:64)\n",
      "\tat org.apache.spark.util.SparkErrorUtils.tryWithSafeFinally$(SparkErrorUtils.scala:61)\n",
      "\tat org.apache.spark.util.Utils$.tryWithSafeFinally(Utils.scala:94)\n",
      "\tat org.apache.spark.executor.Executor$TaskRunner.run(Executor.scala:623)\n",
      "\tat java.util.concurrent.ThreadPoolExecutor.runWorker(ThreadPoolExecutor.java:1149)\n",
      "\tat java.util.concurrent.ThreadPoolExecutor$Worker.run(ThreadPoolExecutor.java:624)\n",
      "\tat java.lang.Thread.run(Thread.java:750)\n",
      "\n",
      "Driver stacktrace:)\n",
      "24/12/05 18:02:26 WARN TaskSetManager: Lost task 2.0 in stage 1150.0 (TID 14409) (192.168.1.57 executor driver): TaskKilled (Stage cancelled: Job aborted due to stage failure: Task 7 in stage 1150.0 failed 1 times, most recent failure: Lost task 7.0 in stage 1150.0 (TID 14414) (192.168.1.57 executor driver): org.apache.spark.api.python.PythonException: Traceback (most recent call last):\n",
      "  File \"/Users/elvislleshi/anaconda3/lib/python3.11/site-packages/pyspark/python/lib/pyspark.zip/pyspark/worker.py\", line 1247, in main\n",
      "    process()\n",
      "  File \"/Users/elvislleshi/anaconda3/lib/python3.11/site-packages/pyspark/python/lib/pyspark.zip/pyspark/worker.py\", line 1239, in process\n",
      "    serializer.dump_stream(out_iter, outfile)\n",
      "  File \"/Users/elvislleshi/anaconda3/lib/python3.11/site-packages/pyspark/python/lib/pyspark.zip/pyspark/serializers.py\", line 274, in dump_stream\n",
      "    vs = list(itertools.islice(iterator, batch))\n",
      "         ^^^^^^^^^^^^^^^^^^^^^^^^^^^^^^^^^^^^^^^\n",
      "  File \"/Users/elvislleshi/anaconda3/lib/python3.11/site-packages/pyspark/python/lib/pyspark.zip/pyspark/util.py\", line 83, in wrapper\n",
      "    return f(*args, **kwargs)\n",
      "           ^^^^^^^^^^^^^^^^^^\n",
      "  File \"/Users/elvislleshi/anaconda3/lib/python3.11/site-packages/pyspark/sql/session.py\", line 1459, in prepare\n",
      "    verify_func(obj)\n",
      "  File \"/Users/elvislleshi/anaconda3/lib/python3.11/site-packages/pyspark/sql/types.py\", line 2201, in verify\n",
      "    verify_value(obj)\n",
      "  File \"/Users/elvislleshi/anaconda3/lib/python3.11/site-packages/pyspark/sql/types.py\", line 2174, in verify_struct\n",
      "    verifier(v)\n",
      "  File \"/Users/elvislleshi/anaconda3/lib/python3.11/site-packages/pyspark/sql/types.py\", line 2201, in verify\n",
      "    verify_value(obj)\n",
      "  File \"/Users/elvislleshi/anaconda3/lib/python3.11/site-packages/pyspark/sql/types.py\", line 2195, in verify_default\n",
      "    verify_acceptable_types(obj)\n",
      "  File \"/Users/elvislleshi/anaconda3/lib/python3.11/site-packages/pyspark/sql/types.py\", line 2020, in verify_acceptable_types\n",
      "    raise PySparkTypeError(\n",
      "pyspark.errors.exceptions.base.PySparkTypeError: [CANNOT_ACCEPT_OBJECT_IN_TYPE] `DoubleType()` can not accept object `4` in type `int`.\n",
      "\n",
      "\tat org.apache.spark.api.python.BasePythonRunner$ReaderIterator.handlePythonException(PythonRunner.scala:572)\n",
      "\tat org.apache.spark.api.python.PythonRunner$$anon$3.read(PythonRunner.scala:784)\n",
      "\tat org.apache.spark.api.python.PythonRunner$$anon$3.read(PythonRunner.scala:766)\n",
      "\tat org.apache.spark.api.python.BasePythonRunner$ReaderIterator.hasNext(PythonRunner.scala:525)\n",
      "\tat org.apache.spark.InterruptibleIterator.hasNext(InterruptibleIterator.scala:37)\n",
      "\tat scala.collection.Iterator$$anon$11.hasNext(Iterator.scala:491)\n",
      "\tat scala.collection.Iterator$$anon$10.hasNext(Iterator.scala:460)\n",
      "\tat scala.collection.Iterator$$anon$10.hasNext(Iterator.scala:460)\n",
      "\tat org.apache.spark.sql.catalyst.expressions.GeneratedClass$GeneratedIteratorForCodegenStage1.processNext(Unknown Source)\n",
      "\tat org.apache.spark.sql.execution.BufferedRowIterator.hasNext(BufferedRowIterator.java:43)\n",
      "\tat org.apache.spark.sql.execution.WholeStageCodegenEvaluatorFactory$WholeStageCodegenPartitionEvaluator$$anon$1.hasNext(WholeStageCodegenEvaluatorFactory.scala:43)\n",
      "\tat scala.collection.Iterator$$anon$10.hasNext(Iterator.scala:460)\n",
      "\tat scala.collection.Iterator$$anon$10.hasNext(Iterator.scala:460)\n",
      "\tat scala.collection.Iterator$$anon$10.hasNext(Iterator.scala:460)\n",
      "\tat scala.collection.Iterator$$anon$10.hasNext(Iterator.scala:460)\n",
      "\tat org.apache.spark.util.collection.ExternalSorter.insertAll(ExternalSorter.scala:197)\n",
      "\tat org.apache.spark.shuffle.sort.SortShuffleWriter.write(SortShuffleWriter.scala:63)\n",
      "\tat org.apache.spark.shuffle.ShuffleWriteProcessor.write(ShuffleWriteProcessor.scala:59)\n",
      "\tat org.apache.spark.scheduler.ShuffleMapTask.runTask(ShuffleMapTask.scala:104)\n",
      "\tat org.apache.spark.scheduler.ShuffleMapTask.runTask(ShuffleMapTask.scala:54)\n",
      "\tat org.apache.spark.TaskContext.runTaskWithListeners(TaskContext.scala:166)\n",
      "\tat org.apache.spark.scheduler.Task.run(Task.scala:141)\n",
      "\tat org.apache.spark.executor.Executor$TaskRunner.$anonfun$run$4(Executor.scala:620)\n",
      "\tat org.apache.spark.util.SparkErrorUtils.tryWithSafeFinally(SparkErrorUtils.scala:64)\n",
      "\tat org.apache.spark.util.SparkErrorUtils.tryWithSafeFinally$(SparkErrorUtils.scala:61)\n",
      "\tat org.apache.spark.util.Utils$.tryWithSafeFinally(Utils.scala:94)\n",
      "\tat org.apache.spark.executor.Executor$TaskRunner.run(Executor.scala:623)\n",
      "\tat java.util.concurrent.ThreadPoolExecutor.runWorker(ThreadPoolExecutor.java:1149)\n",
      "\tat java.util.concurrent.ThreadPoolExecutor$Worker.run(ThreadPoolExecutor.java:624)\n",
      "\tat java.lang.Thread.run(Thread.java:750)\n",
      "\n",
      "Driver stacktrace:)\n",
      "24/12/05 18:02:26 WARN TaskSetManager: Lost task 3.0 in stage 1150.0 (TID 14410) (192.168.1.57 executor driver): TaskKilled (Stage cancelled: Job aborted due to stage failure: Task 7 in stage 1150.0 failed 1 times, most recent failure: Lost task 7.0 in stage 1150.0 (TID 14414) (192.168.1.57 executor driver): org.apache.spark.api.python.PythonException: Traceback (most recent call last):\n",
      "  File \"/Users/elvislleshi/anaconda3/lib/python3.11/site-packages/pyspark/python/lib/pyspark.zip/pyspark/worker.py\", line 1247, in main\n",
      "    process()\n",
      "  File \"/Users/elvislleshi/anaconda3/lib/python3.11/site-packages/pyspark/python/lib/pyspark.zip/pyspark/worker.py\", line 1239, in process\n",
      "    serializer.dump_stream(out_iter, outfile)\n",
      "  File \"/Users/elvislleshi/anaconda3/lib/python3.11/site-packages/pyspark/python/lib/pyspark.zip/pyspark/serializers.py\", line 274, in dump_stream\n",
      "    vs = list(itertools.islice(iterator, batch))\n",
      "         ^^^^^^^^^^^^^^^^^^^^^^^^^^^^^^^^^^^^^^^\n",
      "  File \"/Users/elvislleshi/anaconda3/lib/python3.11/site-packages/pyspark/python/lib/pyspark.zip/pyspark/util.py\", line 83, in wrapper\n",
      "    return f(*args, **kwargs)\n",
      "           ^^^^^^^^^^^^^^^^^^\n",
      "  File \"/Users/elvislleshi/anaconda3/lib/python3.11/site-packages/pyspark/sql/session.py\", line 1459, in prepare\n",
      "    verify_func(obj)\n",
      "  File \"/Users/elvislleshi/anaconda3/lib/python3.11/site-packages/pyspark/sql/types.py\", line 2201, in verify\n",
      "    verify_value(obj)\n",
      "  File \"/Users/elvislleshi/anaconda3/lib/python3.11/site-packages/pyspark/sql/types.py\", line 2174, in verify_struct\n",
      "    verifier(v)\n",
      "  File \"/Users/elvislleshi/anaconda3/lib/python3.11/site-packages/pyspark/sql/types.py\", line 2201, in verify\n",
      "    verify_value(obj)\n",
      "  File \"/Users/elvislleshi/anaconda3/lib/python3.11/site-packages/pyspark/sql/types.py\", line 2195, in verify_default\n",
      "    verify_acceptable_types(obj)\n",
      "  File \"/Users/elvislleshi/anaconda3/lib/python3.11/site-packages/pyspark/sql/types.py\", line 2020, in verify_acceptable_types\n",
      "    raise PySparkTypeError(\n",
      "pyspark.errors.exceptions.base.PySparkTypeError: [CANNOT_ACCEPT_OBJECT_IN_TYPE] `DoubleType()` can not accept object `4` in type `int`.\n",
      "\n",
      "\tat org.apache.spark.api.python.BasePythonRunner$ReaderIterator.handlePythonException(PythonRunner.scala:572)\n",
      "\tat org.apache.spark.api.python.PythonRunner$$anon$3.read(PythonRunner.scala:784)\n",
      "\tat org.apache.spark.api.python.PythonRunner$$anon$3.read(PythonRunner.scala:766)\n",
      "\tat org.apache.spark.api.python.BasePythonRunner$ReaderIterator.hasNext(PythonRunner.scala:525)\n",
      "\tat org.apache.spark.InterruptibleIterator.hasNext(InterruptibleIterator.scala:37)\n",
      "\tat scala.collection.Iterator$$anon$11.hasNext(Iterator.scala:491)\n",
      "\tat scala.collection.Iterator$$anon$10.hasNext(Iterator.scala:460)\n",
      "\tat scala.collection.Iterator$$anon$10.hasNext(Iterator.scala:460)\n",
      "\tat org.apache.spark.sql.catalyst.expressions.GeneratedClass$GeneratedIteratorForCodegenStage1.processNext(Unknown Source)\n",
      "\tat org.apache.spark.sql.execution.BufferedRowIterator.hasNext(BufferedRowIterator.java:43)\n",
      "\tat org.apache.spark.sql.execution.WholeStageCodegenEvaluatorFactory$WholeStageCodegenPartitionEvaluator$$anon$1.hasNext(WholeStageCodegenEvaluatorFactory.scala:43)\n",
      "\tat scala.collection.Iterator$$anon$10.hasNext(Iterator.scala:460)\n",
      "\tat scala.collection.Iterator$$anon$10.hasNext(Iterator.scala:460)\n",
      "\tat scala.collection.Iterator$$anon$10.hasNext(Iterator.scala:460)\n",
      "\tat scala.collection.Iterator$$anon$10.hasNext(Iterator.scala:460)\n",
      "\tat org.apache.spark.util.collection.ExternalSorter.insertAll(ExternalSorter.scala:197)\n",
      "\tat org.apache.spark.shuffle.sort.SortShuffleWriter.write(SortShuffleWriter.scala:63)\n",
      "\tat org.apache.spark.shuffle.ShuffleWriteProcessor.write(ShuffleWriteProcessor.scala:59)\n",
      "\tat org.apache.spark.scheduler.ShuffleMapTask.runTask(ShuffleMapTask.scala:104)\n",
      "\tat org.apache.spark.scheduler.ShuffleMapTask.runTask(ShuffleMapTask.scala:54)\n",
      "\tat org.apache.spark.TaskContext.runTaskWithListeners(TaskContext.scala:166)\n",
      "\tat org.apache.spark.scheduler.Task.run(Task.scala:141)\n",
      "\tat org.apache.spark.executor.Executor$TaskRunner.$anonfun$run$4(Executor.scala:620)\n",
      "\tat org.apache.spark.util.SparkErrorUtils.tryWithSafeFinally(SparkErrorUtils.scala:64)\n",
      "\tat org.apache.spark.util.SparkErrorUtils.tryWithSafeFinally$(SparkErrorUtils.scala:61)\n",
      "\tat org.apache.spark.util.Utils$.tryWithSafeFinally(Utils.scala:94)\n",
      "\tat org.apache.spark.executor.Executor$TaskRunner.run(Executor.scala:623)\n",
      "\tat java.util.concurrent.ThreadPoolExecutor.runWorker(ThreadPoolExecutor.java:1149)\n",
      "\tat java.util.concurrent.ThreadPoolExecutor$Worker.run(ThreadPoolExecutor.java:624)\n",
      "\tat java.lang.Thread.run(Thread.java:750)\n",
      "\n",
      "Driver stacktrace:)\n",
      "24/12/05 18:02:26 WARN TaskSetManager: Lost task 0.0 in stage 1150.0 (TID 14407) (192.168.1.57 executor driver): TaskKilled (Stage cancelled: Job aborted due to stage failure: Task 7 in stage 1150.0 failed 1 times, most recent failure: Lost task 7.0 in stage 1150.0 (TID 14414) (192.168.1.57 executor driver): org.apache.spark.api.python.PythonException: Traceback (most recent call last):\n",
      "  File \"/Users/elvislleshi/anaconda3/lib/python3.11/site-packages/pyspark/python/lib/pyspark.zip/pyspark/worker.py\", line 1247, in main\n",
      "    process()\n",
      "  File \"/Users/elvislleshi/anaconda3/lib/python3.11/site-packages/pyspark/python/lib/pyspark.zip/pyspark/worker.py\", line 1239, in process\n",
      "    serializer.dump_stream(out_iter, outfile)\n",
      "  File \"/Users/elvislleshi/anaconda3/lib/python3.11/site-packages/pyspark/python/lib/pyspark.zip/pyspark/serializers.py\", line 274, in dump_stream\n",
      "    vs = list(itertools.islice(iterator, batch))\n",
      "         ^^^^^^^^^^^^^^^^^^^^^^^^^^^^^^^^^^^^^^^\n",
      "  File \"/Users/elvislleshi/anaconda3/lib/python3.11/site-packages/pyspark/python/lib/pyspark.zip/pyspark/util.py\", line 83, in wrapper\n",
      "    return f(*args, **kwargs)\n",
      "           ^^^^^^^^^^^^^^^^^^\n",
      "  File \"/Users/elvislleshi/anaconda3/lib/python3.11/site-packages/pyspark/sql/session.py\", line 1459, in prepare\n",
      "    verify_func(obj)\n",
      "  File \"/Users/elvislleshi/anaconda3/lib/python3.11/site-packages/pyspark/sql/types.py\", line 2201, in verify\n",
      "    verify_value(obj)\n",
      "  File \"/Users/elvislleshi/anaconda3/lib/python3.11/site-packages/pyspark/sql/types.py\", line 2174, in verify_struct\n",
      "    verifier(v)\n",
      "  File \"/Users/elvislleshi/anaconda3/lib/python3.11/site-packages/pyspark/sql/types.py\", line 2201, in verify\n",
      "    verify_value(obj)\n",
      "  File \"/Users/elvislleshi/anaconda3/lib/python3.11/site-packages/pyspark/sql/types.py\", line 2195, in verify_default\n",
      "    verify_acceptable_types(obj)\n",
      "  File \"/Users/elvislleshi/anaconda3/lib/python3.11/site-packages/pyspark/sql/types.py\", line 2020, in verify_acceptable_types\n",
      "    raise PySparkTypeError(\n",
      "pyspark.errors.exceptions.base.PySparkTypeError: [CANNOT_ACCEPT_OBJECT_IN_TYPE] `DoubleType()` can not accept object `4` in type `int`.\n",
      "\n",
      "\tat org.apache.spark.api.python.BasePythonRunner$ReaderIterator.handlePythonException(PythonRunner.scala:572)\n",
      "\tat org.apache.spark.api.python.PythonRunner$$anon$3.read(PythonRunner.scala:784)\n",
      "\tat org.apache.spark.api.python.PythonRunner$$anon$3.read(PythonRunner.scala:766)\n",
      "\tat org.apache.spark.api.python.BasePythonRunner$ReaderIterator.hasNext(PythonRunner.scala:525)\n",
      "\tat org.apache.spark.InterruptibleIterator.hasNext(InterruptibleIterator.scala:37)\n",
      "\tat scala.collection.Iterator$$anon$11.hasNext(Iterator.scala:491)\n",
      "\tat scala.collection.Iterator$$anon$10.hasNext(Iterator.scala:460)\n",
      "\tat scala.collection.Iterator$$anon$10.hasNext(Iterator.scala:460)\n",
      "\tat org.apache.spark.sql.catalyst.expressions.GeneratedClass$GeneratedIteratorForCodegenStage1.processNext(Unknown Source)\n",
      "\tat org.apache.spark.sql.execution.BufferedRowIterator.hasNext(BufferedRowIterator.java:43)\n",
      "\tat org.apache.spark.sql.execution.WholeStageCodegenEvaluatorFactory$WholeStageCodegenPartitionEvaluator$$anon$1.hasNext(WholeStageCodegenEvaluatorFactory.scala:43)\n",
      "\tat scala.collection.Iterator$$anon$10.hasNext(Iterator.scala:460)\n",
      "\tat scala.collection.Iterator$$anon$10.hasNext(Iterator.scala:460)\n",
      "\tat scala.collection.Iterator$$anon$10.hasNext(Iterator.scala:460)\n",
      "\tat scala.collection.Iterator$$anon$10.hasNext(Iterator.scala:460)\n",
      "\tat org.apache.spark.util.collection.ExternalSorter.insertAll(ExternalSorter.scala:197)\n",
      "\tat org.apache.spark.shuffle.sort.SortShuffleWriter.write(SortShuffleWriter.scala:63)\n",
      "\tat org.apache.spark.shuffle.ShuffleWriteProcessor.write(ShuffleWriteProcessor.scala:59)\n",
      "\tat org.apache.spark.scheduler.ShuffleMapTask.runTask(ShuffleMapTask.scala:104)\n",
      "\tat org.apache.spark.scheduler.ShuffleMapTask.runTask(ShuffleMapTask.scala:54)\n",
      "\tat org.apache.spark.TaskContext.runTaskWithListeners(TaskContext.scala:166)\n",
      "\tat org.apache.spark.scheduler.Task.run(Task.scala:141)\n",
      "\tat org.apache.spark.executor.Executor$TaskRunner.$anonfun$run$4(Executor.scala:620)\n",
      "\tat org.apache.spark.util.SparkErrorUtils.tryWithSafeFinally(SparkErrorUtils.scala:64)\n",
      "\tat org.apache.spark.util.SparkErrorUtils.tryWithSafeFinally$(SparkErrorUtils.scala:61)\n",
      "\tat org.apache.spark.util.Utils$.tryWithSafeFinally(Utils.scala:94)\n",
      "\tat org.apache.spark.executor.Executor$TaskRunner.run(Executor.scala:623)\n",
      "\tat java.util.concurrent.ThreadPoolExecutor.runWorker(ThreadPoolExecutor.java:1149)\n",
      "\tat java.util.concurrent.ThreadPoolExecutor$Worker.run(ThreadPoolExecutor.java:624)\n",
      "\tat java.lang.Thread.run(Thread.java:750)\n",
      "\n",
      "Driver stacktrace:)\n",
      "24/12/05 18:02:26 WARN TaskSetManager: Lost task 5.0 in stage 1150.0 (TID 14412) (192.168.1.57 executor driver): TaskKilled (Stage cancelled: Job aborted due to stage failure: Task 7 in stage 1150.0 failed 1 times, most recent failure: Lost task 7.0 in stage 1150.0 (TID 14414) (192.168.1.57 executor driver): org.apache.spark.api.python.PythonException: Traceback (most recent call last):\n",
      "  File \"/Users/elvislleshi/anaconda3/lib/python3.11/site-packages/pyspark/python/lib/pyspark.zip/pyspark/worker.py\", line 1247, in main\n",
      "    process()\n",
      "  File \"/Users/elvislleshi/anaconda3/lib/python3.11/site-packages/pyspark/python/lib/pyspark.zip/pyspark/worker.py\", line 1239, in process\n",
      "    serializer.dump_stream(out_iter, outfile)\n",
      "  File \"/Users/elvislleshi/anaconda3/lib/python3.11/site-packages/pyspark/python/lib/pyspark.zip/pyspark/serializers.py\", line 274, in dump_stream\n",
      "    vs = list(itertools.islice(iterator, batch))\n",
      "         ^^^^^^^^^^^^^^^^^^^^^^^^^^^^^^^^^^^^^^^\n",
      "  File \"/Users/elvislleshi/anaconda3/lib/python3.11/site-packages/pyspark/python/lib/pyspark.zip/pyspark/util.py\", line 83, in wrapper\n",
      "    return f(*args, **kwargs)\n",
      "           ^^^^^^^^^^^^^^^^^^\n",
      "  File \"/Users/elvislleshi/anaconda3/lib/python3.11/site-packages/pyspark/sql/session.py\", line 1459, in prepare\n",
      "    verify_func(obj)\n",
      "  File \"/Users/elvislleshi/anaconda3/lib/python3.11/site-packages/pyspark/sql/types.py\", line 2201, in verify\n",
      "    verify_value(obj)\n",
      "  File \"/Users/elvislleshi/anaconda3/lib/python3.11/site-packages/pyspark/sql/types.py\", line 2174, in verify_struct\n",
      "    verifier(v)\n",
      "  File \"/Users/elvislleshi/anaconda3/lib/python3.11/site-packages/pyspark/sql/types.py\", line 2201, in verify\n",
      "    verify_value(obj)\n",
      "  File \"/Users/elvislleshi/anaconda3/lib/python3.11/site-packages/pyspark/sql/types.py\", line 2195, in verify_default\n",
      "    verify_acceptable_types(obj)\n",
      "  File \"/Users/elvislleshi/anaconda3/lib/python3.11/site-packages/pyspark/sql/types.py\", line 2020, in verify_acceptable_types\n",
      "    raise PySparkTypeError(\n",
      "pyspark.errors.exceptions.base.PySparkTypeError: [CANNOT_ACCEPT_OBJECT_IN_TYPE] `DoubleType()` can not accept object `4` in type `int`.\n",
      "\n",
      "\tat org.apache.spark.api.python.BasePythonRunner$ReaderIterator.handlePythonException(PythonRunner.scala:572)\n",
      "\tat org.apache.spark.api.python.PythonRunner$$anon$3.read(PythonRunner.scala:784)\n",
      "\tat org.apache.spark.api.python.PythonRunner$$anon$3.read(PythonRunner.scala:766)\n",
      "\tat org.apache.spark.api.python.BasePythonRunner$ReaderIterator.hasNext(PythonRunner.scala:525)\n",
      "\tat org.apache.spark.InterruptibleIterator.hasNext(InterruptibleIterator.scala:37)\n",
      "\tat scala.collection.Iterator$$anon$11.hasNext(Iterator.scala:491)\n",
      "\tat scala.collection.Iterator$$anon$10.hasNext(Iterator.scala:460)\n",
      "\tat scala.collection.Iterator$$anon$10.hasNext(Iterator.scala:460)\n",
      "\tat org.apache.spark.sql.catalyst.expressions.GeneratedClass$GeneratedIteratorForCodegenStage1.processNext(Unknown Source)\n",
      "\tat org.apache.spark.sql.execution.BufferedRowIterator.hasNext(BufferedRowIterator.java:43)\n",
      "\tat org.apache.spark.sql.execution.WholeStageCodegenEvaluatorFactory$WholeStageCodegenPartitionEvaluator$$anon$1.hasNext(WholeStageCodegenEvaluatorFactory.scala:43)\n",
      "\tat scala.collection.Iterator$$anon$10.hasNext(Iterator.scala:460)\n",
      "\tat scala.collection.Iterator$$anon$10.hasNext(Iterator.scala:460)\n",
      "\tat scala.collection.Iterator$$anon$10.hasNext(Iterator.scala:460)\n",
      "\tat scala.collection.Iterator$$anon$10.hasNext(Iterator.scala:460)\n",
      "\tat org.apache.spark.util.collection.ExternalSorter.insertAll(ExternalSorter.scala:197)\n",
      "\tat org.apache.spark.shuffle.sort.SortShuffleWriter.write(SortShuffleWriter.scala:63)\n",
      "\tat org.apache.spark.shuffle.ShuffleWriteProcessor.write(ShuffleWriteProcessor.scala:59)\n",
      "\tat org.apache.spark.scheduler.ShuffleMapTask.runTask(ShuffleMapTask.scala:104)\n",
      "\tat org.apache.spark.scheduler.ShuffleMapTask.runTask(ShuffleMapTask.scala:54)\n",
      "\tat org.apache.spark.TaskContext.runTaskWithListeners(TaskContext.scala:166)\n",
      "\tat org.apache.spark.scheduler.Task.run(Task.scala:141)\n",
      "\tat org.apache.spark.executor.Executor$TaskRunner.$anonfun$run$4(Executor.scala:620)\n",
      "\tat org.apache.spark.util.SparkErrorUtils.tryWithSafeFinally(SparkErrorUtils.scala:64)\n",
      "\tat org.apache.spark.util.SparkErrorUtils.tryWithSafeFinally$(SparkErrorUtils.scala:61)\n",
      "\tat org.apache.spark.util.Utils$.tryWithSafeFinally(Utils.scala:94)\n",
      "\tat org.apache.spark.executor.Executor$TaskRunner.run(Executor.scala:623)\n",
      "\tat java.util.concurrent.ThreadPoolExecutor.runWorker(ThreadPoolExecutor.java:1149)\n",
      "\tat java.util.concurrent.ThreadPoolExecutor$Worker.run(ThreadPoolExecutor.java:624)\n",
      "\tat java.lang.Thread.run(Thread.java:750)\n",
      "\n",
      "Driver stacktrace:)\n",
      "\r",
      "[Stage 1150:>                                                      (0 + 1) / 16]\r",
      "24/12/05 18:02:26 WARN TaskSetManager: Lost task 8.0 in stage 1150.0 (TID 14415) (192.168.1.57 executor driver): TaskKilled (Stage cancelled: Job aborted due to stage failure: Task 7 in stage 1150.0 failed 1 times, most recent failure: Lost task 7.0 in stage 1150.0 (TID 14414) (192.168.1.57 executor driver): org.apache.spark.api.python.PythonException: Traceback (most recent call last):\n",
      "  File \"/Users/elvislleshi/anaconda3/lib/python3.11/site-packages/pyspark/python/lib/pyspark.zip/pyspark/worker.py\", line 1247, in main\n",
      "    process()\n",
      "  File \"/Users/elvislleshi/anaconda3/lib/python3.11/site-packages/pyspark/python/lib/pyspark.zip/pyspark/worker.py\", line 1239, in process\n",
      "    serializer.dump_stream(out_iter, outfile)\n",
      "  File \"/Users/elvislleshi/anaconda3/lib/python3.11/site-packages/pyspark/python/lib/pyspark.zip/pyspark/serializers.py\", line 274, in dump_stream\n",
      "    vs = list(itertools.islice(iterator, batch))\n",
      "         ^^^^^^^^^^^^^^^^^^^^^^^^^^^^^^^^^^^^^^^\n",
      "  File \"/Users/elvislleshi/anaconda3/lib/python3.11/site-packages/pyspark/python/lib/pyspark.zip/pyspark/util.py\", line 83, in wrapper\n",
      "    return f(*args, **kwargs)\n",
      "           ^^^^^^^^^^^^^^^^^^\n",
      "  File \"/Users/elvislleshi/anaconda3/lib/python3.11/site-packages/pyspark/sql/session.py\", line 1459, in prepare\n",
      "    verify_func(obj)\n",
      "  File \"/Users/elvislleshi/anaconda3/lib/python3.11/site-packages/pyspark/sql/types.py\", line 2201, in verify\n",
      "    verify_value(obj)\n",
      "  File \"/Users/elvislleshi/anaconda3/lib/python3.11/site-packages/pyspark/sql/types.py\", line 2174, in verify_struct\n",
      "    verifier(v)\n",
      "  File \"/Users/elvislleshi/anaconda3/lib/python3.11/site-packages/pyspark/sql/types.py\", line 2201, in verify\n",
      "    verify_value(obj)\n",
      "  File \"/Users/elvislleshi/anaconda3/lib/python3.11/site-packages/pyspark/sql/types.py\", line 2195, in verify_default\n",
      "    verify_acceptable_types(obj)\n",
      "  File \"/Users/elvislleshi/anaconda3/lib/python3.11/site-packages/pyspark/sql/types.py\", line 2020, in verify_acceptable_types\n",
      "    raise PySparkTypeError(\n",
      "pyspark.errors.exceptions.base.PySparkTypeError: [CANNOT_ACCEPT_OBJECT_IN_TYPE] `DoubleType()` can not accept object `4` in type `int`.\n",
      "\n",
      "\tat org.apache.spark.api.python.BasePythonRunner$ReaderIterator.handlePythonException(PythonRunner.scala:572)\n",
      "\tat org.apache.spark.api.python.PythonRunner$$anon$3.read(PythonRunner.scala:784)\n",
      "\tat org.apache.spark.api.python.PythonRunner$$anon$3.read(PythonRunner.scala:766)\n",
      "\tat org.apache.spark.api.python.BasePythonRunner$ReaderIterator.hasNext(PythonRunner.scala:525)\n",
      "\tat org.apache.spark.InterruptibleIterator.hasNext(InterruptibleIterator.scala:37)\n",
      "\tat scala.collection.Iterator$$anon$11.hasNext(Iterator.scala:491)\n",
      "\tat scala.collection.Iterator$$anon$10.hasNext(Iterator.scala:460)\n",
      "\tat scala.collection.Iterator$$anon$10.hasNext(Iterator.scala:460)\n",
      "\tat org.apache.spark.sql.catalyst.expressions.GeneratedClass$GeneratedIteratorForCodegenStage1.processNext(Unknown Source)\n",
      "\tat org.apache.spark.sql.execution.BufferedRowIterator.hasNext(BufferedRowIterator.java:43)\n",
      "\tat org.apache.spark.sql.execution.WholeStageCodegenEvaluatorFactory$WholeStageCodegenPartitionEvaluator$$anon$1.hasNext(WholeStageCodegenEvaluatorFactory.scala:43)\n",
      "\tat scala.collection.Iterator$$anon$10.hasNext(Iterator.scala:460)\n",
      "\tat scala.collection.Iterator$$anon$10.hasNext(Iterator.scala:460)\n",
      "\tat scala.collection.Iterator$$anon$10.hasNext(Iterator.scala:460)\n",
      "\tat scala.collection.Iterator$$anon$10.hasNext(Iterator.scala:460)\n",
      "\tat org.apache.spark.util.collection.ExternalSorter.insertAll(ExternalSorter.scala:197)\n",
      "\tat org.apache.spark.shuffle.sort.SortShuffleWriter.write(SortShuffleWriter.scala:63)\n",
      "\tat org.apache.spark.shuffle.ShuffleWriteProcessor.write(ShuffleWriteProcessor.scala:59)\n",
      "\tat org.apache.spark.scheduler.ShuffleMapTask.runTask(ShuffleMapTask.scala:104)\n",
      "\tat org.apache.spark.scheduler.ShuffleMapTask.runTask(ShuffleMapTask.scala:54)\n",
      "\tat org.apache.spark.TaskContext.runTaskWithListeners(TaskContext.scala:166)\n",
      "\tat org.apache.spark.scheduler.Task.run(Task.scala:141)\n",
      "\tat org.apache.spark.executor.Executor$TaskRunner.$anonfun$run$4(Executor.scala:620)\n",
      "\tat org.apache.spark.util.SparkErrorUtils.tryWithSafeFinally(SparkErrorUtils.scala:64)\n",
      "\tat org.apache.spark.util.SparkErrorUtils.tryWithSafeFinally$(SparkErrorUtils.scala:61)\n",
      "\tat org.apache.spark.util.Utils$.tryWithSafeFinally(Utils.scala:94)\n",
      "\tat org.apache.spark.executor.Executor$TaskRunner.run(Executor.scala:623)\n",
      "\tat java.util.concurrent.ThreadPoolExecutor.runWorker(ThreadPoolExecutor.java:1149)\n",
      "\tat java.util.concurrent.ThreadPoolExecutor$Worker.run(ThreadPoolExecutor.java:624)\n",
      "\tat java.lang.Thread.run(Thread.java:750)\n",
      "\n",
      "Driver stacktrace:)\n"
     ]
    },
    {
     "ename": "Py4JJavaError",
     "evalue": "An error occurred while calling o9470.confusionMatrix.\n: org.apache.spark.SparkException: Job aborted due to stage failure: Task 7 in stage 1150.0 failed 1 times, most recent failure: Lost task 7.0 in stage 1150.0 (TID 14414) (192.168.1.57 executor driver): org.apache.spark.api.python.PythonException: Traceback (most recent call last):\n  File \"/Users/elvislleshi/anaconda3/lib/python3.11/site-packages/pyspark/python/lib/pyspark.zip/pyspark/worker.py\", line 1247, in main\n    process()\n  File \"/Users/elvislleshi/anaconda3/lib/python3.11/site-packages/pyspark/python/lib/pyspark.zip/pyspark/worker.py\", line 1239, in process\n    serializer.dump_stream(out_iter, outfile)\n  File \"/Users/elvislleshi/anaconda3/lib/python3.11/site-packages/pyspark/python/lib/pyspark.zip/pyspark/serializers.py\", line 274, in dump_stream\n    vs = list(itertools.islice(iterator, batch))\n         ^^^^^^^^^^^^^^^^^^^^^^^^^^^^^^^^^^^^^^^\n  File \"/Users/elvislleshi/anaconda3/lib/python3.11/site-packages/pyspark/python/lib/pyspark.zip/pyspark/util.py\", line 83, in wrapper\n    return f(*args, **kwargs)\n           ^^^^^^^^^^^^^^^^^^\n  File \"/Users/elvislleshi/anaconda3/lib/python3.11/site-packages/pyspark/sql/session.py\", line 1459, in prepare\n    verify_func(obj)\n  File \"/Users/elvislleshi/anaconda3/lib/python3.11/site-packages/pyspark/sql/types.py\", line 2201, in verify\n    verify_value(obj)\n  File \"/Users/elvislleshi/anaconda3/lib/python3.11/site-packages/pyspark/sql/types.py\", line 2174, in verify_struct\n    verifier(v)\n  File \"/Users/elvislleshi/anaconda3/lib/python3.11/site-packages/pyspark/sql/types.py\", line 2201, in verify\n    verify_value(obj)\n  File \"/Users/elvislleshi/anaconda3/lib/python3.11/site-packages/pyspark/sql/types.py\", line 2195, in verify_default\n    verify_acceptable_types(obj)\n  File \"/Users/elvislleshi/anaconda3/lib/python3.11/site-packages/pyspark/sql/types.py\", line 2020, in verify_acceptable_types\n    raise PySparkTypeError(\npyspark.errors.exceptions.base.PySparkTypeError: [CANNOT_ACCEPT_OBJECT_IN_TYPE] `DoubleType()` can not accept object `4` in type `int`.\n\n\tat org.apache.spark.api.python.BasePythonRunner$ReaderIterator.handlePythonException(PythonRunner.scala:572)\n\tat org.apache.spark.api.python.PythonRunner$$anon$3.read(PythonRunner.scala:784)\n\tat org.apache.spark.api.python.PythonRunner$$anon$3.read(PythonRunner.scala:766)\n\tat org.apache.spark.api.python.BasePythonRunner$ReaderIterator.hasNext(PythonRunner.scala:525)\n\tat org.apache.spark.InterruptibleIterator.hasNext(InterruptibleIterator.scala:37)\n\tat scala.collection.Iterator$$anon$11.hasNext(Iterator.scala:491)\n\tat scala.collection.Iterator$$anon$10.hasNext(Iterator.scala:460)\n\tat scala.collection.Iterator$$anon$10.hasNext(Iterator.scala:460)\n\tat org.apache.spark.sql.catalyst.expressions.GeneratedClass$GeneratedIteratorForCodegenStage1.processNext(Unknown Source)\n\tat org.apache.spark.sql.execution.BufferedRowIterator.hasNext(BufferedRowIterator.java:43)\n\tat org.apache.spark.sql.execution.WholeStageCodegenEvaluatorFactory$WholeStageCodegenPartitionEvaluator$$anon$1.hasNext(WholeStageCodegenEvaluatorFactory.scala:43)\n\tat scala.collection.Iterator$$anon$10.hasNext(Iterator.scala:460)\n\tat scala.collection.Iterator$$anon$10.hasNext(Iterator.scala:460)\n\tat scala.collection.Iterator$$anon$10.hasNext(Iterator.scala:460)\n\tat scala.collection.Iterator$$anon$10.hasNext(Iterator.scala:460)\n\tat org.apache.spark.util.collection.ExternalSorter.insertAll(ExternalSorter.scala:197)\n\tat org.apache.spark.shuffle.sort.SortShuffleWriter.write(SortShuffleWriter.scala:63)\n\tat org.apache.spark.shuffle.ShuffleWriteProcessor.write(ShuffleWriteProcessor.scala:59)\n\tat org.apache.spark.scheduler.ShuffleMapTask.runTask(ShuffleMapTask.scala:104)\n\tat org.apache.spark.scheduler.ShuffleMapTask.runTask(ShuffleMapTask.scala:54)\n\tat org.apache.spark.TaskContext.runTaskWithListeners(TaskContext.scala:166)\n\tat org.apache.spark.scheduler.Task.run(Task.scala:141)\n\tat org.apache.spark.executor.Executor$TaskRunner.$anonfun$run$4(Executor.scala:620)\n\tat org.apache.spark.util.SparkErrorUtils.tryWithSafeFinally(SparkErrorUtils.scala:64)\n\tat org.apache.spark.util.SparkErrorUtils.tryWithSafeFinally$(SparkErrorUtils.scala:61)\n\tat org.apache.spark.util.Utils$.tryWithSafeFinally(Utils.scala:94)\n\tat org.apache.spark.executor.Executor$TaskRunner.run(Executor.scala:623)\n\tat java.util.concurrent.ThreadPoolExecutor.runWorker(ThreadPoolExecutor.java:1149)\n\tat java.util.concurrent.ThreadPoolExecutor$Worker.run(ThreadPoolExecutor.java:624)\n\tat java.lang.Thread.run(Thread.java:750)\n\nDriver stacktrace:\n\tat org.apache.spark.scheduler.DAGScheduler.failJobAndIndependentStages(DAGScheduler.scala:2856)\n\tat org.apache.spark.scheduler.DAGScheduler.$anonfun$abortStage$2(DAGScheduler.scala:2792)\n\tat org.apache.spark.scheduler.DAGScheduler.$anonfun$abortStage$2$adapted(DAGScheduler.scala:2791)\n\tat scala.collection.mutable.ResizableArray.foreach(ResizableArray.scala:62)\n\tat scala.collection.mutable.ResizableArray.foreach$(ResizableArray.scala:55)\n\tat scala.collection.mutable.ArrayBuffer.foreach(ArrayBuffer.scala:49)\n\tat org.apache.spark.scheduler.DAGScheduler.abortStage(DAGScheduler.scala:2791)\n\tat org.apache.spark.scheduler.DAGScheduler.$anonfun$handleTaskSetFailed$1(DAGScheduler.scala:1247)\n\tat org.apache.spark.scheduler.DAGScheduler.$anonfun$handleTaskSetFailed$1$adapted(DAGScheduler.scala:1247)\n\tat scala.Option.foreach(Option.scala:407)\n\tat org.apache.spark.scheduler.DAGScheduler.handleTaskSetFailed(DAGScheduler.scala:1247)\n\tat org.apache.spark.scheduler.DAGSchedulerEventProcessLoop.doOnReceive(DAGScheduler.scala:3060)\n\tat org.apache.spark.scheduler.DAGSchedulerEventProcessLoop.onReceive(DAGScheduler.scala:2994)\n\tat org.apache.spark.scheduler.DAGSchedulerEventProcessLoop.onReceive(DAGScheduler.scala:2983)\n\tat org.apache.spark.util.EventLoop$$anon$1.run(EventLoop.scala:49)\n\tat org.apache.spark.scheduler.DAGScheduler.runJob(DAGScheduler.scala:989)\n\tat org.apache.spark.SparkContext.runJob(SparkContext.scala:2393)\n\tat org.apache.spark.SparkContext.runJob(SparkContext.scala:2414)\n\tat org.apache.spark.SparkContext.runJob(SparkContext.scala:2433)\n\tat org.apache.spark.SparkContext.runJob(SparkContext.scala:2458)\n\tat org.apache.spark.rdd.RDD.$anonfun$collect$1(RDD.scala:1049)\n\tat org.apache.spark.rdd.RDDOperationScope$.withScope(RDDOperationScope.scala:151)\n\tat org.apache.spark.rdd.RDDOperationScope$.withScope(RDDOperationScope.scala:112)\n\tat org.apache.spark.rdd.RDD.withScope(RDD.scala:410)\n\tat org.apache.spark.rdd.RDD.collect(RDD.scala:1048)\n\tat org.apache.spark.rdd.PairRDDFunctions.$anonfun$collectAsMap$1(PairRDDFunctions.scala:738)\n\tat org.apache.spark.rdd.RDDOperationScope$.withScope(RDDOperationScope.scala:151)\n\tat org.apache.spark.rdd.RDDOperationScope$.withScope(RDDOperationScope.scala:112)\n\tat org.apache.spark.rdd.RDD.withScope(RDD.scala:410)\n\tat org.apache.spark.rdd.PairRDDFunctions.collectAsMap(PairRDDFunctions.scala:737)\n\tat org.apache.spark.mllib.evaluation.MulticlassMetrics.confusions$lzycompute(MulticlassMetrics.scala:61)\n\tat org.apache.spark.mllib.evaluation.MulticlassMetrics.confusions(MulticlassMetrics.scala:52)\n\tat org.apache.spark.mllib.evaluation.MulticlassMetrics.tpByClass$lzycompute(MulticlassMetrics.scala:78)\n\tat org.apache.spark.mllib.evaluation.MulticlassMetrics.tpByClass(MulticlassMetrics.scala:76)\n\tat org.apache.spark.mllib.evaluation.MulticlassMetrics.labels$lzycompute(MulticlassMetrics.scala:241)\n\tat org.apache.spark.mllib.evaluation.MulticlassMetrics.labels(MulticlassMetrics.scala:241)\n\tat org.apache.spark.mllib.evaluation.MulticlassMetrics.confusionMatrix(MulticlassMetrics.scala:113)\n\tat sun.reflect.GeneratedMethodAccessor488.invoke(Unknown Source)\n\tat sun.reflect.DelegatingMethodAccessorImpl.invoke(DelegatingMethodAccessorImpl.java:43)\n\tat java.lang.reflect.Method.invoke(Method.java:498)\n\tat py4j.reflection.MethodInvoker.invoke(MethodInvoker.java:244)\n\tat py4j.reflection.ReflectionEngine.invoke(ReflectionEngine.java:374)\n\tat py4j.Gateway.invoke(Gateway.java:282)\n\tat py4j.commands.AbstractCommand.invokeMethod(AbstractCommand.java:132)\n\tat py4j.commands.CallCommand.execute(CallCommand.java:79)\n\tat py4j.ClientServerConnection.waitForCommands(ClientServerConnection.java:182)\n\tat py4j.ClientServerConnection.run(ClientServerConnection.java:106)\n\tat java.lang.Thread.run(Thread.java:750)\nCaused by: org.apache.spark.api.python.PythonException: Traceback (most recent call last):\n  File \"/Users/elvislleshi/anaconda3/lib/python3.11/site-packages/pyspark/python/lib/pyspark.zip/pyspark/worker.py\", line 1247, in main\n    process()\n  File \"/Users/elvislleshi/anaconda3/lib/python3.11/site-packages/pyspark/python/lib/pyspark.zip/pyspark/worker.py\", line 1239, in process\n    serializer.dump_stream(out_iter, outfile)\n  File \"/Users/elvislleshi/anaconda3/lib/python3.11/site-packages/pyspark/python/lib/pyspark.zip/pyspark/serializers.py\", line 274, in dump_stream\n    vs = list(itertools.islice(iterator, batch))\n         ^^^^^^^^^^^^^^^^^^^^^^^^^^^^^^^^^^^^^^^\n  File \"/Users/elvislleshi/anaconda3/lib/python3.11/site-packages/pyspark/python/lib/pyspark.zip/pyspark/util.py\", line 83, in wrapper\n    return f(*args, **kwargs)\n           ^^^^^^^^^^^^^^^^^^\n  File \"/Users/elvislleshi/anaconda3/lib/python3.11/site-packages/pyspark/sql/session.py\", line 1459, in prepare\n    verify_func(obj)\n  File \"/Users/elvislleshi/anaconda3/lib/python3.11/site-packages/pyspark/sql/types.py\", line 2201, in verify\n    verify_value(obj)\n  File \"/Users/elvislleshi/anaconda3/lib/python3.11/site-packages/pyspark/sql/types.py\", line 2174, in verify_struct\n    verifier(v)\n  File \"/Users/elvislleshi/anaconda3/lib/python3.11/site-packages/pyspark/sql/types.py\", line 2201, in verify\n    verify_value(obj)\n  File \"/Users/elvislleshi/anaconda3/lib/python3.11/site-packages/pyspark/sql/types.py\", line 2195, in verify_default\n    verify_acceptable_types(obj)\n  File \"/Users/elvislleshi/anaconda3/lib/python3.11/site-packages/pyspark/sql/types.py\", line 2020, in verify_acceptable_types\n    raise PySparkTypeError(\npyspark.errors.exceptions.base.PySparkTypeError: [CANNOT_ACCEPT_OBJECT_IN_TYPE] `DoubleType()` can not accept object `4` in type `int`.\n\n\tat org.apache.spark.api.python.BasePythonRunner$ReaderIterator.handlePythonException(PythonRunner.scala:572)\n\tat org.apache.spark.api.python.PythonRunner$$anon$3.read(PythonRunner.scala:784)\n\tat org.apache.spark.api.python.PythonRunner$$anon$3.read(PythonRunner.scala:766)\n\tat org.apache.spark.api.python.BasePythonRunner$ReaderIterator.hasNext(PythonRunner.scala:525)\n\tat org.apache.spark.InterruptibleIterator.hasNext(InterruptibleIterator.scala:37)\n\tat scala.collection.Iterator$$anon$11.hasNext(Iterator.scala:491)\n\tat scala.collection.Iterator$$anon$10.hasNext(Iterator.scala:460)\n\tat scala.collection.Iterator$$anon$10.hasNext(Iterator.scala:460)\n\tat org.apache.spark.sql.catalyst.expressions.GeneratedClass$GeneratedIteratorForCodegenStage1.processNext(Unknown Source)\n\tat org.apache.spark.sql.execution.BufferedRowIterator.hasNext(BufferedRowIterator.java:43)\n\tat org.apache.spark.sql.execution.WholeStageCodegenEvaluatorFactory$WholeStageCodegenPartitionEvaluator$$anon$1.hasNext(WholeStageCodegenEvaluatorFactory.scala:43)\n\tat scala.collection.Iterator$$anon$10.hasNext(Iterator.scala:460)\n\tat scala.collection.Iterator$$anon$10.hasNext(Iterator.scala:460)\n\tat scala.collection.Iterator$$anon$10.hasNext(Iterator.scala:460)\n\tat scala.collection.Iterator$$anon$10.hasNext(Iterator.scala:460)\n\tat org.apache.spark.util.collection.ExternalSorter.insertAll(ExternalSorter.scala:197)\n\tat org.apache.spark.shuffle.sort.SortShuffleWriter.write(SortShuffleWriter.scala:63)\n\tat org.apache.spark.shuffle.ShuffleWriteProcessor.write(ShuffleWriteProcessor.scala:59)\n\tat org.apache.spark.scheduler.ShuffleMapTask.runTask(ShuffleMapTask.scala:104)\n\tat org.apache.spark.scheduler.ShuffleMapTask.runTask(ShuffleMapTask.scala:54)\n\tat org.apache.spark.TaskContext.runTaskWithListeners(TaskContext.scala:166)\n\tat org.apache.spark.scheduler.Task.run(Task.scala:141)\n\tat org.apache.spark.executor.Executor$TaskRunner.$anonfun$run$4(Executor.scala:620)\n\tat org.apache.spark.util.SparkErrorUtils.tryWithSafeFinally(SparkErrorUtils.scala:64)\n\tat org.apache.spark.util.SparkErrorUtils.tryWithSafeFinally$(SparkErrorUtils.scala:61)\n\tat org.apache.spark.util.Utils$.tryWithSafeFinally(Utils.scala:94)\n\tat org.apache.spark.executor.Executor$TaskRunner.run(Executor.scala:623)\n\tat java.util.concurrent.ThreadPoolExecutor.runWorker(ThreadPoolExecutor.java:1149)\n\tat java.util.concurrent.ThreadPoolExecutor$Worker.run(ThreadPoolExecutor.java:624)\n\t... 1 more\n",
     "output_type": "error",
     "traceback": [
      "\u001b[0;31m---------------------------------------------------------------------------\u001b[0m",
      "\u001b[0;31mPy4JJavaError\u001b[0m                             Traceback (most recent call last)",
      "Cell \u001b[0;32mIn[166], line 5\u001b[0m\n\u001b[1;32m      2\u001b[0m \u001b[38;5;28;01mimport\u001b[39;00m \u001b[38;5;21;01mmatplotlib\u001b[39;00m\u001b[38;5;21;01m.\u001b[39;00m\u001b[38;5;21;01mpyplot\u001b[39;00m \u001b[38;5;28;01mas\u001b[39;00m \u001b[38;5;21;01mplt\u001b[39;00m\n\u001b[1;32m      4\u001b[0m \u001b[38;5;66;03m# Matrica e konfuzionit\u001b[39;00m\n\u001b[0;32m----> 5\u001b[0m confusion_matrix \u001b[38;5;241m=\u001b[39m metrics\u001b[38;5;241m.\u001b[39mconfusionMatrix()\u001b[38;5;241m.\u001b[39mtoArray()\n\u001b[1;32m      7\u001b[0m \u001b[38;5;66;03m# Vizualizo matricën\u001b[39;00m\n\u001b[1;32m      8\u001b[0m plt\u001b[38;5;241m.\u001b[39mfigure(figsize\u001b[38;5;241m=\u001b[39m(\u001b[38;5;241m8\u001b[39m, \u001b[38;5;241m6\u001b[39m))\n",
      "File \u001b[0;32m~/anaconda3/lib/python3.11/site-packages/pyspark/mllib/evaluation.py:311\u001b[0m, in \u001b[0;36mMulticlassMetrics.confusionMatrix\u001b[0;34m(self)\u001b[0m\n\u001b[1;32m    305\u001b[0m \u001b[38;5;129m@since\u001b[39m(\u001b[38;5;124m\"\u001b[39m\u001b[38;5;124m1.4.0\u001b[39m\u001b[38;5;124m\"\u001b[39m)\n\u001b[1;32m    306\u001b[0m \u001b[38;5;28;01mdef\u001b[39;00m \u001b[38;5;21mconfusionMatrix\u001b[39m(\u001b[38;5;28mself\u001b[39m) \u001b[38;5;241m-\u001b[39m\u001b[38;5;241m>\u001b[39m Matrix:\n\u001b[1;32m    307\u001b[0m \u001b[38;5;250m    \u001b[39m\u001b[38;5;124;03m\"\"\"\u001b[39;00m\n\u001b[1;32m    308\u001b[0m \u001b[38;5;124;03m    Returns confusion matrix: predicted classes are in columns,\u001b[39;00m\n\u001b[1;32m    309\u001b[0m \u001b[38;5;124;03m    they are ordered by class label ascending, as in \"labels\".\u001b[39;00m\n\u001b[1;32m    310\u001b[0m \u001b[38;5;124;03m    \"\"\"\u001b[39;00m\n\u001b[0;32m--> 311\u001b[0m     \u001b[38;5;28;01mreturn\u001b[39;00m \u001b[38;5;28mself\u001b[39m\u001b[38;5;241m.\u001b[39mcall(\u001b[38;5;124m\"\u001b[39m\u001b[38;5;124mconfusionMatrix\u001b[39m\u001b[38;5;124m\"\u001b[39m)\n",
      "File \u001b[0;32m~/anaconda3/lib/python3.11/site-packages/pyspark/mllib/common.py:157\u001b[0m, in \u001b[0;36mJavaModelWrapper.call\u001b[0;34m(self, name, *a)\u001b[0m\n\u001b[1;32m    155\u001b[0m \u001b[38;5;28;01mdef\u001b[39;00m \u001b[38;5;21mcall\u001b[39m(\u001b[38;5;28mself\u001b[39m, name: \u001b[38;5;28mstr\u001b[39m, \u001b[38;5;241m*\u001b[39ma: Any) \u001b[38;5;241m-\u001b[39m\u001b[38;5;241m>\u001b[39m Any:\n\u001b[1;32m    156\u001b[0m \u001b[38;5;250m    \u001b[39m\u001b[38;5;124;03m\"\"\"Call method of java_model\"\"\"\u001b[39;00m\n\u001b[0;32m--> 157\u001b[0m     \u001b[38;5;28;01mreturn\u001b[39;00m callJavaFunc(\u001b[38;5;28mself\u001b[39m\u001b[38;5;241m.\u001b[39m_sc, \u001b[38;5;28mgetattr\u001b[39m(\u001b[38;5;28mself\u001b[39m\u001b[38;5;241m.\u001b[39m_java_model, name), \u001b[38;5;241m*\u001b[39ma)\n",
      "File \u001b[0;32m~/anaconda3/lib/python3.11/site-packages/pyspark/mllib/common.py:131\u001b[0m, in \u001b[0;36mcallJavaFunc\u001b[0;34m(sc, func, *args)\u001b[0m\n\u001b[1;32m    129\u001b[0m \u001b[38;5;250m\u001b[39m\u001b[38;5;124;03m\"\"\"Call Java Function\"\"\"\u001b[39;00m\n\u001b[1;32m    130\u001b[0m java_args \u001b[38;5;241m=\u001b[39m [_py2java(sc, a) \u001b[38;5;28;01mfor\u001b[39;00m a \u001b[38;5;129;01min\u001b[39;00m args]\n\u001b[0;32m--> 131\u001b[0m \u001b[38;5;28;01mreturn\u001b[39;00m _java2py(sc, func(\u001b[38;5;241m*\u001b[39mjava_args))\n",
      "File \u001b[0;32m~/anaconda3/lib/python3.11/site-packages/py4j/java_gateway.py:1322\u001b[0m, in \u001b[0;36mJavaMember.__call__\u001b[0;34m(self, *args)\u001b[0m\n\u001b[1;32m   1316\u001b[0m command \u001b[38;5;241m=\u001b[39m proto\u001b[38;5;241m.\u001b[39mCALL_COMMAND_NAME \u001b[38;5;241m+\u001b[39m\\\n\u001b[1;32m   1317\u001b[0m     \u001b[38;5;28mself\u001b[39m\u001b[38;5;241m.\u001b[39mcommand_header \u001b[38;5;241m+\u001b[39m\\\n\u001b[1;32m   1318\u001b[0m     args_command \u001b[38;5;241m+\u001b[39m\\\n\u001b[1;32m   1319\u001b[0m     proto\u001b[38;5;241m.\u001b[39mEND_COMMAND_PART\n\u001b[1;32m   1321\u001b[0m answer \u001b[38;5;241m=\u001b[39m \u001b[38;5;28mself\u001b[39m\u001b[38;5;241m.\u001b[39mgateway_client\u001b[38;5;241m.\u001b[39msend_command(command)\n\u001b[0;32m-> 1322\u001b[0m return_value \u001b[38;5;241m=\u001b[39m get_return_value(\n\u001b[1;32m   1323\u001b[0m     answer, \u001b[38;5;28mself\u001b[39m\u001b[38;5;241m.\u001b[39mgateway_client, \u001b[38;5;28mself\u001b[39m\u001b[38;5;241m.\u001b[39mtarget_id, \u001b[38;5;28mself\u001b[39m\u001b[38;5;241m.\u001b[39mname)\n\u001b[1;32m   1325\u001b[0m \u001b[38;5;28;01mfor\u001b[39;00m temp_arg \u001b[38;5;129;01min\u001b[39;00m temp_args:\n\u001b[1;32m   1326\u001b[0m     \u001b[38;5;28;01mif\u001b[39;00m \u001b[38;5;28mhasattr\u001b[39m(temp_arg, \u001b[38;5;124m\"\u001b[39m\u001b[38;5;124m_detach\u001b[39m\u001b[38;5;124m\"\u001b[39m):\n",
      "File \u001b[0;32m~/anaconda3/lib/python3.11/site-packages/pyspark/errors/exceptions/captured.py:179\u001b[0m, in \u001b[0;36mcapture_sql_exception.<locals>.deco\u001b[0;34m(*a, **kw)\u001b[0m\n\u001b[1;32m    177\u001b[0m \u001b[38;5;28;01mdef\u001b[39;00m \u001b[38;5;21mdeco\u001b[39m(\u001b[38;5;241m*\u001b[39ma: Any, \u001b[38;5;241m*\u001b[39m\u001b[38;5;241m*\u001b[39mkw: Any) \u001b[38;5;241m-\u001b[39m\u001b[38;5;241m>\u001b[39m Any:\n\u001b[1;32m    178\u001b[0m     \u001b[38;5;28;01mtry\u001b[39;00m:\n\u001b[0;32m--> 179\u001b[0m         \u001b[38;5;28;01mreturn\u001b[39;00m f(\u001b[38;5;241m*\u001b[39ma, \u001b[38;5;241m*\u001b[39m\u001b[38;5;241m*\u001b[39mkw)\n\u001b[1;32m    180\u001b[0m     \u001b[38;5;28;01mexcept\u001b[39;00m Py4JJavaError \u001b[38;5;28;01mas\u001b[39;00m e:\n\u001b[1;32m    181\u001b[0m         converted \u001b[38;5;241m=\u001b[39m convert_exception(e\u001b[38;5;241m.\u001b[39mjava_exception)\n",
      "File \u001b[0;32m~/anaconda3/lib/python3.11/site-packages/py4j/protocol.py:326\u001b[0m, in \u001b[0;36mget_return_value\u001b[0;34m(answer, gateway_client, target_id, name)\u001b[0m\n\u001b[1;32m    324\u001b[0m value \u001b[38;5;241m=\u001b[39m OUTPUT_CONVERTER[\u001b[38;5;28mtype\u001b[39m](answer[\u001b[38;5;241m2\u001b[39m:], gateway_client)\n\u001b[1;32m    325\u001b[0m \u001b[38;5;28;01mif\u001b[39;00m answer[\u001b[38;5;241m1\u001b[39m] \u001b[38;5;241m==\u001b[39m REFERENCE_TYPE:\n\u001b[0;32m--> 326\u001b[0m     \u001b[38;5;28;01mraise\u001b[39;00m Py4JJavaError(\n\u001b[1;32m    327\u001b[0m         \u001b[38;5;124m\"\u001b[39m\u001b[38;5;124mAn error occurred while calling \u001b[39m\u001b[38;5;132;01m{0}\u001b[39;00m\u001b[38;5;132;01m{1}\u001b[39;00m\u001b[38;5;132;01m{2}\u001b[39;00m\u001b[38;5;124m.\u001b[39m\u001b[38;5;130;01m\\n\u001b[39;00m\u001b[38;5;124m\"\u001b[39m\u001b[38;5;241m.\u001b[39m\n\u001b[1;32m    328\u001b[0m         \u001b[38;5;28mformat\u001b[39m(target_id, \u001b[38;5;124m\"\u001b[39m\u001b[38;5;124m.\u001b[39m\u001b[38;5;124m\"\u001b[39m, name), value)\n\u001b[1;32m    329\u001b[0m \u001b[38;5;28;01melse\u001b[39;00m:\n\u001b[1;32m    330\u001b[0m     \u001b[38;5;28;01mraise\u001b[39;00m Py4JError(\n\u001b[1;32m    331\u001b[0m         \u001b[38;5;124m\"\u001b[39m\u001b[38;5;124mAn error occurred while calling \u001b[39m\u001b[38;5;132;01m{0}\u001b[39;00m\u001b[38;5;132;01m{1}\u001b[39;00m\u001b[38;5;132;01m{2}\u001b[39;00m\u001b[38;5;124m. Trace:\u001b[39m\u001b[38;5;130;01m\\n\u001b[39;00m\u001b[38;5;132;01m{3}\u001b[39;00m\u001b[38;5;130;01m\\n\u001b[39;00m\u001b[38;5;124m\"\u001b[39m\u001b[38;5;241m.\u001b[39m\n\u001b[1;32m    332\u001b[0m         \u001b[38;5;28mformat\u001b[39m(target_id, \u001b[38;5;124m\"\u001b[39m\u001b[38;5;124m.\u001b[39m\u001b[38;5;124m\"\u001b[39m, name, value))\n",
      "\u001b[0;31mPy4JJavaError\u001b[0m: An error occurred while calling o9470.confusionMatrix.\n: org.apache.spark.SparkException: Job aborted due to stage failure: Task 7 in stage 1150.0 failed 1 times, most recent failure: Lost task 7.0 in stage 1150.0 (TID 14414) (192.168.1.57 executor driver): org.apache.spark.api.python.PythonException: Traceback (most recent call last):\n  File \"/Users/elvislleshi/anaconda3/lib/python3.11/site-packages/pyspark/python/lib/pyspark.zip/pyspark/worker.py\", line 1247, in main\n    process()\n  File \"/Users/elvislleshi/anaconda3/lib/python3.11/site-packages/pyspark/python/lib/pyspark.zip/pyspark/worker.py\", line 1239, in process\n    serializer.dump_stream(out_iter, outfile)\n  File \"/Users/elvislleshi/anaconda3/lib/python3.11/site-packages/pyspark/python/lib/pyspark.zip/pyspark/serializers.py\", line 274, in dump_stream\n    vs = list(itertools.islice(iterator, batch))\n         ^^^^^^^^^^^^^^^^^^^^^^^^^^^^^^^^^^^^^^^\n  File \"/Users/elvislleshi/anaconda3/lib/python3.11/site-packages/pyspark/python/lib/pyspark.zip/pyspark/util.py\", line 83, in wrapper\n    return f(*args, **kwargs)\n           ^^^^^^^^^^^^^^^^^^\n  File \"/Users/elvislleshi/anaconda3/lib/python3.11/site-packages/pyspark/sql/session.py\", line 1459, in prepare\n    verify_func(obj)\n  File \"/Users/elvislleshi/anaconda3/lib/python3.11/site-packages/pyspark/sql/types.py\", line 2201, in verify\n    verify_value(obj)\n  File \"/Users/elvislleshi/anaconda3/lib/python3.11/site-packages/pyspark/sql/types.py\", line 2174, in verify_struct\n    verifier(v)\n  File \"/Users/elvislleshi/anaconda3/lib/python3.11/site-packages/pyspark/sql/types.py\", line 2201, in verify\n    verify_value(obj)\n  File \"/Users/elvislleshi/anaconda3/lib/python3.11/site-packages/pyspark/sql/types.py\", line 2195, in verify_default\n    verify_acceptable_types(obj)\n  File \"/Users/elvislleshi/anaconda3/lib/python3.11/site-packages/pyspark/sql/types.py\", line 2020, in verify_acceptable_types\n    raise PySparkTypeError(\npyspark.errors.exceptions.base.PySparkTypeError: [CANNOT_ACCEPT_OBJECT_IN_TYPE] `DoubleType()` can not accept object `4` in type `int`.\n\n\tat org.apache.spark.api.python.BasePythonRunner$ReaderIterator.handlePythonException(PythonRunner.scala:572)\n\tat org.apache.spark.api.python.PythonRunner$$anon$3.read(PythonRunner.scala:784)\n\tat org.apache.spark.api.python.PythonRunner$$anon$3.read(PythonRunner.scala:766)\n\tat org.apache.spark.api.python.BasePythonRunner$ReaderIterator.hasNext(PythonRunner.scala:525)\n\tat org.apache.spark.InterruptibleIterator.hasNext(InterruptibleIterator.scala:37)\n\tat scala.collection.Iterator$$anon$11.hasNext(Iterator.scala:491)\n\tat scala.collection.Iterator$$anon$10.hasNext(Iterator.scala:460)\n\tat scala.collection.Iterator$$anon$10.hasNext(Iterator.scala:460)\n\tat org.apache.spark.sql.catalyst.expressions.GeneratedClass$GeneratedIteratorForCodegenStage1.processNext(Unknown Source)\n\tat org.apache.spark.sql.execution.BufferedRowIterator.hasNext(BufferedRowIterator.java:43)\n\tat org.apache.spark.sql.execution.WholeStageCodegenEvaluatorFactory$WholeStageCodegenPartitionEvaluator$$anon$1.hasNext(WholeStageCodegenEvaluatorFactory.scala:43)\n\tat scala.collection.Iterator$$anon$10.hasNext(Iterator.scala:460)\n\tat scala.collection.Iterator$$anon$10.hasNext(Iterator.scala:460)\n\tat scala.collection.Iterator$$anon$10.hasNext(Iterator.scala:460)\n\tat scala.collection.Iterator$$anon$10.hasNext(Iterator.scala:460)\n\tat org.apache.spark.util.collection.ExternalSorter.insertAll(ExternalSorter.scala:197)\n\tat org.apache.spark.shuffle.sort.SortShuffleWriter.write(SortShuffleWriter.scala:63)\n\tat org.apache.spark.shuffle.ShuffleWriteProcessor.write(ShuffleWriteProcessor.scala:59)\n\tat org.apache.spark.scheduler.ShuffleMapTask.runTask(ShuffleMapTask.scala:104)\n\tat org.apache.spark.scheduler.ShuffleMapTask.runTask(ShuffleMapTask.scala:54)\n\tat org.apache.spark.TaskContext.runTaskWithListeners(TaskContext.scala:166)\n\tat org.apache.spark.scheduler.Task.run(Task.scala:141)\n\tat org.apache.spark.executor.Executor$TaskRunner.$anonfun$run$4(Executor.scala:620)\n\tat org.apache.spark.util.SparkErrorUtils.tryWithSafeFinally(SparkErrorUtils.scala:64)\n\tat org.apache.spark.util.SparkErrorUtils.tryWithSafeFinally$(SparkErrorUtils.scala:61)\n\tat org.apache.spark.util.Utils$.tryWithSafeFinally(Utils.scala:94)\n\tat org.apache.spark.executor.Executor$TaskRunner.run(Executor.scala:623)\n\tat java.util.concurrent.ThreadPoolExecutor.runWorker(ThreadPoolExecutor.java:1149)\n\tat java.util.concurrent.ThreadPoolExecutor$Worker.run(ThreadPoolExecutor.java:624)\n\tat java.lang.Thread.run(Thread.java:750)\n\nDriver stacktrace:\n\tat org.apache.spark.scheduler.DAGScheduler.failJobAndIndependentStages(DAGScheduler.scala:2856)\n\tat org.apache.spark.scheduler.DAGScheduler.$anonfun$abortStage$2(DAGScheduler.scala:2792)\n\tat org.apache.spark.scheduler.DAGScheduler.$anonfun$abortStage$2$adapted(DAGScheduler.scala:2791)\n\tat scala.collection.mutable.ResizableArray.foreach(ResizableArray.scala:62)\n\tat scala.collection.mutable.ResizableArray.foreach$(ResizableArray.scala:55)\n\tat scala.collection.mutable.ArrayBuffer.foreach(ArrayBuffer.scala:49)\n\tat org.apache.spark.scheduler.DAGScheduler.abortStage(DAGScheduler.scala:2791)\n\tat org.apache.spark.scheduler.DAGScheduler.$anonfun$handleTaskSetFailed$1(DAGScheduler.scala:1247)\n\tat org.apache.spark.scheduler.DAGScheduler.$anonfun$handleTaskSetFailed$1$adapted(DAGScheduler.scala:1247)\n\tat scala.Option.foreach(Option.scala:407)\n\tat org.apache.spark.scheduler.DAGScheduler.handleTaskSetFailed(DAGScheduler.scala:1247)\n\tat org.apache.spark.scheduler.DAGSchedulerEventProcessLoop.doOnReceive(DAGScheduler.scala:3060)\n\tat org.apache.spark.scheduler.DAGSchedulerEventProcessLoop.onReceive(DAGScheduler.scala:2994)\n\tat org.apache.spark.scheduler.DAGSchedulerEventProcessLoop.onReceive(DAGScheduler.scala:2983)\n\tat org.apache.spark.util.EventLoop$$anon$1.run(EventLoop.scala:49)\n\tat org.apache.spark.scheduler.DAGScheduler.runJob(DAGScheduler.scala:989)\n\tat org.apache.spark.SparkContext.runJob(SparkContext.scala:2393)\n\tat org.apache.spark.SparkContext.runJob(SparkContext.scala:2414)\n\tat org.apache.spark.SparkContext.runJob(SparkContext.scala:2433)\n\tat org.apache.spark.SparkContext.runJob(SparkContext.scala:2458)\n\tat org.apache.spark.rdd.RDD.$anonfun$collect$1(RDD.scala:1049)\n\tat org.apache.spark.rdd.RDDOperationScope$.withScope(RDDOperationScope.scala:151)\n\tat org.apache.spark.rdd.RDDOperationScope$.withScope(RDDOperationScope.scala:112)\n\tat org.apache.spark.rdd.RDD.withScope(RDD.scala:410)\n\tat org.apache.spark.rdd.RDD.collect(RDD.scala:1048)\n\tat org.apache.spark.rdd.PairRDDFunctions.$anonfun$collectAsMap$1(PairRDDFunctions.scala:738)\n\tat org.apache.spark.rdd.RDDOperationScope$.withScope(RDDOperationScope.scala:151)\n\tat org.apache.spark.rdd.RDDOperationScope$.withScope(RDDOperationScope.scala:112)\n\tat org.apache.spark.rdd.RDD.withScope(RDD.scala:410)\n\tat org.apache.spark.rdd.PairRDDFunctions.collectAsMap(PairRDDFunctions.scala:737)\n\tat org.apache.spark.mllib.evaluation.MulticlassMetrics.confusions$lzycompute(MulticlassMetrics.scala:61)\n\tat org.apache.spark.mllib.evaluation.MulticlassMetrics.confusions(MulticlassMetrics.scala:52)\n\tat org.apache.spark.mllib.evaluation.MulticlassMetrics.tpByClass$lzycompute(MulticlassMetrics.scala:78)\n\tat org.apache.spark.mllib.evaluation.MulticlassMetrics.tpByClass(MulticlassMetrics.scala:76)\n\tat org.apache.spark.mllib.evaluation.MulticlassMetrics.labels$lzycompute(MulticlassMetrics.scala:241)\n\tat org.apache.spark.mllib.evaluation.MulticlassMetrics.labels(MulticlassMetrics.scala:241)\n\tat org.apache.spark.mllib.evaluation.MulticlassMetrics.confusionMatrix(MulticlassMetrics.scala:113)\n\tat sun.reflect.GeneratedMethodAccessor488.invoke(Unknown Source)\n\tat sun.reflect.DelegatingMethodAccessorImpl.invoke(DelegatingMethodAccessorImpl.java:43)\n\tat java.lang.reflect.Method.invoke(Method.java:498)\n\tat py4j.reflection.MethodInvoker.invoke(MethodInvoker.java:244)\n\tat py4j.reflection.ReflectionEngine.invoke(ReflectionEngine.java:374)\n\tat py4j.Gateway.invoke(Gateway.java:282)\n\tat py4j.commands.AbstractCommand.invokeMethod(AbstractCommand.java:132)\n\tat py4j.commands.CallCommand.execute(CallCommand.java:79)\n\tat py4j.ClientServerConnection.waitForCommands(ClientServerConnection.java:182)\n\tat py4j.ClientServerConnection.run(ClientServerConnection.java:106)\n\tat java.lang.Thread.run(Thread.java:750)\nCaused by: org.apache.spark.api.python.PythonException: Traceback (most recent call last):\n  File \"/Users/elvislleshi/anaconda3/lib/python3.11/site-packages/pyspark/python/lib/pyspark.zip/pyspark/worker.py\", line 1247, in main\n    process()\n  File \"/Users/elvislleshi/anaconda3/lib/python3.11/site-packages/pyspark/python/lib/pyspark.zip/pyspark/worker.py\", line 1239, in process\n    serializer.dump_stream(out_iter, outfile)\n  File \"/Users/elvislleshi/anaconda3/lib/python3.11/site-packages/pyspark/python/lib/pyspark.zip/pyspark/serializers.py\", line 274, in dump_stream\n    vs = list(itertools.islice(iterator, batch))\n         ^^^^^^^^^^^^^^^^^^^^^^^^^^^^^^^^^^^^^^^\n  File \"/Users/elvislleshi/anaconda3/lib/python3.11/site-packages/pyspark/python/lib/pyspark.zip/pyspark/util.py\", line 83, in wrapper\n    return f(*args, **kwargs)\n           ^^^^^^^^^^^^^^^^^^\n  File \"/Users/elvislleshi/anaconda3/lib/python3.11/site-packages/pyspark/sql/session.py\", line 1459, in prepare\n    verify_func(obj)\n  File \"/Users/elvislleshi/anaconda3/lib/python3.11/site-packages/pyspark/sql/types.py\", line 2201, in verify\n    verify_value(obj)\n  File \"/Users/elvislleshi/anaconda3/lib/python3.11/site-packages/pyspark/sql/types.py\", line 2174, in verify_struct\n    verifier(v)\n  File \"/Users/elvislleshi/anaconda3/lib/python3.11/site-packages/pyspark/sql/types.py\", line 2201, in verify\n    verify_value(obj)\n  File \"/Users/elvislleshi/anaconda3/lib/python3.11/site-packages/pyspark/sql/types.py\", line 2195, in verify_default\n    verify_acceptable_types(obj)\n  File \"/Users/elvislleshi/anaconda3/lib/python3.11/site-packages/pyspark/sql/types.py\", line 2020, in verify_acceptable_types\n    raise PySparkTypeError(\npyspark.errors.exceptions.base.PySparkTypeError: [CANNOT_ACCEPT_OBJECT_IN_TYPE] `DoubleType()` can not accept object `4` in type `int`.\n\n\tat org.apache.spark.api.python.BasePythonRunner$ReaderIterator.handlePythonException(PythonRunner.scala:572)\n\tat org.apache.spark.api.python.PythonRunner$$anon$3.read(PythonRunner.scala:784)\n\tat org.apache.spark.api.python.PythonRunner$$anon$3.read(PythonRunner.scala:766)\n\tat org.apache.spark.api.python.BasePythonRunner$ReaderIterator.hasNext(PythonRunner.scala:525)\n\tat org.apache.spark.InterruptibleIterator.hasNext(InterruptibleIterator.scala:37)\n\tat scala.collection.Iterator$$anon$11.hasNext(Iterator.scala:491)\n\tat scala.collection.Iterator$$anon$10.hasNext(Iterator.scala:460)\n\tat scala.collection.Iterator$$anon$10.hasNext(Iterator.scala:460)\n\tat org.apache.spark.sql.catalyst.expressions.GeneratedClass$GeneratedIteratorForCodegenStage1.processNext(Unknown Source)\n\tat org.apache.spark.sql.execution.BufferedRowIterator.hasNext(BufferedRowIterator.java:43)\n\tat org.apache.spark.sql.execution.WholeStageCodegenEvaluatorFactory$WholeStageCodegenPartitionEvaluator$$anon$1.hasNext(WholeStageCodegenEvaluatorFactory.scala:43)\n\tat scala.collection.Iterator$$anon$10.hasNext(Iterator.scala:460)\n\tat scala.collection.Iterator$$anon$10.hasNext(Iterator.scala:460)\n\tat scala.collection.Iterator$$anon$10.hasNext(Iterator.scala:460)\n\tat scala.collection.Iterator$$anon$10.hasNext(Iterator.scala:460)\n\tat org.apache.spark.util.collection.ExternalSorter.insertAll(ExternalSorter.scala:197)\n\tat org.apache.spark.shuffle.sort.SortShuffleWriter.write(SortShuffleWriter.scala:63)\n\tat org.apache.spark.shuffle.ShuffleWriteProcessor.write(ShuffleWriteProcessor.scala:59)\n\tat org.apache.spark.scheduler.ShuffleMapTask.runTask(ShuffleMapTask.scala:104)\n\tat org.apache.spark.scheduler.ShuffleMapTask.runTask(ShuffleMapTask.scala:54)\n\tat org.apache.spark.TaskContext.runTaskWithListeners(TaskContext.scala:166)\n\tat org.apache.spark.scheduler.Task.run(Task.scala:141)\n\tat org.apache.spark.executor.Executor$TaskRunner.$anonfun$run$4(Executor.scala:620)\n\tat org.apache.spark.util.SparkErrorUtils.tryWithSafeFinally(SparkErrorUtils.scala:64)\n\tat org.apache.spark.util.SparkErrorUtils.tryWithSafeFinally$(SparkErrorUtils.scala:61)\n\tat org.apache.spark.util.Utils$.tryWithSafeFinally(Utils.scala:94)\n\tat org.apache.spark.executor.Executor$TaskRunner.run(Executor.scala:623)\n\tat java.util.concurrent.ThreadPoolExecutor.runWorker(ThreadPoolExecutor.java:1149)\n\tat java.util.concurrent.ThreadPoolExecutor$Worker.run(ThreadPoolExecutor.java:624)\n\t... 1 more\n"
     ]
    }
   ],
   "source": [
    "import seaborn as sns\n",
    "import matplotlib.pyplot as plt\n",
    "\n",
    "# Matrica e konfuzionit\n",
    "confusion_matrix = metrics.confusionMatrix().toArray()\n",
    "\n",
    "# Vizualizo matricën\n",
    "plt.figure(figsize=(8, 6))\n",
    "sns.heatmap(confusion_matrix, annot=True, cmap=\"Blues\", fmt='g')\n",
    "plt.title(\"Confusion Matrix\")\n",
    "plt.xlabel(\"Predicted\")\n",
    "plt.ylabel(\"Actual\")\n",
    "plt.show()\n"
   ]
  },
  {
   "cell_type": "code",
   "execution_count": 167,
   "id": "ca8d2101",
   "metadata": {},
   "outputs": [
    {
     "name": "stderr",
     "output_type": "stream",
     "text": [
      "                                                                                \r"
     ]
    },
    {
     "name": "stdout",
     "output_type": "stream",
     "text": [
      "Validation accuracy = 0.6918506235533907\n",
      "Validation Error = 0.308149\n"
     ]
    },
    {
     "name": "stderr",
     "output_type": "stream",
     "text": [
      "[Stage 1154:=====================================>                (11 + 5) / 16]\r"
     ]
    },
    {
     "name": "stdout",
     "output_type": "stream",
     "text": [
      "Test accuracy = 0.6905611986013857\n",
      "Test Error = 0.309439\n"
     ]
    },
    {
     "name": "stderr",
     "output_type": "stream",
     "text": [
      "\r",
      "[Stage 1154:==================================================>   (15 + 1) / 16]\r",
      "\r",
      "                                                                                \r"
     ]
    }
   ],
   "source": [
    "# Select (prediction, true label) and compute test error\n",
    "evaluator = MulticlassClassificationEvaluator(labelCol=\"Severity\"\n",
    "                                              , predictionCol=\"prediction\"\n",
    "                                              , metricName=\"accuracy\")\n",
    "\n",
    "predictions = dt.transform(valData)\n",
    "accuracy = evaluator.evaluate(predictions)\n",
    "print('Validation accuracy =', accuracy)\n",
    "print(\"Validation Error = %g\" % (1.0 - accuracy))\n",
    "\n",
    "predictions_test = dt.transform(testData)\n",
    "accuracy_test = evaluator.evaluate(predictions_test)\n",
    "print('Test accuracy =', accuracy_test)\n",
    "print(\"Test Error = %g\" % (1.0 - accuracy_test))"
   ]
  },
  {
   "cell_type": "code",
   "execution_count": 168,
   "id": "84993da5",
   "metadata": {},
   "outputs": [
    {
     "data": {
      "image/png": "[encoded data removed]",
      "text/plain": [
       "<Figure size 1700x500 with 1 Axes>"
      ]
     },
     "metadata": {},
     "output_type": "display_data"
    }
   ],
   "source": [
    "plot_importance(importance)"
   ]
  },
  {
   "cell_type": "code",
   "execution_count": 170,
   "id": "e3cf1203",
   "metadata": {},
   "outputs": [
    {
     "name": "stderr",
     "output_type": "stream",
     "text": [
      "                                                                                \r"
     ]
    },
    {
     "data": {
      "text/plain": [
       "[Row(Severity=3, count=101296),\n",
       " Row(Severity=4, count=81382),\n",
       " Row(Severity=2, count=361104)]"
      ]
     },
     "execution_count": 170,
     "metadata": {},
     "output_type": "execute_result"
    }
   ],
   "source": [
    "# classes\n",
    "categorical_columns = ['Severity']\n",
    "\n",
    "for column in categorical_columns:\n",
    "    distinct_classes = df.groupBy(column).count().collect()\n",
    "\n",
    "distinct_classes"
   ]
  },
  {
   "cell_type": "markdown",
   "id": "564504cc",
   "metadata": {},
   "source": [
    "### Logistic regression"
   ]
  },
  {
   "cell_type": "markdown",
   "id": "eef21e27",
   "metadata": {},
   "source": [
    "Workflow:\n",
    "Define Hyperparameter Grid:\n",
    "\n",
    "Create a grid of values for maxIter, regParam, and elasticNetParam.\n",
    "Iterate Over Combinations:\n",
    "\n",
    "Train Logistic Regression for each combination of hyperparameters.\n",
    "Evaluate the Model:\n",
    "\n",
    "Use accuracy or another suitable metric to evaluate each model.\n",
    "Select the Best Model:\n",
    "\n",
    "Determine the hyperparameter combination with the highest evaluation score.\n",
    "Report Results:\n",
    "\n",
    "Plot results or display them in a table for analysis."
   ]
  },
  {
   "cell_type": "code",
   "execution_count": 171,
   "id": "90181740",
   "metadata": {
    "scrolled": true
   },
   "outputs": [
    {
     "name": "stdout",
     "output_type": "stream",
     "text": [
      "Training with maxIter=10, regParam=0.01, elasticNetParam=0.0\n"
     ]
    },
    {
     "name": "stderr",
     "output_type": "stream",
     "text": [
      "24/12/05 18:04:13 WARN InstanceBuilder: Failed to load implementation from:dev.ludovic.netlib.blas.JNIBLAS\n",
      "                                                                                \r"
     ]
    },
    {
     "name": "stdout",
     "output_type": "stream",
     "text": [
      "Training with maxIter=10, regParam=0.01, elasticNetParam=0.5\n"
     ]
    },
    {
     "name": "stderr",
     "output_type": "stream",
     "text": [
      "                                                                                \r"
     ]
    },
    {
     "name": "stdout",
     "output_type": "stream",
     "text": [
      "Training with maxIter=10, regParam=0.01, elasticNetParam=1.0\n"
     ]
    },
    {
     "name": "stderr",
     "output_type": "stream",
     "text": [
      "                                                                                \r"
     ]
    },
    {
     "name": "stdout",
     "output_type": "stream",
     "text": [
      "Training with maxIter=10, regParam=0.1, elasticNetParam=0.0\n"
     ]
    },
    {
     "name": "stderr",
     "output_type": "stream",
     "text": [
      "                                                                                \r"
     ]
    },
    {
     "name": "stdout",
     "output_type": "stream",
     "text": [
      "Training with maxIter=10, regParam=0.1, elasticNetParam=0.5\n"
     ]
    },
    {
     "name": "stderr",
     "output_type": "stream",
     "text": [
      "                                                                                \r"
     ]
    },
    {
     "name": "stdout",
     "output_type": "stream",
     "text": [
      "Training with maxIter=10, regParam=0.1, elasticNetParam=1.0\n"
     ]
    },
    {
     "name": "stderr",
     "output_type": "stream",
     "text": [
      "                                                                                \r"
     ]
    },
    {
     "name": "stdout",
     "output_type": "stream",
     "text": [
      "Training with maxIter=10, regParam=0.5, elasticNetParam=0.0\n"
     ]
    },
    {
     "name": "stderr",
     "output_type": "stream",
     "text": [
      "                                                                                \r"
     ]
    },
    {
     "name": "stdout",
     "output_type": "stream",
     "text": [
      "Training with maxIter=10, regParam=0.5, elasticNetParam=0.5\n"
     ]
    },
    {
     "name": "stderr",
     "output_type": "stream",
     "text": [
      "                                                                                \r"
     ]
    },
    {
     "name": "stdout",
     "output_type": "stream",
     "text": [
      "Training with maxIter=10, regParam=0.5, elasticNetParam=1.0\n"
     ]
    },
    {
     "name": "stderr",
     "output_type": "stream",
     "text": [
      "                                                                                \r"
     ]
    },
    {
     "name": "stdout",
     "output_type": "stream",
     "text": [
      "Training with maxIter=50, regParam=0.01, elasticNetParam=0.0\n"
     ]
    },
    {
     "name": "stderr",
     "output_type": "stream",
     "text": [
      "                                                                                \r"
     ]
    },
    {
     "name": "stdout",
     "output_type": "stream",
     "text": [
      "Training with maxIter=50, regParam=0.01, elasticNetParam=0.5\n"
     ]
    },
    {
     "name": "stderr",
     "output_type": "stream",
     "text": [
      "                                                                                \r"
     ]
    },
    {
     "name": "stdout",
     "output_type": "stream",
     "text": [
      "Training with maxIter=50, regParam=0.01, elasticNetParam=1.0\n"
     ]
    },
    {
     "name": "stderr",
     "output_type": "stream",
     "text": [
      "                                                                                \r"
     ]
    },
    {
     "name": "stdout",
     "output_type": "stream",
     "text": [
      "Training with maxIter=50, regParam=0.1, elasticNetParam=0.0\n"
     ]
    },
    {
     "name": "stderr",
     "output_type": "stream",
     "text": [
      "                                                                                \r"
     ]
    },
    {
     "name": "stdout",
     "output_type": "stream",
     "text": [
      "Training with maxIter=50, regParam=0.1, elasticNetParam=0.5\n"
     ]
    },
    {
     "name": "stderr",
     "output_type": "stream",
     "text": [
      "                                                                                \r"
     ]
    },
    {
     "name": "stdout",
     "output_type": "stream",
     "text": [
      "Training with maxIter=50, regParam=0.1, elasticNetParam=1.0\n"
     ]
    },
    {
     "name": "stderr",
     "output_type": "stream",
     "text": [
      "                                                                                \r"
     ]
    },
    {
     "name": "stdout",
     "output_type": "stream",
     "text": [
      "Training with maxIter=50, regParam=0.5, elasticNetParam=0.0\n"
     ]
    },
    {
     "name": "stderr",
     "output_type": "stream",
     "text": [
      "                                                                                \r"
     ]
    },
    {
     "name": "stdout",
     "output_type": "stream",
     "text": [
      "Training with maxIter=50, regParam=0.5, elasticNetParam=0.5\n"
     ]
    },
    {
     "name": "stderr",
     "output_type": "stream",
     "text": [
      "                                                                                \r"
     ]
    },
    {
     "name": "stdout",
     "output_type": "stream",
     "text": [
      "Training with maxIter=50, regParam=0.5, elasticNetParam=1.0\n"
     ]
    },
    {
     "name": "stderr",
     "output_type": "stream",
     "text": [
      "                                                                                \r"
     ]
    },
    {
     "name": "stdout",
     "output_type": "stream",
     "text": [
      "Training with maxIter=100, regParam=0.01, elasticNetParam=0.0\n"
     ]
    },
    {
     "name": "stderr",
     "output_type": "stream",
     "text": [
      "                                                                                \r"
     ]
    },
    {
     "name": "stdout",
     "output_type": "stream",
     "text": [
      "Training with maxIter=100, regParam=0.01, elasticNetParam=0.5\n"
     ]
    },
    {
     "name": "stderr",
     "output_type": "stream",
     "text": [
      "                                                                                \r"
     ]
    },
    {
     "name": "stdout",
     "output_type": "stream",
     "text": [
      "Training with maxIter=100, regParam=0.01, elasticNetParam=1.0\n"
     ]
    },
    {
     "name": "stderr",
     "output_type": "stream",
     "text": [
      "                                                                                \r"
     ]
    },
    {
     "name": "stdout",
     "output_type": "stream",
     "text": [
      "Training with maxIter=100, regParam=0.1, elasticNetParam=0.0\n"
     ]
    },
    {
     "name": "stderr",
     "output_type": "stream",
     "text": [
      "                                                                                \r"
     ]
    },
    {
     "name": "stdout",
     "output_type": "stream",
     "text": [
      "Training with maxIter=100, regParam=0.1, elasticNetParam=0.5\n"
     ]
    },
    {
     "name": "stderr",
     "output_type": "stream",
     "text": [
      "                                                                                \r"
     ]
    },
    {
     "name": "stdout",
     "output_type": "stream",
     "text": [
      "Training with maxIter=100, regParam=0.1, elasticNetParam=1.0\n"
     ]
    },
    {
     "name": "stderr",
     "output_type": "stream",
     "text": [
      "                                                                                \r"
     ]
    },
    {
     "name": "stdout",
     "output_type": "stream",
     "text": [
      "Training with maxIter=100, regParam=0.5, elasticNetParam=0.0\n"
     ]
    },
    {
     "name": "stderr",
     "output_type": "stream",
     "text": [
      "                                                                                \r"
     ]
    },
    {
     "name": "stdout",
     "output_type": "stream",
     "text": [
      "Training with maxIter=100, regParam=0.5, elasticNetParam=0.5\n"
     ]
    },
    {
     "name": "stderr",
     "output_type": "stream",
     "text": [
      "                                                                                \r"
     ]
    },
    {
     "name": "stdout",
     "output_type": "stream",
     "text": [
      "Training with maxIter=100, regParam=0.5, elasticNetParam=1.0\n"
     ]
    },
    {
     "name": "stderr",
     "output_type": "stream",
     "text": [
      "[Stage 4014:==============================>                        (9 + 7) / 16]\r"
     ]
    },
    {
     "name": "stdout",
     "output_type": "stream",
     "text": [
      "Hyperparameter Tuning Results:\n",
      "    maxIter  regParam  elasticNetParam  accuracy\n",
      "0        10      0.01              0.0  0.668958\n",
      "9        50      0.01              0.0  0.668958\n",
      "18      100      0.01              0.0  0.668947\n",
      "10       50      0.01              0.5  0.668405\n",
      "19      100      0.01              0.5  0.668405\n",
      "1        10      0.01              0.5  0.668394\n",
      "2        10      0.01              1.0  0.667749\n",
      "20      100      0.01              1.0  0.667738\n",
      "11       50      0.01              1.0  0.667738\n",
      "3        10      0.10              0.0  0.667012\n",
      "21      100      0.10              0.0  0.667012\n",
      "12       50      0.10              0.0  0.667012\n",
      "24      100      0.50              0.0  0.664283\n",
      "6        10      0.50              0.0  0.664283\n",
      "15       50      0.50              0.0  0.664283\n",
      "22      100      0.10              0.5  0.663523\n",
      "13       50      0.10              0.5  0.663523\n",
      "4        10      0.10              0.5  0.663523\n",
      "17       50      0.50              1.0  0.663396\n",
      "16       50      0.50              0.5  0.663396\n",
      "14       50      0.10              1.0  0.663396\n",
      "8        10      0.50              1.0  0.663396\n",
      "7        10      0.50              0.5  0.663396\n",
      "5        10      0.10              1.0  0.663396\n",
      "23      100      0.10              1.0  0.663396\n",
      "25      100      0.50              0.5  0.663396\n",
      "26      100      0.50              1.0  0.663396\n"
     ]
    },
    {
     "name": "stderr",
     "output_type": "stream",
     "text": [
      "\r",
      "                                                                                \r"
     ]
    }
   ],
   "source": [
    "from pyspark.ml.classification import LogisticRegression\n",
    "from pyspark.ml.evaluation import MulticlassClassificationEvaluator\n",
    "import itertools\n",
    "import pandas as pd\n",
    "\n",
    "# Hyperparameter grid\n",
    "hyperparameters = {\n",
    "    'maxIter': [10, 50, 100],\n",
    "    'regParam': [0.01, 0.1, 0.5],\n",
    "    'elasticNetParam': [0.0, 0.5, 1.0]  # 0.0 = Ridge, 1.0 = Lasso, 0.5 = ElasticNet\n",
    "}\n",
    "\n",
    "# Generate all combinations\n",
    "combinations = list(itertools.product(\n",
    "    hyperparameters['maxIter'], \n",
    "    hyperparameters['regParam'], \n",
    "    hyperparameters['elasticNetParam']\n",
    "))\n",
    "\n",
    "results = []\n",
    "\n",
    "# Train and evaluate Logistic Regression for each combination\n",
    "for maxIter, regParam, elasticNetParam in combinations:\n",
    "    print(f\"Training with maxIter={maxIter}, regParam={regParam}, elasticNetParam={elasticNetParam}\")\n",
    "    \n",
    "    # Initialize Logistic Regression\n",
    "    lr = LogisticRegression(\n",
    "        featuresCol=\"features_scaled\",\n",
    "        labelCol=\"Severity\",\n",
    "        maxIter=maxIter,\n",
    "        regParam=regParam,\n",
    "        elasticNetParam=elasticNetParam\n",
    "    )\n",
    "    \n",
    "    # Train model\n",
    "    lr_model = lr.fit(trainingData)\n",
    "    \n",
    "    # Make predictions\n",
    "    predictions = lr_model.transform(valData)\n",
    "    \n",
    "    # Evaluate accuracy\n",
    "    evaluator = MulticlassClassificationEvaluator(\n",
    "        labelCol=\"Severity\", \n",
    "        predictionCol=\"prediction\", \n",
    "        metricName=\"accuracy\"\n",
    "    )\n",
    "    accuracy = evaluator.evaluate(predictions)\n",
    "    \n",
    "    # Store results\n",
    "    results.append({\n",
    "        'maxIter': maxIter,\n",
    "        'regParam': regParam,\n",
    "        'elasticNetParam': elasticNetParam,\n",
    "        'accuracy': accuracy\n",
    "    })\n",
    "\n",
    "# Convert results to DataFrame for better visualization\n",
    "results_df = pd.DataFrame(results)\n",
    "\n",
    "# Print sorted results\n",
    "print(\"Hyperparameter Tuning Results:\")\n",
    "print(results_df.sort_values(by='accuracy', ascending=False))\n"
   ]
  }
 ],
 "metadata": {
  "kernelspec": {
   "display_name": "Python 3 (ipykernel)",
   "language": "python",
   "name": "python3"
  },
  "language_info": {
   "codemirror_mode": {
    "name": "ipython",
    "version": 3
   },
   "file_extension": ".py",
   "mimetype": "text/x-python",
   "name": "python",
   "nbconvert_exporter": "python",
   "pygments_lexer": "ipython3",
   "version": "3.11.4"
  }
 },
 "nbformat": 4,
 "nbformat_minor": 5
}
