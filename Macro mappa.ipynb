{
 "cells": [
  {
   "cell_type": "code",
   "execution_count": 1,
   "id": "1481f71d",
   "metadata": {},
   "outputs": [],
   "source": [
    "from pyspark.ml.feature import VectorAssembler, StringIndexer, StandardScaler\n"
   ]
  },
  {
   "cell_type": "markdown",
   "id": "6d63b961",
   "metadata": {},
   "source": [
    "#1. Program Structure\n",
    "a. Import Dataset\n",
    "Load the dataset from a CSV file.\n",
    "Inspect the initial structure of the data.\n",
    "b. Data Understanding\n",
    "Display basic statistics (distribution, missing values, column types).\n",
    "Perform simple visualizations to understand patterns in the data.\n",
    "c. Data Preparation\n",
    "Mapping (Micro Map and Macro Map):\n",
    "\n",
    "Create Micro Map with only numerical columns.\n",
    "Create Macro Map including numerical and binary (0/1) columns.\n",
    "Convert True/False to 0/1:\n",
    "\n",
    "Identify boolean columns and convert them.\n",
    "Normalization:\n",
    "\n",
    "Apply StandardScaler to normalize numerical features, if needed.\n",
    "Handle Missing Values:\n",
    "\n",
    "Impute or drop rows/columns based on missing data thresholds.\n",
    "Train-Test Split:\n",
    "\n",
    "Split the dataset into 80% train and 20% test.\n",
    "d. Classification\n",
    "Implement classifiers like:\n",
    "Decision Tree\n",
    "Random Forest\n",
    "Logistic Regression\n",
    "Evaluate performance using metrics like:\n",
    "Accuracy\n",
    "Precision, Recall, F1-Score\n"
   ]
  },
  {
   "cell_type": "code",
   "execution_count": null,
   "id": "5e892e02",
   "metadata": {},
   "outputs": [],
   "source": []
  },
  {
   "cell_type": "markdown",
   "id": "9f0704f2",
   "metadata": {},
   "source": []
  },
  {
   "cell_type": "code",
   "execution_count": 2,
   "id": "c5ec53f9",
   "metadata": {},
   "outputs": [],
   "source": [
    "from pyspark.sql import SparkSession\n",
    "from pyspark.sql.functions import col, when\n",
    "from pyspark.ml.feature import VectorAssembler, StringIndexer, StandardScaler\n",
    "from pyspark.ml.classification import RandomForestClassifier, DecisionTreeClassifier, LogisticRegression\n",
    "from pyspark.ml.evaluation import MulticlassClassificationEvaluator\n",
    "from pyspark.sql.types import DoubleType\n"
   ]
  },
  {
   "cell_type": "markdown",
   "id": "2a9c266e",
   "metadata": {},
   "source": [
    "### Step 1: Verify the Combined Data\n",
    "Before proceeding, let's inspect the combined dataset for structure and completeness:"
   ]
  },
  {
   "cell_type": "code",
   "execution_count": 3,
   "id": "e139d214",
   "metadata": {},
   "outputs": [
    {
     "name": "stderr",
     "output_type": "stream",
     "text": [
      "24/12/03 03:02:48 WARN Utils: Your hostname, Elviss-MacBook-Air.local resolves to a loopback address: 127.0.0.1; using 192.168.1.57 instead (on interface en0)\n",
      "24/12/03 03:02:48 WARN Utils: Set SPARK_LOCAL_IP if you need to bind to another address\n",
      "Setting default log level to \"WARN\".\n",
      "To adjust logging level use sc.setLogLevel(newLevel). For SparkR, use setLogLevel(newLevel).\n",
      "24/12/03 03:02:49 WARN NativeCodeLoader: Unable to load native-hadoop library for your platform... using builtin-java classes where applicable\n",
      "24/12/03 03:02:50 WARN Utils: Service 'SparkUI' could not bind on port 4040. Attempting port 4041.\n",
      "24/12/03 03:03:20 WARN SparkStringUtils: Truncated the string representation of a plan since it was too large. This behavior can be adjusted by setting 'spark.sql.debug.maxToStringFields'.\n"
     ]
    },
    {
     "name": "stdout",
     "output_type": "stream",
     "text": [
      "+-----+-----+-----------------+----------+--------+-------------------+-------------------+---------+------------------+------------------+--------------------+--------------+-----------+------------+--------------+--------------+-----------------+-----------------+-------+-----+--------+--------+--------+-------+-------+----------+-------+-----+---------------+--------------+------------+--------------+-----------+-----------+----+----+------------------+\n",
      "|State|Month|Weather_Condition|    County|Severity|         Start_Time|           End_Time|Start_Lat|         Start_Lng|      Distance(mi)|                City|Temperature(F)|Humidity(%)|Pressure(in)|Visibility(mi)|Wind_Direction|  Wind_Speed(mph)|Precipitation(in)|Amenity| Bump|Crossing|Give_Way|Junction|No_Exit|Railway|Roundabout|Station| Stop|Traffic_Calming|Traffic_Signal|Turning_Loop|Civil_Twilight|Day_of_Week|Day_of_Year|Year|Hour|  Traffic_Duration|\n",
      "+-----+-----+-----------------+----------+--------+-------------------+-------------------+---------+------------------+------------------+--------------------+--------------+-----------+------------+--------------+--------------+-----------------+-----------------+-------+-----+--------+--------+--------+-------+-------+----------+-------+-----+---------------+--------------+------------+--------------+-----------+-----------+----+----+------------------+\n",
      "|   PA|   12|           Cloudy|   Chester|       2|2017-12-08 10:03:23|2017-12-08 16:03:23| 40.06695|-75.66226999999998|             0.253|               Exton|          32.0|       55.0|        29.4|          10.0|           NNW|              7.0|              0.0|  false|false|   false|   false|   false|  false|  false|     false|  false|false|          false|         false|       false|           Day|          6|        342|2017|  10|             360.0|\n",
      "|   PA|   12|           Cloudy|   Chester|       2|2017-12-24 15:20:48|2017-12-24 15:50:48| 40.00663|          -75.7461|               0.0|         Downingtown|          37.0|       65.0|       29.37|          10.0|           ESE|             10.0|              0.0|  false|false|   false|   false|   false|  false|  false|     false|  false|false|          false|          true|       false|           Day|          1|        358|2017|  15|              30.0|\n",
      "|   PA|   12|           Cloudy|   Chester|       2|2017-12-24 15:20:48|2017-12-24 15:50:48| 40.00663|          -75.7461|               0.0|         Downingtown|          37.0|       65.0|       29.37|          10.0|           ESE|             10.0|              0.0|  false|false|   false|   false|   false|  false|  false|     false|  false|false|          false|          true|       false|           Day|          1|        358|2017|  15|              30.0|\n",
      "|   PA|   12| Scattered Clouds|  Franklin|       2|2017-12-27 13:35:05|2017-12-27 19:35:05| 40.15868|         -77.69886|             4.579|          Spring Run|          25.0|       39.0|       30.51|          10.0|         North|              9.2|              0.0|  false|false|   false|   false|   false|  false|  false|     false|  false|false|          false|         false|       false|           Day|          4|        361|2017|  13|             360.0|\n",
      "|   PA|   12| Scattered Clouds|Montgomery|       2|2017-12-08 10:18:23|2017-12-08 16:18:23| 40.11231|         -75.27999|             0.398|    Plymouth Meeting|          32.0|       55.0|       30.13|          10.0|          Calm|9.220321336978788|              0.0|  false|false|   false|   false|   false|  false|  false|     false|  false|false|          false|         false|       false|           Day|          6|        342|2017|  10|             360.0|\n",
      "|   PA|   12| Scattered Clouds|Montgomery|       2|2017-12-15 20:09:18|2017-12-16 02:09:18| 40.11693|          -75.2786|             0.368|    Plymouth Meeting|          19.4|      100.0|       29.95|           7.0|          Calm|9.220321336978788|              0.0|  false|false|   false|   false|    true|  false|  false|     false|  false|false|          false|         false|       false|         Night|          6|        349|2017|  20|             360.0|\n",
      "|   PA|   12| Scattered Clouds|  Somerset|       2|2017-12-28 18:28:21|2017-12-29 00:28:21|40.096949|        -79.202558|             1.683|            Somerset|          10.4|       67.0|       30.47|          10.0|          Calm|9.220321336978788|              0.0|  false|false|   false|   false|   false|  false|  false|     false|  false|false|          false|         false|       false|         Night|          5|        362|2017|  18|             360.0|\n",
      "|   PA|   12| Scattered Clouds|Cumberland|       2|2017-12-19 10:39:36|2017-12-19 16:39:36|  40.2278|         -77.15602|             2.042|            Carlisle|          55.0|       45.0|       29.93|          10.0|          West|             17.3|              0.0|  false|false|   false|   false|   false|  false|  false|     false|  false|false|          false|         false|       false|           Day|          3|        353|2017|  10|             360.0|\n",
      "|   PA|   12| Scattered Clouds| Allegheny|       3|2017-12-05 00:20:37|2017-12-05 06:20:37| 40.41256|         -80.07881|             1.585|            Carnegie|          48.9|       46.0|       30.02|          10.0|           SSE|              9.2|              0.0|  false|false|   false|   false|    true|  false|  false|     false|  false|false|          false|         false|       false|         Night|          3|        339|2017|   0|             360.0|\n",
      "|   PA|   12|            Clear|     Bucks|       2|2017-12-07 08:01:53|2017-12-07 14:01:53| 40.13284|-74.97509000000002|             8.039|Feasterville Trevose|          37.9|       55.0|       30.07|          10.0|           WSW|              6.9|              0.0|  false|false|   false|   false|   false|  false|  false|     false|  false|false|          false|         false|       false|           Day|          5|        341|2017|   8|             360.0|\n",
      "|   PA|   12|            Clear|     Bucks|       4|2017-12-07 09:01:07|2017-12-07 15:01:07| 40.43584|         -75.42442|13.234000000000002|          Quakertown|          37.4|       48.0|       30.05|          10.0|           WNW|              9.2|              0.0|  false|false|   false|   false|    true|  false|  false|     false|  false|false|          false|         false|       false|           Day|          5|        341|2017|   9|             360.0|\n",
      "|   PA|   12|            Clear|     Bucks|       4|2017-12-07 09:01:07|2017-12-07 15:01:07| 40.13308|-74.97695999999998|             0.845|Feasterville Trevose|          42.1|       49.0|       30.09|          10.0|          West|             11.5|              0.0|  false|false|   false|   false|    true|  false|  false|     false|  false|false|          false|         false|       false|           Day|          5|        341|2017|   9|             360.0|\n",
      "|   PA|   12|            Clear|     Bucks|       4|2017-12-07 09:17:39|2017-12-07 15:17:39| 40.12991|         -74.96152|             0.745|            Bensalem|          42.1|       49.0|       30.09|          10.0|          West|             11.5|              0.0|  false|false|   false|   false|   false|  false|  false|     false|  false|false|          false|         false|       false|           Day|          5|        341|2017|   9|             360.0|\n",
      "|   PA|   12|            Clear|     Bucks|       4|2017-12-07 10:55:07|2017-12-07 16:55:07| 40.12343|        -74.853014|             6.482|           Levittown|          45.0|       44.0|       30.09|          10.0|          West|             12.7|              0.0|  false|false|   false|   false|   false|  false|  false|     false|  false|false|          false|         false|       false|           Day|          5|        341|2017|  10|             360.0|\n",
      "|   PA|   12|            Clear|     Bucks|       2|2017-12-13 17:38:56|2017-12-13 23:38:56|40.401635|        -75.412112|             0.959|          Quakertown|          24.8|       43.0|       29.69|          10.0|          West|              5.8|              0.0|  false|false|   false|   false|   false|  false|  false|     false|  false|false|          false|         false|       false|         Night|          4|        347|2017|  17|             360.0|\n",
      "|   PA|   12|            Clear|     Bucks|       4|2017-12-19 06:27:35|2017-12-19 12:27:35| 40.13284|-74.97509000000002|             8.039|Feasterville Trevose|          41.0|       79.0|       29.96|           8.0|          West|              3.5|              0.0|  false|false|   false|   false|   false|  false|  false|     false|  false|false|          false|         false|       false|         Night|          3|        353|2017|   6|             360.0|\n",
      "|   PA|   12|            Clear|     Bucks|       2|2017-12-25 21:52:19|2017-12-26 03:52:19| 40.08109|         -74.93796|             0.467|            Bensalem|          30.0|       41.0|       30.29|          10.0|           WSW|             13.8|              0.0|  false|false|   false|   false|    true|  false|  false|     false|  false|false|          false|         false|       false|         Night|          2|        359|2017|  21|             360.0|\n",
      "|   PA|   12|            Clear|     Bucks|       2|2017-12-27 18:06:34|2017-12-28 00:06:34| 40.16261|         -74.90056|             3.972|           Langhorne|          21.0|       40.0|       30.47|          10.0|            NW|              6.9|              0.0|  false|false|   false|   false|   false|  false|  false|     false|  false|false|          false|         false|       false|         Night|          4|        361|2017|  18|             360.0|\n",
      "|   PA|   12|            Clear|     Bucks|       2|2017-12-27 18:06:34|2017-12-28 00:20:50|40.162179|         -74.90058|             3.942|           Langhorne|          21.0|       40.0|       30.47|          10.0|            NW|              6.9|              0.0|  false|false|   false|   false|   false|  false|  false|     false|  false|false|          false|         false|       false|         Night|          4|        361|2017|  18|374.26666666666665|\n",
      "|   PA|   12|    Partly Cloudy|  Franklin|       2|2017-12-27 14:26:50|2017-12-27 20:26:50| 39.72126|-77.73279000000002|             0.033|              Antrim|          24.1|       34.0|       30.53|          10.0|            NW|             11.5|              0.0|  false|false|   false|   false|   false|  false|  false|     false|  false|false|          false|         false|       false|           Day|          4|        361|2017|  14|             360.0|\n",
      "+-----+-----+-----------------+----------+--------+-------------------+-------------------+---------+------------------+------------------+--------------------+--------------+-----------+------------+--------------+--------------+-----------------+-----------------+-------+-----+--------+--------+--------+-------+-------+----------+-------+-----+---------------+--------------+------------+--------------+-----------+-----------+----+----+------------------+\n",
      "only showing top 20 rows\n",
      "\n"
     ]
    }
   ],
   "source": [
    "from pyspark.sql import SparkSession\n",
    "\n",
    "# Krijo një sesion Spark\n",
    "spark = SparkSession.builder \\\n",
    "    .appName(\"Combine CSV Files\") \\\n",
    "    .getOrCreate()\n",
    "\n",
    "# Lista e skedarëve të ngarkuar\n",
    "file_paths = [\n",
    "    \"/Users/elvislleshi/Desktop/DDAM/cleaned_data.csv/part-00000-b3c0df62-e5fd-4925-9d9b-39983222698e-c000.csv\",\n",
    "    \"/Users/elvislleshi/Desktop/DDAM/cleaned_data.csv/part-00001-b3c0df62-e5fd-4925-9d9b-39983222698e-c000.csv\",\n",
    "    \"/Users/elvislleshi/Desktop/DDAM/cleaned_data.csv/part-00002-b3c0df62-e5fd-4925-9d9b-39983222698e-c000.csv\",\n",
    "    \"/Users/elvislleshi/Desktop/DDAM/cleaned_data.csv/part-00003-b3c0df62-e5fd-4925-9d9b-39983222698e-c000.csv\",\n",
    "    \"/Users/elvislleshi/Desktop/DDAM/cleaned_data.csv/part-00004-b3c0df62-e5fd-4925-9d9b-39983222698e-c000.csv\",\n",
    "    \"/Users/elvislleshi/Desktop/DDAM/cleaned_data.csv/part-00005-b3c0df62-e5fd-4925-9d9b-39983222698e-c000.csv\",\n",
    "    \"/Users/elvislleshi/Desktop/DDAM/cleaned_data.csv/part-00006-b3c0df62-e5fd-4925-9d9b-39983222698e-c000.csv\",\n",
    "    \"/Users/elvislleshi/Desktop/DDAM/cleaned_data.csv/part-00007-b3c0df62-e5fd-4925-9d9b-39983222698e-c000.csv\",\n",
    "    \"/Users/elvislleshi/Desktop/DDAM/cleaned_data.csv/part-00008-b3c0df62-e5fd-4925-9d9b-39983222698e-c000.csv\"\n",
    "]\n",
    "\n",
    "# Lexo dhe bashko të gjitha datasetet\n",
    "dataframes = [spark.read.csv(file, header=True, inferSchema=True) for file in file_paths]\n",
    "\n",
    "# Bashko datasetet\n",
    "df = dataframes[0]\n",
    "for df in dataframes[1:]:\n",
    "    df = df.union(df)\n",
    "\n",
    "# Shfaq rreshtat e para për verifikim\n",
    "df.show()\n"
   ]
  },
  {
   "cell_type": "code",
   "execution_count": 4,
   "id": "c65543fa",
   "metadata": {
    "scrolled": true
   },
   "outputs": [
    {
     "name": "stderr",
     "output_type": "stream",
     "text": [
      "24/12/03 03:03:21 WARN SparkSession: Using an existing Spark session; only runtime SQL configurations will take effect.\n"
     ]
    },
    {
     "name": "stdout",
     "output_type": "stream",
     "text": [
      "+---------+------------------+------------+--------------+-----------+------------+--------------+-----------------+-----------------+----------------+-------+-----+--------+--------+--------+-------+-------+----------+-------+-----+---------------+--------------+--------------+--------+\n",
      "|Start_Lat|         Start_Lng|Distance(mi)|Temperature(F)|Humidity(%)|Pressure(in)|Visibility(mi)|  Wind_Speed(mph)|Precipitation(in)|Traffic_Duration|Amenity| Bump|Crossing|Give_Way|Junction|No_Exit|Railway|Roundabout|Station| Stop|Traffic_Calming|Traffic_Signal|Civil_Twilight|Severity|\n",
      "+---------+------------------+------------+--------------+-----------+------------+--------------+-----------------+-----------------+----------------+-------+-----+--------+--------+--------+-------+-------+----------+-------+-----+---------------+--------------+--------------+--------+\n",
      "| 40.06695|-75.66226999999998|       0.253|          32.0|       55.0|        29.4|          10.0|              7.0|              0.0|           360.0|  false|false|   false|   false|   false|  false|  false|     false|  false|false|          false|         false|           Day|       2|\n",
      "| 40.00663|          -75.7461|         0.0|          37.0|       65.0|       29.37|          10.0|             10.0|              0.0|            30.0|  false|false|   false|   false|   false|  false|  false|     false|  false|false|          false|          true|           Day|       2|\n",
      "| 40.00663|          -75.7461|         0.0|          37.0|       65.0|       29.37|          10.0|             10.0|              0.0|            30.0|  false|false|   false|   false|   false|  false|  false|     false|  false|false|          false|          true|           Day|       2|\n",
      "| 40.15868|         -77.69886|       4.579|          25.0|       39.0|       30.51|          10.0|              9.2|              0.0|           360.0|  false|false|   false|   false|   false|  false|  false|     false|  false|false|          false|         false|           Day|       2|\n",
      "| 40.11231|         -75.27999|       0.398|          32.0|       55.0|       30.13|          10.0|9.220321336978788|              0.0|           360.0|  false|false|   false|   false|   false|  false|  false|     false|  false|false|          false|         false|           Day|       2|\n",
      "+---------+------------------+------------+--------------+-----------+------------+--------------+-----------------+-----------------+----------------+-------+-----+--------+--------+--------+-------+-------+----------+-------+-----+---------------+--------------+--------------+--------+\n",
      "only showing top 5 rows\n",
      "\n"
     ]
    }
   ],
   "source": [
    "# Import necessary libraries\n",
    "from pyspark.sql import SparkSession\n",
    "\n",
    "# Initialize Spark session\n",
    "spark = SparkSession.builder.appName(\"Macro Map Classification\").getOrCreate()\n",
    "\n",
    "# Load Macro Map dataset (assuming it's derived from your existing dataset)\n",
    "macro_map = df.select(\n",
    "    'Start_Lat', 'Start_Lng', 'Distance(mi)', 'Temperature(F)', 'Humidity(%)',\n",
    "    'Pressure(in)', 'Visibility(mi)', 'Wind_Speed(mph)', 'Precipitation(in)', \n",
    "    'Traffic_Duration', 'Amenity', 'Bump', 'Crossing', 'Give_Way', 'Junction', \n",
    "    'No_Exit', 'Railway', 'Roundabout', 'Station', 'Stop', 'Traffic_Calming', \n",
    "    'Traffic_Signal', 'Civil_Twilight', 'Severity'\n",
    ")\n",
    "\n",
    "# Check the data\n",
    "macro_map.show(5)\n"
   ]
  },
  {
   "cell_type": "markdown",
   "id": "9466746a",
   "metadata": {},
   "source": [
    "### Convert each binary column to 0 and 1"
   ]
  },
  {
   "cell_type": "code",
   "execution_count": 5,
   "id": "2db5c173",
   "metadata": {},
   "outputs": [
    {
     "name": "stdout",
     "output_type": "stream",
     "text": [
      "+-------+----+--------+--------+--------+-------+-------+----------+-------+----+---------------+--------------+--------------+\n",
      "|Amenity|Bump|Crossing|Give_Way|Junction|No_Exit|Railway|Roundabout|Station|Stop|Traffic_Calming|Traffic_Signal|Civil_Twilight|\n",
      "+-------+----+--------+--------+--------+-------+-------+----------+-------+----+---------------+--------------+--------------+\n",
      "|      0|   0|       0|       0|       0|      0|      0|         0|      0|   0|              0|             0|             0|\n",
      "|      0|   0|       0|       0|       0|      0|      0|         0|      0|   0|              0|             1|             0|\n",
      "|      0|   0|       0|       0|       0|      0|      0|         0|      0|   0|              0|             1|             0|\n",
      "|      0|   0|       0|       0|       0|      0|      0|         0|      0|   0|              0|             0|             0|\n",
      "|      0|   0|       0|       0|       0|      0|      0|         0|      0|   0|              0|             0|             0|\n",
      "+-------+----+--------+--------+--------+-------+-------+----------+-------+----+---------------+--------------+--------------+\n",
      "only showing top 5 rows\n",
      "\n"
     ]
    }
   ],
   "source": [
    "from pyspark.sql.functions import when\n",
    "\n",
    "# List of binary columns to convert\n",
    "binary_columns = [\n",
    "    'Amenity', 'Bump', 'Crossing', 'Give_Way', 'Junction', 'No_Exit',\n",
    "    'Railway', 'Roundabout', 'Station', 'Stop', 'Traffic_Calming', \n",
    "    'Traffic_Signal', 'Civil_Twilight'\n",
    "]\n",
    "\n",
    "# Convert each binary column to 0 and 1\n",
    "for col in binary_columns:\n",
    "    macro_map = macro_map.withColumn(col, when(macro_map[col] == True, 1).otherwise(0))\n",
    "\n",
    "# Verify the changes\n",
    "macro_map.select(binary_columns).show(5)\n"
   ]
  },
  {
   "cell_type": "code",
   "execution_count": 6,
   "id": "24ee7c66",
   "metadata": {},
   "outputs": [
    {
     "name": "stdout",
     "output_type": "stream",
     "text": [
      "root\n",
      " |-- Start_Lat: double (nullable = true)\n",
      " |-- Start_Lng: double (nullable = true)\n",
      " |-- Distance(mi): double (nullable = true)\n",
      " |-- Temperature(F): double (nullable = true)\n",
      " |-- Humidity(%): double (nullable = true)\n",
      " |-- Pressure(in): double (nullable = true)\n",
      " |-- Visibility(mi): double (nullable = true)\n",
      " |-- Wind_Speed(mph): double (nullable = true)\n",
      " |-- Precipitation(in): double (nullable = true)\n",
      " |-- Traffic_Duration: double (nullable = true)\n",
      " |-- Amenity: integer (nullable = false)\n",
      " |-- Bump: integer (nullable = false)\n",
      " |-- Crossing: integer (nullable = false)\n",
      " |-- Give_Way: integer (nullable = false)\n",
      " |-- Junction: integer (nullable = false)\n",
      " |-- No_Exit: integer (nullable = false)\n",
      " |-- Railway: integer (nullable = false)\n",
      " |-- Roundabout: integer (nullable = false)\n",
      " |-- Station: integer (nullable = false)\n",
      " |-- Stop: integer (nullable = false)\n",
      " |-- Traffic_Calming: integer (nullable = false)\n",
      " |-- Traffic_Signal: integer (nullable = false)\n",
      " |-- Civil_Twilight: integer (nullable = false)\n",
      " |-- Severity: integer (nullable = true)\n",
      "\n"
     ]
    }
   ],
   "source": [
    "# Check the schema to ensure all binary columns are now integer\n",
    "macro_map.printSchema()\n"
   ]
  },
  {
   "cell_type": "code",
   "execution_count": 7,
   "id": "7542436e",
   "metadata": {},
   "outputs": [
    {
     "name": "stdout",
     "output_type": "stream",
     "text": [
      "+---------+------------------+------------+--------------+-----------+------------+--------------+-----------------+-----------------+----------------+-------+----+--------+--------+--------+-------+-------+----------+-------+----+---------------+--------------+--------------+--------+\n",
      "|Start_Lat|         Start_Lng|Distance(mi)|Temperature(F)|Humidity(%)|Pressure(in)|Visibility(mi)|  Wind_Speed(mph)|Precipitation(in)|Traffic_Duration|Amenity|Bump|Crossing|Give_Way|Junction|No_Exit|Railway|Roundabout|Station|Stop|Traffic_Calming|Traffic_Signal|Civil_Twilight|Severity|\n",
      "+---------+------------------+------------+--------------+-----------+------------+--------------+-----------------+-----------------+----------------+-------+----+--------+--------+--------+-------+-------+----------+-------+----+---------------+--------------+--------------+--------+\n",
      "| 40.06695|-75.66226999999998|       0.253|          32.0|       55.0|        29.4|          10.0|              7.0|              0.0|           360.0|      0|   0|       0|       0|       0|      0|      0|         0|      0|   0|              0|             0|             0|       2|\n",
      "| 40.00663|          -75.7461|         0.0|          37.0|       65.0|       29.37|          10.0|             10.0|              0.0|            30.0|      0|   0|       0|       0|       0|      0|      0|         0|      0|   0|              0|             1|             0|       2|\n",
      "| 40.00663|          -75.7461|         0.0|          37.0|       65.0|       29.37|          10.0|             10.0|              0.0|            30.0|      0|   0|       0|       0|       0|      0|      0|         0|      0|   0|              0|             1|             0|       2|\n",
      "| 40.15868|         -77.69886|       4.579|          25.0|       39.0|       30.51|          10.0|              9.2|              0.0|           360.0|      0|   0|       0|       0|       0|      0|      0|         0|      0|   0|              0|             0|             0|       2|\n",
      "| 40.11231|         -75.27999|       0.398|          32.0|       55.0|       30.13|          10.0|9.220321336978788|              0.0|           360.0|      0|   0|       0|       0|       0|      0|      0|         0|      0|   0|              0|             0|             0|       2|\n",
      "+---------+------------------+------------+--------------+-----------+------------+--------------+-----------------+-----------------+----------------+-------+----+--------+--------+--------+-------+-------+----------+-------+----+---------------+--------------+--------------+--------+\n",
      "only showing top 5 rows\n",
      "\n"
     ]
    }
   ],
   "source": [
    "macro_map.show(5) "
   ]
  },
  {
   "cell_type": "code",
   "execution_count": 8,
   "id": "8d12bc2a",
   "metadata": {},
   "outputs": [
    {
     "name": "stdout",
     "output_type": "stream",
     "text": [
      "+---------+------------------+------------+--------------+-----------+------------+--------------+-----------------+-----------------+----------------+-------+-----+--------+--------+--------+-------+-------+----------+-------+-----+---------------+--------------+--------------+--------+\n",
      "|Start_Lat|         Start_Lng|Distance(mi)|Temperature(F)|Humidity(%)|Pressure(in)|Visibility(mi)|  Wind_Speed(mph)|Precipitation(in)|Traffic_Duration|Amenity| Bump|Crossing|Give_Way|Junction|No_Exit|Railway|Roundabout|Station| Stop|Traffic_Calming|Traffic_Signal|Civil_Twilight|Severity|\n",
      "+---------+------------------+------------+--------------+-----------+------------+--------------+-----------------+-----------------+----------------+-------+-----+--------+--------+--------+-------+-------+----------+-------+-----+---------------+--------------+--------------+--------+\n",
      "| 40.06695|-75.66226999999998|       0.253|          32.0|       55.0|        29.4|          10.0|              7.0|              0.0|           360.0|  false|false|   false|   false|   false|  false|  false|     false|  false|false|          false|         false|           Day|       2|\n",
      "| 40.00663|          -75.7461|         0.0|          37.0|       65.0|       29.37|          10.0|             10.0|              0.0|            30.0|  false|false|   false|   false|   false|  false|  false|     false|  false|false|          false|          true|           Day|       2|\n",
      "| 40.00663|          -75.7461|         0.0|          37.0|       65.0|       29.37|          10.0|             10.0|              0.0|            30.0|  false|false|   false|   false|   false|  false|  false|     false|  false|false|          false|          true|           Day|       2|\n",
      "| 40.15868|         -77.69886|       4.579|          25.0|       39.0|       30.51|          10.0|              9.2|              0.0|           360.0|  false|false|   false|   false|   false|  false|  false|     false|  false|false|          false|         false|           Day|       2|\n",
      "| 40.11231|         -75.27999|       0.398|          32.0|       55.0|       30.13|          10.0|9.220321336978788|              0.0|           360.0|  false|false|   false|   false|   false|  false|  false|     false|  false|false|          false|         false|           Day|       2|\n",
      "+---------+------------------+------------+--------------+-----------+------------+--------------+-----------------+-----------------+----------------+-------+-----+--------+--------+--------+-------+-------+----------+-------+-----+---------------+--------------+--------------+--------+\n",
      "only showing top 5 rows\n",
      "\n"
     ]
    }
   ],
   "source": [
    "# Add Severity to Macro Map\n",
    "macro_map = df.select(\n",
    "    'Start_Lat', 'Start_Lng', 'Distance(mi)', 'Temperature(F)', 'Humidity(%)',\n",
    "    'Pressure(in)', 'Visibility(mi)', 'Wind_Speed(mph)', 'Precipitation(in)', \n",
    "    'Traffic_Duration', 'Amenity', 'Bump', 'Crossing', 'Give_Way', 'Junction', \n",
    "    'No_Exit', 'Railway', 'Roundabout', 'Station', 'Stop', 'Traffic_Calming', \n",
    "    'Traffic_Signal', 'Civil_Twilight', 'Severity'  # Include Severity\n",
    ")\n",
    "\n",
    "# Check the new dataset\n",
    "macro_map.show(5)\n"
   ]
  },
  {
   "cell_type": "code",
   "execution_count": null,
   "id": "9cbbfd39",
   "metadata": {},
   "outputs": [],
   "source": []
  },
  {
   "cell_type": "code",
   "execution_count": 9,
   "id": "eb5ee38a",
   "metadata": {},
   "outputs": [
    {
     "name": "stdout",
     "output_type": "stream",
     "text": [
      "Distinct values in column 'Start_Lat':\n"
     ]
    },
    {
     "name": "stderr",
     "output_type": "stream",
     "text": [
      "                                                                                \r"
     ]
    },
    {
     "name": "stdout",
     "output_type": "stream",
     "text": [
      "+---------+\n",
      "|Start_Lat|\n",
      "+---------+\n",
      "| 40.04925|\n",
      "| 38.63069|\n",
      "| 32.67597|\n",
      "| 39.77969|\n",
      "|34.910236|\n",
      "| 38.80473|\n",
      "| 40.76056|\n",
      "|40.741274|\n",
      "|40.772676|\n",
      "| 40.85911|\n",
      "| 40.72626|\n",
      "| 40.02576|\n",
      "|37.491449|\n",
      "| 42.00798|\n",
      "| 43.46022|\n",
      "|43.598328|\n",
      "| 35.71758|\n",
      "| 39.80506|\n",
      "| 35.10773|\n",
      "| 33.63232|\n",
      "+---------+\n",
      "only showing top 20 rows\n",
      "\n",
      "Distinct values in column 'Start_Lng':\n"
     ]
    },
    {
     "name": "stderr",
     "output_type": "stream",
     "text": [
      "                                                                                \r"
     ]
    },
    {
     "name": "stdout",
     "output_type": "stream",
     "text": [
      "+------------------+\n",
      "|         Start_Lng|\n",
      "+------------------+\n",
      "|        -80.274263|\n",
      "|        -104.98031|\n",
      "|       -104.888992|\n",
      "|        -105.01481|\n",
      "|-76.28762900000002|\n",
      "|        -80.001365|\n",
      "|-81.84206999999998|\n",
      "|-81.75846999999997|\n",
      "|         -76.35298|\n",
      "|        -76.426086|\n",
      "|        -77.548855|\n",
      "|        -111.97119|\n",
      "|-82.36926700000002|\n",
      "|-85.72858000000002|\n",
      "|         -93.36127|\n",
      "|        -81.030948|\n",
      "|        -78.859161|\n",
      "|          -80.8373|\n",
      "|         -84.32383|\n",
      "|-83.76590999999998|\n",
      "+------------------+\n",
      "only showing top 20 rows\n",
      "\n",
      "Distinct values in column 'Distance(mi)':\n"
     ]
    },
    {
     "name": "stderr",
     "output_type": "stream",
     "text": [
      "                                                                                \r"
     ]
    },
    {
     "name": "stdout",
     "output_type": "stream",
     "text": [
      "+------------------+\n",
      "|      Distance(mi)|\n",
      "+------------------+\n",
      "|             0.204|\n",
      "|             0.194|\n",
      "|0.5920000000000001|\n",
      "|0.4370000000000001|\n",
      "|             2.107|\n",
      "|            29.153|\n",
      "|             0.526|\n",
      "|             0.134|\n",
      "|              0.66|\n",
      "|             1.921|\n",
      "|             3.179|\n",
      "|             5.879|\n",
      "|0.6890000000000001|\n",
      "|             1.097|\n",
      "|             1.153|\n",
      "|1.5519999999999998|\n",
      "|             2.057|\n",
      "|             1.757|\n",
      "|             4.132|\n",
      "|            28.647|\n",
      "+------------------+\n",
      "only showing top 20 rows\n",
      "\n",
      "Distinct values in column 'Temperature(F)':\n"
     ]
    },
    {
     "name": "stderr",
     "output_type": "stream",
     "text": [
      "                                                                                \r"
     ]
    },
    {
     "name": "stdout",
     "output_type": "stream",
     "text": [
      "+--------------+\n",
      "|Temperature(F)|\n",
      "+--------------+\n",
      "|          69.8|\n",
      "|          49.8|\n",
      "|          56.8|\n",
      "|          74.5|\n",
      "|          64.2|\n",
      "|          47.5|\n",
      "|          72.3|\n",
      "|          18.3|\n",
      "|          86.9|\n",
      "|          78.4|\n",
      "|          67.0|\n",
      "|          70.0|\n",
      "|          45.3|\n",
      "|          96.8|\n",
      "|          55.8|\n",
      "|          10.2|\n",
      "|          44.8|\n",
      "|          56.5|\n",
      "|          50.9|\n",
      "|          69.0|\n",
      "+--------------+\n",
      "only showing top 20 rows\n",
      "\n",
      "Distinct values in column 'Humidity(%)':\n",
      "+------------------+\n",
      "|       Humidity(%)|\n",
      "+------------------+\n",
      "|              67.0|\n",
      "|              70.0|\n",
      "| 89.51042611060744|\n",
      "| 61.05476759914528|\n",
      "| 92.10588713713713|\n",
      "| 65.39026431132953|\n",
      "| 78.80286712974981|\n",
      "| 56.89089737157164|\n",
      "| 87.70969240856353|\n",
      "| 91.51968456753875|\n",
      "|55.881438062632526|\n",
      "| 58.93028641037501|\n",
      "| 64.60416730416345|\n",
      "|  94.9895165987187|\n",
      "| 45.37201013781087|\n",
      "| 69.69947326233826|\n",
      "| 85.48028985507247|\n",
      "|  76.8544621265981|\n",
      "| 85.47937022856118|\n",
      "|  83.6931197401447|\n",
      "+------------------+\n",
      "only showing top 20 rows\n",
      "\n",
      "Distinct values in column 'Pressure(in)':\n"
     ]
    },
    {
     "name": "stderr",
     "output_type": "stream",
     "text": [
      "                                                                                \r"
     ]
    },
    {
     "name": "stdout",
     "output_type": "stream",
     "text": [
      "+------------+\n",
      "|Pressure(in)|\n",
      "+------------+\n",
      "|       23.04|\n",
      "|       30.49|\n",
      "|        26.7|\n",
      "|       24.19|\n",
      "|       24.42|\n",
      "|       24.96|\n",
      "|       24.03|\n",
      "|       30.81|\n",
      "|       28.23|\n",
      "|       29.47|\n",
      "|       30.79|\n",
      "|        25.1|\n",
      "|       29.74|\n",
      "|       22.83|\n",
      "|       29.15|\n",
      "|       27.53|\n",
      "|        24.7|\n",
      "|       25.77|\n",
      "|       29.42|\n",
      "|       26.08|\n",
      "+------------+\n",
      "only showing top 20 rows\n",
      "\n",
      "Distinct values in column 'Visibility(mi)':\n",
      "+------------------+\n",
      "|    Visibility(mi)|\n",
      "+------------------+\n",
      "|               8.0|\n",
      "|              70.0|\n",
      "| 9.958852556600057|\n",
      "|               0.2|\n",
      "| 9.847060342450694|\n",
      "| 9.856426891695829|\n",
      "|               0.1|\n",
      "|              0.12|\n",
      "|              0.63|\n",
      "|               2.8|\n",
      "|4.0559934974121115|\n",
      "|10.043811691752193|\n",
      "|  8.67136387544712|\n",
      "| 9.856079247556504|\n",
      "| 9.183539076196027|\n",
      "|               1.2|\n",
      "|               0.9|\n",
      "|               1.8|\n",
      "| 6.838560880884299|\n",
      "| 9.785105407882675|\n",
      "+------------------+\n",
      "only showing top 20 rows\n",
      "\n",
      "Distinct values in column 'Wind_Speed(mph)':\n",
      "+------------------+\n",
      "|   Wind_Speed(mph)|\n",
      "+------------------+\n",
      "| 4.227142303218298|\n",
      "|               8.0|\n",
      "|               0.0|\n",
      "| 8.168196690042832|\n",
      "|              31.1|\n",
      "|              17.3|\n",
      "|              28.8|\n",
      "| 9.215875104293689|\n",
      "|               2.3|\n",
      "|              44.9|\n",
      "|              13.8|\n",
      "| 9.417708333333334|\n",
      "|10.018370073480304|\n",
      "| 5.702784810126582|\n",
      "|3.5675890097062206|\n",
      "| 7.770507748871409|\n",
      "| 9.220321336978788|\n",
      "| 7.207904002885051|\n",
      "| 6.040511257829694|\n",
      "|              18.4|\n",
      "+------------------+\n",
      "only showing top 20 rows\n",
      "\n",
      "Distinct values in column 'Precipitation(in)':\n"
     ]
    },
    {
     "name": "stderr",
     "output_type": "stream",
     "text": [
      "                                                                                \r"
     ]
    },
    {
     "name": "stdout",
     "output_type": "stream",
     "text": [
      "+-----------------+\n",
      "|Precipitation(in)|\n",
      "+-----------------+\n",
      "|             0.66|\n",
      "|             0.07|\n",
      "|              0.0|\n",
      "|             0.16|\n",
      "|             0.18|\n",
      "|              0.2|\n",
      "|             1.52|\n",
      "|             0.05|\n",
      "|             9.99|\n",
      "|             0.39|\n",
      "|             0.79|\n",
      "|             2.27|\n",
      "|             0.72|\n",
      "|             0.24|\n",
      "|             0.54|\n",
      "|             0.21|\n",
      "|             0.61|\n",
      "|             0.12|\n",
      "|             2.04|\n",
      "|             0.42|\n",
      "+-----------------+\n",
      "only showing top 20 rows\n",
      "\n",
      "Distinct values in column 'Traffic_Duration':\n",
      "+------------------+\n",
      "|  Traffic_Duration|\n",
      "+------------------+\n",
      "|29.316666666666666|\n",
      "|             305.0|\n",
      "|26.733333333333334|\n",
      "|360.03333333333336|\n",
      "|299.28333333333336|\n",
      "|             299.0|\n",
      "|              26.7|\n",
      "| 598.8666666666667|\n",
      "|58.083333333333336|\n",
      "| 363.3666666666667|\n",
      "|27.933333333333334|\n",
      "| 299.6166666666667|\n",
      "|              15.4|\n",
      "|14.333333333333334|\n",
      "|           5334.35|\n",
      "|            249.35|\n",
      "| 363.3833333333333|\n",
      "|             29.15|\n",
      "| 364.1333333333333|\n",
      "|360.01666666666665|\n",
      "+------------------+\n",
      "only showing top 20 rows\n",
      "\n"
     ]
    }
   ],
   "source": [
    "from pyspark.sql.types import DoubleType\n",
    "\n",
    "# Find columns of type DoubleType\n",
    "double_columns = [col for col in macro_map.columns if isinstance(macro_map.schema[col].dataType, DoubleType)]\n",
    "\n",
    "# Display distinct values for each double column to confirm if they are binary\n",
    "for col in double_columns:\n",
    "    print(f\"Distinct values in column '{col}':\")\n",
    "    macro_map.select(col).distinct().show()\n"
   ]
  },
  {
   "cell_type": "code",
   "execution_count": 10,
   "id": "448053dc",
   "metadata": {},
   "outputs": [
    {
     "name": "stdout",
     "output_type": "stream",
     "text": [
      "Distinct values in column 'Start_Lat':\n"
     ]
    },
    {
     "name": "stderr",
     "output_type": "stream",
     "text": [
      "                                                                                \r"
     ]
    },
    {
     "name": "stdout",
     "output_type": "stream",
     "text": [
      "+---------+\n",
      "|Start_Lat|\n",
      "+---------+\n",
      "| 40.04925|\n",
      "| 38.63069|\n",
      "| 32.67597|\n",
      "| 39.77969|\n",
      "|34.910236|\n",
      "| 38.80473|\n",
      "| 40.76056|\n",
      "|40.741274|\n",
      "|40.772676|\n",
      "| 40.85911|\n",
      "| 40.72626|\n",
      "| 40.02576|\n",
      "|37.491449|\n",
      "| 42.00798|\n",
      "| 43.46022|\n",
      "|43.598328|\n",
      "| 35.71758|\n",
      "| 39.80506|\n",
      "| 35.10773|\n",
      "| 33.63232|\n",
      "+---------+\n",
      "only showing top 20 rows\n",
      "\n",
      "Distinct values in column 'Start_Lng':\n"
     ]
    },
    {
     "name": "stderr",
     "output_type": "stream",
     "text": [
      "                                                                                \r"
     ]
    },
    {
     "name": "stdout",
     "output_type": "stream",
     "text": [
      "+------------------+\n",
      "|         Start_Lng|\n",
      "+------------------+\n",
      "|        -80.274263|\n",
      "|        -104.98031|\n",
      "|       -104.888992|\n",
      "|        -105.01481|\n",
      "|-76.28762900000002|\n",
      "|        -80.001365|\n",
      "|-81.84206999999998|\n",
      "|-81.75846999999997|\n",
      "|         -76.35298|\n",
      "|        -76.426086|\n",
      "|        -77.548855|\n",
      "|        -111.97119|\n",
      "|-82.36926700000002|\n",
      "|-85.72858000000002|\n",
      "|         -93.36127|\n",
      "|        -81.030948|\n",
      "|        -78.859161|\n",
      "|          -80.8373|\n",
      "|         -84.32383|\n",
      "|-83.76590999999998|\n",
      "+------------------+\n",
      "only showing top 20 rows\n",
      "\n",
      "Distinct values in column 'Distance(mi)':\n",
      "+------------------+\n",
      "|      Distance(mi)|\n",
      "+------------------+\n",
      "|             0.204|\n",
      "|             0.194|\n",
      "|0.5920000000000001|\n",
      "|0.4370000000000001|\n",
      "|             2.107|\n",
      "|            29.153|\n",
      "|             0.526|\n",
      "|             0.134|\n",
      "|              0.66|\n",
      "|             1.921|\n",
      "|             3.179|\n",
      "|             5.879|\n",
      "|0.6890000000000001|\n",
      "|             1.097|\n",
      "|             1.153|\n",
      "|1.5519999999999998|\n",
      "|             2.057|\n",
      "|             1.757|\n",
      "|             4.132|\n",
      "|            28.647|\n",
      "+------------------+\n",
      "only showing top 20 rows\n",
      "\n",
      "Distinct values in column 'Temperature(F)':\n"
     ]
    },
    {
     "name": "stderr",
     "output_type": "stream",
     "text": [
      "                                                                                \r"
     ]
    },
    {
     "name": "stdout",
     "output_type": "stream",
     "text": [
      "+--------------+\n",
      "|Temperature(F)|\n",
      "+--------------+\n",
      "|          69.8|\n",
      "|          49.8|\n",
      "|          56.8|\n",
      "|          74.5|\n",
      "|          64.2|\n",
      "|          47.5|\n",
      "|          72.3|\n",
      "|          18.3|\n",
      "|          86.9|\n",
      "|          78.4|\n",
      "|          67.0|\n",
      "|          70.0|\n",
      "|          45.3|\n",
      "|          96.8|\n",
      "|          55.8|\n",
      "|          10.2|\n",
      "|          44.8|\n",
      "|          56.5|\n",
      "|          50.9|\n",
      "|          69.0|\n",
      "+--------------+\n",
      "only showing top 20 rows\n",
      "\n",
      "Distinct values in column 'Humidity(%)':\n",
      "+------------------+\n",
      "|       Humidity(%)|\n",
      "+------------------+\n",
      "|              67.0|\n",
      "|              70.0|\n",
      "| 89.51042611060744|\n",
      "| 61.05476759914528|\n",
      "| 92.10588713713713|\n",
      "| 65.39026431132953|\n",
      "| 78.80286712974981|\n",
      "| 56.89089737157164|\n",
      "| 87.70969240856353|\n",
      "| 91.51968456753875|\n",
      "|55.881438062632526|\n",
      "| 58.93028641037501|\n",
      "| 64.60416730416345|\n",
      "|  94.9895165987187|\n",
      "| 45.37201013781087|\n",
      "| 69.69947326233826|\n",
      "| 85.48028985507247|\n",
      "|  76.8544621265981|\n",
      "| 85.47937022856118|\n",
      "|  83.6931197401447|\n",
      "+------------------+\n",
      "only showing top 20 rows\n",
      "\n",
      "Distinct values in column 'Pressure(in)':\n"
     ]
    },
    {
     "name": "stderr",
     "output_type": "stream",
     "text": [
      "                                                                                \r"
     ]
    },
    {
     "name": "stdout",
     "output_type": "stream",
     "text": [
      "+------------+\n",
      "|Pressure(in)|\n",
      "+------------+\n",
      "|       23.04|\n",
      "|       30.49|\n",
      "|        26.7|\n",
      "|       24.19|\n",
      "|       24.42|\n",
      "|       24.96|\n",
      "|       24.03|\n",
      "|       30.81|\n",
      "|       28.23|\n",
      "|       29.47|\n",
      "|       30.79|\n",
      "|        25.1|\n",
      "|       29.74|\n",
      "|       22.83|\n",
      "|       29.15|\n",
      "|       27.53|\n",
      "|        24.7|\n",
      "|       25.77|\n",
      "|       29.42|\n",
      "|       26.08|\n",
      "+------------+\n",
      "only showing top 20 rows\n",
      "\n",
      "Distinct values in column 'Visibility(mi)':\n",
      "+------------------+\n",
      "|    Visibility(mi)|\n",
      "+------------------+\n",
      "|               8.0|\n",
      "|              70.0|\n",
      "| 9.958852556600057|\n",
      "|               0.2|\n",
      "| 9.847060342450694|\n",
      "| 9.856426891695829|\n",
      "|               0.1|\n",
      "|              0.12|\n",
      "|              0.63|\n",
      "|               2.8|\n",
      "|4.0559934974121115|\n",
      "|10.043811691752193|\n",
      "|  8.67136387544712|\n",
      "| 9.856079247556504|\n",
      "| 9.183539076196027|\n",
      "|               1.2|\n",
      "|               0.9|\n",
      "|               1.8|\n",
      "| 6.838560880884299|\n",
      "| 9.785105407882675|\n",
      "+------------------+\n",
      "only showing top 20 rows\n",
      "\n",
      "Distinct values in column 'Wind_Speed(mph)':\n",
      "+------------------+\n",
      "|   Wind_Speed(mph)|\n",
      "+------------------+\n",
      "| 4.227142303218298|\n",
      "|               8.0|\n",
      "|               0.0|\n",
      "| 8.168196690042832|\n",
      "|              31.1|\n",
      "|              17.3|\n",
      "|              28.8|\n",
      "| 9.215875104293689|\n",
      "|               2.3|\n",
      "|              44.9|\n",
      "|              13.8|\n",
      "| 9.417708333333334|\n",
      "|10.018370073480304|\n",
      "| 5.702784810126582|\n",
      "|3.5675890097062206|\n",
      "| 7.770507748871409|\n",
      "| 9.220321336978788|\n",
      "| 7.207904002885051|\n",
      "| 6.040511257829694|\n",
      "|              18.4|\n",
      "+------------------+\n",
      "only showing top 20 rows\n",
      "\n",
      "Distinct values in column 'Precipitation(in)':\n",
      "+-----------------+\n",
      "|Precipitation(in)|\n",
      "+-----------------+\n",
      "|             0.66|\n",
      "|             0.07|\n",
      "|              0.0|\n",
      "|             0.16|\n",
      "|             0.18|\n",
      "|              0.2|\n",
      "|             1.52|\n",
      "|             0.05|\n",
      "|             9.99|\n",
      "|             0.39|\n",
      "|             0.79|\n",
      "|             2.27|\n",
      "|             0.72|\n",
      "|             0.24|\n",
      "|             0.54|\n",
      "|             0.21|\n",
      "|             0.61|\n",
      "|             0.12|\n",
      "|             2.04|\n",
      "|             0.42|\n",
      "+-----------------+\n",
      "only showing top 20 rows\n",
      "\n",
      "Distinct values in column 'Traffic_Duration':\n"
     ]
    },
    {
     "name": "stderr",
     "output_type": "stream",
     "text": [
      "\r",
      "[Stage 80:============================>                            (8 + 8) / 16]\r"
     ]
    },
    {
     "name": "stdout",
     "output_type": "stream",
     "text": [
      "+------------------+\n",
      "|  Traffic_Duration|\n",
      "+------------------+\n",
      "|29.316666666666666|\n",
      "|             305.0|\n",
      "|26.733333333333334|\n",
      "|360.03333333333336|\n",
      "|299.28333333333336|\n",
      "|             299.0|\n",
      "|              26.7|\n",
      "| 598.8666666666667|\n",
      "|58.083333333333336|\n",
      "| 363.3666666666667|\n",
      "|27.933333333333334|\n",
      "| 299.6166666666667|\n",
      "|              15.4|\n",
      "|14.333333333333334|\n",
      "|           5334.35|\n",
      "|            249.35|\n",
      "| 363.3833333333333|\n",
      "|             29.15|\n",
      "| 364.1333333333333|\n",
      "|360.01666666666665|\n",
      "+------------------+\n",
      "only showing top 20 rows\n",
      "\n"
     ]
    },
    {
     "name": "stderr",
     "output_type": "stream",
     "text": [
      "\r",
      "                                                                                \r"
     ]
    }
   ],
   "source": [
    "from pyspark.sql.types import DoubleType\n",
    "\n",
    "# Find columns of type DoubleType\n",
    "double_columns = [col for col in macro_map.columns if isinstance(macro_map.schema[col].dataType, DoubleType)]\n",
    "\n",
    "# Display distinct values for each double column to confirm if they are binary\n",
    "for col in double_columns:\n",
    "    print(f\"Distinct values in column '{col}':\")\n",
    "    macro_map.select(col).distinct().show()\n"
   ]
  },
  {
   "cell_type": "code",
   "execution_count": 11,
   "id": "1b6832f7",
   "metadata": {},
   "outputs": [
    {
     "name": "stdout",
     "output_type": "stream",
     "text": [
      "root\n",
      " |-- Start_Lat: double (nullable = true)\n",
      " |-- Start_Lng: double (nullable = true)\n",
      " |-- Distance(mi): double (nullable = true)\n",
      " |-- Temperature(F): double (nullable = true)\n",
      " |-- Humidity(%): double (nullable = true)\n",
      " |-- Pressure(in): double (nullable = true)\n",
      " |-- Visibility(mi): double (nullable = true)\n",
      " |-- Wind_Speed(mph): double (nullable = true)\n",
      " |-- Precipitation(in): double (nullable = true)\n",
      " |-- Traffic_Duration: double (nullable = true)\n",
      " |-- Amenity: boolean (nullable = true)\n",
      " |-- Bump: boolean (nullable = true)\n",
      " |-- Crossing: boolean (nullable = true)\n",
      " |-- Give_Way: boolean (nullable = true)\n",
      " |-- Junction: boolean (nullable = true)\n",
      " |-- No_Exit: boolean (nullable = true)\n",
      " |-- Railway: boolean (nullable = true)\n",
      " |-- Roundabout: boolean (nullable = true)\n",
      " |-- Station: boolean (nullable = true)\n",
      " |-- Stop: boolean (nullable = true)\n",
      " |-- Traffic_Calming: boolean (nullable = true)\n",
      " |-- Traffic_Signal: boolean (nullable = true)\n",
      " |-- Civil_Twilight: string (nullable = true)\n",
      " |-- Severity: integer (nullable = true)\n",
      "\n"
     ]
    }
   ],
   "source": [
    "macro_map.printSchema()"
   ]
  },
  {
   "cell_type": "code",
   "execution_count": 12,
   "id": "c68afba8",
   "metadata": {},
   "outputs": [
    {
     "name": "stdout",
     "output_type": "stream",
     "text": [
      "+---------+------------------+------------+--------------+-----------+------------+--------------+-----------------+-----------------+----------------+-------+-----+--------+--------+--------+-------+-------+----------+-------+-----+---------------+--------------+--------------+--------+\n",
      "|Start_Lat|         Start_Lng|Distance(mi)|Temperature(F)|Humidity(%)|Pressure(in)|Visibility(mi)|  Wind_Speed(mph)|Precipitation(in)|Traffic_Duration|Amenity| Bump|Crossing|Give_Way|Junction|No_Exit|Railway|Roundabout|Station| Stop|Traffic_Calming|Traffic_Signal|Civil_Twilight|Severity|\n",
      "+---------+------------------+------------+--------------+-----------+------------+--------------+-----------------+-----------------+----------------+-------+-----+--------+--------+--------+-------+-------+----------+-------+-----+---------------+--------------+--------------+--------+\n",
      "| 40.06695|-75.66226999999998|       0.253|          32.0|       55.0|        29.4|          10.0|              7.0|              0.0|           360.0|  false|false|   false|   false|   false|  false|  false|     false|  false|false|          false|         false|           Day|       2|\n",
      "| 40.00663|          -75.7461|         0.0|          37.0|       65.0|       29.37|          10.0|             10.0|              0.0|            30.0|  false|false|   false|   false|   false|  false|  false|     false|  false|false|          false|          true|           Day|       2|\n",
      "| 40.00663|          -75.7461|         0.0|          37.0|       65.0|       29.37|          10.0|             10.0|              0.0|            30.0|  false|false|   false|   false|   false|  false|  false|     false|  false|false|          false|          true|           Day|       2|\n",
      "| 40.15868|         -77.69886|       4.579|          25.0|       39.0|       30.51|          10.0|              9.2|              0.0|           360.0|  false|false|   false|   false|   false|  false|  false|     false|  false|false|          false|         false|           Day|       2|\n",
      "| 40.11231|         -75.27999|       0.398|          32.0|       55.0|       30.13|          10.0|9.220321336978788|              0.0|           360.0|  false|false|   false|   false|   false|  false|  false|     false|  false|false|          false|         false|           Day|       2|\n",
      "+---------+------------------+------------+--------------+-----------+------------+--------------+-----------------+-----------------+----------------+-------+-----+--------+--------+--------+-------+-------+----------+-------+-----+---------------+--------------+--------------+--------+\n",
      "only showing top 5 rows\n",
      "\n"
     ]
    }
   ],
   "source": [
    "macro_map.show(5)"
   ]
  },
  {
   "cell_type": "code",
   "execution_count": 13,
   "id": "432b6f5d",
   "metadata": {},
   "outputs": [
    {
     "name": "stdout",
     "output_type": "stream",
     "text": [
      "Boolean columns: ['Amenity', 'Bump', 'Crossing', 'Give_Way', 'Junction', 'No_Exit', 'Railway', 'Roundabout', 'Station', 'Stop', 'Traffic_Calming', 'Traffic_Signal']\n"
     ]
    }
   ],
   "source": [
    "from pyspark.sql.types import BooleanType\n",
    "\n",
    "# Find all columns of type BooleanType\n",
    "boolean_columns = [col for col in macro_map.columns if isinstance(macro_map.schema[col].dataType, BooleanType)]\n",
    "\n",
    "# Print identified Boolean columns\n",
    "print(f\"Boolean columns: {boolean_columns}\")\n"
   ]
  },
  {
   "cell_type": "code",
   "execution_count": 14,
   "id": "384cc387",
   "metadata": {},
   "outputs": [
    {
     "name": "stdout",
     "output_type": "stream",
     "text": [
      "+-------+----+--------+--------+--------+-------+-------+----------+-------+----+---------------+--------------+\n",
      "|Amenity|Bump|Crossing|Give_Way|Junction|No_Exit|Railway|Roundabout|Station|Stop|Traffic_Calming|Traffic_Signal|\n",
      "+-------+----+--------+--------+--------+-------+-------+----------+-------+----+---------------+--------------+\n",
      "|      0|   0|       0|       0|       0|      0|      0|         0|      0|   0|              0|             0|\n",
      "|      0|   0|       0|       0|       0|      0|      0|         0|      0|   0|              0|             1|\n",
      "|      0|   0|       0|       0|       0|      0|      0|         0|      0|   0|              0|             1|\n",
      "|      0|   0|       0|       0|       0|      0|      0|         0|      0|   0|              0|             0|\n",
      "|      0|   0|       0|       0|       0|      0|      0|         0|      0|   0|              0|             0|\n",
      "+-------+----+--------+--------+--------+-------+-------+----------+-------+----+---------------+--------------+\n",
      "only showing top 5 rows\n",
      "\n"
     ]
    }
   ],
   "source": [
    "from pyspark.sql.functions import when\n",
    "\n",
    "# Convert all Boolean columns to 0 and 1\n",
    "for col in boolean_columns:\n",
    "    macro_map = macro_map.withColumn(col, when(macro_map[col] == True, 1).otherwise(0))\n",
    "\n",
    "# Verify the transformation\n",
    "macro_map.select(boolean_columns).show(5)\n"
   ]
  },
  {
   "cell_type": "code",
   "execution_count": 15,
   "id": "95d78600",
   "metadata": {},
   "outputs": [
    {
     "name": "stdout",
     "output_type": "stream",
     "text": [
      "root\n",
      " |-- Start_Lat: double (nullable = true)\n",
      " |-- Start_Lng: double (nullable = true)\n",
      " |-- Distance(mi): double (nullable = true)\n",
      " |-- Temperature(F): double (nullable = true)\n",
      " |-- Humidity(%): double (nullable = true)\n",
      " |-- Pressure(in): double (nullable = true)\n",
      " |-- Visibility(mi): double (nullable = true)\n",
      " |-- Wind_Speed(mph): double (nullable = true)\n",
      " |-- Precipitation(in): double (nullable = true)\n",
      " |-- Traffic_Duration: double (nullable = true)\n",
      " |-- Amenity: integer (nullable = false)\n",
      " |-- Bump: integer (nullable = false)\n",
      " |-- Crossing: integer (nullable = false)\n",
      " |-- Give_Way: integer (nullable = false)\n",
      " |-- Junction: integer (nullable = false)\n",
      " |-- No_Exit: integer (nullable = false)\n",
      " |-- Railway: integer (nullable = false)\n",
      " |-- Roundabout: integer (nullable = false)\n",
      " |-- Station: integer (nullable = false)\n",
      " |-- Stop: integer (nullable = false)\n",
      " |-- Traffic_Calming: integer (nullable = false)\n",
      " |-- Traffic_Signal: integer (nullable = false)\n",
      " |-- Civil_Twilight: string (nullable = true)\n",
      " |-- Severity: integer (nullable = true)\n",
      "\n"
     ]
    },
    {
     "name": "stderr",
     "output_type": "stream",
     "text": [
      "                                                                                \r"
     ]
    },
    {
     "name": "stdout",
     "output_type": "stream",
     "text": [
      "+-------+\n",
      "|Amenity|\n",
      "+-------+\n",
      "|      1|\n",
      "|      0|\n",
      "+-------+\n",
      "\n",
      "+----+\n",
      "|Bump|\n",
      "+----+\n",
      "|   1|\n",
      "|   0|\n",
      "+----+\n",
      "\n",
      "+--------+\n",
      "|Crossing|\n",
      "+--------+\n",
      "|       1|\n",
      "|       0|\n",
      "+--------+\n",
      "\n",
      "+--------+\n",
      "|Give_Way|\n",
      "+--------+\n",
      "|       1|\n",
      "|       0|\n",
      "+--------+\n",
      "\n",
      "+--------+\n",
      "|Junction|\n",
      "+--------+\n",
      "|       1|\n",
      "|       0|\n",
      "+--------+\n",
      "\n",
      "+-------+\n",
      "|No_Exit|\n",
      "+-------+\n",
      "|      1|\n",
      "|      0|\n",
      "+-------+\n",
      "\n"
     ]
    },
    {
     "name": "stderr",
     "output_type": "stream",
     "text": [
      "                                                                                \r"
     ]
    },
    {
     "name": "stdout",
     "output_type": "stream",
     "text": [
      "+-------+\n",
      "|Railway|\n",
      "+-------+\n",
      "|      1|\n",
      "|      0|\n",
      "+-------+\n",
      "\n",
      "+----------+\n",
      "|Roundabout|\n",
      "+----------+\n",
      "|         0|\n",
      "|         1|\n",
      "+----------+\n",
      "\n",
      "+-------+\n",
      "|Station|\n",
      "+-------+\n",
      "|      1|\n",
      "|      0|\n",
      "+-------+\n",
      "\n",
      "+----+\n",
      "|Stop|\n",
      "+----+\n",
      "|   1|\n",
      "|   0|\n",
      "+----+\n",
      "\n"
     ]
    },
    {
     "name": "stderr",
     "output_type": "stream",
     "text": [
      "                                                                                \r"
     ]
    },
    {
     "name": "stdout",
     "output_type": "stream",
     "text": [
      "+---------------+\n",
      "|Traffic_Calming|\n",
      "+---------------+\n",
      "|              1|\n",
      "|              0|\n",
      "+---------------+\n",
      "\n",
      "+--------------+\n",
      "|Traffic_Signal|\n",
      "+--------------+\n",
      "|             1|\n",
      "|             0|\n",
      "+--------------+\n",
      "\n"
     ]
    }
   ],
   "source": [
    "# Check the schema to ensure all boolean columns are converted\n",
    "macro_map.printSchema()\n",
    "\n",
    "# Verify distinct values in transformed columns\n",
    "for col in boolean_columns:\n",
    "    macro_map.select(col).distinct().show()\n"
   ]
  },
  {
   "cell_type": "code",
   "execution_count": 16,
   "id": "ace35e23",
   "metadata": {},
   "outputs": [
    {
     "name": "stdout",
     "output_type": "stream",
     "text": [
      "+---------+------------------+------------+--------------+-----------+------------+--------------+-----------------+-----------------+----------------+-------+----+--------+--------+--------+-------+-------+----------+-------+----+---------------+--------------+--------------+--------+\n",
      "|Start_Lat|         Start_Lng|Distance(mi)|Temperature(F)|Humidity(%)|Pressure(in)|Visibility(mi)|  Wind_Speed(mph)|Precipitation(in)|Traffic_Duration|Amenity|Bump|Crossing|Give_Way|Junction|No_Exit|Railway|Roundabout|Station|Stop|Traffic_Calming|Traffic_Signal|Civil_Twilight|Severity|\n",
      "+---------+------------------+------------+--------------+-----------+------------+--------------+-----------------+-----------------+----------------+-------+----+--------+--------+--------+-------+-------+----------+-------+----+---------------+--------------+--------------+--------+\n",
      "| 40.06695|-75.66226999999998|       0.253|          32.0|       55.0|        29.4|          10.0|              7.0|              0.0|           360.0|      0|   0|       0|       0|       0|      0|      0|         0|      0|   0|              0|             0|           Day|       2|\n",
      "| 40.00663|          -75.7461|         0.0|          37.0|       65.0|       29.37|          10.0|             10.0|              0.0|            30.0|      0|   0|       0|       0|       0|      0|      0|         0|      0|   0|              0|             1|           Day|       2|\n",
      "| 40.00663|          -75.7461|         0.0|          37.0|       65.0|       29.37|          10.0|             10.0|              0.0|            30.0|      0|   0|       0|       0|       0|      0|      0|         0|      0|   0|              0|             1|           Day|       2|\n",
      "| 40.15868|         -77.69886|       4.579|          25.0|       39.0|       30.51|          10.0|              9.2|              0.0|           360.0|      0|   0|       0|       0|       0|      0|      0|         0|      0|   0|              0|             0|           Day|       2|\n",
      "| 40.11231|         -75.27999|       0.398|          32.0|       55.0|       30.13|          10.0|9.220321336978788|              0.0|           360.0|      0|   0|       0|       0|       0|      0|      0|         0|      0|   0|              0|             0|           Day|       2|\n",
      "+---------+------------------+------------+--------------+-----------+------------+--------------+-----------------+-----------------+----------------+-------+----+--------+--------+--------+-------+-------+----------+-------+----+---------------+--------------+--------------+--------+\n",
      "only showing top 5 rows\n",
      "\n"
     ]
    }
   ],
   "source": [
    "macro_map.show(5)"
   ]
  },
  {
   "cell_type": "code",
   "execution_count": 17,
   "id": "f0274095",
   "metadata": {},
   "outputs": [
    {
     "name": "stdout",
     "output_type": "stream",
     "text": [
      "+--------------+\n",
      "|Civil_Twilight|\n",
      "+--------------+\n",
      "|         Night|\n",
      "|           Day|\n",
      "+--------------+\n",
      "\n"
     ]
    }
   ],
   "source": [
    "macro_map.select(\"Civil_Twilight\").distinct().show()\n"
   ]
  },
  {
   "cell_type": "code",
   "execution_count": 18,
   "id": "65b31d1d",
   "metadata": {},
   "outputs": [
    {
     "name": "stdout",
     "output_type": "stream",
     "text": [
      "+--------------+\n",
      "|Civil_Twilight|\n",
      "+--------------+\n",
      "|             1|\n",
      "|             0|\n",
      "+--------------+\n",
      "\n"
     ]
    }
   ],
   "source": [
    "from pyspark.sql.functions import when\n",
    "\n",
    "# Convert Civil_Twilight to binary (0 and 1)\n",
    "macro_map = macro_map.withColumn(\"Civil_Twilight\", when(macro_map[\"Civil_Twilight\"] == \"Night\", 1).otherwise(0))\n",
    "\n",
    "# Verify the transformation\n",
    "macro_map.select(\"Civil_Twilight\").distinct().show()\n"
   ]
  },
  {
   "cell_type": "code",
   "execution_count": 19,
   "id": "50c64805",
   "metadata": {},
   "outputs": [
    {
     "name": "stderr",
     "output_type": "stream",
     "text": [
      "                                                                                \r"
     ]
    },
    {
     "name": "stdout",
     "output_type": "stream",
     "text": [
      "+------------------------------------------------------------------------------------------------------------------------------------------------------------------------------------------------------------------------------------------------------------------------------------------------------------------------------------------------------------------------------------------------------------------------------------------------------------------------------------------------+\n",
      "|features_standard_scaled                                                                                                                                                                                                                                                                                                                                                                                                                                                                        |\n",
      "+------------------------------------------------------------------------------------------------------------------------------------------------------------------------------------------------------------------------------------------------------------------------------------------------------------------------------------------------------------------------------------------------------------------------------------------------------------------------------------------------+\n",
      "|[0.44952567376578884,1.1874784995404355,-0.258015177571466,-1.7619069225349875,-0.35399684835904305,-0.30303419433830137,0.20157803299798782,-0.33310526076141483,-0.051169878602791624,0.005762433493609487,-0.08645139921731998,-0.016830966377764874,-0.2509733212763599,-0.05886894004681996,-0.47616611415129945,-0.044277521412544756,-0.08940366601735733,-0.004288359444037843,-0.12396488890265744,-0.10899285202134584,-0.025881132885122442,-0.29239138558910815,-0.5087933919776103]|\n",
      "|[0.4380145048239234,1.1828932839011006,-0.40725940825460605,-1.4890666790636622,0.08037507711605565,-0.33199465443980564,0.20157803299798782,0.31989691523872654,-0.051169878602791624,-0.04150861654828681,-0.08645139921731998,-0.016830966377764874,-0.2509733212763599,-0.05886894004681996,-0.47616611415129945,-0.044277521412544756,-0.08940366601735733,-0.004288359444037843,-0.12396488890265744,-0.10899285202134584,-0.025881132885122442,3.420067109750773,-0.5087933919776103]    |\n",
      "|[0.4380145048239234,1.1828932839011006,-0.40725940825460605,-1.4890666790636622,0.08037507711605565,-0.33199465443980564,0.20157803299798782,0.31989691523872654,-0.051169878602791624,-0.04150861654828681,-0.08645139921731998,-0.016830966377764874,-0.2509733212763599,-0.05886894004681996,-0.47616611415129945,-0.044277521412544756,-0.08940366601735733,-0.004288359444037843,-0.12396488890265744,-0.10899285202134584,-0.025881132885122442,3.420067109750773,-0.5087933919776103]    |\n",
      "|[0.4670309709646838,1.076083959174085,2.29388419766673,-2.1438832633948426,-1.048991929119201,0.7685028294174462,0.20157803299798782,0.1457630016386887,-0.051169878602791624,0.005762433493609487,-0.08645139921731998,-0.016830966377764874,-0.2509733212763599,-0.05886894004681996,-0.47616611415129945,-0.044277521412544756,-0.08940366601735733,-0.004288359444037843,-0.12396488890265744,-0.10899285202134584,-0.025881132885122442,-0.29239138558910815,-0.5087933919776103]          |\n",
      "|[0.458181950675654,1.208387914244056,-0.17247994654753204,-1.7619069225349875,-0.35399684835904305,0.40167033479835995,0.20157803299798782,0.1501862940608158,-0.051169878602791624,0.005762433493609487,-0.08645139921731998,-0.016830966377764874,-0.2509733212763599,-0.05886894004681996,-0.47616611415129945,-0.044277521412544756,-0.08940366601735733,-0.004288359444037843,-0.12396488890265744,-0.10899285202134584,-0.025881132885122442,-0.29239138558910815,-0.5087933919776103]    |\n",
      "+------------------------------------------------------------------------------------------------------------------------------------------------------------------------------------------------------------------------------------------------------------------------------------------------------------------------------------------------------------------------------------------------------------------------------------------------------------------------------------------------+\n",
      "only showing top 5 rows\n",
      "\n"
     ]
    }
   ],
   "source": [
    "from pyspark.ml.feature import StandardScaler, VectorAssembler\n",
    "\n",
    "# Assemble features into a single vector\n",
    "feature_columns = [\n",
    "    'Start_Lat', 'Start_Lng', 'Distance(mi)', 'Temperature(F)', 'Humidity(%)',\n",
    "    'Pressure(in)', 'Visibility(mi)', 'Wind_Speed(mph)', 'Precipitation(in)', \n",
    "    'Traffic_Duration', 'Amenity', 'Bump', 'Crossing', 'Give_Way', 'Junction', \n",
    "    'No_Exit', 'Railway', 'Roundabout', 'Station', 'Stop', 'Traffic_Calming', \n",
    "    'Traffic_Signal', 'Civil_Twilight'\n",
    "]\n",
    "\n",
    "# Combine all feature columns into a single vector\n",
    "assembler = VectorAssembler(inputCols=feature_columns, outputCol=\"features\")\n",
    "macro_map_assembled = assembler.transform(macro_map)\n",
    "\n",
    "# Apply Standard Scaler\n",
    "scaler = StandardScaler(inputCol=\"features\", outputCol=\"features_standard_scaled\", withMean=True, withStd=True)\n",
    "scaler_model = scaler.fit(macro_map_assembled)\n",
    "macro_map_standard_scaled = scaler_model.transform(macro_map_assembled)\n",
    "\n",
    "# Show scaled features\n",
    "macro_map_standard_scaled.select(\"features_standard_scaled\").show(5, truncate=False)\n"
   ]
  },
  {
   "cell_type": "code",
   "execution_count": 20,
   "id": "d4317bd7",
   "metadata": {},
   "outputs": [
    {
     "name": "stderr",
     "output_type": "stream",
     "text": [
      "                                                                                \r"
     ]
    },
    {
     "name": "stdout",
     "output_type": "stream",
     "text": [
      "Training Data Count: 435404\n"
     ]
    },
    {
     "name": "stderr",
     "output_type": "stream",
     "text": [
      "[Stage 135:============================>                           (8 + 8) / 16]\r"
     ]
    },
    {
     "name": "stdout",
     "output_type": "stream",
     "text": [
      "Test Data Count: 108378\n"
     ]
    },
    {
     "name": "stderr",
     "output_type": "stream",
     "text": [
      "\r",
      "[Stage 135:===================================================>   (15 + 1) / 16]\r",
      "\r",
      "                                                                                \r"
     ]
    }
   ],
   "source": [
    "# Split the Macro Map dataset into train (80%) and test (20%) datasets\n",
    "train_macro, test_macro = macro_map_assembled.randomSplit([0.8, 0.2], seed=42)\n",
    "\n",
    "# Print counts to verify the split\n",
    "print(f\"Training Data Count: {train_macro.count()}\")\n",
    "print(f\"Test Data Count: {test_macro.count()}\")\n"
   ]
  },
  {
   "cell_type": "code",
   "execution_count": 21,
   "id": "72592fad",
   "metadata": {},
   "outputs": [
    {
     "name": "stderr",
     "output_type": "stream",
     "text": [
      "                                                                                \r"
     ]
    },
    {
     "name": "stdout",
     "output_type": "stream",
     "text": [
      "+--------+------+\n",
      "|Severity| count|\n",
      "+--------+------+\n",
      "|       2|289223|\n",
      "|       3| 81066|\n",
      "|       4| 65115|\n",
      "+--------+------+\n",
      "\n"
     ]
    },
    {
     "name": "stderr",
     "output_type": "stream",
     "text": [
      "[Stage 141:===============================>                        (9 + 7) / 16]\r"
     ]
    },
    {
     "name": "stdout",
     "output_type": "stream",
     "text": [
      "+--------+-----+\n",
      "|Severity|count|\n",
      "+--------+-----+\n",
      "|       2|71881|\n",
      "|       3|20230|\n",
      "|       4|16267|\n",
      "+--------+-----+\n",
      "\n"
     ]
    },
    {
     "name": "stderr",
     "output_type": "stream",
     "text": [
      "\r",
      "                                                                                \r"
     ]
    }
   ],
   "source": [
    "# Distribution of Severity in training data\n",
    "train_macro.groupBy(\"Severity\").count().orderBy(\"Severity\").show()\n",
    "\n",
    "# Distribution of Severity in test data\n",
    "test_macro.groupBy(\"Severity\").count().orderBy(\"Severity\").show()\n"
   ]
  },
  {
   "cell_type": "code",
   "execution_count": 22,
   "id": "0b0d0a7e",
   "metadata": {},
   "outputs": [
    {
     "name": "stdout",
     "output_type": "stream",
     "text": [
      "root\n",
      " |-- Start_Lat: double (nullable = true)\n",
      " |-- Start_Lng: double (nullable = true)\n",
      " |-- Distance(mi): double (nullable = true)\n",
      " |-- Temperature(F): double (nullable = true)\n",
      " |-- Humidity(%): double (nullable = true)\n",
      " |-- Pressure(in): double (nullable = true)\n",
      " |-- Visibility(mi): double (nullable = true)\n",
      " |-- Wind_Speed(mph): double (nullable = true)\n",
      " |-- Precipitation(in): double (nullable = true)\n",
      " |-- Traffic_Duration: double (nullable = true)\n",
      " |-- Amenity: integer (nullable = false)\n",
      " |-- Bump: integer (nullable = false)\n",
      " |-- Crossing: integer (nullable = false)\n",
      " |-- Give_Way: integer (nullable = false)\n",
      " |-- Junction: integer (nullable = false)\n",
      " |-- No_Exit: integer (nullable = false)\n",
      " |-- Railway: integer (nullable = false)\n",
      " |-- Roundabout: integer (nullable = false)\n",
      " |-- Station: integer (nullable = false)\n",
      " |-- Stop: integer (nullable = false)\n",
      " |-- Traffic_Calming: integer (nullable = false)\n",
      " |-- Traffic_Signal: integer (nullable = false)\n",
      " |-- Civil_Twilight: integer (nullable = false)\n",
      " |-- Severity: integer (nullable = true)\n",
      " |-- features: vector (nullable = true)\n",
      "\n",
      "root\n",
      " |-- Start_Lat: double (nullable = true)\n",
      " |-- Start_Lng: double (nullable = true)\n",
      " |-- Distance(mi): double (nullable = true)\n",
      " |-- Temperature(F): double (nullable = true)\n",
      " |-- Humidity(%): double (nullable = true)\n",
      " |-- Pressure(in): double (nullable = true)\n",
      " |-- Visibility(mi): double (nullable = true)\n",
      " |-- Wind_Speed(mph): double (nullable = true)\n",
      " |-- Precipitation(in): double (nullable = true)\n",
      " |-- Traffic_Duration: double (nullable = true)\n",
      " |-- Amenity: integer (nullable = false)\n",
      " |-- Bump: integer (nullable = false)\n",
      " |-- Crossing: integer (nullable = false)\n",
      " |-- Give_Way: integer (nullable = false)\n",
      " |-- Junction: integer (nullable = false)\n",
      " |-- No_Exit: integer (nullable = false)\n",
      " |-- Railway: integer (nullable = false)\n",
      " |-- Roundabout: integer (nullable = false)\n",
      " |-- Station: integer (nullable = false)\n",
      " |-- Stop: integer (nullable = false)\n",
      " |-- Traffic_Calming: integer (nullable = false)\n",
      " |-- Traffic_Signal: integer (nullable = false)\n",
      " |-- Civil_Twilight: integer (nullable = false)\n",
      " |-- Severity: integer (nullable = true)\n",
      " |-- features: vector (nullable = true)\n",
      "\n",
      "+--------------------+--------+\n",
      "|            features|Severity|\n",
      "+--------------------+--------+\n",
      "|(23,[0,1,2,3,4,5,...|       2|\n",
      "|(23,[0,1,3,4,5,6,...|       2|\n",
      "|(23,[0,1,2,3,4,5,...|       4|\n",
      "|(23,[0,1,2,3,4,5,...|       4|\n",
      "|(23,[0,1,2,3,4,5,...|       4|\n",
      "+--------------------+--------+\n",
      "only showing top 5 rows\n",
      "\n"
     ]
    }
   ],
   "source": [
    "# Kontrollo strukturën e dataset-it\n",
    "train_macro.printSchema()\n",
    "test_macro.printSchema()\n",
    "\n",
    "# Sigurohu që 'features' dhe 'Severity' janë të pranishme\n",
    "train_macro.select(\"features\", \"Severity\").show(5)\n"
   ]
  },
  {
   "cell_type": "markdown",
   "id": "79ec0434",
   "metadata": {},
   "source": [
    "### Random Forest për Macro Map "
   ]
  },
  {
   "cell_type": "code",
   "execution_count": 23,
   "id": "fc88075a",
   "metadata": {},
   "outputs": [],
   "source": [
    "from pyspark.ml.classification import RandomForestClassifier\n",
    "\n",
    "# Initialize Random Forest Classifier\n",
    "rf_macro = RandomForestClassifier(\n",
    "    featuresCol=\"features\", \n",
    "    labelCol=\"Severity\", \n",
    "    numTrees=50,        # Number of trees\n",
    "    maxDepth=10,        # Maximum depth of each tree\n",
    "    maxBins=32,         # Number of bins for splitting features\n",
    "    impurity=\"gini\"     # Impurity measure\n",
    ")\n"
   ]
  },
  {
   "cell_type": "code",
   "execution_count": 24,
   "id": "adfa35e3",
   "metadata": {},
   "outputs": [
    {
     "name": "stderr",
     "output_type": "stream",
     "text": [
      "24/12/03 03:04:40 WARN DAGScheduler: Broadcasting large task binary with size 1251.8 KiB\n",
      "24/12/03 03:04:42 WARN DAGScheduler: Broadcasting large task binary with size 2.2 MiB\n",
      "24/12/03 03:04:45 WARN DAGScheduler: Broadcasting large task binary with size 4.1 MiB\n",
      "24/12/03 03:04:50 WARN DAGScheduler: Broadcasting large task binary with size 1069.0 KiB\n",
      "24/12/03 03:04:51 WARN DAGScheduler: Broadcasting large task binary with size 7.1 MiB\n",
      "24/12/03 03:05:11 WARN DAGScheduler: Broadcasting large task binary with size 1759.7 KiB\n",
      "                                                                                \r"
     ]
    }
   ],
   "source": [
    "# Train the Random Forest model\n",
    "rf_macro_model = rf_macro.fit(train_macro)\n"
   ]
  },
  {
   "cell_type": "code",
   "execution_count": 25,
   "id": "215d620f",
   "metadata": {},
   "outputs": [
    {
     "name": "stderr",
     "output_type": "stream",
     "text": [
      "24/12/03 03:05:14 WARN DAGScheduler: Broadcasting large task binary with size 5.1 MiB\n"
     ]
    },
    {
     "name": "stdout",
     "output_type": "stream",
     "text": [
      "+----------+--------+----------------------------------------------------------------------------------------------------------------+\n",
      "|prediction|Severity|features                                                                                                        |\n",
      "+----------+--------+----------------------------------------------------------------------------------------------------------------+\n",
      "|2.0       |2       |(23,[0,1,3,4,5,6,7,9],[24.577545,-81.71765699999997,84.9,57.0,30.14,10.0,15.0,360.0])                           |\n",
      "|2.0       |4       |(23,[0,1,3,4,5,6,7,9],[24.64553,-81.56617,79.0,66.0,30.13,10.0,5.8,360.0])                                      |\n",
      "|2.0       |4       |(23,[0,1,3,4,5,6,7,9,22],[24.720088,-81.062508,77.0,69.0,30.04,10.0,9.2,360.0,1.0])                             |\n",
      "|2.0       |4       |(23,[0,1,2,3,4,5,6,7,9],[24.99824,-80.537663,0.235,79.0,65.0,30.04,10.0,13.0,27.05])                            |\n",
      "|4.0       |4       |(23,[0,1,2,3,4,5,6,9],[25.341,-80.41295,7.782999999999999,75.0,94.0,30.07,0.63,29.0])                           |\n",
      "|2.0       |2       |(23,[0,1,2,3,4,5,6,7,8,9],[25.47739,-80.44008000000002,0.6990000000000001,78.3,85.0,30.05,10.0,11.5,0.01,360.0])|\n",
      "|2.0       |2       |(23,[0,1,2,3,4,5,6,7,9,14],[25.49449,-80.41805,0.7340000000000001,85.8,56.0,29.96,10.0,4.6,360.0,1.0])          |\n",
      "|2.0       |2       |(23,[0,1,2,3,4,5,6,7,9,14],[25.53116,-80.37741,0.708,65.5,44.0,30.13,10.0,10.4,360.0,1.0])                      |\n",
      "|2.0       |2       |(23,[0,1,2,3,4,5,6,7,9],[25.574,-80.36440999999998,0.183,66.2,100.0,30.17,9.0,5.8,360.0])                       |\n",
      "|2.0       |2       |(23,[0,1,2,3,4,5,6,7,9,12],[25.57617,-80.37183,0.261,90.0,56.0,29.9,10.0,15.0,27.466666666666665,1.0])          |\n",
      "+----------+--------+----------------------------------------------------------------------------------------------------------------+\n",
      "only showing top 10 rows\n",
      "\n"
     ]
    }
   ],
   "source": [
    "# Make predictions on the test dataset\n",
    "predictions = rf_macro_model.transform(test_macro)\n",
    "\n",
    "# Display predictions\n",
    "predictions.select(\"prediction\", \"Severity\", \"features\").show(10, truncate=False)\n"
   ]
  },
  {
   "cell_type": "code",
   "execution_count": 26,
   "id": "3e1c03f1",
   "metadata": {},
   "outputs": [
    {
     "name": "stderr",
     "output_type": "stream",
     "text": [
      "24/12/03 03:05:15 WARN DAGScheduler: Broadcasting large task binary with size 5.1 MiB\n",
      "[Stage 173:============================>                           (8 + 8) / 16]\r"
     ]
    },
    {
     "name": "stdout",
     "output_type": "stream",
     "text": [
      "Test Accuracy: 0.6978\n"
     ]
    },
    {
     "name": "stderr",
     "output_type": "stream",
     "text": [
      "\r",
      "[Stage 173:===================================================>   (15 + 1) / 16]\r",
      "\r",
      "                                                                                \r"
     ]
    }
   ],
   "source": [
    "from pyspark.ml.evaluation import MulticlassClassificationEvaluator\n",
    "\n",
    "# Initialize evaluator\n",
    "evaluator = MulticlassClassificationEvaluator(labelCol=\"Severity\", predictionCol=\"prediction\", metricName=\"accuracy\")\n",
    "\n",
    "# Evaluate accuracy\n",
    "test_accuracy = evaluator.evaluate(predictions)\n",
    "print(f\"Test Accuracy: {test_accuracy:.4f}\")\n"
   ]
  },
  {
   "cell_type": "code",
   "execution_count": 27,
   "id": "d9f4ee81",
   "metadata": {},
   "outputs": [
    {
     "name": "stderr",
     "output_type": "stream",
     "text": [
      "24/12/03 03:05:21 WARN DAGScheduler: Broadcasting large task binary with size 5.1 MiB\n",
      "[Stage 175:============================>                           (8 + 8) / 16]\r"
     ]
    },
    {
     "name": "stdout",
     "output_type": "stream",
     "text": [
      "Test F1-Score: 0.6186\n"
     ]
    },
    {
     "name": "stderr",
     "output_type": "stream",
     "text": [
      "\r",
      "                                                                                \r"
     ]
    }
   ],
   "source": [
    "# Evaluate F1-Score\n",
    "f1_evaluator = MulticlassClassificationEvaluator(labelCol=\"Severity\", predictionCol=\"prediction\", metricName=\"f1\")\n",
    "f1_score = f1_evaluator.evaluate(predictions)\n",
    "print(f\"Test F1-Score: {f1_score:.4f}\")\n"
   ]
  },
  {
   "cell_type": "code",
   "execution_count": 28,
   "id": "83d1391d",
   "metadata": {},
   "outputs": [
    {
     "name": "stdout",
     "output_type": "stream",
     "text": [
      "Feature Importance:\n",
      "Start_Lng: 0.3376\n",
      "Distance(mi): 0.1723\n",
      "Traffic_Duration: 0.1341\n",
      "Civil_Twilight: 0.1218\n",
      "Start_Lat: 0.0985\n",
      "Pressure(in): 0.0453\n",
      "Temperature(F): 0.0178\n",
      "Humidity(%): 0.0168\n",
      "Wind_Speed(mph): 0.0110\n",
      "Junction: 0.0104\n",
      "Traffic_Signal: 0.0093\n",
      "Visibility(mi): 0.0081\n",
      "Crossing: 0.0068\n",
      "Stop: 0.0038\n",
      "Precipitation(in): 0.0025\n",
      "Station: 0.0014\n",
      "Railway: 0.0008\n",
      "Amenity: 0.0007\n",
      "Give_Way: 0.0004\n",
      "No_Exit: 0.0003\n",
      "Traffic_Calming: 0.0001\n",
      "Roundabout: 0.0000\n",
      "Bump: 0.0000\n"
     ]
    }
   ],
   "source": [
    "# Extract feature importances\n",
    "feature_importances = rf_macro_model.featureImportances\n",
    "\n",
    "# Map feature names to importances\n",
    "importance_dict = {feature: importance for feature, importance in zip(feature_columns, feature_importances)}\n",
    "\n",
    "# Sort and display feature importances\n",
    "sorted_importance = sorted(importance_dict.items(), key=lambda x: x[1], reverse=True)\n",
    "print(\"Feature Importance:\")\n",
    "for feature, importance in sorted_importance:\n",
    "    print(f\"{feature}: {importance:.4f}\")\n"
   ]
  },
  {
   "cell_type": "code",
   "execution_count": 29,
   "id": "67602e50",
   "metadata": {},
   "outputs": [
    {
     "data": {
      "image/png": "[encoded data removed]",
      "text/plain": [
       "<Figure size 1000x600 with 1 Axes>"
      ]
     },
     "metadata": {},
     "output_type": "display_data"
    }
   ],
   "source": [
    "import matplotlib.pyplot as plt\n",
    "\n",
    "# Assuming feature_importances is extracted from the trained model\n",
    "# and feature_columns contains the feature names\n",
    "\n",
    "# Extract and sort feature importance\n",
    "importance_dict = {feature: importance for feature, importance in zip(feature_columns, rf_macro_model.featureImportances)}\n",
    "sorted_importance = sorted(importance_dict.items(), key=lambda x: x[1], reverse=True)\n",
    "\n",
    "# Prepare data for plotting\n",
    "features, importances = zip(*sorted_importance)\n",
    "\n",
    "# Plot the feature importance\n",
    "plt.figure(figsize=(10, 6))\n",
    "plt.barh(features, importances, color=\"skyblue\")\n",
    "plt.xlabel(\"Importance\")\n",
    "plt.ylabel(\"Features\")\n",
    "plt.title(\"Feature Importance - Random Forest (Macro Map)\")\n",
    "plt.gca().invert_yaxis()  #\n"
   ]
  },
  {
   "cell_type": "code",
   "execution_count": 30,
   "id": "ed631256",
   "metadata": {},
   "outputs": [
    {
     "name": "stderr",
     "output_type": "stream",
     "text": [
      "24/12/03 03:05:26 WARN DAGScheduler: Broadcasting large task binary with size 5.1 MiB\n",
      "24/12/03 03:05:30 WARN DAGScheduler: Broadcasting large task binary with size 5.1 MiB\n",
      "24/12/03 03:05:30 WARN DAGScheduler: Broadcasting large task binary with size 5.1 MiB\n",
      "24/12/03 03:05:31 WARN DAGScheduler: Broadcasting large task binary with size 5.1 MiB\n",
      "24/12/03 03:05:31 WARN DAGScheduler: Broadcasting large task binary with size 5.1 MiB\n",
      "24/12/03 03:05:36 WARN DAGScheduler: Broadcasting large task binary with size 5.1 MiB\n"
     ]
    },
    {
     "name": "stdout",
     "output_type": "stream",
     "text": [
      "+--------+-----+----+----+\n",
      "|Severity|  2.0| 3.0| 4.0|\n",
      "+--------+-----+----+----+\n",
      "|       3|17461|2075| 694|\n",
      "|       4|12859| 387|3021|\n",
      "|       2|70535| 486| 860|\n",
      "+--------+-----+----+----+\n",
      "\n"
     ]
    },
    {
     "name": "stderr",
     "output_type": "stream",
     "text": [
      "24/12/03 03:05:37 WARN DAGScheduler: Broadcasting large task binary with size 5.1 MiB\n",
      "\r",
      "                                                                                \r"
     ]
    }
   ],
   "source": [
    "# Create confusion matrix\n",
    "confusion_matrix = predictions.groupBy(\"Severity\", \"prediction\").count()\n",
    "\n",
    "# Pivot for better visualization\n",
    "confusion_matrix_pivot = confusion_matrix.groupBy(\"Severity\").pivot(\"prediction\").sum(\"count\").fillna(0)\n",
    "\n",
    "# Display confusion matrix\n",
    "confusion_matrix_pivot.show()\n"
   ]
  },
  {
   "cell_type": "code",
   "execution_count": 31,
   "id": "19f75775",
   "metadata": {},
   "outputs": [
    {
     "name": "stderr",
     "output_type": "stream",
     "text": [
      "24/12/03 03:05:39 WARN DAGScheduler: Broadcasting large task binary with size 5.1 MiB\n",
      "24/12/03 03:05:42 WARN DAGScheduler: Broadcasting large task binary with size 5.1 MiB\n",
      "24/12/03 03:05:42 WARN DAGScheduler: Broadcasting large task binary with size 5.1 MiB\n",
      "24/12/03 03:05:43 WARN DAGScheduler: Broadcasting large task binary with size 5.1 MiB\n",
      "24/12/03 03:05:43 WARN DAGScheduler: Broadcasting large task binary with size 5.1 MiB\n",
      "24/12/03 03:05:46 WARN DAGScheduler: Broadcasting large task binary with size 5.1 MiB\n",
      "24/12/03 03:05:46 WARN DAGScheduler: Broadcasting large task binary with size 5.1 MiB\n",
      "                                                                                \r"
     ]
    },
    {
     "data": {
      "image/png": "[encoded data removed]",
      "text/plain": [
       "<Figure size 800x600 with 1 Axes>"
      ]
     },
     "metadata": {},
     "output_type": "display_data"
    }
   ],
   "source": [
    "import pandas as pd\n",
    "import seaborn as sns\n",
    "from pyspark.sql.functions import col\n",
    "import matplotlib.pyplot as plt\n",
    "\n",
    "# Create confusion matrix from predictions\n",
    "confusion_matrix = predictions.groupBy(\"Severity\", \"prediction\").count()\n",
    "\n",
    "# Pivot the confusion matrix for better visualization\n",
    "confusion_matrix_pivot = confusion_matrix.groupBy(\"Severity\").pivot(\"prediction\").sum(\"count\").fillna(0)\n",
    "\n",
    "# Convert to Pandas for heatmap visualization\n",
    "confusion_matrix_pd = confusion_matrix_pivot.toPandas()\n",
    "\n",
    "# Set the index to true labels (Severity)\n",
    "confusion_matrix_pd.set_index(\"Severity\", inplace=True)\n",
    "\n",
    "# Plot the heatmap\n",
    "plt.figure(figsize=(8, 6))\n",
    "sns.heatmap(confusion_matrix_pd, annot=True, fmt=\".0f\", cmap=\"Blues\", cbar=False)\n",
    "plt.title(\"Confusion Matrix - Random Forest (Macro Map)\")\n",
    "plt.xlabel(\"Predicted Labels\")\n",
    "plt.ylabel(\"True Labels\")\n",
    "plt.show()\n"
   ]
  },
  {
   "cell_type": "code",
   "execution_count": null,
   "id": "6d4f0c6f",
   "metadata": {},
   "outputs": [],
   "source": [
    "from pyspark import SparkConf, SparkContext\n",
    "conf = SparkConf().setAppName(\"RandomForest\").set(\"spark.executor.memory\", \"4g\").set(\"spark.driver.memory\", \"8g\")\n",
    "sc = SparkContext(conf=conf)"
   ]
  },
  {
   "cell_type": "markdown",
   "id": "755b4e12",
   "metadata": {},
   "source": [
    "### Random forest with hyperparameter tuning"
   ]
  },
  {
   "cell_type": "code",
   "execution_count": 32,
   "id": "1f30fd1b",
   "metadata": {},
   "outputs": [
    {
     "name": "stdout",
     "output_type": "stream",
     "text": [
      "Training model with numTrees=10, maxDepth=5, impurity=gini\n"
     ]
    },
    {
     "name": "stderr",
     "output_type": "stream",
     "text": [
      "                                                                                \r"
     ]
    },
    {
     "name": "stdout",
     "output_type": "stream",
     "text": [
      "Validation Accuracy: 0.6642\n",
      "Training model with numTrees=10, maxDepth=5, impurity=entropy\n"
     ]
    },
    {
     "name": "stderr",
     "output_type": "stream",
     "text": [
      "                                                                                \r"
     ]
    },
    {
     "name": "stdout",
     "output_type": "stream",
     "text": [
      "Validation Accuracy: 0.6639\n",
      "Training model with numTrees=10, maxDepth=7, impurity=gini\n"
     ]
    },
    {
     "name": "stderr",
     "output_type": "stream",
     "text": [
      "                                                                                \r"
     ]
    },
    {
     "name": "stdout",
     "output_type": "stream",
     "text": [
      "Validation Accuracy: 0.6741\n",
      "Training model with numTrees=10, maxDepth=7, impurity=entropy\n"
     ]
    },
    {
     "name": "stderr",
     "output_type": "stream",
     "text": [
      "                                                                                \r"
     ]
    },
    {
     "name": "stdout",
     "output_type": "stream",
     "text": [
      "Validation Accuracy: 0.6753\n",
      "Training model with numTrees=10, maxDepth=9, impurity=gini\n"
     ]
    },
    {
     "name": "stderr",
     "output_type": "stream",
     "text": [
      "                                                                                \r"
     ]
    },
    {
     "name": "stdout",
     "output_type": "stream",
     "text": [
      "Validation Accuracy: 0.6909\n",
      "Training model with numTrees=10, maxDepth=9, impurity=entropy\n"
     ]
    },
    {
     "name": "stderr",
     "output_type": "stream",
     "text": [
      "                                                                                \r"
     ]
    },
    {
     "name": "stdout",
     "output_type": "stream",
     "text": [
      "Validation Accuracy: 0.6878\n",
      "Training model with numTrees=20, maxDepth=5, impurity=gini\n"
     ]
    },
    {
     "name": "stderr",
     "output_type": "stream",
     "text": [
      "                                                                                \r"
     ]
    },
    {
     "name": "stdout",
     "output_type": "stream",
     "text": [
      "Validation Accuracy: 0.6675\n",
      "Training model with numTrees=20, maxDepth=5, impurity=entropy\n"
     ]
    },
    {
     "name": "stderr",
     "output_type": "stream",
     "text": [
      "                                                                                \r"
     ]
    },
    {
     "name": "stdout",
     "output_type": "stream",
     "text": [
      "Validation Accuracy: 0.6672\n",
      "Training model with numTrees=20, maxDepth=7, impurity=gini\n"
     ]
    },
    {
     "name": "stderr",
     "output_type": "stream",
     "text": [
      "                                                                                \r"
     ]
    },
    {
     "name": "stdout",
     "output_type": "stream",
     "text": [
      "Validation Accuracy: 0.6836\n",
      "Training model with numTrees=20, maxDepth=7, impurity=entropy\n"
     ]
    },
    {
     "name": "stderr",
     "output_type": "stream",
     "text": [
      "                                                                                \r"
     ]
    },
    {
     "name": "stdout",
     "output_type": "stream",
     "text": [
      "Validation Accuracy: 0.6803\n",
      "Training model with numTrees=20, maxDepth=9, impurity=gini\n"
     ]
    },
    {
     "name": "stderr",
     "output_type": "stream",
     "text": [
      "24/12/03 03:07:40 WARN DAGScheduler: Broadcasting large task binary with size 1012.3 KiB\n",
      "24/12/03 03:07:40 WARN DAGScheduler: Broadcasting large task binary with size 1768.3 KiB\n",
      "24/12/03 03:07:43 WARN DAGScheduler: Broadcasting large task binary with size 1316.3 KiB\n",
      "                                                                                \r"
     ]
    },
    {
     "name": "stdout",
     "output_type": "stream",
     "text": [
      "Validation Accuracy: 0.6942\n",
      "Training model with numTrees=20, maxDepth=9, impurity=entropy\n"
     ]
    },
    {
     "name": "stderr",
     "output_type": "stream",
     "text": [
      "24/12/03 03:07:53 WARN DAGScheduler: Broadcasting large task binary with size 1010.6 KiB\n",
      "24/12/03 03:07:55 WARN DAGScheduler: Broadcasting large task binary with size 1754.5 KiB\n",
      "24/12/03 03:07:57 WARN DAGScheduler: Broadcasting large task binary with size 1237.4 KiB\n",
      "                                                                                \r"
     ]
    },
    {
     "name": "stdout",
     "output_type": "stream",
     "text": [
      "Validation Accuracy: 0.6928\n",
      "Training model with numTrees=30, maxDepth=5, impurity=gini\n"
     ]
    },
    {
     "name": "stderr",
     "output_type": "stream",
     "text": [
      "                                                                                \r"
     ]
    },
    {
     "name": "stdout",
     "output_type": "stream",
     "text": [
      "Validation Accuracy: 0.6671\n",
      "Training model with numTrees=30, maxDepth=5, impurity=entropy\n"
     ]
    },
    {
     "name": "stderr",
     "output_type": "stream",
     "text": [
      "                                                                                \r"
     ]
    },
    {
     "name": "stdout",
     "output_type": "stream",
     "text": [
      "Validation Accuracy: 0.6662\n",
      "Training model with numTrees=30, maxDepth=7, impurity=gini\n"
     ]
    },
    {
     "name": "stderr",
     "output_type": "stream",
     "text": [
      "                                                                                \r"
     ]
    },
    {
     "name": "stdout",
     "output_type": "stream",
     "text": [
      "Validation Accuracy: 0.6785\n",
      "Training model with numTrees=30, maxDepth=7, impurity=entropy\n"
     ]
    },
    {
     "name": "stderr",
     "output_type": "stream",
     "text": [
      "                                                                                \r"
     ]
    },
    {
     "name": "stdout",
     "output_type": "stream",
     "text": [
      "Validation Accuracy: 0.6780\n",
      "Training model with numTrees=30, maxDepth=9, impurity=gini\n"
     ]
    },
    {
     "name": "stderr",
     "output_type": "stream",
     "text": [
      "24/12/03 03:08:58 WARN DAGScheduler: Broadcasting large task binary with size 1452.3 KiB\n",
      "24/12/03 03:08:59 WARN DAGScheduler: Broadcasting large task binary with size 2.5 MiB\n",
      "24/12/03 03:09:03 WARN DAGScheduler: Broadcasting large task binary with size 1886.8 KiB\n",
      "                                                                                \r"
     ]
    },
    {
     "name": "stdout",
     "output_type": "stream",
     "text": [
      "Validation Accuracy: 0.6929\n",
      "Training model with numTrees=30, maxDepth=9, impurity=entropy\n"
     ]
    },
    {
     "name": "stderr",
     "output_type": "stream",
     "text": [
      "24/12/03 03:09:16 WARN DAGScheduler: Broadcasting large task binary with size 1467.5 KiB\n",
      "24/12/03 03:09:18 WARN DAGScheduler: Broadcasting large task binary with size 2.6 MiB\n",
      "24/12/03 03:09:21 WARN DAGScheduler: Broadcasting large task binary with size 1830.5 KiB\n",
      "[Stage 617:============================>                           (8 + 8) / 16]\r"
     ]
    },
    {
     "name": "stdout",
     "output_type": "stream",
     "text": [
      "Validation Accuracy: 0.6924\n",
      "\n",
      "Best Parameters:\n",
      "numTrees          20\n",
      "maxDepth           9\n",
      "impurity        gini\n",
      "accuracy    0.694218\n",
      "Name: 10, dtype: object\n"
     ]
    },
    {
     "name": "stderr",
     "output_type": "stream",
     "text": [
      "\r",
      "                                                                                \r"
     ]
    }
   ],
   "source": [
    "import itertools\n",
    "from pyspark.ml.classification import RandomForestClassifier\n",
    "from pyspark.ml.evaluation import MulticlassClassificationEvaluator\n",
    "\n",
    "# Define parameter grids\n",
    "numTrees_grid = [10, 20,30]\n",
    "maxDepth_grid = [5, 7, 9]\n",
    "impurity_grid = [\"gini\", \"entropy\"]\n",
    "\n",
    "# Generate all combinations of parameters\n",
    "param_combinations = list(itertools.product(numTrees_grid, maxDepth_grid, impurity_grid))\n",
    "\n",
    "# Initialize evaluator for accuracy\n",
    "evaluator = MulticlassClassificationEvaluator(labelCol=\"Severity\", predictionCol=\"prediction\", metricName=\"accuracy\")\n",
    "\n",
    "# Store results\n",
    "results = []\n",
    "\n",
    "for numTrees, maxDepth, impurity in param_combinations:\n",
    "    print(f\"Training model with numTrees={numTrees}, maxDepth={maxDepth}, impurity={impurity}\")\n",
    "    \n",
    "    # Initialize Random Forest with the current parameters\n",
    "    rf = RandomForestClassifier(featuresCol=\"features\", labelCol=\"Severity\", numTrees=numTrees, maxDepth=maxDepth, impurity=impurity)\n",
    "    \n",
    "    # Train the model\n",
    "    rf_model = rf.fit(train_macro)\n",
    "    \n",
    "    # Test the model\n",
    "    predictions = rf_model.transform(test_macro)\n",
    "    \n",
    "    # Evaluate the model\n",
    "    accuracy = evaluator.evaluate(predictions)\n",
    "    print(f\"Validation Accuracy: {accuracy:.4f}\")\n",
    "    \n",
    "    # Store the result\n",
    "    results.append({\"numTrees\": numTrees, \"maxDepth\": maxDepth, \"impurity\": impurity, \"accuracy\": accuracy})\n",
    "\n",
    "# Convert results to DataFrame\n",
    "import pandas as pd\n",
    "results_df = pd.DataFrame(results)\n",
    "\n",
    "# Sort by accuracy\n",
    "results_df = results_df.sort_values(by=\"accuracy\", ascending=False)\n",
    "\n",
    "# Display the best combination\n",
    "print(\"\\nBest Parameters:\")\n",
    "print(results_df.iloc[0])\n"
   ]
  },
  {
   "cell_type": "code",
   "execution_count": 33,
   "id": "3741b9d9",
   "metadata": {},
   "outputs": [
    {
     "data": {
      "image/png": "[encoded data removed]",
      "text/plain": [
       "<Figure size 1000x600 with 1 Axes>"
      ]
     },
     "metadata": {},
     "output_type": "display_data"
    }
   ],
   "source": [
    "import seaborn as sns\n",
    "import matplotlib.pyplot as plt\n",
    "\n",
    "# Plot accuracy for different numTrees and maxDepth\n",
    "plt.figure(figsize=(10, 6))\n",
    "sns.lineplot(data=results_df, x=\"numTrees\", y=\"accuracy\", hue=\"maxDepth\", style=\"impurity\", markers=True)\n",
    "plt.title(\"Accuracy vs. numTrees and maxDepth\")\n",
    "plt.xlabel(\"numTrees\")\n",
    "plt.ylabel(\"Accuracy\")\n",
    "plt.legend(title=\"Max Depth / Impurity\")\n",
    "plt.show()"
   ]
  },
  {
   "cell_type": "code",
   "execution_count": 35,
   "id": "5b675fb0",
   "metadata": {},
   "outputs": [
    {
     "name": "stderr",
     "output_type": "stream",
     "text": [
      "24/12/03 03:20:56 WARN DAGScheduler: Broadcasting large task binary with size 1012.3 KiB\n",
      "24/12/03 03:20:57 WARN DAGScheduler: Broadcasting large task binary with size 1768.3 KiB\n",
      "                                                                                \r"
     ]
    }
   ],
   "source": [
    "rf_best = RandomForestClassifier(\n",
    "    featuresCol=\"features\", \n",
    "    labelCol=\"Severity\", \n",
    "    numTrees=20, \n",
    "    maxDepth=9, \n",
    "    impurity=\"gini\"\n",
    ")\n",
    "rf_best_model = rf_best.fit(train_macro)\n"
   ]
  },
  {
   "cell_type": "code",
   "execution_count": 36,
   "id": "847c8016",
   "metadata": {},
   "outputs": [
    {
     "data": {
      "image/png": "[encoded data removed]",
      "text/plain": [
       "<Figure size 1000x600 with 1 Axes>"
      ]
     },
     "metadata": {},
     "output_type": "display_data"
    }
   ],
   "source": [
    "# Extract feature importances\n",
    "best_feature_importances = rf_best_model.featureImportances\n",
    "\n",
    "# Create a dictionary of feature names and their importances\n",
    "best_importance_dict = {feature: importance for feature, importance in zip(feature_columns, best_feature_importances)}\n",
    "\n",
    "# Sort the features by importance\n",
    "sorted_best_importance = sorted(best_importance_dict.items(), key=lambda x: x[1], reverse=True)\n",
    "\n",
    "# Prepare data for plotting\n",
    "features, importances = zip(*sorted_best_importance)\n",
    "\n",
    "# Plot feature importance\n",
    "plt.figure(figsize=(10, 6))\n",
    "plt.barh(features, importances, color=\"skyblue\")\n",
    "plt.xlabel(\"Importance\")\n",
    "plt.ylabel(\"Features\")\n",
    "plt.title(\"Feature Importance - Random Forest (Best Parameters: numTrees=20, maxDepth=9, impurity=gini)\")\n",
    "plt.gca().invert_yaxis()  # Reverse the order for better readability\n",
    "plt.show()\n"
   ]
  },
  {
   "cell_type": "code",
   "execution_count": 37,
   "id": "0f317754",
   "metadata": {},
   "outputs": [
    {
     "name": "stderr",
     "output_type": "stream",
     "text": [
      "24/12/03 03:22:50 WARN DAGScheduler: Broadcasting large task binary with size 1825.9 KiB\n",
      "24/12/03 03:22:53 WARN DAGScheduler: Broadcasting large task binary with size 1791.6 KiB\n",
      "24/12/03 03:22:53 WARN DAGScheduler: Broadcasting large task binary with size 1791.3 KiB\n",
      "24/12/03 03:22:53 WARN DAGScheduler: Broadcasting large task binary with size 1786.4 KiB\n",
      "24/12/03 03:22:54 WARN DAGScheduler: Broadcasting large task binary with size 1828.9 KiB\n",
      "24/12/03 03:22:56 WARN DAGScheduler: Broadcasting large task binary with size 1812.7 KiB\n",
      "24/12/03 03:22:56 WARN DAGScheduler: Broadcasting large task binary with size 1802.3 KiB\n",
      "                                                                                \r"
     ]
    },
    {
     "data": {
      "image/png": "[encoded data removed]",
      "text/plain": [
       "<Figure size 800x600 with 1 Axes>"
      ]
     },
     "metadata": {},
     "output_type": "display_data"
    }
   ],
   "source": [
    "# Create confusion matrix from predictions\n",
    "confusion_matrix = predictions.groupBy(\"Severity\", \"prediction\").count()\n",
    "\n",
    "# Pivot the confusion matrix for better visualization\n",
    "confusion_matrix_pivot = confusion_matrix.groupBy(\"Severity\").pivot(\"prediction\").sum(\"count\").fillna(0)\n",
    "\n",
    "# Convert to Pandas for heatmap visualization\n",
    "confusion_matrix_pd = confusion_matrix_pivot.toPandas()\n",
    "\n",
    "# Set the index to true labels (Severity)\n",
    "confusion_matrix_pd.set_index(\"Severity\", inplace=True)\n",
    "\n",
    "# Plot the confusion matrix as a heatmap\n",
    "plt.figure(figsize=(8, 6))\n",
    "sns.heatmap(confusion_matrix_pd, annot=True, fmt=\".0f\", cmap=\"Blues\", cbar=False)\n",
    "plt.title(\"Confusion Matrix - Random Forest (Best Parameters)\")\n",
    "plt.xlabel(\"Predicted Labels\")\n",
    "plt.ylabel(\"True Labels\")\n",
    "plt.show()\n"
   ]
  },
  {
   "cell_type": "markdown",
   "id": "5309790b",
   "metadata": {},
   "source": [
    "## Naive Bayes"
   ]
  },
  {
   "cell_type": "code",
   "execution_count": 43,
   "id": "7ddb95cf",
   "metadata": {},
   "outputs": [],
   "source": [
    "from pyspark.sql.functions import udf\n",
    "from pyspark.sql.types import ArrayType, DoubleType\n",
    "from pyspark.ml.linalg import DenseVector\n",
    "\n",
    "# UDF për të kthyer SparseVector në një Array\n",
    "def vector_to_array(vector):\n",
    "    return vector.toArray().tolist() if hasattr(vector, \"toArray\") else vector\n",
    "\n",
    "vector_to_array_udf = udf(vector_to_array, ArrayType(DoubleType()))\n",
    "\n",
    "# Kthe `features` në një array\n",
    "train_macro = train_macro.withColumn(\"features_array\", vector_to_array_udf(col(\"features\")))\n",
    "test_macro = test_macro.withColumn(\"features_array\", vector_to_array_udf(col(\"features\")))\n",
    "\n"
   ]
  },
  {
   "cell_type": "code",
   "execution_count": 44,
   "id": "8c6a8634",
   "metadata": {},
   "outputs": [
    {
     "name": "stderr",
     "output_type": "stream",
     "text": [
      "                                                                                \r"
     ]
    }
   ],
   "source": [
    "# Merr numrin e veçorive nga një shembull i parë\n",
    "num_features = len(train_macro.select(\"features_array\").first()[0])\n",
    "\n",
    "# Emrat e kolonave të reja\n",
    "feature_columns = [f\"feature_{i}\" for i in range(num_features)]\n",
    "\n",
    "# Ekspando array në kolona individuale\n",
    "for i in range(num_features):\n",
    "    train_macro = train_macro.withColumn(feature_columns[i], col(\"features_array\")[i])\n",
    "    test_macro = test_macro.withColumn(feature_columns[i], col(\"features_array\")[i])\n",
    "\n"
   ]
  },
  {
   "cell_type": "code",
   "execution_count": 45,
   "id": "aa3ccf32",
   "metadata": {},
   "outputs": [
    {
     "name": "stderr",
     "output_type": "stream",
     "text": [
      "\r",
      "[Stage 661:>                                                        (0 + 1) / 1]\r"
     ]
    },
    {
     "name": "stdout",
     "output_type": "stream",
     "text": [
      "+------------------+------------------+------------------+--------------+-----------+------------+--------------+---------------+-----------------+------------------+-------+----+--------+--------+--------+-------+-------+----------+-------+----+---------------+--------------+--------------+--------+-----------------------------------------------------------------------------------------------------------------------+------------------------------------------------------------------------------------------------------------------------------------------------------------------+------------------+------------------+------------------+---------+---------+---------+---------+---------+---------+------------------+----------+----------+----------+----------+----------+----------+----------+----------+----------+----------+----------+----------+----------+\n",
      "|Start_Lat         |Start_Lng         |Distance(mi)      |Temperature(F)|Humidity(%)|Pressure(in)|Visibility(mi)|Wind_Speed(mph)|Precipitation(in)|Traffic_Duration  |Amenity|Bump|Crossing|Give_Way|Junction|No_Exit|Railway|Roundabout|Station|Stop|Traffic_Calming|Traffic_Signal|Civil_Twilight|Severity|features                                                                                                               |features_array                                                                                                                                                    |feature_0         |feature_1         |feature_2         |feature_3|feature_4|feature_5|feature_6|feature_7|feature_8|feature_9         |feature_10|feature_11|feature_12|feature_13|feature_14|feature_15|feature_16|feature_17|feature_18|feature_19|feature_20|feature_21|feature_22|\n",
      "+------------------+------------------+------------------+--------------+-----------+------------+--------------+---------------+-----------------+------------------+-------+----+--------+--------+--------+-------+-------+----------+-------+----+---------------+--------------+--------------+--------+-----------------------------------------------------------------------------------------------------------------------+------------------------------------------------------------------------------------------------------------------------------------------------------------------+------------------+------------------+------------------+---------+---------+---------+---------+---------+---------+------------------+----------+----------+----------+----------+----------+----------+----------+----------+----------+----------+----------+----------+----------+\n",
      "|24.571202         |-81.748325        |0.04              |77.0          |88.0       |30.05       |10.0          |6.9            |0.0              |360.0             |0      |0   |1       |0       |0       |0      |0      |0         |0      |0   |0              |1             |1             |2       |(23,[0,1,2,3,4,5,6,7,9,12,21,22],[24.571202,-81.748325,0.04,77.0,88.0,30.05,10.0,6.9,360.0,1.0,1.0,1.0])               |[24.571202, -81.748325, 0.04, 77.0, 88.0, 30.05, 10.0, 6.9, 0.0, 360.0, 0.0, 0.0, 1.0, 0.0, 0.0, 0.0, 0.0, 0.0, 0.0, 0.0, 0.0, 1.0, 1.0]                          |24.571202         |-81.748325        |0.04              |77.0     |88.0     |30.05    |10.0     |6.9      |0.0      |360.0             |0.0       |0.0       |1.0       |0.0       |0.0       |0.0       |0.0       |0.0       |0.0       |0.0       |0.0       |1.0       |1.0       |\n",
      "|24.57131          |-81.74755         |0.0               |77.0          |88.0       |30.05       |10.0          |6.9            |0.0              |360.0             |0      |0   |0       |0       |0       |0      |0      |0         |1      |0   |0              |0             |1             |2       |(23,[0,1,3,4,5,6,7,9,18,22],[24.57131,-81.74755,77.0,88.0,30.05,10.0,6.9,360.0,1.0,1.0])                               |[24.57131, -81.74755, 0.0, 77.0, 88.0, 30.05, 10.0, 6.9, 0.0, 360.0, 0.0, 0.0, 0.0, 0.0, 0.0, 0.0, 0.0, 0.0, 1.0, 0.0, 0.0, 0.0, 1.0]                             |24.57131          |-81.74755         |0.0               |77.0     |88.0     |30.05    |10.0     |6.9      |0.0      |360.0             |0.0       |0.0       |0.0       |0.0       |0.0       |0.0       |0.0       |0.0       |1.0       |0.0       |0.0       |0.0       |1.0       |\n",
      "|24.590809         |-81.670433        |1.291             |80.0          |87.0       |29.93       |10.0          |15.0           |0.02             |28.066666666666666|0      |0   |0       |0       |0       |0      |0      |0         |1      |0   |0              |0             |1             |4       |(23,[0,1,2,3,4,5,6,7,8,9,18,22],[24.590809,-81.670433,1.291,80.0,87.0,29.93,10.0,15.0,0.02,28.066666666666666,1.0,1.0])|[24.590809, -81.670433, 1.291, 80.0, 87.0, 29.93, 10.0, 15.0, 0.02, 28.066666666666666, 0.0, 0.0, 0.0, 0.0, 0.0, 0.0, 0.0, 0.0, 1.0, 0.0, 0.0, 0.0, 1.0]          |24.590809         |-81.670433        |1.291             |80.0     |87.0     |29.93    |10.0     |15.0     |0.02     |28.066666666666666|0.0       |0.0       |0.0       |0.0       |0.0       |0.0       |0.0       |0.0       |1.0       |0.0       |0.0       |0.0       |1.0       |\n",
      "|24.624            |-81.60141         |0.1               |82.0          |74.0       |30.0        |10.0          |12.0           |0.0              |29.433333333333334|0      |0   |0       |0       |0       |0      |0      |0         |0      |0   |0              |0             |1             |4       |(23,[0,1,2,3,4,5,6,7,9,22],[24.624,-81.60141,0.1,82.0,74.0,30.0,10.0,12.0,29.433333333333334,1.0])                     |[24.624, -81.60141, 0.1, 82.0, 74.0, 30.0, 10.0, 12.0, 0.0, 29.433333333333334, 0.0, 0.0, 0.0, 0.0, 0.0, 0.0, 0.0, 0.0, 0.0, 0.0, 0.0, 0.0, 1.0]                  |24.624            |-81.60141         |0.1               |82.0     |74.0     |30.0     |10.0     |12.0     |0.0      |29.433333333333334|0.0       |0.0       |0.0       |0.0       |0.0       |0.0       |0.0       |0.0       |0.0       |0.0       |0.0       |0.0       |1.0       |\n",
      "|24.64337          |-81.569654        |0.265             |85.0          |69.0       |29.99       |10.0          |8.0            |0.0              |29.1              |0      |0   |0       |0       |0       |0      |0      |0         |0      |0   |0              |0             |0             |4       |(23,[0,1,2,3,4,5,6,7,9],[24.64337,-81.569654,0.265,85.0,69.0,29.99,10.0,8.0,29.1])                                     |[24.64337, -81.569654, 0.265, 85.0, 69.0, 29.99, 10.0, 8.0, 0.0, 29.1, 0.0, 0.0, 0.0, 0.0, 0.0, 0.0, 0.0, 0.0, 0.0, 0.0, 0.0, 0.0, 0.0]                           |24.64337          |-81.569654        |0.265             |85.0     |69.0     |29.99    |10.0     |8.0      |0.0      |29.1              |0.0       |0.0       |0.0       |0.0       |0.0       |0.0       |0.0       |0.0       |0.0       |0.0       |0.0       |0.0       |0.0       |\n",
      "|24.68232          |-81.2284          |6.522             |90.0          |65.0       |29.99       |10.0          |10.0           |0.0              |29.866666666666667|0      |0   |0       |0       |0       |0      |0      |0         |0      |0   |0              |0             |0             |4       |(23,[0,1,2,3,4,5,6,7,9],[24.68232,-81.2284,6.522,90.0,65.0,29.99,10.0,10.0,29.866666666666667])                        |[24.68232, -81.2284, 6.522, 90.0, 65.0, 29.99, 10.0, 10.0, 0.0, 29.866666666666667, 0.0, 0.0, 0.0, 0.0, 0.0, 0.0, 0.0, 0.0, 0.0, 0.0, 0.0, 0.0, 0.0]              |24.68232          |-81.2284          |6.522             |90.0     |65.0     |29.99    |10.0     |10.0     |0.0      |29.866666666666667|0.0       |0.0       |0.0       |0.0       |0.0       |0.0       |0.0       |0.0       |0.0       |0.0       |0.0       |0.0       |0.0       |\n",
      "|24.872762         |-80.703108        |0.938             |83.0          |54.0       |30.02       |10.0          |15.0           |0.0              |29.55             |0      |0   |0       |0       |0       |0      |0      |0         |0      |0   |0              |0             |0             |4       |(23,[0,1,2,3,4,5,6,7,9],[24.872762,-80.703108,0.938,83.0,54.0,30.02,10.0,15.0,29.55])                                  |[24.872762, -80.703108, 0.938, 83.0, 54.0, 30.02, 10.0, 15.0, 0.0, 29.55, 0.0, 0.0, 0.0, 0.0, 0.0, 0.0, 0.0, 0.0, 0.0, 0.0, 0.0, 0.0, 0.0]                        |24.872762         |-80.703108        |0.938             |83.0     |54.0     |30.02    |10.0     |15.0     |0.0      |29.55             |0.0       |0.0       |0.0       |0.0       |0.0       |0.0       |0.0       |0.0       |0.0       |0.0       |0.0       |0.0       |0.0       |\n",
      "|24.875304         |-80.700225        |3.721             |82.0          |58.0       |30.04       |10.0          |16.0           |0.0              |29.183333333333334|0      |0   |0       |0       |0       |0      |0      |0         |0      |0   |0              |0             |1             |4       |(23,[0,1,2,3,4,5,6,7,9,22],[24.875304,-80.700225,3.721,82.0,58.0,30.04,10.0,16.0,29.183333333333334,1.0])              |[24.875304, -80.700225, 3.721, 82.0, 58.0, 30.04, 10.0, 16.0, 0.0, 29.183333333333334, 0.0, 0.0, 0.0, 0.0, 0.0, 0.0, 0.0, 0.0, 0.0, 0.0, 0.0, 0.0, 1.0]           |24.875304         |-80.700225        |3.721             |82.0     |58.0     |30.04    |10.0     |16.0     |0.0      |29.183333333333334|0.0       |0.0       |0.0       |0.0       |0.0       |0.0       |0.0       |0.0       |0.0       |0.0       |0.0       |0.0       |1.0       |\n",
      "|24.92346          |-80.629122        |0.514             |90.0          |55.0       |30.03       |10.0          |10.0           |0.0              |28.95             |0      |0   |1       |0       |0       |0      |0      |0         |0      |0   |0              |0             |0             |4       |(23,[0,1,2,3,4,5,6,7,9,12],[24.92346,-80.629122,0.514,90.0,55.0,30.03,10.0,10.0,28.95,1.0])                            |[24.92346, -80.629122, 0.514, 90.0, 55.0, 30.03, 10.0, 10.0, 0.0, 28.95, 0.0, 0.0, 1.0, 0.0, 0.0, 0.0, 0.0, 0.0, 0.0, 0.0, 0.0, 0.0, 0.0]                         |24.92346          |-80.629122        |0.514             |90.0     |55.0     |30.03    |10.0     |10.0     |0.0      |28.95             |0.0       |0.0       |1.0       |0.0       |0.0       |0.0       |0.0       |0.0       |0.0       |0.0       |0.0       |0.0       |0.0       |\n",
      "|24.949314         |-80.59569         |0.7879999999999999|90.0          |55.0       |29.97       |10.0          |8.0            |0.0              |28.133333333333333|0      |0   |0       |0       |0       |0      |0      |0         |0      |0   |0              |0             |0             |4       |(23,[0,1,2,3,4,5,6,7,9],[24.949314,-80.59569,0.7879999999999999,90.0,55.0,29.97,10.0,8.0,28.133333333333333])          |[24.949314, -80.59569, 0.7879999999999999, 90.0, 55.0, 29.97, 10.0, 8.0, 0.0, 28.133333333333333, 0.0, 0.0, 0.0, 0.0, 0.0, 0.0, 0.0, 0.0, 0.0, 0.0, 0.0, 0.0, 0.0]|24.949314         |-80.59569         |0.7879999999999999|90.0     |55.0     |29.97    |10.0     |8.0      |0.0      |28.133333333333333|0.0       |0.0       |0.0       |0.0       |0.0       |0.0       |0.0       |0.0       |0.0       |0.0       |0.0       |0.0       |0.0       |\n",
      "|25.186903         |-80.391378        |0.307             |81.3          |63.0       |30.09       |10.0          |12.7           |0.0              |360.0             |0      |0   |0       |0       |0       |0      |0      |0         |0      |0   |0              |0             |0             |4       |(23,[0,1,2,3,4,5,6,7,9],[25.186903,-80.391378,0.307,81.3,63.0,30.09,10.0,12.7,360.0])                                  |[25.186903, -80.391378, 0.307, 81.3, 63.0, 30.09, 10.0, 12.7, 0.0, 360.0, 0.0, 0.0, 0.0, 0.0, 0.0, 0.0, 0.0, 0.0, 0.0, 0.0, 0.0, 0.0, 0.0]                        |25.186903         |-80.391378        |0.307             |81.3     |63.0     |30.09    |10.0     |12.7     |0.0      |360.0             |0.0       |0.0       |0.0       |0.0       |0.0       |0.0       |0.0       |0.0       |0.0       |0.0       |0.0       |0.0       |0.0       |\n",
      "|25.290178         |-80.375473        |0.225             |80.0          |78.0       |29.93       |10.0          |7.0            |0.0              |28.933333333333334|0      |0   |0       |0       |0       |0      |0      |0         |0      |0   |0              |0             |1             |4       |(23,[0,1,2,3,4,5,6,7,9,22],[25.290178,-80.375473,0.225,80.0,78.0,29.93,10.0,7.0,28.933333333333334,1.0])               |[25.290178, -80.375473, 0.225, 80.0, 78.0, 29.93, 10.0, 7.0, 0.0, 28.933333333333334, 0.0, 0.0, 0.0, 0.0, 0.0, 0.0, 0.0, 0.0, 0.0, 0.0, 0.0, 0.0, 1.0]            |25.290178         |-80.375473        |0.225             |80.0     |78.0     |29.93    |10.0     |7.0      |0.0      |28.933333333333334|0.0       |0.0       |0.0       |0.0       |0.0       |0.0       |0.0       |0.0       |0.0       |0.0       |0.0       |0.0       |1.0       |\n",
      "|25.290178         |-80.375473        |0.225             |86.0          |66.0       |29.87       |10.0          |20.0           |0.0              |29.733333333333334|0      |0   |0       |0       |0       |0      |0      |0         |0      |0   |0              |0             |0             |4       |(23,[0,1,2,3,4,5,6,7,9],[25.290178,-80.375473,0.225,86.0,66.0,29.87,10.0,20.0,29.733333333333334])                     |[25.290178, -80.375473, 0.225, 86.0, 66.0, 29.87, 10.0, 20.0, 0.0, 29.733333333333334, 0.0, 0.0, 0.0, 0.0, 0.0, 0.0, 0.0, 0.0, 0.0, 0.0, 0.0, 0.0, 0.0]           |25.290178         |-80.375473        |0.225             |86.0     |66.0     |29.87    |10.0     |20.0     |0.0      |29.733333333333334|0.0       |0.0       |0.0       |0.0       |0.0       |0.0       |0.0       |0.0       |0.0       |0.0       |0.0       |0.0       |0.0       |\n",
      "|25.291531         |-80.378754        |0.225             |80.0          |78.0       |29.93       |10.0          |7.0            |0.0              |28.933333333333334|0      |0   |0       |0       |0       |0      |0      |0         |0      |0   |0              |0             |1             |4       |(23,[0,1,2,3,4,5,6,7,9,22],[25.291531,-80.378754,0.225,80.0,78.0,29.93,10.0,7.0,28.933333333333334,1.0])               |[25.291531, -80.378754, 0.225, 80.0, 78.0, 29.93, 10.0, 7.0, 0.0, 28.933333333333334, 0.0, 0.0, 0.0, 0.0, 0.0, 0.0, 0.0, 0.0, 0.0, 0.0, 0.0, 0.0, 1.0]            |25.291531         |-80.378754        |0.225             |80.0     |78.0     |29.93    |10.0     |7.0      |0.0      |28.933333333333334|0.0       |0.0       |0.0       |0.0       |0.0       |0.0       |0.0       |0.0       |0.0       |0.0       |0.0       |0.0       |1.0       |\n",
      "|25.313698         |-80.450046        |0.0               |73.2          |85.0       |30.13       |10.0          |6.9            |0.0              |360.0             |0      |0   |0       |0       |0       |0      |0      |0         |0      |0   |0              |0             |1             |4       |(23,[0,1,3,4,5,6,7,9,22],[25.313698,-80.450046,73.2,85.0,30.13,10.0,6.9,360.0,1.0])                                    |[25.313698, -80.450046, 0.0, 73.2, 85.0, 30.13, 10.0, 6.9, 0.0, 360.0, 0.0, 0.0, 0.0, 0.0, 0.0, 0.0, 0.0, 0.0, 0.0, 0.0, 0.0, 0.0, 1.0]                           |25.313698         |-80.450046        |0.0               |73.2     |85.0     |30.13    |10.0     |6.9      |0.0      |360.0             |0.0       |0.0       |0.0       |0.0       |0.0       |0.0       |0.0       |0.0       |0.0       |0.0       |0.0       |0.0       |1.0       |\n",
      "|25.45329          |-80.47446         |0.247             |82.0          |65.0       |29.97       |10.0          |13.0           |0.0              |28.383333333333333|0      |0   |0       |0       |0       |0      |0      |0         |0      |0   |0              |0             |0             |2       |(23,[0,1,2,3,4,5,6,7,9],[25.45329,-80.47446,0.247,82.0,65.0,29.97,10.0,13.0,28.383333333333333])                       |[25.45329, -80.47446, 0.247, 82.0, 65.0, 29.97, 10.0, 13.0, 0.0, 28.383333333333333, 0.0, 0.0, 0.0, 0.0, 0.0, 0.0, 0.0, 0.0, 0.0, 0.0, 0.0, 0.0, 0.0]             |25.45329          |-80.47446         |0.247             |82.0     |65.0     |29.97    |10.0     |13.0     |0.0      |28.383333333333333|0.0       |0.0       |0.0       |0.0       |0.0       |0.0       |0.0       |0.0       |0.0       |0.0       |0.0       |0.0       |0.0       |\n",
      "|25.471331         |-80.449609        |1.887             |72.9          |97.0       |30.18       |10.0          |6.9            |0.0              |360.0             |0      |0   |0       |0       |0       |0      |0      |0         |0      |0   |0              |0             |1             |4       |(23,[0,1,2,3,4,5,6,7,9,22],[25.471331,-80.449609,1.887,72.9,97.0,30.18,10.0,6.9,360.0,1.0])                            |[25.471331, -80.449609, 1.887, 72.9, 97.0, 30.18, 10.0, 6.9, 0.0, 360.0, 0.0, 0.0, 0.0, 0.0, 0.0, 0.0, 0.0, 0.0, 0.0, 0.0, 0.0, 0.0, 1.0]                         |25.471331         |-80.449609        |1.887             |72.9     |97.0     |30.18    |10.0     |6.9      |0.0      |360.0             |0.0       |0.0       |0.0       |0.0       |0.0       |0.0       |0.0       |0.0       |0.0       |0.0       |0.0       |0.0       |1.0       |\n",
      "|25.472520000000006|-80.44736999999998|2.95              |79.7          |77.0       |30.06       |10.0          |13.8           |0.0              |360.0             |0      |0   |0       |0       |1       |0      |0      |0         |0      |0   |0              |0             |0             |4       |(23,[0,1,2,3,4,5,6,7,9,14],[25.472520000000006,-80.44736999999998,2.95,79.7,77.0,30.06,10.0,13.8,360.0,1.0])           |[25.472520000000006, -80.44736999999998, 2.95, 79.7, 77.0, 30.06, 10.0, 13.8, 0.0, 360.0, 0.0, 0.0, 0.0, 0.0, 1.0, 0.0, 0.0, 0.0, 0.0, 0.0, 0.0, 0.0, 0.0]        |25.472520000000006|-80.44736999999998|2.95              |79.7     |77.0     |30.06    |10.0     |13.8     |0.0      |360.0             |0.0       |0.0       |0.0       |0.0       |1.0       |0.0       |0.0       |0.0       |0.0       |0.0       |0.0       |0.0       |0.0       |\n",
      "|25.477652         |-80.439667        |0.731             |84.2          |62.0       |29.91       |10.0          |11.5           |0.0              |360.0             |0      |0   |0       |0       |0       |0      |0      |0         |0      |0   |0              |0             |0             |2       |(23,[0,1,2,3,4,5,6,7,9],[25.477652,-80.439667,0.731,84.2,62.0,29.91,10.0,11.5,360.0])                                  |[25.477652, -80.439667, 0.731, 84.2, 62.0, 29.91, 10.0, 11.5, 0.0, 360.0, 0.0, 0.0, 0.0, 0.0, 0.0, 0.0, 0.0, 0.0, 0.0, 0.0, 0.0, 0.0, 0.0]                        |25.477652         |-80.439667        |0.731             |84.2     |62.0     |29.91    |10.0     |11.5     |0.0      |360.0             |0.0       |0.0       |0.0       |0.0       |0.0       |0.0       |0.0       |0.0       |0.0       |0.0       |0.0       |0.0       |0.0       |\n",
      "|25.478131         |-80.43889300000002|0.0               |83.0          |64.0       |29.95       |10.0          |10.0           |0.0              |29.416666666666668|0      |0   |0       |0       |0       |0      |0      |0         |0      |0   |0              |0             |0             |2       |(23,[0,1,3,4,5,6,7,9],[25.478131,-80.43889300000002,83.0,64.0,29.95,10.0,10.0,29.416666666666668])                     |[25.478131, -80.43889300000002, 0.0, 83.0, 64.0, 29.95, 10.0, 10.0, 0.0, 29.416666666666668, 0.0, 0.0, 0.0, 0.0, 0.0, 0.0, 0.0, 0.0, 0.0, 0.0, 0.0, 0.0, 0.0]     |25.478131         |-80.43889300000002|0.0               |83.0     |64.0     |29.95    |10.0     |10.0     |0.0      |29.416666666666668|0.0       |0.0       |0.0       |0.0       |0.0       |0.0       |0.0       |0.0       |0.0       |0.0       |0.0       |0.0       |0.0       |\n",
      "+------------------+------------------+------------------+--------------+-----------+------------+--------------+---------------+-----------------+------------------+-------+----+--------+--------+--------+-------+-------+----------+-------+----+---------------+--------------+--------------+--------+-----------------------------------------------------------------------------------------------------------------------+------------------------------------------------------------------------------------------------------------------------------------------------------------------+------------------+------------------+------------------+---------+---------+---------+---------+---------+---------+------------------+----------+----------+----------+----------+----------+----------+----------+----------+----------+----------+----------+----------+----------+\n",
      "only showing top 20 rows\n",
      "\n"
     ]
    },
    {
     "name": "stderr",
     "output_type": "stream",
     "text": [
      "24/12/03 03:47:33 WARN PythonUDFRunner: Detected deadlock while completing task 0.0 in stage 661 (TID 7477): Attempting to kill Python Worker\n",
      "\r",
      "                                                                                \r"
     ]
    }
   ],
   "source": [
    "# Kontrollo për vlera negative ose NaN\n",
    "invalid_rows = train_macro.filter(\n",
    "    \" OR \".join([f\"({col} < 0 OR isnan({col}) OR isnull({col}))\" for col in feature_columns])\n",
    ")\n",
    "invalid_rows.show(truncate=False)\n"
   ]
  },
  {
   "cell_type": "code",
   "execution_count": 46,
   "id": "fbc99ace",
   "metadata": {},
   "outputs": [],
   "source": [
    "sample_data = train_macro.sample(fraction=0.1, seed=42)\n"
   ]
  },
  {
   "cell_type": "code",
   "execution_count": 47,
   "id": "24be64a8",
   "metadata": {},
   "outputs": [
    {
     "name": "stderr",
     "output_type": "stream",
     "text": [
      "24/12/03 03:50:35 WARN InstanceBuilder: Failed to load implementation from:dev.ludovic.netlib.blas.JNIBLAS\n",
      "                                                                                \r"
     ]
    },
    {
     "name": "stdout",
     "output_type": "stream",
     "text": [
      "Accuracy: 0.0001\n",
      "Classification Report:\n"
     ]
    },
    {
     "name": "stderr",
     "output_type": "stream",
     "text": [
      "/Users/elvislleshi/anaconda3/lib/python3.11/site-packages/sklearn/metrics/_classification.py:1471: UndefinedMetricWarning: Precision and F-score are ill-defined and being set to 0.0 in labels with no predicted samples. Use `zero_division` parameter to control this behavior.\n",
      "  _warn_prf(average, modifier, msg_start, len(result))\n",
      "/Users/elvislleshi/anaconda3/lib/python3.11/site-packages/sklearn/metrics/_classification.py:1471: UndefinedMetricWarning: Recall and F-score are ill-defined and being set to 0.0 in labels with no true samples. Use `zero_division` parameter to control this behavior.\n",
      "  _warn_prf(average, modifier, msg_start, len(result))\n",
      "/Users/elvislleshi/anaconda3/lib/python3.11/site-packages/sklearn/metrics/_classification.py:1471: UndefinedMetricWarning: Precision and F-score are ill-defined and being set to 0.0 in labels with no predicted samples. Use `zero_division` parameter to control this behavior.\n",
      "  _warn_prf(average, modifier, msg_start, len(result))\n",
      "/Users/elvislleshi/anaconda3/lib/python3.11/site-packages/sklearn/metrics/_classification.py:1471: UndefinedMetricWarning: Recall and F-score are ill-defined and being set to 0.0 in labels with no true samples. Use `zero_division` parameter to control this behavior.\n",
      "  _warn_prf(average, modifier, msg_start, len(result))\n",
      "/Users/elvislleshi/anaconda3/lib/python3.11/site-packages/sklearn/metrics/_classification.py:1471: UndefinedMetricWarning: Precision and F-score are ill-defined and being set to 0.0 in labels with no predicted samples. Use `zero_division` parameter to control this behavior.\n",
      "  _warn_prf(average, modifier, msg_start, len(result))\n",
      "/Users/elvislleshi/anaconda3/lib/python3.11/site-packages/sklearn/metrics/_classification.py:1471: UndefinedMetricWarning: Recall and F-score are ill-defined and being set to 0.0 in labels with no true samples. Use `zero_division` parameter to control this behavior.\n",
      "  _warn_prf(average, modifier, msg_start, len(result))\n"
     ]
    },
    {
     "name": "stdout",
     "output_type": "stream",
     "text": [
      "              precision    recall  f1-score   support\n",
      "\n",
      "         0.0       0.00      0.00      0.00         0\n",
      "         2.0       0.38      0.00      0.00     71881\n",
      "         3.0       0.00      0.00      0.00     20230\n",
      "         4.0       0.00      0.00      0.00     16267\n",
      "\n",
      "    accuracy                           0.00    108378\n",
      "   macro avg       0.09      0.00      0.00    108378\n",
      "weighted avg       0.25      0.00      0.00    108378\n",
      "\n"
     ]
    },
    {
     "data": {
      "image/png": "[encoded data removed]",
      "text/plain": [
       "<Figure size 640x480 with 2 Axes>"
      ]
     },
     "metadata": {},
     "output_type": "display_data"
    }
   ],
   "source": [
    "from pyspark.ml.feature import MinMaxScaler, VectorAssembler\n",
    "from pyspark.ml.classification import NaiveBayes\n",
    "from pyspark.ml.evaluation import MulticlassClassificationEvaluator\n",
    "\n",
    "# Kontrolli dhe shkallëzimi i të dhënave\n",
    "scaler = MinMaxScaler(inputCol=\"features\", outputCol=\"scaled_features\")\n",
    "scaler_model = scaler.fit(train_macro)\n",
    "train_macro_scaled = scaler_model.transform(train_macro)\n",
    "test_macro_scaled = scaler_model.transform(test_macro)\n",
    "\n",
    "# Naive Bayes Model\n",
    "nb = NaiveBayes(featuresCol=\"scaled_features\", labelCol=\"Severity\", smoothing=1.0)\n",
    "nb_model = nb.fit(train_macro_scaled)\n",
    "\n",
    "# Predikimet\n",
    "predictions = nb_model.transform(test_macro_scaled)\n",
    "\n",
    "# Vlerësimi i modelit\n",
    "evaluator = MulticlassClassificationEvaluator(labelCol=\"Severity\", predictionCol=\"prediction\", metricName=\"accuracy\")\n",
    "accuracy = evaluator.evaluate(predictions)\n",
    "print(f\"Accuracy: {accuracy:.4f}\")\n",
    "\n",
    "# Matjet shtesë\n",
    "print(\"Classification Report:\")\n",
    "y_true = predictions.select(\"Severity\").rdd.flatMap(lambda x: x).collect()\n",
    "y_pred = predictions.select(\"prediction\").rdd.flatMap(lambda x: x).collect()\n",
    "\n",
    "from sklearn.metrics import classification_report\n",
    "print(classification_report(y_true, y_pred))\n",
    "\n",
    "# Konfuzion Matrix\n",
    "import seaborn as sns\n",
    "import matplotlib.pyplot as plt\n",
    "from sklearn.metrics import confusion_matrix\n",
    "\n",
    "conf_matrix = confusion_matrix(y_true, y_pred)\n",
    "sns.heatmap(conf_matrix, annot=True, fmt='d', cmap=\"Blues\", xticklabels=[\"Class 2\", \"Class 3\", \"Class 4\"], yticklabels=[\"Class 2\", \"Class 3\", \"Class 4\"])\n",
    "plt.title(\"Confusion Matrix\")\n",
    "plt.xlabel(\"Predicted\")\n",
    "plt.ylabel(\"True\")\n",
    "plt.show()\n"
   ]
  },
  {
   "cell_type": "markdown",
   "id": "0d308bc3",
   "metadata": {},
   "source": [
    "### Logistic regression "
   ]
  },
  {
   "cell_type": "markdown",
   "id": "630c7871",
   "metadata": {},
   "source": [
    "Workflow:\n",
    "Define Hyperparameter Grid:\n",
    "\n",
    "Create a grid of values for maxIter, regParam, and elasticNetParam.\n",
    "Iterate Over Combinations:\n",
    "\n",
    "Train Logistic Regression for each combination of hyperparameters.\n",
    "Evaluate the Model:\n",
    "\n",
    "Use accuracy or another suitable metric to evaluate each model.\n",
    "Select the Best Model:\n",
    "\n",
    "Determine the hyperparameter combination with the highest evaluation score.\n",
    "Report Results:\n",
    "\n",
    "Plot results or display them in a table for analysis."
   ]
  },
  {
   "cell_type": "code",
   "execution_count": 49,
   "id": "a8e6d1fd",
   "metadata": {},
   "outputs": [
    {
     "name": "stdout",
     "output_type": "stream",
     "text": [
      "Training with maxIter=10, regParam=0.01, elasticNetParam=0.0\n"
     ]
    },
    {
     "name": "stderr",
     "output_type": "stream",
     "text": [
      "                                                                                \r"
     ]
    },
    {
     "name": "stdout",
     "output_type": "stream",
     "text": [
      "Training with maxIter=10, regParam=0.01, elasticNetParam=0.5\n"
     ]
    },
    {
     "name": "stderr",
     "output_type": "stream",
     "text": [
      "                                                                                \r"
     ]
    },
    {
     "name": "stdout",
     "output_type": "stream",
     "text": [
      "Training with maxIter=10, regParam=0.01, elasticNetParam=1.0\n"
     ]
    },
    {
     "name": "stderr",
     "output_type": "stream",
     "text": [
      "                                                                                \r"
     ]
    },
    {
     "name": "stdout",
     "output_type": "stream",
     "text": [
      "Training with maxIter=10, regParam=0.1, elasticNetParam=0.0\n"
     ]
    },
    {
     "name": "stderr",
     "output_type": "stream",
     "text": [
      "                                                                                \r"
     ]
    },
    {
     "name": "stdout",
     "output_type": "stream",
     "text": [
      "Training with maxIter=10, regParam=0.1, elasticNetParam=0.5\n"
     ]
    },
    {
     "name": "stderr",
     "output_type": "stream",
     "text": [
      "                                                                                \r"
     ]
    },
    {
     "name": "stdout",
     "output_type": "stream",
     "text": [
      "Training with maxIter=10, regParam=0.1, elasticNetParam=1.0\n"
     ]
    },
    {
     "name": "stderr",
     "output_type": "stream",
     "text": [
      "                                                                                \r"
     ]
    },
    {
     "name": "stdout",
     "output_type": "stream",
     "text": [
      "Training with maxIter=10, regParam=0.5, elasticNetParam=0.0\n"
     ]
    },
    {
     "name": "stderr",
     "output_type": "stream",
     "text": [
      "                                                                                \r"
     ]
    },
    {
     "name": "stdout",
     "output_type": "stream",
     "text": [
      "Training with maxIter=10, regParam=0.5, elasticNetParam=0.5\n"
     ]
    },
    {
     "name": "stderr",
     "output_type": "stream",
     "text": [
      "                                                                                \r"
     ]
    },
    {
     "name": "stdout",
     "output_type": "stream",
     "text": [
      "Training with maxIter=10, regParam=0.5, elasticNetParam=1.0\n"
     ]
    },
    {
     "name": "stderr",
     "output_type": "stream",
     "text": [
      "                                                                                \r"
     ]
    },
    {
     "name": "stdout",
     "output_type": "stream",
     "text": [
      "Training with maxIter=50, regParam=0.01, elasticNetParam=0.0\n"
     ]
    },
    {
     "name": "stderr",
     "output_type": "stream",
     "text": [
      "                                                                                \r"
     ]
    },
    {
     "name": "stdout",
     "output_type": "stream",
     "text": [
      "Training with maxIter=50, regParam=0.01, elasticNetParam=0.5\n"
     ]
    },
    {
     "name": "stderr",
     "output_type": "stream",
     "text": [
      "                                                                                \r"
     ]
    },
    {
     "name": "stdout",
     "output_type": "stream",
     "text": [
      "Training with maxIter=50, regParam=0.01, elasticNetParam=1.0\n"
     ]
    },
    {
     "name": "stderr",
     "output_type": "stream",
     "text": [
      "                                                                                \r"
     ]
    },
    {
     "name": "stdout",
     "output_type": "stream",
     "text": [
      "Training with maxIter=50, regParam=0.1, elasticNetParam=0.0\n"
     ]
    },
    {
     "name": "stderr",
     "output_type": "stream",
     "text": [
      "                                                                                \r"
     ]
    },
    {
     "name": "stdout",
     "output_type": "stream",
     "text": [
      "Training with maxIter=50, regParam=0.1, elasticNetParam=0.5\n"
     ]
    },
    {
     "name": "stderr",
     "output_type": "stream",
     "text": [
      "                                                                                \r"
     ]
    },
    {
     "name": "stdout",
     "output_type": "stream",
     "text": [
      "Training with maxIter=50, regParam=0.1, elasticNetParam=1.0\n"
     ]
    },
    {
     "name": "stderr",
     "output_type": "stream",
     "text": [
      "                                                                                \r"
     ]
    },
    {
     "name": "stdout",
     "output_type": "stream",
     "text": [
      "Training with maxIter=50, regParam=0.5, elasticNetParam=0.0\n"
     ]
    },
    {
     "name": "stderr",
     "output_type": "stream",
     "text": [
      "                                                                                \r"
     ]
    },
    {
     "name": "stdout",
     "output_type": "stream",
     "text": [
      "Training with maxIter=50, regParam=0.5, elasticNetParam=0.5\n"
     ]
    },
    {
     "name": "stderr",
     "output_type": "stream",
     "text": [
      "                                                                                \r"
     ]
    },
    {
     "name": "stdout",
     "output_type": "stream",
     "text": [
      "Training with maxIter=50, regParam=0.5, elasticNetParam=1.0\n"
     ]
    },
    {
     "name": "stderr",
     "output_type": "stream",
     "text": [
      "                                                                                \r"
     ]
    },
    {
     "name": "stdout",
     "output_type": "stream",
     "text": [
      "Training with maxIter=100, regParam=0.01, elasticNetParam=0.0\n"
     ]
    },
    {
     "name": "stderr",
     "output_type": "stream",
     "text": [
      "                                                                                \r"
     ]
    },
    {
     "name": "stdout",
     "output_type": "stream",
     "text": [
      "Training with maxIter=100, regParam=0.01, elasticNetParam=0.5\n"
     ]
    },
    {
     "name": "stderr",
     "output_type": "stream",
     "text": [
      "                                                                                \r"
     ]
    },
    {
     "name": "stdout",
     "output_type": "stream",
     "text": [
      "Training with maxIter=100, regParam=0.01, elasticNetParam=1.0\n"
     ]
    },
    {
     "name": "stderr",
     "output_type": "stream",
     "text": [
      "                                                                                \r"
     ]
    },
    {
     "name": "stdout",
     "output_type": "stream",
     "text": [
      "Training with maxIter=100, regParam=0.1, elasticNetParam=0.0\n"
     ]
    },
    {
     "name": "stderr",
     "output_type": "stream",
     "text": [
      "                                                                                \r"
     ]
    },
    {
     "name": "stdout",
     "output_type": "stream",
     "text": [
      "Training with maxIter=100, regParam=0.1, elasticNetParam=0.5\n"
     ]
    },
    {
     "name": "stderr",
     "output_type": "stream",
     "text": [
      "                                                                                \r"
     ]
    },
    {
     "name": "stdout",
     "output_type": "stream",
     "text": [
      "Training with maxIter=100, regParam=0.1, elasticNetParam=1.0\n"
     ]
    },
    {
     "name": "stderr",
     "output_type": "stream",
     "text": [
      "                                                                                \r"
     ]
    },
    {
     "name": "stdout",
     "output_type": "stream",
     "text": [
      "Training with maxIter=100, regParam=0.5, elasticNetParam=0.0\n"
     ]
    },
    {
     "name": "stderr",
     "output_type": "stream",
     "text": [
      "                                                                                \r"
     ]
    },
    {
     "name": "stdout",
     "output_type": "stream",
     "text": [
      "Training with maxIter=100, regParam=0.5, elasticNetParam=0.5\n"
     ]
    },
    {
     "name": "stderr",
     "output_type": "stream",
     "text": [
      "                                                                                \r"
     ]
    },
    {
     "name": "stdout",
     "output_type": "stream",
     "text": [
      "Training with maxIter=100, regParam=0.5, elasticNetParam=1.0\n"
     ]
    },
    {
     "name": "stderr",
     "output_type": "stream",
     "text": [
      "[Stage 2812:===========================>                           (8 + 8) / 16]\r"
     ]
    },
    {
     "name": "stdout",
     "output_type": "stream",
     "text": [
      "Hyperparameter Tuning Results:\n",
      "    maxIter  regParam  elasticNetParam  accuracy\n",
      "18      100      0.01              0.0  0.670108\n",
      "9        50      0.01              0.0  0.670108\n",
      "0        10      0.01              0.0  0.669961\n",
      "1        10      0.01              0.5  0.668346\n",
      "10       50      0.01              0.5  0.668328\n",
      "19      100      0.01              0.5  0.668328\n",
      "2        10      0.01              1.0  0.667682\n",
      "20      100      0.01              1.0  0.667635\n",
      "11       50      0.01              1.0  0.667635\n",
      "3        10      0.10              0.0  0.667183\n",
      "21      100      0.10              0.0  0.667183\n",
      "12       50      0.10              0.0  0.667183\n",
      "24      100      0.50              0.0  0.663926\n",
      "6        10      0.50              0.0  0.663926\n",
      "15       50      0.50              0.0  0.663926\n",
      "22      100      0.10              0.5  0.663253\n",
      "13       50      0.10              0.5  0.663253\n",
      "4        10      0.10              0.5  0.663253\n",
      "17       50      0.50              1.0  0.663243\n",
      "16       50      0.50              0.5  0.663243\n",
      "14       50      0.10              1.0  0.663243\n",
      "8        10      0.50              1.0  0.663243\n",
      "7        10      0.50              0.5  0.663243\n",
      "5        10      0.10              1.0  0.663243\n",
      "23      100      0.10              1.0  0.663243\n",
      "25      100      0.50              0.5  0.663243\n",
      "26      100      0.50              1.0  0.663243\n"
     ]
    },
    {
     "name": "stderr",
     "output_type": "stream",
     "text": [
      "\r",
      "[Stage 2812:==================================================>   (15 + 1) / 16]\r",
      "\r",
      "                                                                                \r"
     ]
    }
   ],
   "source": [
    "from pyspark.ml.classification import LogisticRegression\n",
    "from pyspark.ml.evaluation import MulticlassClassificationEvaluator\n",
    "import itertools\n",
    "import pandas as pd\n",
    "\n",
    "# Hyperparameter grid\n",
    "hyperparameters = {\n",
    "    'maxIter': [10, 50, 100],\n",
    "    'regParam': [0.01, 0.1, 0.5],\n",
    "    'elasticNetParam': [0.0, 0.5, 1.0]  # 0.0 = Ridge, 1.0 = Lasso, 0.5 = ElasticNet\n",
    "}\n",
    "\n",
    "# Generate all combinations\n",
    "combinations = list(itertools.product(\n",
    "    hyperparameters['maxIter'], \n",
    "    hyperparameters['regParam'], \n",
    "    hyperparameters['elasticNetParam']\n",
    "))\n",
    "\n",
    "results = []\n",
    "\n",
    "# Train and evaluate Logistic Regression for each combination\n",
    "for maxIter, regParam, elasticNetParam in combinations:\n",
    "    print(f\"Training with maxIter={maxIter}, regParam={regParam}, elasticNetParam={elasticNetParam}\")\n",
    "    \n",
    "    # Initialize Logistic Regression\n",
    "    lr = LogisticRegression(\n",
    "        featuresCol=\"features\",\n",
    "        labelCol=\"Severity\",\n",
    "        maxIter=maxIter,\n",
    "        regParam=regParam,\n",
    "        elasticNetParam=elasticNetParam\n",
    "    )\n",
    "    \n",
    "    # Train model\n",
    "    lr_model = lr.fit(train_macro)\n",
    "    \n",
    "    # Make predictions\n",
    "    predictions = lr_model.transform(test_macro)\n",
    "    \n",
    "    # Evaluate accuracy\n",
    "    evaluator = MulticlassClassificationEvaluator(\n",
    "        labelCol=\"Severity\", \n",
    "        predictionCol=\"prediction\", \n",
    "        metricName=\"accuracy\"\n",
    "    )\n",
    "    accuracy = evaluator.evaluate(predictions)\n",
    "    \n",
    "    # Store results\n",
    "    results.append({\n",
    "        'maxIter': maxIter,\n",
    "        'regParam': regParam,\n",
    "        'elasticNetParam': elasticNetParam,\n",
    "        'accuracy': accuracy\n",
    "    })\n",
    "\n",
    "# Convert results to DataFrame for better visualization\n",
    "results_df = pd.DataFrame(results)\n",
    "\n",
    "# Print sorted results\n",
    "print(\"Hyperparameter Tuning Results:\")\n",
    "print(results_df.sort_values(by='accuracy', ascending=False))\n"
   ]
  },
  {
   "cell_type": "code",
   "execution_count": 50,
   "id": "ec435d37",
   "metadata": {},
   "outputs": [
    {
     "data": {
      "image/png": "[encoded data removed]",
      "text/plain": [
       "<Figure size 1200x600 with 1 Axes>"
      ]
     },
     "metadata": {},
     "output_type": "display_data"
    }
   ],
   "source": [
    "import seaborn as sns\n",
    "import matplotlib.pyplot as plt\n",
    "\n",
    "# Line plot for accuracy vs hyperparameters\n",
    "plt.figure(figsize=(12, 6))\n",
    "sns.lineplot(data=results_df, x=\"maxIter\", y=\"accuracy\", hue=\"regParam\", style=\"elasticNetParam\", markers=True)\n",
    "plt.title(\"Accuracy vs. Hyperparameters (Logistic Regression)\")\n",
    "plt.xlabel(\"Max Iterations\")\n",
    "plt.ylabel(\"Accuracy\")\n",
    "plt.legend(title=\"regParam / elasticNetParam\")\n",
    "plt.show()\n"
   ]
  },
  {
   "cell_type": "code",
   "execution_count": 52,
   "id": "2ee38f98",
   "metadata": {},
   "outputs": [
    {
     "name": "stderr",
     "output_type": "stream",
     "text": [
      "                                                                                \r"
     ]
    },
    {
     "name": "stdout",
     "output_type": "stream",
     "text": [
      "Final Test Accuracy: 0.6701\n"
     ]
    },
    {
     "name": "stderr",
     "output_type": "stream",
     "text": [
      "                                                                                \r"
     ]
    },
    {
     "data": {
      "image/png": "[encoded data removed]",
      "text/plain": [
       "<Figure size 640x480 with 2 Axes>"
      ]
     },
     "metadata": {},
     "output_type": "display_data"
    }
   ],
   "source": [
    "# Train the final model with best hyperparameters\n",
    "best_lr = LogisticRegression(\n",
    "    featuresCol=\"features\", \n",
    "    labelCol=\"Severity\", \n",
    "    maxIter=100,       # Maximum number of iterations\n",
    "    regParam=0.01,     # Regularization parameter\n",
    "    elasticNetParam=0.0  # ElasticNet parameter (0 for L2 regularization)\n",
    ")\n",
    "\n",
    "# Train the model\n",
    "best_lr_model = best_lr.fit(train_macro)\n",
    "\n",
    "# Make predictions on the test data\n",
    "final_predictions = best_lr_model.transform(test_macro)\n",
    "\n",
    "# Evaluate the final model's accuracy\n",
    "evaluator = MulticlassClassificationEvaluator(\n",
    "    labelCol=\"Severity\", \n",
    "    predictionCol=\"prediction\", \n",
    "    metricName=\"accuracy\"\n",
    ")\n",
    "final_accuracy = evaluator.evaluate(final_predictions)\n",
    "print(f\"Final Test Accuracy: {final_accuracy:.4f}\")\n",
    "\n",
    "# Extract true labels and predictions for confusion matrix\n",
    "y_true = final_predictions.select(col(\"Severity\")).collect()\n",
    "y_pred = final_predictions.select(col(\"prediction\")).collect()\n",
    "\n",
    "# Convert PySpark Row objects to simple lists\n",
    "y_true = [row.Severity for row in y_true]\n",
    "y_pred = [row.prediction for row in y_pred]\n",
    "\n",
    "# Compute confusion matrix\n",
    "cm = confusion_matrix(y_true, y_pred)\n",
    "\n",
    "# Visualize confusion matrix\n",
    "disp = ConfusionMatrixDisplay(confusion_matrix=cm, display_labels=[2, 3, 4])\n",
    "disp.plot(cmap=\"Blues\")\n",
    "plt.title(\"Confusion Matrix - Logistic Regression\")\n",
    "plt.xlabel(\"Predicted Label\")\n",
    "plt.ylabel(\"True Label\")\n",
    "plt.show()\n"
   ]
  },
  {
   "cell_type": "code",
   "execution_count": 55,
   "id": "0dced1e4",
   "metadata": {},
   "outputs": [
    {
     "name": "stderr",
     "output_type": "stream",
     "text": [
      "                                                                                \r"
     ]
    },
    {
     "name": "stdout",
     "output_type": "stream",
     "text": [
      "Final Test Accuracy: 0.6701\n"
     ]
    },
    {
     "name": "stderr",
     "output_type": "stream",
     "text": [
      "                                                                                \r"
     ]
    },
    {
     "data": {
      "image/png": "[encoded data removed]",
      "text/plain": [
       "<Figure size 640x480 with 2 Axes>"
      ]
     },
     "metadata": {},
     "output_type": "display_data"
    },
    {
     "name": "stdout",
     "output_type": "stream",
     "text": [
      "\n",
      "Top 10 Features by Importance:\n",
      "              Feature  Importance\n",
      "17         Roundabout    0.586147\n",
      "19               Stop    0.228706\n",
      "22     Civil_Twilight    0.225841\n",
      "11               Bump    0.186787\n",
      "14           Junction    0.142160\n",
      "8   Precipitation(in)    0.129651\n",
      "10            Amenity    0.116855\n",
      "16            Railway    0.090097\n",
      "2        Distance(mi)    0.066568\n",
      "12           Crossing    0.064875\n"
     ]
    },
    {
     "data": {
      "image/png": "[encoded data removed]",
      "text/plain": [
       "<Figure size 1200x600 with 1 Axes>"
      ]
     },
     "metadata": {},
     "output_type": "display_data"
    }
   ],
   "source": [
    "# Train the final model with best hyperparameters\n",
    "best_lr = LogisticRegression(\n",
    "    featuresCol=\"features\", \n",
    "    labelCol=\"Severity\", \n",
    "    maxIter=100,       # Maximum number of iterations\n",
    "    regParam=0.01,     # Regularization parameter\n",
    "    elasticNetParam=0.0  # ElasticNet parameter (0 for L2 regularization)\n",
    ")\n",
    "\n",
    "# Train the model\n",
    "best_lr_model = best_lr.fit(train_macro)\n",
    "\n",
    "# Make predictions on the test data\n",
    "final_predictions = best_lr_model.transform(test_macro)\n",
    "\n",
    "# Evaluate the final model's accuracy\n",
    "evaluator = MulticlassClassificationEvaluator(\n",
    "    labelCol=\"Severity\", \n",
    "    predictionCol=\"prediction\", \n",
    "    metricName=\"accuracy\"\n",
    ")\n",
    "final_accuracy = evaluator.evaluate(final_predictions)\n",
    "print(f\"Final Test Accuracy: {final_accuracy:.4f}\")\n",
    "\n",
    "# Extract true labels and predictions for confusion matrix\n",
    "y_true = final_predictions.select(col(\"Severity\")).collect()\n",
    "y_pred = final_predictions.select(col(\"prediction\")).collect()\n",
    "\n",
    "# Convert PySpark Row objects to simple lists\n",
    "y_true = [row.Severity for row in y_true]\n",
    "y_pred = [row.prediction for row in y_pred]\n",
    "\n",
    "# Compute confusion matrix\n",
    "cm = confusion_matrix(y_true, y_pred)\n",
    "\n",
    "# Visualize confusion matrix\n",
    "disp = ConfusionMatrixDisplay(confusion_matrix=cm, display_labels=[2, 3, 4])\n",
    "disp.plot(cmap=\"Blues\")\n",
    "plt.title(\"Confusion Matrix - Logistic Regression\")\n",
    "plt.xlabel(\"Predicted Label\")\n",
    "plt.ylabel(\"True Label\")\n",
    "plt.show()\n",
    "\n",
    "# Extract and plot feature importance (parameter importance)\n",
    "import pandas as pd\n",
    "import matplotlib.pyplot as plt\n",
    "\n",
    "# Extract coefficients as a matrix (multinomial logistic regression)\n",
    "coefficient_matrix = best_lr_model.coefficientMatrix\n",
    "\n",
    "# Convert the matrix to an array for easier handling\n",
    "coefficient_array = coefficient_matrix.toArray()\n",
    "\n",
    "# Extract feature names from metadata\n",
    "feature_names = train_macro.schema[\"features\"].metadata[\"ml_attr\"][\"attrs\"][\"numeric\"]\n",
    "feature_names = [attr[\"name\"] for attr in feature_names]\n",
    "\n",
    "# Combine feature names and the average absolute importance of each feature across classes\n",
    "importance_df = pd.DataFrame({\n",
    "    \"Feature\": feature_names,\n",
    "    \"Importance\": abs(coefficient_array).mean(axis=0)  # Taking the mean across classes\n",
    "}).sort_values(by=\"Importance\", ascending=False)\n",
    "\n",
    "# Display the top 10 features\n",
    "print(\"\\nTop 10 Features by Importance:\")\n",
    "print(importance_df.head(10))\n",
    "\n",
    "# Plot the feature importances\n",
    "plt.figure(figsize=(12, 6))\n",
    "plt.barh(importance_df[\"Feature\"], importance_df[\"Importance\"], color='skyblue')\n",
    "plt.title(\"Feature Importance - Logistic Regression\")\n",
    "plt.xlabel(\"Average Coefficient Magnitude\")\n",
    "plt.ylabel(\"Features\")\n",
    "plt.gca().invert_yaxis()  # Reverse order for better visualization\n",
    "plt.show()\n"
   ]
  }
 ],
 "metadata": {
  "kernelspec": {
   "display_name": "Python 3 (ipykernel)",
   "language": "python",
   "name": "python3"
  },
  "language_info": {
   "codemirror_mode": {
    "name": "ipython",
    "version": 3
   },
   "file_extension": ".py",
   "mimetype": "text/x-python",
   "name": "python",
   "nbconvert_exporter": "python",
   "pygments_lexer": "ipython3",
   "version": "3.11.4"
  }
 },
 "nbformat": 4,
 "nbformat_minor": 5
}
